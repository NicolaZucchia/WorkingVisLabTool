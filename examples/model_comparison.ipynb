{
 "cells": [
  {
   "cell_type": "markdown",
   "metadata": {},
   "source": [
    "# Example"
   ]
  },
  {
   "cell_type": "code",
   "execution_count": 1,
   "metadata": {},
   "outputs": [],
   "source": [
    "import svelte_widget"
   ]
  },
  {
   "cell_type": "code",
   "execution_count": 2,
   "metadata": {},
   "outputs": [],
   "source": [
    "import random\n",
    "import pandas as pd\n",
    "def model1(df):\n",
    "    return [random.randint(0,100) for _ in range(100)]\n",
    "def model2(df):\n",
    "    return [random.randint(0,100) for _ in range(100)]\n",
    "df = pd.DataFrame({\n",
    "    'a': [random.randrange(100) for _ in range(100)],\n",
    "    'b': [random.randrange(100) for _ in range(100)],\n",
    "    'c': [random.randrange(100) for _ in range(100)],\n",
    "    'd': [random.randrange(100) for _ in range(100)],\n",
    "    'e': [random.randrange(100) for _ in range(100)],\n",
    "    'f': [random.randrange(100) for _ in range(100)],\n",
    "    'g': [random.randrange(100) for _ in range(100)],\n",
    "    'h': [random.randrange(100) for _ in range(100)],\n",
    "    'i': [random.randrange(100) for _ in range(100)],\n",
    "    'j': [random.randrange(100) for _ in range(100)]\n",
    "})"
   ]
  },
  {
   "cell_type": "code",
   "execution_count": 3,
   "metadata": {},
   "outputs": [
    {
     "name": "stdout",
     "output_type": "stream",
     "text": [
      "     a   b   c   d   e   f   g   h   i   j\n",
      "0   15  20  17  54  44  84  67  76  21  50\n",
      "1   11  72  60  52  20   0  25  85  79  54\n",
      "2   69  37  82  65  36  33  98  48  93  61\n",
      "3   45  44  99  41  60  76  71  65  20  12\n",
      "4   86  76  15  97  29  61  25  86  39  99\n",
      "..  ..  ..  ..  ..  ..  ..  ..  ..  ..  ..\n",
      "95  48  13  35   7  87  74  65  11  64  65\n",
      "96   5  30   0  13  85  99  38  55  25  19\n",
      "97  55  38  59  49  46  97   8  21  40  81\n",
      "98  21  63  25  55  22  66   9   8  24  60\n",
      "99  37  97  37  18  29  41  22  26  43  24\n",
      "\n",
      "[100 rows x 10 columns]\n"
     ]
    }
   ],
   "source": [
    "print(df)"
   ]
  },
  {
   "cell_type": "code",
   "execution_count": 4,
   "metadata": {
    "scrolled": false
   },
   "outputs": [
    {
     "data": {
      "application/vnd.jupyter.widget-view+json": {
       "model_id": "c7dccd59e4144b5da6bd3ac472d321f1",
       "version_major": 2,
       "version_minor": 0
      },
      "text/plain": [
       "ExampleWidget(df={'a': [15, 11, 69, 45, 86, 53, 70, 88, 54, 91, 89, 11, 27, 81, 61, 70, 20, 4, 26, 25, 73, 17,…"
      ]
     },
     "execution_count": 4,
     "metadata": {},
     "output_type": "execute_result"
    }
   ],
   "source": [
    "w = svelte_widget.ExampleWidget(df,model1,model2)\n",
    "w"
   ]
  },
  {
   "cell_type": "code",
   "execution_count": null,
   "metadata": {},
   "outputs": [],
   "source": []
  }
 ],
 "metadata": {
  "kernelspec": {
   "display_name": "Python 3 (ipykernel)",
   "language": "python",
   "name": "python3"
  },
  "language_info": {
   "codemirror_mode": {
    "name": "ipython",
    "version": 3
   },
   "file_extension": ".py",
   "mimetype": "text/x-python",
   "name": "python",
   "nbconvert_exporter": "python",
   "pygments_lexer": "ipython3",
   "version": "3.8.16"
  }
 },
 "nbformat": 4,
 "nbformat_minor": 4
}
