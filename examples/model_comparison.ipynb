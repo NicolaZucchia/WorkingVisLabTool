{
 "cells": [
  {
   "cell_type": "markdown",
   "metadata": {},
   "source": [
    "# Example"
   ]
  },
  {
   "cell_type": "code",
   "execution_count": 1,
   "metadata": {},
   "outputs": [],
   "source": [
    "import svelte_widget"
   ]
  },
  {
   "cell_type": "code",
   "execution_count": 2,
   "metadata": {},
   "outputs": [],
   "source": [
    "import random\n",
    "import pandas as pd\n",
    "n_instances = 1000\n",
    "def model1(df):\n",
    "    return [random.randint(0,100) for _ in range(n_instances)]\n",
    "def model2(df):\n",
    "    return [random.randint(0,100) for _ in range(n_instances)]\n",
    "df = pd.DataFrame({\n",
    "    'a': [random.randrange(100) for _ in range(n_instances)],\n",
    "    'b': [random.randrange(100) for _ in range(n_instances)],\n",
    "    'c': [random.randrange(100) for _ in range(n_instances)],\n",
    "    'd': [random.randrange(100) for _ in range(n_instances)],\n",
    "    'e': [random.randrange(100) for _ in range(n_instances)],\n",
    "    'f': [random.randrange(100) for _ in range(n_instances)],\n",
    "    'g': [random.randrange(100) for _ in range(n_instances)],\n",
    "    'h': [random.randrange(100) for _ in range(n_instances)],\n",
    "    'i': [random.randrange(100) for _ in range(n_instances)],\n",
    "    'j': [random.randrange(100) for _ in range(n_instances)],\n",
    "    'k': [random.randrange(100) for _ in range(n_instances)],\n",
    "    'l': [random.randrange(100) for _ in range(n_instances)],\n",
    "    'm': [random.randrange(100) for _ in range(n_instances)],\n",
    "    'n': [random.randrange(100) for _ in range(n_instances)],\n",
    "    'o': [random.randrange(100) for _ in range(n_instances)],\n",
    "    'p': [random.randrange(100) for _ in range(n_instances)],\n",
    "    'q': [random.randrange(100) for _ in range(n_instances)],\n",
    "    'r': [random.randrange(100) for _ in range(n_instances)]\n",
    "})"
   ]
  },
  {
   "cell_type": "code",
   "execution_count": 3,
   "metadata": {},
   "outputs": [
    {
     "name": "stdout",
     "output_type": "stream",
     "text": [
      "      a   b   c   d   e   f   g   h   i   j   k   l   m   n   o   p   q   r\n",
      "0    86  20  63  84  70  48  24  93  61  34  25  93  68  38   8  51  38  91\n",
      "1    49  66  73  51  39  61   8  97  49   9  31  30  42  50  95  90  28  56\n",
      "2    60  50  77  76  41  51  24  91  26  22  89  49  19  56  16  63  44  30\n",
      "3    22  57  65  20   3  85  83  20   8  84  29  56  35  52  41  94  69  98\n",
      "4    57  34  58  65  39  48   7   8  94  91  89  99  48  49  79   0  44  82\n",
      "..   ..  ..  ..  ..  ..  ..  ..  ..  ..  ..  ..  ..  ..  ..  ..  ..  ..  ..\n",
      "995  12  99  71  93  22  19  56  68  91  26  12  14  89  91  89   5  44  79\n",
      "996  20  46  79  54  68  80  62  55  18  50  10  24   7  52  14  65  58  90\n",
      "997  34  22   5  81   8  42  20  45  70  56  42  41  54  60  76  38  89   9\n",
      "998  27  20  91  92  55  41  78  35  37  23   3  40  35  72  11  21  71   7\n",
      "999  85  36  88  53  63  58  53  23  77  29  71  14  28  27  71  14  96  17\n",
      "\n",
      "[1000 rows x 18 columns]\n"
     ]
    }
   ],
   "source": [
    "print(df)"
   ]
  },
  {
   "cell_type": "code",
   "execution_count": 4,
   "metadata": {
    "scrolled": false
   },
   "outputs": [
    {
     "data": {
      "application/vnd.jupyter.widget-view+json": {
       "model_id": "432cf8d4a14d4288b715638327d6d6d2",
       "version_major": 2,
       "version_minor": 0
      },
      "text/plain": [
       "ExampleWidget(df={'a': [86, 49, 60, 22, 57, 11, 26, 59, 62, 17, 42, 41, 96, 85, 35, 97, 29, 84, 41, 17, 52, 39…"
      ]
     },
     "execution_count": 4,
     "metadata": {},
     "output_type": "execute_result"
    }
   ],
   "source": [
    "w = svelte_widget.ExampleWidget(df,model1,model2)\n",
    "w"
   ]
  },
  {
   "cell_type": "code",
   "execution_count": null,
   "metadata": {},
   "outputs": [],
   "source": []
  }
 ],
 "metadata": {
  "kernelspec": {
   "display_name": "Python 3 (ipykernel)",
   "language": "python",
   "name": "python3"
  },
  "language_info": {
   "codemirror_mode": {
    "name": "ipython",
    "version": 3
   },
   "file_extension": ".py",
   "mimetype": "text/x-python",
   "name": "python",
   "nbconvert_exporter": "python",
   "pygments_lexer": "ipython3",
   "version": "3.8.16"
  }
 },
 "nbformat": 4,
 "nbformat_minor": 4
}
