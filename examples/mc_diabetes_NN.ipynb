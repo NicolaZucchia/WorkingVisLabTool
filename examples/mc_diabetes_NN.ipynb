{
 "cells": [
  {
   "cell_type": "code",
   "execution_count": 1,
   "metadata": {},
   "outputs": [
    {
     "name": "stderr",
     "output_type": "stream",
     "text": [
      "2023-05-22 12:58:09.396897: I tensorflow/tsl/cuda/cudart_stub.cc:28] Could not find cuda drivers on your machine, GPU will not be used.\n",
      "2023-05-22 12:58:09.442810: I tensorflow/tsl/cuda/cudart_stub.cc:28] Could not find cuda drivers on your machine, GPU will not be used.\n",
      "2023-05-22 12:58:09.444118: I tensorflow/core/platform/cpu_feature_guard.cc:182] This TensorFlow binary is optimized to use available CPU instructions in performance-critical operations.\n",
      "To enable the following instructions: AVX2 FMA, in other operations, rebuild TensorFlow with the appropriate compiler flags.\n",
      "2023-05-22 12:58:10.153569: W tensorflow/compiler/tf2tensorrt/utils/py_utils.cc:38] TF-TRT Warning: Could not find TensorRT\n"
     ]
    }
   ],
   "source": [
    "# Setting up the environment\n",
    "\n",
    "import svelte_widget\n",
    "import xgboost\n",
    "import shap\n",
    "from tensorflow.keras.models import Sequential\n",
    "from tensorflow.keras.layers import Dense\n",
    "from sklearn.model_selection import train_test_split\n",
    "import pandas as pd\n",
    "import numpy as np\n",
    "import tensorflow as tf\n",
    "\n",
    "np.random.seed(42)\n",
    "tf.random.set_seed(42)"
   ]
  },
  {
   "cell_type": "code",
   "execution_count": 2,
   "metadata": {},
   "outputs": [],
   "source": [
    "# Upload and set up data\n",
    "\n",
    "from sklearn.preprocessing import MinMaxScaler\n",
    "\n",
    "df = pd.read_csv(\"diabetes_data.csv\")\n",
    "\n",
    "scaler = MinMaxScaler()\n",
    "\n",
    "df = pd.DataFrame(scaler.fit_transform(df), columns=df.columns)\n",
    "\n",
    "X = df.drop(columns=['Outcome'])\n",
    "y = df['Outcome']"
   ]
  },
  {
   "cell_type": "code",
   "execution_count": 3,
   "metadata": {},
   "outputs": [
    {
     "data": {
      "text/html": [
       "<div>\n",
       "<style scoped>\n",
       "    .dataframe tbody tr th:only-of-type {\n",
       "        vertical-align: middle;\n",
       "    }\n",
       "\n",
       "    .dataframe tbody tr th {\n",
       "        vertical-align: top;\n",
       "    }\n",
       "\n",
       "    .dataframe thead th {\n",
       "        text-align: right;\n",
       "    }\n",
       "</style>\n",
       "<table border=\"1\" class=\"dataframe\">\n",
       "  <thead>\n",
       "    <tr style=\"text-align: right;\">\n",
       "      <th></th>\n",
       "      <th>Pregnancies</th>\n",
       "      <th>Glucose</th>\n",
       "      <th>BloodPressure</th>\n",
       "      <th>SkinThickness</th>\n",
       "      <th>Insulin</th>\n",
       "      <th>BMI</th>\n",
       "      <th>DiabetesPedigreeFunction</th>\n",
       "      <th>Age</th>\n",
       "      <th>Outcome</th>\n",
       "    </tr>\n",
       "  </thead>\n",
       "  <tbody>\n",
       "    <tr>\n",
       "      <th>0</th>\n",
       "      <td>0.352941</td>\n",
       "      <td>0.743719</td>\n",
       "      <td>0.590164</td>\n",
       "      <td>0.353535</td>\n",
       "      <td>0.000000</td>\n",
       "      <td>0.500745</td>\n",
       "      <td>0.234415</td>\n",
       "      <td>0.483333</td>\n",
       "      <td>1.0</td>\n",
       "    </tr>\n",
       "    <tr>\n",
       "      <th>1</th>\n",
       "      <td>0.058824</td>\n",
       "      <td>0.427136</td>\n",
       "      <td>0.540984</td>\n",
       "      <td>0.292929</td>\n",
       "      <td>0.000000</td>\n",
       "      <td>0.396423</td>\n",
       "      <td>0.116567</td>\n",
       "      <td>0.166667</td>\n",
       "      <td>0.0</td>\n",
       "    </tr>\n",
       "    <tr>\n",
       "      <th>2</th>\n",
       "      <td>0.470588</td>\n",
       "      <td>0.919598</td>\n",
       "      <td>0.524590</td>\n",
       "      <td>0.000000</td>\n",
       "      <td>0.000000</td>\n",
       "      <td>0.347243</td>\n",
       "      <td>0.253629</td>\n",
       "      <td>0.183333</td>\n",
       "      <td>1.0</td>\n",
       "    </tr>\n",
       "    <tr>\n",
       "      <th>3</th>\n",
       "      <td>0.058824</td>\n",
       "      <td>0.447236</td>\n",
       "      <td>0.540984</td>\n",
       "      <td>0.232323</td>\n",
       "      <td>0.111111</td>\n",
       "      <td>0.418778</td>\n",
       "      <td>0.038002</td>\n",
       "      <td>0.000000</td>\n",
       "      <td>0.0</td>\n",
       "    </tr>\n",
       "    <tr>\n",
       "      <th>4</th>\n",
       "      <td>0.000000</td>\n",
       "      <td>0.688442</td>\n",
       "      <td>0.327869</td>\n",
       "      <td>0.353535</td>\n",
       "      <td>0.198582</td>\n",
       "      <td>0.642325</td>\n",
       "      <td>0.943638</td>\n",
       "      <td>0.200000</td>\n",
       "      <td>1.0</td>\n",
       "    </tr>\n",
       "    <tr>\n",
       "      <th>...</th>\n",
       "      <td>...</td>\n",
       "      <td>...</td>\n",
       "      <td>...</td>\n",
       "      <td>...</td>\n",
       "      <td>...</td>\n",
       "      <td>...</td>\n",
       "      <td>...</td>\n",
       "      <td>...</td>\n",
       "      <td>...</td>\n",
       "    </tr>\n",
       "    <tr>\n",
       "      <th>763</th>\n",
       "      <td>0.588235</td>\n",
       "      <td>0.507538</td>\n",
       "      <td>0.622951</td>\n",
       "      <td>0.484848</td>\n",
       "      <td>0.212766</td>\n",
       "      <td>0.490313</td>\n",
       "      <td>0.039710</td>\n",
       "      <td>0.700000</td>\n",
       "      <td>0.0</td>\n",
       "    </tr>\n",
       "    <tr>\n",
       "      <th>764</th>\n",
       "      <td>0.117647</td>\n",
       "      <td>0.613065</td>\n",
       "      <td>0.573770</td>\n",
       "      <td>0.272727</td>\n",
       "      <td>0.000000</td>\n",
       "      <td>0.548435</td>\n",
       "      <td>0.111870</td>\n",
       "      <td>0.100000</td>\n",
       "      <td>0.0</td>\n",
       "    </tr>\n",
       "    <tr>\n",
       "      <th>765</th>\n",
       "      <td>0.294118</td>\n",
       "      <td>0.608040</td>\n",
       "      <td>0.590164</td>\n",
       "      <td>0.232323</td>\n",
       "      <td>0.132388</td>\n",
       "      <td>0.390462</td>\n",
       "      <td>0.071307</td>\n",
       "      <td>0.150000</td>\n",
       "      <td>0.0</td>\n",
       "    </tr>\n",
       "    <tr>\n",
       "      <th>766</th>\n",
       "      <td>0.058824</td>\n",
       "      <td>0.633166</td>\n",
       "      <td>0.491803</td>\n",
       "      <td>0.000000</td>\n",
       "      <td>0.000000</td>\n",
       "      <td>0.448584</td>\n",
       "      <td>0.115713</td>\n",
       "      <td>0.433333</td>\n",
       "      <td>1.0</td>\n",
       "    </tr>\n",
       "    <tr>\n",
       "      <th>767</th>\n",
       "      <td>0.058824</td>\n",
       "      <td>0.467337</td>\n",
       "      <td>0.573770</td>\n",
       "      <td>0.313131</td>\n",
       "      <td>0.000000</td>\n",
       "      <td>0.453055</td>\n",
       "      <td>0.101196</td>\n",
       "      <td>0.033333</td>\n",
       "      <td>0.0</td>\n",
       "    </tr>\n",
       "  </tbody>\n",
       "</table>\n",
       "<p>768 rows × 9 columns</p>\n",
       "</div>"
      ],
      "text/plain": [
       "     Pregnancies   Glucose  BloodPressure  SkinThickness   Insulin       BMI   \n",
       "0       0.352941  0.743719       0.590164       0.353535  0.000000  0.500745  \\\n",
       "1       0.058824  0.427136       0.540984       0.292929  0.000000  0.396423   \n",
       "2       0.470588  0.919598       0.524590       0.000000  0.000000  0.347243   \n",
       "3       0.058824  0.447236       0.540984       0.232323  0.111111  0.418778   \n",
       "4       0.000000  0.688442       0.327869       0.353535  0.198582  0.642325   \n",
       "..           ...       ...            ...            ...       ...       ...   \n",
       "763     0.588235  0.507538       0.622951       0.484848  0.212766  0.490313   \n",
       "764     0.117647  0.613065       0.573770       0.272727  0.000000  0.548435   \n",
       "765     0.294118  0.608040       0.590164       0.232323  0.132388  0.390462   \n",
       "766     0.058824  0.633166       0.491803       0.000000  0.000000  0.448584   \n",
       "767     0.058824  0.467337       0.573770       0.313131  0.000000  0.453055   \n",
       "\n",
       "     DiabetesPedigreeFunction       Age  Outcome  \n",
       "0                    0.234415  0.483333      1.0  \n",
       "1                    0.116567  0.166667      0.0  \n",
       "2                    0.253629  0.183333      1.0  \n",
       "3                    0.038002  0.000000      0.0  \n",
       "4                    0.943638  0.200000      1.0  \n",
       "..                        ...       ...      ...  \n",
       "763                  0.039710  0.700000      0.0  \n",
       "764                  0.111870  0.100000      0.0  \n",
       "765                  0.071307  0.150000      0.0  \n",
       "766                  0.115713  0.433333      1.0  \n",
       "767                  0.101196  0.033333      0.0  \n",
       "\n",
       "[768 rows x 9 columns]"
      ]
     },
     "execution_count": 3,
     "metadata": {},
     "output_type": "execute_result"
    }
   ],
   "source": [
    "df"
   ]
  },
  {
   "cell_type": "code",
   "execution_count": 4,
   "metadata": {},
   "outputs": [],
   "source": [
    "from sklearn.linear_model import LinearRegression\n",
    "\n",
    "X_train, X_test, y_train, y_test = train_test_split(X, y, test_size=0.2, random_state=42)"
   ]
  },
  {
   "cell_type": "code",
   "execution_count": 5,
   "metadata": {},
   "outputs": [
    {
     "name": "stdout",
     "output_type": "stream",
     "text": [
      "Epoch 1/10\n"
     ]
    },
    {
     "name": "stderr",
     "output_type": "stream",
     "text": [
      "2023-05-22 12:58:11.051450: I tensorflow/compiler/xla/stream_executor/cuda/cuda_gpu_executor.cc:982] could not open file to read NUMA node: /sys/bus/pci/devices/0000:02:00.0/numa_node\n",
      "Your kernel may have been built without NUMA support.\n",
      "2023-05-22 12:58:11.051843: W tensorflow/core/common_runtime/gpu/gpu_device.cc:1956] Cannot dlopen some GPU libraries. Please make sure the missing libraries mentioned above are installed properly if you would like to use GPU. Follow the guide at https://www.tensorflow.org/install/gpu for how to download and setup the required libraries for your platform.\n",
      "Skipping registering GPU devices...\n"
     ]
    },
    {
     "name": "stdout",
     "output_type": "stream",
     "text": [
      "20/20 [==============================] - 1s 11ms/step - loss: 0.6762 - accuracy: 0.6629 - val_loss: 0.6641 - val_accuracy: 0.6429\n",
      "Epoch 2/10\n",
      "20/20 [==============================] - 0s 4ms/step - loss: 0.6527 - accuracy: 0.6531 - val_loss: 0.6529 - val_accuracy: 0.6429\n",
      "Epoch 3/10\n",
      "20/20 [==============================] - 0s 4ms/step - loss: 0.6385 - accuracy: 0.6531 - val_loss: 0.6403 - val_accuracy: 0.6429\n",
      "Epoch 4/10\n",
      "20/20 [==============================] - 0s 4ms/step - loss: 0.6254 - accuracy: 0.6531 - val_loss: 0.6282 - val_accuracy: 0.6494\n",
      "Epoch 5/10\n",
      "20/20 [==============================] - 0s 4ms/step - loss: 0.6125 - accuracy: 0.6580 - val_loss: 0.6150 - val_accuracy: 0.6883\n",
      "Epoch 6/10\n",
      "20/20 [==============================] - 0s 4ms/step - loss: 0.5988 - accuracy: 0.6971 - val_loss: 0.6015 - val_accuracy: 0.6688\n",
      "Epoch 7/10\n",
      "20/20 [==============================] - 0s 4ms/step - loss: 0.5839 - accuracy: 0.6954 - val_loss: 0.5886 - val_accuracy: 0.6688\n",
      "Epoch 8/10\n",
      "20/20 [==============================] - 0s 4ms/step - loss: 0.5696 - accuracy: 0.7068 - val_loss: 0.5754 - val_accuracy: 0.6883\n",
      "Epoch 9/10\n",
      "20/20 [==============================] - 0s 5ms/step - loss: 0.5559 - accuracy: 0.7410 - val_loss: 0.5638 - val_accuracy: 0.7078\n",
      "Epoch 10/10\n",
      "20/20 [==============================] - 0s 4ms/step - loss: 0.5450 - accuracy: 0.7296 - val_loss: 0.5527 - val_accuracy: 0.7143\n",
      "Epoch 1/10\n",
      "20/20 [==============================] - 1s 12ms/step - loss: 0.6688 - accuracy: 0.6547 - val_loss: 0.6571 - val_accuracy: 0.6429\n",
      "Epoch 2/10\n",
      "20/20 [==============================] - 0s 5ms/step - loss: 0.6444 - accuracy: 0.6547 - val_loss: 0.6397 - val_accuracy: 0.6494\n",
      "Epoch 3/10\n",
      "20/20 [==============================] - 0s 4ms/step - loss: 0.6164 - accuracy: 0.6694 - val_loss: 0.6130 - val_accuracy: 0.6623\n",
      "Epoch 4/10\n",
      "20/20 [==============================] - 0s 4ms/step - loss: 0.5906 - accuracy: 0.6694 - val_loss: 0.5827 - val_accuracy: 0.6818\n",
      "Epoch 5/10\n",
      "20/20 [==============================] - 0s 6ms/step - loss: 0.5609 - accuracy: 0.7199 - val_loss: 0.5696 - val_accuracy: 0.7338\n",
      "Epoch 6/10\n",
      "20/20 [==============================] - 0s 4ms/step - loss: 0.5376 - accuracy: 0.7248 - val_loss: 0.5428 - val_accuracy: 0.7662\n",
      "Epoch 7/10\n",
      "20/20 [==============================] - 0s 5ms/step - loss: 0.5138 - accuracy: 0.7524 - val_loss: 0.5268 - val_accuracy: 0.7532\n",
      "Epoch 8/10\n",
      "20/20 [==============================] - 0s 4ms/step - loss: 0.5039 - accuracy: 0.7378 - val_loss: 0.5176 - val_accuracy: 0.7857\n",
      "Epoch 9/10\n",
      "20/20 [==============================] - 0s 4ms/step - loss: 0.4782 - accuracy: 0.7736 - val_loss: 0.5100 - val_accuracy: 0.7662\n",
      "Epoch 10/10\n",
      "20/20 [==============================] - 0s 4ms/step - loss: 0.4674 - accuracy: 0.7801 - val_loss: 0.5080 - val_accuracy: 0.7727\n"
     ]
    },
    {
     "data": {
      "text/plain": [
       "<keras.callbacks.History at 0x7ff43010d820>"
      ]
     },
     "execution_count": 5,
     "metadata": {},
     "output_type": "execute_result"
    }
   ],
   "source": [
    "# Defining and training two Neural Networks\n",
    "\n",
    "import tensorflow as tf\n",
    "from tensorflow import keras\n",
    "\n",
    "# Define the first neural network model\n",
    "model_1 = keras.Sequential([\n",
    "    keras.layers.Dense(64, activation='relu', input_shape=(X_train.shape[1],)),\n",
    "    keras.layers.Dense(32, activation='relu'),\n",
    "    keras.layers.Dense(1, activation='sigmoid')\n",
    "])\n",
    "\n",
    "# Compile the model\n",
    "model_1.compile(optimizer='adam', loss='binary_crossentropy', metrics=['accuracy'])\n",
    "\n",
    "# Train the model\n",
    "model_1.fit(X_train, y_train, epochs=10, batch_size=32, validation_data=(X_test, y_test))\n",
    "\n",
    "# Define the second neural network model\n",
    "model_2 = keras.Sequential([\n",
    "    keras.layers.Dense(128, activation='relu', input_shape=(X_train.shape[1],)),\n",
    "    keras.layers.Dense(64, activation='relu'),\n",
    "    keras.layers.Dense(32, activation='relu'),\n",
    "    keras.layers.Dense(1, activation='sigmoid')\n",
    "])\n",
    "\n",
    "# Compile the model\n",
    "model_2.compile(optimizer='adam', loss='binary_crossentropy', metrics=['accuracy'])\n",
    "\n",
    "# Train the model\n",
    "model_2.fit(X_train, y_train, epochs=10, batch_size=32, validation_data=(X_test, y_test))"
   ]
  },
  {
   "cell_type": "code",
   "execution_count": 6,
   "metadata": {
    "scrolled": false
   },
   "outputs": [
    {
     "name": "stdout",
     "output_type": "stream",
     "text": [
      "Start...\n",
      "Predictions obtained\n",
      "5/5 [==============================] - 0s 2ms/step\n",
      "5/5 [==============================] - 0s 2ms/step\n",
      "Shaps now\n",
      "Shaps XGB\n",
      "Shaps NN\n",
      "Calculating...\n",
      "-> m1\n",
      "780/780 [==============================] - 1s 2ms/step\n",
      "730/730 [==============================] - 1s 2ms/step\n",
      "28/28 [==============================] - 0s 1ms/step\n",
      "725/725 [==============================] - 1s 2ms/step\n",
      "27/27 [==============================] - 0s 2ms/step\n"
     ]
    },
    {
     "name": "stderr",
     "output_type": "stream",
     "text": [
      "\r",
      "Exact explainer:   2%|█▍                                                                        | 3/154 [00:00<?, ?it/s]"
     ]
    },
    {
     "name": "stdout",
     "output_type": "stream",
     "text": [
      "763/763 [==============================] - 2s 2ms/step\n",
      "27/27 [==============================] - 0s 2ms/step\n"
     ]
    },
    {
     "name": "stderr",
     "output_type": "stream",
     "text": [
      "\r",
      "Exact explainer:   3%|██▏                                                               | 5/154 [00:12<02:49,  1.14s/it]"
     ]
    },
    {
     "name": "stdout",
     "output_type": "stream",
     "text": [
      "759/759 [==============================] - 2s 2ms/step\n",
      "27/27 [==============================] - 0s 3ms/step\n"
     ]
    },
    {
     "name": "stderr",
     "output_type": "stream",
     "text": [
      "\r",
      "Exact explainer:   4%|██▌                                                               | 6/154 [00:15<04:36,  1.87s/it]"
     ]
    },
    {
     "name": "stdout",
     "output_type": "stream",
     "text": [
      "795/795 [==============================] - 2s 2ms/step\n",
      "29/29 [==============================] - 0s 2ms/step\n"
     ]
    },
    {
     "name": "stderr",
     "output_type": "stream",
     "text": [
      "\r",
      "Exact explainer:   5%|███                                                               | 7/154 [00:18<05:29,  2.24s/it]"
     ]
    },
    {
     "name": "stdout",
     "output_type": "stream",
     "text": [
      "779/779 [==============================] - 1s 2ms/step\n",
      "28/28 [==============================] - 0s 2ms/step\n"
     ]
    },
    {
     "name": "stderr",
     "output_type": "stream",
     "text": [
      "\r",
      "Exact explainer:   5%|███▍                                                              | 8/154 [00:20<05:56,  2.44s/it]"
     ]
    },
    {
     "name": "stdout",
     "output_type": "stream",
     "text": [
      "762/762 [==============================] - 1s 1ms/step\n",
      "27/27 [==============================] - 0s 1ms/step\n"
     ]
    },
    {
     "name": "stderr",
     "output_type": "stream",
     "text": [
      "\r",
      "Exact explainer:   6%|███▊                                                              | 9/154 [00:22<05:17,  2.19s/it]"
     ]
    },
    {
     "name": "stdout",
     "output_type": "stream",
     "text": [
      "794/794 [==============================] - 1s 1ms/step\n",
      "28/28 [==============================] - 0s 2ms/step\n"
     ]
    },
    {
     "name": "stderr",
     "output_type": "stream",
     "text": [
      "\r",
      "Exact explainer:   6%|████▏                                                            | 10/154 [00:25<05:42,  2.38s/it]"
     ]
    },
    {
     "name": "stdout",
     "output_type": "stream",
     "text": [
      "739/739 [==============================] - 1s 2ms/step\n",
      "26/26 [==============================] - 0s 2ms/step\n"
     ]
    },
    {
     "name": "stderr",
     "output_type": "stream",
     "text": [
      "\r",
      "Exact explainer:   7%|████▋                                                            | 11/154 [00:27<05:16,  2.21s/it]"
     ]
    },
    {
     "name": "stdout",
     "output_type": "stream",
     "text": [
      "758/758 [==============================] - 1s 2ms/step\n",
      "29/29 [==============================] - 0s 2ms/step\n"
     ]
    },
    {
     "name": "stderr",
     "output_type": "stream",
     "text": [
      "\r",
      "Exact explainer:   8%|█████                                                            | 12/154 [00:30<05:42,  2.41s/it]"
     ]
    },
    {
     "name": "stdout",
     "output_type": "stream",
     "text": [
      "755/755 [==============================] - 1s 1ms/step\n",
      "28/28 [==============================] - 0s 1ms/step\n"
     ]
    },
    {
     "name": "stderr",
     "output_type": "stream",
     "text": [
      "\r",
      "Exact explainer:   8%|█████▍                                                           | 13/154 [00:31<05:03,  2.15s/it]"
     ]
    },
    {
     "name": "stdout",
     "output_type": "stream",
     "text": [
      "767/767 [==============================] - 1s 1ms/step\n",
      "28/28 [==============================] - 0s 1ms/step\n"
     ]
    },
    {
     "name": "stderr",
     "output_type": "stream",
     "text": [
      "\r",
      "Exact explainer:   9%|█████▉                                                           | 14/154 [00:32<04:27,  1.91s/it]"
     ]
    },
    {
     "name": "stdout",
     "output_type": "stream",
     "text": [
      "786/786 [==============================] - 1s 1ms/step\n",
      "28/28 [==============================] - 0s 1ms/step\n"
     ]
    },
    {
     "name": "stderr",
     "output_type": "stream",
     "text": [
      "\r",
      "Exact explainer:  10%|██████▎                                                          | 15/154 [00:34<04:03,  1.75s/it]"
     ]
    },
    {
     "name": "stdout",
     "output_type": "stream",
     "text": [
      "783/783 [==============================] - 1s 1ms/step\n",
      "28/28 [==============================] - 0s 1ms/step\n"
     ]
    },
    {
     "name": "stderr",
     "output_type": "stream",
     "text": [
      "\r",
      "Exact explainer:  10%|██████▊                                                          | 16/154 [00:35<03:44,  1.63s/it]"
     ]
    },
    {
     "name": "stdout",
     "output_type": "stream",
     "text": [
      "783/783 [==============================] - 1s 1ms/step\n",
      "28/28 [==============================] - 0s 1ms/step\n"
     ]
    },
    {
     "name": "stderr",
     "output_type": "stream",
     "text": [
      "\r",
      "Exact explainer:  11%|███████▏                                                         | 17/154 [00:36<03:28,  1.52s/it]"
     ]
    },
    {
     "name": "stdout",
     "output_type": "stream",
     "text": [
      "758/758 [==============================] - 1s 1ms/step\n",
      "28/28 [==============================] - 0s 1ms/step\n"
     ]
    },
    {
     "name": "stderr",
     "output_type": "stream",
     "text": [
      "\r",
      "Exact explainer:  12%|███████▌                                                         | 18/154 [00:38<03:14,  1.43s/it]"
     ]
    },
    {
     "name": "stdout",
     "output_type": "stream",
     "text": [
      "774/774 [==============================] - 1s 1ms/step\n",
      "28/28 [==============================] - 0s 1ms/step\n"
     ]
    },
    {
     "name": "stderr",
     "output_type": "stream",
     "text": [
      "\r",
      "Exact explainer:  12%|████████                                                         | 19/154 [00:39<03:08,  1.40s/it]"
     ]
    },
    {
     "name": "stdout",
     "output_type": "stream",
     "text": [
      "758/758 [==============================] - 1s 1ms/step\n",
      "27/27 [==============================] - 0s 1ms/step\n"
     ]
    },
    {
     "name": "stderr",
     "output_type": "stream",
     "text": [
      "\r",
      "Exact explainer:  13%|████████▍                                                        | 20/154 [00:40<03:01,  1.35s/it]"
     ]
    },
    {
     "name": "stdout",
     "output_type": "stream",
     "text": [
      "779/779 [==============================] - 1s 1ms/step\n",
      "28/28 [==============================] - 0s 1ms/step\n"
     ]
    },
    {
     "name": "stderr",
     "output_type": "stream",
     "text": [
      "\r",
      "Exact explainer:  14%|████████▊                                                        | 21/154 [00:42<02:56,  1.32s/it]"
     ]
    },
    {
     "name": "stdout",
     "output_type": "stream",
     "text": [
      "762/762 [==============================] - 1s 1ms/step\n",
      "27/27 [==============================] - 0s 1ms/step\n"
     ]
    },
    {
     "name": "stderr",
     "output_type": "stream",
     "text": [
      "\r",
      "Exact explainer:  14%|█████████▎                                                       | 22/154 [00:43<02:50,  1.30s/it]"
     ]
    },
    {
     "name": "stdout",
     "output_type": "stream",
     "text": [
      "761/761 [==============================] - 1s 1ms/step\n",
      "28/28 [==============================] - 0s 1ms/step\n"
     ]
    },
    {
     "name": "stderr",
     "output_type": "stream",
     "text": [
      "\r",
      "Exact explainer:  15%|█████████▋                                                       | 23/154 [00:44<02:49,  1.29s/it]"
     ]
    },
    {
     "name": "stdout",
     "output_type": "stream",
     "text": [
      "771/771 [==============================] - 1s 1ms/step\n",
      "29/29 [==============================] - 0s 1ms/step\n"
     ]
    },
    {
     "name": "stderr",
     "output_type": "stream",
     "text": [
      "\r",
      "Exact explainer:  16%|██████████▏                                                      | 24/154 [00:45<02:48,  1.30s/it]"
     ]
    },
    {
     "name": "stdout",
     "output_type": "stream",
     "text": [
      "759/759 [==============================] - 1s 1ms/step\n",
      "28/28 [==============================] - 0s 1ms/step\n"
     ]
    },
    {
     "name": "stderr",
     "output_type": "stream",
     "text": [
      "\r",
      "Exact explainer:  16%|██████████▌                                                      | 25/154 [00:47<02:45,  1.28s/it]"
     ]
    },
    {
     "name": "stdout",
     "output_type": "stream",
     "text": [
      "794/794 [==============================] - 1s 1ms/step\n",
      "28/28 [==============================] - 0s 1ms/step\n"
     ]
    },
    {
     "name": "stderr",
     "output_type": "stream",
     "text": [
      "\r",
      "Exact explainer:  17%|██████████▉                                                      | 26/154 [00:48<02:42,  1.27s/it]"
     ]
    },
    {
     "name": "stdout",
     "output_type": "stream",
     "text": [
      "755/755 [==============================] - 1s 1ms/step\n",
      "28/28 [==============================] - 0s 1ms/step\n"
     ]
    },
    {
     "name": "stderr",
     "output_type": "stream",
     "text": [
      "\r",
      "Exact explainer:  18%|███████████▍                                                     | 27/154 [00:49<02:39,  1.26s/it]"
     ]
    },
    {
     "name": "stdout",
     "output_type": "stream",
     "text": [
      "756/756 [==============================] - 1s 1ms/step\n",
      "28/28 [==============================] - 0s 1ms/step\n"
     ]
    },
    {
     "name": "stderr",
     "output_type": "stream",
     "text": [
      "\r",
      "Exact explainer:  18%|███████████▊                                                     | 28/154 [00:50<02:40,  1.27s/it]"
     ]
    },
    {
     "name": "stdout",
     "output_type": "stream",
     "text": [
      "788/788 [==============================] - 1s 1ms/step\n",
      "28/28 [==============================] - 0s 1ms/step\n"
     ]
    },
    {
     "name": "stderr",
     "output_type": "stream",
     "text": [
      "\r",
      "Exact explainer:  19%|████████████▏                                                    | 29/154 [00:52<02:40,  1.28s/it]"
     ]
    },
    {
     "name": "stdout",
     "output_type": "stream",
     "text": [
      "776/776 [==============================] - 1s 1ms/step\n",
      "28/28 [==============================] - 0s 1ms/step\n"
     ]
    },
    {
     "name": "stderr",
     "output_type": "stream",
     "text": [
      "\r",
      "Exact explainer:  19%|████████████▋                                                    | 30/154 [00:53<02:43,  1.32s/it]"
     ]
    },
    {
     "name": "stdout",
     "output_type": "stream",
     "text": [
      "767/767 [==============================] - 1s 1ms/step\n",
      "28/28 [==============================] - 0s 1ms/step\n"
     ]
    },
    {
     "name": "stderr",
     "output_type": "stream",
     "text": [
      "\r",
      "Exact explainer:  20%|█████████████                                                    | 31/154 [00:54<02:40,  1.30s/it]"
     ]
    },
    {
     "name": "stdout",
     "output_type": "stream",
     "text": [
      "783/783 [==============================] - 1s 1ms/step\n",
      "28/28 [==============================] - 0s 1ms/step\n"
     ]
    },
    {
     "name": "stderr",
     "output_type": "stream",
     "text": [
      "\r",
      "Exact explainer:  21%|█████████████▌                                                   | 32/154 [00:56<02:38,  1.30s/it]"
     ]
    },
    {
     "name": "stdout",
     "output_type": "stream",
     "text": [
      "744/744 [==============================] - 1s 1ms/step\n",
      "27/27 [==============================] - 0s 1ms/step\n"
     ]
    },
    {
     "name": "stderr",
     "output_type": "stream",
     "text": [
      "\r",
      "Exact explainer:  21%|█████████████▉                                                   | 33/154 [00:57<02:36,  1.29s/it]"
     ]
    },
    {
     "name": "stdout",
     "output_type": "stream",
     "text": [
      "782/782 [==============================] - 1s 1ms/step\n",
      "28/28 [==============================] - 0s 1ms/step\n"
     ]
    },
    {
     "name": "stderr",
     "output_type": "stream",
     "text": [
      "\r",
      "Exact explainer:  22%|██████████████▎                                                  | 34/154 [00:58<02:36,  1.31s/it]"
     ]
    },
    {
     "name": "stdout",
     "output_type": "stream",
     "text": [
      "746/746 [==============================] - 1s 1ms/step\n",
      "27/27 [==============================] - 0s 1ms/step\n"
     ]
    },
    {
     "name": "stderr",
     "output_type": "stream",
     "text": [
      "\r",
      "Exact explainer:  23%|██████████████▊                                                  | 35/154 [01:00<02:34,  1.30s/it]"
     ]
    },
    {
     "name": "stdout",
     "output_type": "stream",
     "text": [
      "751/751 [==============================] - 1s 1ms/step\n",
      "27/27 [==============================] - 0s 1ms/step\n"
     ]
    },
    {
     "name": "stderr",
     "output_type": "stream",
     "text": [
      "\r",
      "Exact explainer:  23%|███████████████▏                                                 | 36/154 [01:01<02:32,  1.30s/it]"
     ]
    },
    {
     "name": "stdout",
     "output_type": "stream",
     "text": [
      "781/781 [==============================] - 1s 1ms/step\n",
      "28/28 [==============================] - 0s 1ms/step\n"
     ]
    },
    {
     "name": "stderr",
     "output_type": "stream",
     "text": [
      "\r",
      "Exact explainer:  24%|███████████████▌                                                 | 37/154 [01:02<02:32,  1.30s/it]"
     ]
    },
    {
     "name": "stdout",
     "output_type": "stream",
     "text": [
      "751/751 [==============================] - 1s 1ms/step\n",
      "28/28 [==============================] - 0s 1ms/step\n"
     ]
    },
    {
     "name": "stderr",
     "output_type": "stream",
     "text": [
      "\r",
      "Exact explainer:  25%|████████████████                                                 | 38/154 [01:03<02:28,  1.28s/it]"
     ]
    },
    {
     "name": "stdout",
     "output_type": "stream",
     "text": [
      "743/743 [==============================] - 1s 1ms/step\n",
      "28/28 [==============================] - 0s 1ms/step\n"
     ]
    },
    {
     "name": "stderr",
     "output_type": "stream",
     "text": [
      "\r",
      "Exact explainer:  25%|████████████████▍                                                | 39/154 [01:05<02:25,  1.27s/it]"
     ]
    },
    {
     "name": "stdout",
     "output_type": "stream",
     "text": [
      "755/755 [==============================] - 1s 1ms/step\n",
      "28/28 [==============================] - 0s 1ms/step\n"
     ]
    },
    {
     "name": "stderr",
     "output_type": "stream",
     "text": [
      "\r",
      "Exact explainer:  26%|████████████████▉                                                | 40/154 [01:06<02:23,  1.26s/it]"
     ]
    },
    {
     "name": "stdout",
     "output_type": "stream",
     "text": [
      "751/751 [==============================] - 1s 1ms/step\n",
      "27/27 [==============================] - 0s 1ms/step\n"
     ]
    },
    {
     "name": "stderr",
     "output_type": "stream",
     "text": [
      "\r",
      "Exact explainer:  27%|█████████████████▎                                               | 41/154 [01:07<02:22,  1.26s/it]"
     ]
    },
    {
     "name": "stdout",
     "output_type": "stream",
     "text": [
      "787/787 [==============================] - 1s 1ms/step\n",
      "28/28 [==============================] - 0s 1ms/step\n"
     ]
    },
    {
     "name": "stderr",
     "output_type": "stream",
     "text": [
      "\r",
      "Exact explainer:  27%|█████████████████▋                                               | 42/154 [01:08<02:24,  1.29s/it]"
     ]
    },
    {
     "name": "stdout",
     "output_type": "stream",
     "text": [
      "750/750 [==============================] - 1s 1ms/step\n",
      "27/27 [==============================] - 0s 1ms/step\n"
     ]
    },
    {
     "name": "stderr",
     "output_type": "stream",
     "text": [
      "\r",
      "Exact explainer:  28%|██████████████████▏                                              | 43/154 [01:10<02:21,  1.28s/it]"
     ]
    },
    {
     "name": "stdout",
     "output_type": "stream",
     "text": [
      "752/752 [==============================] - 1s 1ms/step\n",
      "28/28 [==============================] - 0s 1ms/step\n"
     ]
    },
    {
     "name": "stderr",
     "output_type": "stream",
     "text": [
      "\r",
      "Exact explainer:  29%|██████████████████▌                                              | 44/154 [01:11<02:19,  1.27s/it]"
     ]
    },
    {
     "name": "stdout",
     "output_type": "stream",
     "text": [
      "731/731 [==============================] - 1s 1ms/step\n",
      "27/27 [==============================] - 0s 1ms/step\n"
     ]
    },
    {
     "name": "stderr",
     "output_type": "stream",
     "text": [
      "\r",
      "Exact explainer:  29%|██████████████████▉                                              | 45/154 [01:12<02:16,  1.25s/it]"
     ]
    },
    {
     "name": "stdout",
     "output_type": "stream",
     "text": [
      "750/750 [==============================] - 1s 1ms/step\n",
      "27/27 [==============================] - 0s 1ms/step\n"
     ]
    },
    {
     "name": "stderr",
     "output_type": "stream",
     "text": [
      "\r",
      "Exact explainer:  30%|███████████████████▍                                             | 46/154 [01:13<02:15,  1.26s/it]"
     ]
    },
    {
     "name": "stdout",
     "output_type": "stream",
     "text": [
      "787/787 [==============================] - 1s 1ms/step\n",
      "28/28 [==============================] - 0s 1ms/step\n"
     ]
    },
    {
     "name": "stderr",
     "output_type": "stream",
     "text": [
      "\r",
      "Exact explainer:  31%|███████████████████▊                                             | 47/154 [01:15<02:14,  1.25s/it]"
     ]
    },
    {
     "name": "stdout",
     "output_type": "stream",
     "text": [
      "799/799 [==============================] - 1s 1ms/step\n",
      "28/28 [==============================] - 0s 1ms/step\n"
     ]
    },
    {
     "name": "stderr",
     "output_type": "stream",
     "text": [
      "\r",
      "Exact explainer:  31%|████████████████████▎                                            | 48/154 [01:16<02:15,  1.27s/it]"
     ]
    },
    {
     "name": "stdout",
     "output_type": "stream",
     "text": [
      "747/747 [==============================] - 1s 1ms/step\n",
      "28/28 [==============================] - 0s 1ms/step\n"
     ]
    },
    {
     "name": "stderr",
     "output_type": "stream",
     "text": [
      "\r",
      "Exact explainer:  32%|████████████████████▋                                            | 49/154 [01:17<02:12,  1.26s/it]"
     ]
    },
    {
     "name": "stdout",
     "output_type": "stream",
     "text": [
      "739/739 [==============================] - 1s 1ms/step\n",
      "27/27 [==============================] - 0s 1ms/step\n"
     ]
    },
    {
     "name": "stderr",
     "output_type": "stream",
     "text": [
      "\r",
      "Exact explainer:  32%|█████████████████████                                            | 50/154 [01:18<02:08,  1.24s/it]"
     ]
    },
    {
     "name": "stdout",
     "output_type": "stream",
     "text": [
      "777/777 [==============================] - 1s 1ms/step\n",
      "28/28 [==============================] - 0s 1ms/step\n"
     ]
    },
    {
     "name": "stderr",
     "output_type": "stream",
     "text": [
      "\r",
      "Exact explainer:  33%|█████████████████████▌                                           | 51/154 [01:20<02:09,  1.26s/it]"
     ]
    },
    {
     "name": "stdout",
     "output_type": "stream",
     "text": [
      "732/732 [==============================] - 1s 1ms/step\n",
      "28/28 [==============================] - 0s 2ms/step\n"
     ]
    },
    {
     "name": "stderr",
     "output_type": "stream",
     "text": [
      "\r",
      "Exact explainer:  34%|█████████████████████▉                                           | 52/154 [01:21<02:06,  1.24s/it]"
     ]
    },
    {
     "name": "stdout",
     "output_type": "stream",
     "text": [
      "799/799 [==============================] - 1s 1ms/step\n",
      "29/29 [==============================] - 0s 1ms/step\n"
     ]
    },
    {
     "name": "stderr",
     "output_type": "stream",
     "text": [
      "\r",
      "Exact explainer:  34%|██████████████████████▎                                          | 53/154 [01:22<02:06,  1.25s/it]"
     ]
    },
    {
     "name": "stdout",
     "output_type": "stream",
     "text": [
      "780/780 [==============================] - 1s 1ms/step\n",
      "28/28 [==============================] - 0s 1ms/step\n"
     ]
    },
    {
     "name": "stderr",
     "output_type": "stream",
     "text": [
      "\r",
      "Exact explainer:  35%|██████████████████████▊                                          | 54/154 [01:24<02:06,  1.27s/it]"
     ]
    },
    {
     "name": "stdout",
     "output_type": "stream",
     "text": [
      "735/735 [==============================] - 1s 1ms/step\n",
      "26/26 [==============================] - 0s 1ms/step\n"
     ]
    },
    {
     "name": "stderr",
     "output_type": "stream",
     "text": [
      "\r",
      "Exact explainer:  36%|███████████████████████▏                                         | 55/154 [01:25<02:05,  1.26s/it]"
     ]
    },
    {
     "name": "stdout",
     "output_type": "stream",
     "text": [
      "764/764 [==============================] - 1s 1ms/step\n",
      "28/28 [==============================] - 0s 1ms/step\n"
     ]
    },
    {
     "name": "stderr",
     "output_type": "stream",
     "text": [
      "\r",
      "Exact explainer:  36%|███████████████████████▋                                         | 56/154 [01:26<02:04,  1.27s/it]"
     ]
    },
    {
     "name": "stdout",
     "output_type": "stream",
     "text": [
      "776/776 [==============================] - 1s 1ms/step\n",
      "28/28 [==============================] - 0s 1ms/step\n"
     ]
    },
    {
     "name": "stderr",
     "output_type": "stream",
     "text": [
      "\r",
      "Exact explainer:  37%|████████████████████████                                         | 57/154 [01:27<02:03,  1.27s/it]"
     ]
    },
    {
     "name": "stdout",
     "output_type": "stream",
     "text": [
      "762/762 [==============================] - 1s 1ms/step\n",
      "27/27 [==============================] - 0s 1ms/step\n"
     ]
    },
    {
     "name": "stderr",
     "output_type": "stream",
     "text": [
      "\r",
      "Exact explainer:  38%|████████████████████████▍                                        | 58/154 [01:29<02:01,  1.26s/it]"
     ]
    },
    {
     "name": "stdout",
     "output_type": "stream",
     "text": [
      "742/742 [==============================] - 1s 1ms/step\n",
      "27/27 [==============================] - 0s 1ms/step\n"
     ]
    },
    {
     "name": "stderr",
     "output_type": "stream",
     "text": [
      "\r",
      "Exact explainer:  38%|████████████████████████▉                                        | 59/154 [01:30<02:00,  1.27s/it]"
     ]
    },
    {
     "name": "stdout",
     "output_type": "stream",
     "text": [
      "774/774 [==============================] - 1s 1ms/step\n",
      "28/28 [==============================] - 0s 1ms/step\n"
     ]
    },
    {
     "name": "stderr",
     "output_type": "stream",
     "text": [
      "\r",
      "Exact explainer:  39%|█████████████████████████▎                                       | 60/154 [01:31<01:58,  1.26s/it]"
     ]
    },
    {
     "name": "stdout",
     "output_type": "stream",
     "text": [
      "748/748 [==============================] - 1s 1ms/step\n",
      "27/27 [==============================] - 0s 1ms/step\n"
     ]
    },
    {
     "name": "stderr",
     "output_type": "stream",
     "text": [
      "\r",
      "Exact explainer:  40%|█████████████████████████▋                                       | 61/154 [01:32<01:56,  1.25s/it]"
     ]
    },
    {
     "name": "stdout",
     "output_type": "stream",
     "text": [
      "769/769 [==============================] - 1s 1ms/step\n",
      "28/28 [==============================] - 0s 1ms/step\n"
     ]
    },
    {
     "name": "stderr",
     "output_type": "stream",
     "text": [
      "\r",
      "Exact explainer:  40%|██████████████████████████▏                                      | 62/154 [01:34<01:55,  1.26s/it]"
     ]
    },
    {
     "name": "stdout",
     "output_type": "stream",
     "text": [
      "756/756 [==============================] - 1s 1ms/step\n",
      "28/28 [==============================] - 0s 1ms/step\n"
     ]
    },
    {
     "name": "stderr",
     "output_type": "stream",
     "text": [
      "\r",
      "Exact explainer:  41%|██████████████████████████▌                                      | 63/154 [01:35<01:53,  1.25s/it]"
     ]
    },
    {
     "name": "stdout",
     "output_type": "stream",
     "text": [
      "786/786 [==============================] - 1s 1ms/step\n",
      "29/29 [==============================] - 0s 1ms/step\n"
     ]
    },
    {
     "name": "stderr",
     "output_type": "stream",
     "text": [
      "\r",
      "Exact explainer:  42%|███████████████████████████                                      | 64/154 [01:36<01:53,  1.26s/it]"
     ]
    },
    {
     "name": "stdout",
     "output_type": "stream",
     "text": [
      "800/800 [==============================] - 1s 1ms/step\n",
      "29/29 [==============================] - 0s 1ms/step\n"
     ]
    },
    {
     "name": "stderr",
     "output_type": "stream",
     "text": [
      "\r",
      "Exact explainer:  42%|███████████████████████████▍                                     | 65/154 [01:38<01:54,  1.29s/it]"
     ]
    },
    {
     "name": "stdout",
     "output_type": "stream",
     "text": [
      "778/778 [==============================] - 1s 1ms/step\n",
      "28/28 [==============================] - 0s 1ms/step\n"
     ]
    },
    {
     "name": "stderr",
     "output_type": "stream",
     "text": [
      "\r",
      "Exact explainer:  43%|███████████████████████████▊                                     | 66/154 [01:39<01:53,  1.29s/it]"
     ]
    },
    {
     "name": "stdout",
     "output_type": "stream",
     "text": [
      "748/748 [==============================] - 1s 1ms/step\n",
      "28/28 [==============================] - 0s 1ms/step\n"
     ]
    },
    {
     "name": "stderr",
     "output_type": "stream",
     "text": [
      "\r",
      "Exact explainer:  44%|████████████████████████████▎                                    | 67/154 [01:40<01:50,  1.26s/it]"
     ]
    },
    {
     "name": "stdout",
     "output_type": "stream",
     "text": [
      "754/754 [==============================] - 1s 1ms/step\n",
      "28/28 [==============================] - 0s 1ms/step\n"
     ]
    },
    {
     "name": "stderr",
     "output_type": "stream",
     "text": [
      "\r",
      "Exact explainer:  44%|████████████████████████████▋                                    | 68/154 [01:41<01:48,  1.27s/it]"
     ]
    },
    {
     "name": "stdout",
     "output_type": "stream",
     "text": [
      "755/755 [==============================] - 1s 1ms/step\n",
      "27/27 [==============================] - 0s 1ms/step\n"
     ]
    },
    {
     "name": "stderr",
     "output_type": "stream",
     "text": [
      "\r",
      "Exact explainer:  45%|█████████████████████████████                                    | 69/154 [01:42<01:46,  1.25s/it]"
     ]
    },
    {
     "name": "stdout",
     "output_type": "stream",
     "text": [
      "747/747 [==============================] - 1s 1ms/step\n",
      "27/27 [==============================] - 0s 1ms/step\n"
     ]
    },
    {
     "name": "stderr",
     "output_type": "stream",
     "text": [
      "\r",
      "Exact explainer:  45%|█████████████████████████████▌                                   | 70/154 [01:44<01:43,  1.24s/it]"
     ]
    },
    {
     "name": "stdout",
     "output_type": "stream",
     "text": [
      "784/784 [==============================] - 1s 1ms/step\n",
      "28/28 [==============================] - 0s 1ms/step\n"
     ]
    },
    {
     "name": "stderr",
     "output_type": "stream",
     "text": [
      "\r",
      "Exact explainer:  46%|█████████████████████████████▉                                   | 71/154 [01:45<01:44,  1.26s/it]"
     ]
    },
    {
     "name": "stdout",
     "output_type": "stream",
     "text": [
      "781/781 [==============================] - 1s 1ms/step\n",
      "28/28 [==============================] - 0s 1ms/step\n"
     ]
    },
    {
     "name": "stderr",
     "output_type": "stream",
     "text": [
      "\r",
      "Exact explainer:  47%|██████████████████████████████▍                                  | 72/154 [01:46<01:43,  1.27s/it]"
     ]
    },
    {
     "name": "stdout",
     "output_type": "stream",
     "text": [
      "771/771 [==============================] - 1s 1ms/step\n",
      "28/28 [==============================] - 0s 1ms/step\n"
     ]
    },
    {
     "name": "stderr",
     "output_type": "stream",
     "text": [
      "\r",
      "Exact explainer:  47%|██████████████████████████████▊                                  | 73/154 [01:48<01:42,  1.27s/it]"
     ]
    },
    {
     "name": "stdout",
     "output_type": "stream",
     "text": [
      "743/743 [==============================] - 1s 1ms/step\n",
      "27/27 [==============================] - 0s 1ms/step\n"
     ]
    },
    {
     "name": "stderr",
     "output_type": "stream",
     "text": [
      "\r",
      "Exact explainer:  48%|███████████████████████████████▏                                 | 74/154 [01:49<01:39,  1.24s/it]"
     ]
    },
    {
     "name": "stdout",
     "output_type": "stream",
     "text": [
      "780/780 [==============================] - 1s 1ms/step\n",
      "28/28 [==============================] - 0s 1ms/step\n"
     ]
    },
    {
     "name": "stderr",
     "output_type": "stream",
     "text": [
      "\r",
      "Exact explainer:  49%|███████████████████████████████▋                                 | 75/154 [01:50<01:38,  1.25s/it]"
     ]
    },
    {
     "name": "stdout",
     "output_type": "stream",
     "text": [
      "729/729 [==============================] - 1s 1ms/step\n",
      "27/27 [==============================] - 0s 1ms/step\n"
     ]
    },
    {
     "name": "stderr",
     "output_type": "stream",
     "text": [
      "\r",
      "Exact explainer:  49%|████████████████████████████████                                 | 76/154 [01:51<01:37,  1.25s/it]"
     ]
    },
    {
     "name": "stdout",
     "output_type": "stream",
     "text": [
      "757/757 [==============================] - 1s 1ms/step\n",
      "28/28 [==============================] - 0s 1ms/step\n"
     ]
    },
    {
     "name": "stderr",
     "output_type": "stream",
     "text": [
      "\r",
      "Exact explainer:  50%|████████████████████████████████▌                                | 77/154 [01:53<01:36,  1.26s/it]"
     ]
    },
    {
     "name": "stdout",
     "output_type": "stream",
     "text": [
      "762/762 [==============================] - 1s 1ms/step\n",
      "27/27 [==============================] - 0s 1ms/step\n"
     ]
    },
    {
     "name": "stderr",
     "output_type": "stream",
     "text": [
      "\r",
      "Exact explainer:  51%|████████████████████████████████▉                                | 78/154 [01:54<01:35,  1.25s/it]"
     ]
    },
    {
     "name": "stdout",
     "output_type": "stream",
     "text": [
      "792/792 [==============================] - 1s 1ms/step\n",
      "28/28 [==============================] - 0s 1ms/step\n"
     ]
    },
    {
     "name": "stderr",
     "output_type": "stream",
     "text": [
      "\r",
      "Exact explainer:  51%|█████████████████████████████████▎                               | 79/154 [01:55<01:35,  1.28s/it]"
     ]
    },
    {
     "name": "stdout",
     "output_type": "stream",
     "text": [
      "779/779 [==============================] - 1s 1ms/step\n",
      "28/28 [==============================] - 0s 1ms/step\n"
     ]
    },
    {
     "name": "stderr",
     "output_type": "stream",
     "text": [
      "\r",
      "Exact explainer:  52%|█████████████████████████████████▊                               | 80/154 [01:56<01:33,  1.27s/it]"
     ]
    },
    {
     "name": "stdout",
     "output_type": "stream",
     "text": [
      "737/737 [==============================] - 1s 1ms/step\n",
      "27/27 [==============================] - 0s 1ms/step\n"
     ]
    },
    {
     "name": "stderr",
     "output_type": "stream",
     "text": [
      "\r",
      "Exact explainer:  53%|██████████████████████████████████▏                              | 81/154 [01:58<01:32,  1.26s/it]"
     ]
    },
    {
     "name": "stdout",
     "output_type": "stream",
     "text": [
      "756/756 [==============================] - 1s 1ms/step\n",
      "27/27 [==============================] - 0s 1ms/step\n"
     ]
    },
    {
     "name": "stderr",
     "output_type": "stream",
     "text": [
      "\r",
      "Exact explainer:  53%|██████████████████████████████████▌                              | 82/154 [01:59<01:29,  1.24s/it]"
     ]
    },
    {
     "name": "stdout",
     "output_type": "stream",
     "text": [
      "780/780 [==============================] - 1s 1ms/step\n",
      "28/28 [==============================] - 0s 1ms/step\n"
     ]
    },
    {
     "name": "stderr",
     "output_type": "stream",
     "text": [
      "\r",
      "Exact explainer:  54%|███████████████████████████████████                              | 83/154 [02:00<01:29,  1.25s/it]"
     ]
    },
    {
     "name": "stdout",
     "output_type": "stream",
     "text": [
      "776/776 [==============================] - 1s 1ms/step\n",
      "28/28 [==============================] - 0s 1ms/step\n"
     ]
    },
    {
     "name": "stderr",
     "output_type": "stream",
     "text": [
      "\r",
      "Exact explainer:  55%|███████████████████████████████████▍                             | 84/154 [02:01<01:27,  1.25s/it]"
     ]
    },
    {
     "name": "stdout",
     "output_type": "stream",
     "text": [
      "792/792 [==============================] - 1s 1ms/step\n",
      "28/28 [==============================] - 0s 1ms/step\n"
     ]
    },
    {
     "name": "stderr",
     "output_type": "stream",
     "text": [
      "\r",
      "Exact explainer:  55%|███████████████████████████████████▉                             | 85/154 [02:03<01:26,  1.25s/it]"
     ]
    },
    {
     "name": "stdout",
     "output_type": "stream",
     "text": [
      "776/776 [==============================] - 1s 1ms/step\n",
      "28/28 [==============================] - 0s 1ms/step\n"
     ]
    },
    {
     "name": "stderr",
     "output_type": "stream",
     "text": [
      "\r",
      "Exact explainer:  56%|████████████████████████████████████▎                            | 86/154 [02:04<01:25,  1.25s/it]"
     ]
    },
    {
     "name": "stdout",
     "output_type": "stream",
     "text": [
      "791/791 [==============================] - 1s 1ms/step\n",
      "28/28 [==============================] - 0s 1ms/step\n"
     ]
    },
    {
     "name": "stderr",
     "output_type": "stream",
     "text": [
      "\r",
      "Exact explainer:  56%|████████████████████████████████████▋                            | 87/154 [02:05<01:25,  1.27s/it]"
     ]
    },
    {
     "name": "stdout",
     "output_type": "stream",
     "text": [
      "768/768 [==============================] - 1s 1ms/step\n",
      "28/28 [==============================] - 0s 1ms/step\n"
     ]
    },
    {
     "name": "stderr",
     "output_type": "stream",
     "text": [
      "\r",
      "Exact explainer:  57%|█████████████████████████████████████▏                           | 88/154 [02:06<01:24,  1.28s/it]"
     ]
    },
    {
     "name": "stdout",
     "output_type": "stream",
     "text": [
      "774/774 [==============================] - 1s 1ms/step\n",
      "27/27 [==============================] - 0s 1ms/step\n"
     ]
    },
    {
     "name": "stderr",
     "output_type": "stream",
     "text": [
      "\r",
      "Exact explainer:  58%|█████████████████████████████████████▌                           | 89/154 [02:08<01:22,  1.26s/it]"
     ]
    },
    {
     "name": "stdout",
     "output_type": "stream",
     "text": [
      "756/756 [==============================] - 1s 1ms/step\n",
      "28/28 [==============================] - 0s 2ms/step\n"
     ]
    },
    {
     "name": "stderr",
     "output_type": "stream",
     "text": [
      "\r",
      "Exact explainer:  58%|█████████████████████████████████████▉                           | 90/154 [02:09<01:19,  1.25s/it]"
     ]
    },
    {
     "name": "stdout",
     "output_type": "stream",
     "text": [
      "783/783 [==============================] - 1s 1ms/step\n",
      "28/28 [==============================] - 0s 1ms/step\n"
     ]
    },
    {
     "name": "stderr",
     "output_type": "stream",
     "text": [
      "\r",
      "Exact explainer:  59%|██████████████████████████████████████▍                          | 91/154 [02:10<01:18,  1.25s/it]"
     ]
    },
    {
     "name": "stdout",
     "output_type": "stream",
     "text": [
      "783/783 [==============================] - 1s 1ms/step\n",
      "28/28 [==============================] - 0s 1ms/step\n"
     ]
    },
    {
     "name": "stderr",
     "output_type": "stream",
     "text": [
      "\r",
      "Exact explainer:  60%|██████████████████████████████████████▊                          | 92/154 [02:11<01:17,  1.25s/it]"
     ]
    },
    {
     "name": "stdout",
     "output_type": "stream",
     "text": [
      "727/727 [==============================] - 1s 1ms/step\n",
      "27/27 [==============================] - 0s 1ms/step\n"
     ]
    },
    {
     "name": "stderr",
     "output_type": "stream",
     "text": [
      "\r",
      "Exact explainer:  60%|███████████████████████████████████████▎                         | 93/154 [02:13<01:16,  1.25s/it]"
     ]
    },
    {
     "name": "stdout",
     "output_type": "stream",
     "text": [
      "743/743 [==============================] - 1s 1ms/step\n",
      "27/27 [==============================] - 0s 1ms/step\n"
     ]
    },
    {
     "name": "stderr",
     "output_type": "stream",
     "text": [
      "\r",
      "Exact explainer:  61%|███████████████████████████████████████▋                         | 94/154 [02:14<01:14,  1.24s/it]"
     ]
    },
    {
     "name": "stdout",
     "output_type": "stream",
     "text": [
      "731/731 [==============================] - 1s 1ms/step\n",
      "27/27 [==============================] - 0s 2ms/step\n"
     ]
    },
    {
     "name": "stderr",
     "output_type": "stream",
     "text": [
      "\r",
      "Exact explainer:  62%|████████████████████████████████████████                         | 95/154 [02:15<01:12,  1.23s/it]"
     ]
    },
    {
     "name": "stdout",
     "output_type": "stream",
     "text": [
      "783/783 [==============================] - 1s 1ms/step\n",
      "28/28 [==============================] - 0s 1ms/step\n"
     ]
    },
    {
     "name": "stderr",
     "output_type": "stream",
     "text": [
      "\r",
      "Exact explainer:  62%|████████████████████████████████████████▌                        | 96/154 [02:16<01:12,  1.24s/it]"
     ]
    },
    {
     "name": "stdout",
     "output_type": "stream",
     "text": [
      "755/755 [==============================] - 1s 1ms/step\n",
      "28/28 [==============================] - 0s 1ms/step\n"
     ]
    },
    {
     "name": "stderr",
     "output_type": "stream",
     "text": [
      "\r",
      "Exact explainer:  63%|████████████████████████████████████████▉                        | 97/154 [02:18<01:10,  1.24s/it]"
     ]
    },
    {
     "name": "stdout",
     "output_type": "stream",
     "text": [
      "750/750 [==============================] - 1s 1ms/step\n",
      "27/27 [==============================] - 0s 1ms/step\n"
     ]
    },
    {
     "name": "stderr",
     "output_type": "stream",
     "text": [
      "\r",
      "Exact explainer:  64%|█████████████████████████████████████████▎                       | 98/154 [02:19<01:09,  1.24s/it]"
     ]
    },
    {
     "name": "stdout",
     "output_type": "stream",
     "text": [
      "777/777 [==============================] - 1s 1ms/step\n",
      "28/28 [==============================] - 0s 1ms/step\n"
     ]
    },
    {
     "name": "stderr",
     "output_type": "stream",
     "text": [
      "\r",
      "Exact explainer:  64%|█████████████████████████████████████████▊                       | 99/154 [02:20<01:07,  1.23s/it]"
     ]
    },
    {
     "name": "stdout",
     "output_type": "stream",
     "text": [
      "759/759 [==============================] - 1s 1ms/step\n",
      "28/28 [==============================] - 0s 1ms/step\n"
     ]
    },
    {
     "name": "stderr",
     "output_type": "stream",
     "text": [
      "\r",
      "Exact explainer:  65%|█████████████████████████████████████████▌                      | 100/154 [02:21<01:06,  1.24s/it]"
     ]
    },
    {
     "name": "stdout",
     "output_type": "stream",
     "text": [
      "743/743 [==============================] - 1s 1ms/step\n",
      "27/27 [==============================] - 0s 1ms/step\n"
     ]
    },
    {
     "name": "stderr",
     "output_type": "stream",
     "text": [
      "\r",
      "Exact explainer:  66%|█████████████████████████████████████████▉                      | 101/154 [02:22<01:04,  1.22s/it]"
     ]
    },
    {
     "name": "stdout",
     "output_type": "stream",
     "text": [
      "792/792 [==============================] - 1s 1ms/step\n",
      "28/28 [==============================] - 0s 1ms/step\n"
     ]
    },
    {
     "name": "stderr",
     "output_type": "stream",
     "text": [
      "\r",
      "Exact explainer:  66%|██████████████████████████████████████████▍                     | 102/154 [02:24<01:04,  1.24s/it]"
     ]
    },
    {
     "name": "stdout",
     "output_type": "stream",
     "text": [
      "763/763 [==============================] - 1s 1ms/step\n",
      "28/28 [==============================] - 0s 1ms/step\n"
     ]
    },
    {
     "name": "stderr",
     "output_type": "stream",
     "text": [
      "\r",
      "Exact explainer:  67%|██████████████████████████████████████████▊                     | 103/154 [02:25<01:02,  1.23s/it]"
     ]
    },
    {
     "name": "stdout",
     "output_type": "stream",
     "text": [
      "748/748 [==============================] - 1s 1ms/step\n",
      "27/27 [==============================] - 0s 1ms/step\n"
     ]
    },
    {
     "name": "stderr",
     "output_type": "stream",
     "text": [
      "\r",
      "Exact explainer:  68%|███████████████████████████████████████████▏                    | 104/154 [02:26<01:01,  1.23s/it]"
     ]
    },
    {
     "name": "stdout",
     "output_type": "stream",
     "text": [
      "763/763 [==============================] - 1s 1ms/step\n",
      "28/28 [==============================] - 0s 1ms/step\n"
     ]
    },
    {
     "name": "stderr",
     "output_type": "stream",
     "text": [
      "\r",
      "Exact explainer:  68%|███████████████████████████████████████████▋                    | 105/154 [02:27<01:00,  1.23s/it]"
     ]
    },
    {
     "name": "stdout",
     "output_type": "stream",
     "text": [
      "751/751 [==============================] - 1s 1ms/step\n",
      "27/27 [==============================] - 0s 1ms/step\n"
     ]
    },
    {
     "name": "stderr",
     "output_type": "stream",
     "text": [
      "\r",
      "Exact explainer:  69%|████████████████████████████████████████████                    | 106/154 [02:29<00:58,  1.22s/it]"
     ]
    },
    {
     "name": "stdout",
     "output_type": "stream",
     "text": [
      "783/783 [==============================] - 1s 1ms/step\n",
      "28/28 [==============================] - 0s 1ms/step\n"
     ]
    },
    {
     "name": "stderr",
     "output_type": "stream",
     "text": [
      "\r",
      "Exact explainer:  69%|████████████████████████████████████████████▍                   | 107/154 [02:30<00:58,  1.24s/it]"
     ]
    },
    {
     "name": "stdout",
     "output_type": "stream",
     "text": [
      "778/778 [==============================] - 1s 1ms/step\n",
      "28/28 [==============================] - 0s 1ms/step\n"
     ]
    },
    {
     "name": "stderr",
     "output_type": "stream",
     "text": [
      "\r",
      "Exact explainer:  70%|████████████████████████████████████████████▉                   | 108/154 [02:31<00:57,  1.24s/it]"
     ]
    },
    {
     "name": "stdout",
     "output_type": "stream",
     "text": [
      "790/790 [==============================] - 1s 1ms/step\n",
      "28/28 [==============================] - 0s 1ms/step\n"
     ]
    },
    {
     "name": "stderr",
     "output_type": "stream",
     "text": [
      "\r",
      "Exact explainer:  71%|█████████████████████████████████████████████▎                  | 109/154 [02:32<00:56,  1.26s/it]"
     ]
    },
    {
     "name": "stdout",
     "output_type": "stream",
     "text": [
      "786/786 [==============================] - 1s 1ms/step\n",
      "28/28 [==============================] - 0s 1ms/step\n"
     ]
    },
    {
     "name": "stderr",
     "output_type": "stream",
     "text": [
      "\r",
      "Exact explainer:  71%|█████████████████████████████████████████████▋                  | 110/154 [02:34<00:55,  1.27s/it]"
     ]
    },
    {
     "name": "stdout",
     "output_type": "stream",
     "text": [
      "759/759 [==============================] - 1s 1ms/step\n",
      "28/28 [==============================] - 0s 1ms/step\n"
     ]
    },
    {
     "name": "stderr",
     "output_type": "stream",
     "text": [
      "\r",
      "Exact explainer:  72%|██████████████████████████████████████████████▏                 | 111/154 [02:35<00:54,  1.26s/it]"
     ]
    },
    {
     "name": "stdout",
     "output_type": "stream",
     "text": [
      "755/755 [==============================] - 1s 1ms/step\n",
      "28/28 [==============================] - 0s 1ms/step\n"
     ]
    },
    {
     "name": "stderr",
     "output_type": "stream",
     "text": [
      "\r",
      "Exact explainer:  73%|██████████████████████████████████████████████▌                 | 112/154 [02:36<00:52,  1.26s/it]"
     ]
    },
    {
     "name": "stdout",
     "output_type": "stream",
     "text": [
      "746/746 [==============================] - 1s 1ms/step\n",
      "27/27 [==============================] - 0s 1ms/step\n"
     ]
    },
    {
     "name": "stderr",
     "output_type": "stream",
     "text": [
      "\r",
      "Exact explainer:  73%|██████████████████████████████████████████████▉                 | 113/154 [02:37<00:50,  1.24s/it]"
     ]
    },
    {
     "name": "stdout",
     "output_type": "stream",
     "text": [
      "738/738 [==============================] - 1s 1ms/step\n",
      "27/27 [==============================] - 0s 1ms/step\n"
     ]
    },
    {
     "name": "stderr",
     "output_type": "stream",
     "text": [
      "\r",
      "Exact explainer:  74%|███████████████████████████████████████████████▍                | 114/154 [02:39<00:49,  1.24s/it]"
     ]
    },
    {
     "name": "stdout",
     "output_type": "stream",
     "text": [
      "782/782 [==============================] - 1s 1ms/step\n",
      "28/28 [==============================] - 0s 1ms/step\n"
     ]
    },
    {
     "name": "stderr",
     "output_type": "stream",
     "text": [
      "\r",
      "Exact explainer:  75%|███████████████████████████████████████████████▊                | 115/154 [02:40<00:48,  1.24s/it]"
     ]
    },
    {
     "name": "stdout",
     "output_type": "stream",
     "text": [
      "775/775 [==============================] - 1s 1ms/step\n",
      "28/28 [==============================] - 0s 1ms/step\n"
     ]
    },
    {
     "name": "stderr",
     "output_type": "stream",
     "text": [
      "\r",
      "Exact explainer:  75%|████████████████████████████████████████████████▏               | 116/154 [02:41<00:48,  1.27s/it]"
     ]
    },
    {
     "name": "stdout",
     "output_type": "stream",
     "text": [
      "731/731 [==============================] - 1s 1ms/step\n",
      "28/28 [==============================] - 0s 1ms/step\n"
     ]
    },
    {
     "name": "stderr",
     "output_type": "stream",
     "text": [
      "\r",
      "Exact explainer:  76%|████████████████████████████████████████████████▌               | 117/154 [02:42<00:46,  1.25s/it]"
     ]
    },
    {
     "name": "stdout",
     "output_type": "stream",
     "text": [
      "752/752 [==============================] - 1s 1ms/step\n",
      "28/28 [==============================] - 0s 1ms/step\n"
     ]
    },
    {
     "name": "stderr",
     "output_type": "stream",
     "text": [
      "\r",
      "Exact explainer:  77%|█████████████████████████████████████████████████               | 118/154 [02:44<00:44,  1.24s/it]"
     ]
    },
    {
     "name": "stdout",
     "output_type": "stream",
     "text": [
      "724/724 [==============================] - 1s 1ms/step\n",
      "27/27 [==============================] - 0s 1ms/step\n"
     ]
    },
    {
     "name": "stderr",
     "output_type": "stream",
     "text": [
      "\r",
      "Exact explainer:  77%|█████████████████████████████████████████████████▍              | 119/154 [02:45<00:43,  1.24s/it]"
     ]
    },
    {
     "name": "stdout",
     "output_type": "stream",
     "text": [
      "746/746 [==============================] - 1s 1ms/step\n",
      "27/27 [==============================] - 0s 1ms/step\n"
     ]
    },
    {
     "name": "stderr",
     "output_type": "stream",
     "text": [
      "\r",
      "Exact explainer:  78%|█████████████████████████████████████████████████▊              | 120/154 [02:46<00:41,  1.23s/it]"
     ]
    },
    {
     "name": "stdout",
     "output_type": "stream",
     "text": [
      "727/727 [==============================] - 1s 1ms/step\n",
      "27/27 [==============================] - 0s 1ms/step\n"
     ]
    },
    {
     "name": "stderr",
     "output_type": "stream",
     "text": [
      "\r",
      "Exact explainer:  79%|██████████████████████████████████████████████████▎             | 121/154 [02:47<00:40,  1.22s/it]"
     ]
    },
    {
     "name": "stdout",
     "output_type": "stream",
     "text": [
      "723/723 [==============================] - 1s 1ms/step\n",
      "27/27 [==============================] - 0s 2ms/step\n"
     ]
    },
    {
     "name": "stderr",
     "output_type": "stream",
     "text": [
      "\r",
      "Exact explainer:  79%|██████████████████████████████████████████████████▋             | 122/154 [02:48<00:38,  1.21s/it]"
     ]
    },
    {
     "name": "stdout",
     "output_type": "stream",
     "text": [
      "779/779 [==============================] - 1s 1ms/step\n",
      "28/28 [==============================] - 0s 1ms/step\n"
     ]
    },
    {
     "name": "stderr",
     "output_type": "stream",
     "text": [
      "\r",
      "Exact explainer:  80%|███████████████████████████████████████████████████             | 123/154 [02:50<00:37,  1.22s/it]"
     ]
    },
    {
     "name": "stdout",
     "output_type": "stream",
     "text": [
      "737/737 [==============================] - 1s 1ms/step\n",
      "28/28 [==============================] - 0s 1ms/step\n"
     ]
    },
    {
     "name": "stderr",
     "output_type": "stream",
     "text": [
      "\r",
      "Exact explainer:  81%|███████████████████████████████████████████████████▌            | 124/154 [02:51<00:36,  1.21s/it]"
     ]
    },
    {
     "name": "stdout",
     "output_type": "stream",
     "text": [
      "783/783 [==============================] - 1s 1ms/step\n",
      "28/28 [==============================] - 0s 1ms/step\n"
     ]
    },
    {
     "name": "stderr",
     "output_type": "stream",
     "text": [
      "\r",
      "Exact explainer:  81%|███████████████████████████████████████████████████▉            | 125/154 [02:52<00:35,  1.23s/it]"
     ]
    },
    {
     "name": "stdout",
     "output_type": "stream",
     "text": [
      "746/746 [==============================] - 1s 1ms/step\n",
      "27/27 [==============================] - 0s 1ms/step\n"
     ]
    },
    {
     "name": "stderr",
     "output_type": "stream",
     "text": [
      "\r",
      "Exact explainer:  82%|████████████████████████████████████████████████████▎           | 126/154 [02:53<00:34,  1.23s/it]"
     ]
    },
    {
     "name": "stdout",
     "output_type": "stream",
     "text": [
      "798/798 [==============================] - 1s 1ms/step\n",
      "29/29 [==============================] - 0s 1ms/step\n"
     ]
    },
    {
     "name": "stderr",
     "output_type": "stream",
     "text": [
      "\r",
      "Exact explainer:  82%|████████████████████████████████████████████████████▊           | 127/154 [02:55<00:34,  1.27s/it]"
     ]
    },
    {
     "name": "stdout",
     "output_type": "stream",
     "text": [
      "744/744 [==============================] - 1s 1ms/step\n",
      "27/27 [==============================] - 0s 1ms/step\n"
     ]
    },
    {
     "name": "stderr",
     "output_type": "stream",
     "text": [
      "\r",
      "Exact explainer:  83%|█████████████████████████████████████████████████████▏          | 128/154 [02:56<00:32,  1.25s/it]"
     ]
    },
    {
     "name": "stdout",
     "output_type": "stream",
     "text": [
      "767/767 [==============================] - 1s 1ms/step\n",
      "27/27 [==============================] - 0s 1ms/step\n"
     ]
    },
    {
     "name": "stderr",
     "output_type": "stream",
     "text": [
      "\r",
      "Exact explainer:  84%|█████████████████████████████████████████████████████▌          | 129/154 [02:57<00:31,  1.26s/it]"
     ]
    },
    {
     "name": "stdout",
     "output_type": "stream",
     "text": [
      "741/741 [==============================] - 1s 1ms/step\n",
      "27/27 [==============================] - 0s 1ms/step\n"
     ]
    },
    {
     "name": "stderr",
     "output_type": "stream",
     "text": [
      "\r",
      "Exact explainer:  84%|██████████████████████████████████████████████████████          | 130/154 [02:59<00:30,  1.26s/it]"
     ]
    },
    {
     "name": "stdout",
     "output_type": "stream",
     "text": [
      "767/767 [==============================] - 1s 1ms/step\n",
      "28/28 [==============================] - 0s 2ms/step\n"
     ]
    },
    {
     "name": "stderr",
     "output_type": "stream",
     "text": [
      "\r",
      "Exact explainer:  85%|██████████████████████████████████████████████████████▍         | 131/154 [03:00<00:29,  1.26s/it]"
     ]
    },
    {
     "name": "stdout",
     "output_type": "stream",
     "text": [
      "754/754 [==============================] - 1s 1ms/step\n",
      "27/27 [==============================] - 0s 1ms/step\n"
     ]
    },
    {
     "name": "stderr",
     "output_type": "stream",
     "text": [
      "\r",
      "Exact explainer:  86%|██████████████████████████████████████████████████████▊         | 132/154 [03:01<00:27,  1.25s/it]"
     ]
    },
    {
     "name": "stdout",
     "output_type": "stream",
     "text": [
      "763/763 [==============================] - 1s 1ms/step\n",
      "28/28 [==============================] - 0s 1ms/step\n"
     ]
    },
    {
     "name": "stderr",
     "output_type": "stream",
     "text": [
      "\r",
      "Exact explainer:  86%|███████████████████████████████████████████████████████▎        | 133/154 [03:02<00:26,  1.25s/it]"
     ]
    },
    {
     "name": "stdout",
     "output_type": "stream",
     "text": [
      "760/760 [==============================] - 1s 1ms/step\n",
      "28/28 [==============================] - 0s 1ms/step\n"
     ]
    },
    {
     "name": "stderr",
     "output_type": "stream",
     "text": [
      "\r",
      "Exact explainer:  87%|███████████████████████████████████████████████████████▋        | 134/154 [03:04<00:25,  1.27s/it]"
     ]
    },
    {
     "name": "stdout",
     "output_type": "stream",
     "text": [
      "784/784 [==============================] - 1s 1ms/step\n",
      "28/28 [==============================] - 0s 1ms/step\n"
     ]
    },
    {
     "name": "stderr",
     "output_type": "stream",
     "text": [
      "\r",
      "Exact explainer:  88%|████████████████████████████████████████████████████████        | 135/154 [03:05<00:24,  1.28s/it]"
     ]
    },
    {
     "name": "stdout",
     "output_type": "stream",
     "text": [
      "782/782 [==============================] - 1s 1ms/step\n",
      "28/28 [==============================] - 0s 1ms/step\n"
     ]
    },
    {
     "name": "stderr",
     "output_type": "stream",
     "text": [
      "\r",
      "Exact explainer:  88%|████████████████████████████████████████████████████████▌       | 136/154 [03:06<00:23,  1.28s/it]"
     ]
    },
    {
     "name": "stdout",
     "output_type": "stream",
     "text": [
      "754/754 [==============================] - 1s 1ms/step\n",
      "27/27 [==============================] - 0s 1ms/step\n"
     ]
    },
    {
     "name": "stderr",
     "output_type": "stream",
     "text": [
      "\r",
      "Exact explainer:  89%|████████████████████████████████████████████████████████▉       | 137/154 [03:07<00:21,  1.26s/it]"
     ]
    },
    {
     "name": "stdout",
     "output_type": "stream",
     "text": [
      "745/745 [==============================] - 1s 1ms/step\n",
      "27/27 [==============================] - 0s 1ms/step\n"
     ]
    },
    {
     "name": "stderr",
     "output_type": "stream",
     "text": [
      "\r",
      "Exact explainer:  90%|█████████████████████████████████████████████████████████▎      | 138/154 [03:09<00:20,  1.26s/it]"
     ]
    },
    {
     "name": "stdout",
     "output_type": "stream",
     "text": [
      "763/763 [==============================] - 1s 1ms/step\n",
      "27/27 [==============================] - 0s 1ms/step\n"
     ]
    },
    {
     "name": "stderr",
     "output_type": "stream",
     "text": [
      "\r",
      "Exact explainer:  90%|█████████████████████████████████████████████████████████▊      | 139/154 [03:10<00:18,  1.26s/it]"
     ]
    },
    {
     "name": "stdout",
     "output_type": "stream",
     "text": [
      "786/786 [==============================] - 1s 1ms/step\n",
      "28/28 [==============================] - 0s 1ms/step\n"
     ]
    },
    {
     "name": "stderr",
     "output_type": "stream",
     "text": [
      "\r",
      "Exact explainer:  91%|██████████████████████████████████████████████████████████▏     | 140/154 [03:11<00:17,  1.27s/it]"
     ]
    },
    {
     "name": "stdout",
     "output_type": "stream",
     "text": [
      "780/780 [==============================] - 1s 1ms/step\n",
      "28/28 [==============================] - 0s 1ms/step\n"
     ]
    },
    {
     "name": "stderr",
     "output_type": "stream",
     "text": [
      "\r",
      "Exact explainer:  92%|██████████████████████████████████████████████████████████▌     | 141/154 [03:12<00:16,  1.26s/it]"
     ]
    },
    {
     "name": "stdout",
     "output_type": "stream",
     "text": [
      "743/743 [==============================] - 1s 1ms/step\n",
      "27/27 [==============================] - 0s 2ms/step\n"
     ]
    },
    {
     "name": "stderr",
     "output_type": "stream",
     "text": [
      "\r",
      "Exact explainer:  92%|███████████████████████████████████████████████████████████     | 142/154 [03:14<00:14,  1.24s/it]"
     ]
    },
    {
     "name": "stdout",
     "output_type": "stream",
     "text": [
      "739/739 [==============================] - 1s 1ms/step\n",
      "27/27 [==============================] - 0s 1ms/step\n"
     ]
    },
    {
     "name": "stderr",
     "output_type": "stream",
     "text": [
      "\r",
      "Exact explainer:  93%|███████████████████████████████████████████████████████████▍    | 143/154 [03:15<00:13,  1.23s/it]"
     ]
    },
    {
     "name": "stdout",
     "output_type": "stream",
     "text": [
      "724/724 [==============================] - 1s 1ms/step\n",
      "26/26 [==============================] - 0s 1ms/step\n"
     ]
    },
    {
     "name": "stderr",
     "output_type": "stream",
     "text": [
      "\r",
      "Exact explainer:  94%|███████████████████████████████████████████████████████████▊    | 144/154 [03:16<00:12,  1.21s/it]"
     ]
    },
    {
     "name": "stdout",
     "output_type": "stream",
     "text": [
      "760/760 [==============================] - 1s 1ms/step\n",
      "28/28 [==============================] - 0s 1ms/step\n"
     ]
    },
    {
     "name": "stderr",
     "output_type": "stream",
     "text": [
      "\r",
      "Exact explainer:  94%|████████████████████████████████████████████████████████████▎   | 145/154 [03:17<00:10,  1.22s/it]"
     ]
    },
    {
     "name": "stdout",
     "output_type": "stream",
     "text": [
      "745/745 [==============================] - 1s 1ms/step\n",
      "27/27 [==============================] - 0s 1ms/step\n"
     ]
    },
    {
     "name": "stderr",
     "output_type": "stream",
     "text": [
      "\r",
      "Exact explainer:  95%|████████████████████████████████████████████████████████████▋   | 146/154 [03:18<00:09,  1.21s/it]"
     ]
    },
    {
     "name": "stdout",
     "output_type": "stream",
     "text": [
      "767/767 [==============================] - 1s 1ms/step\n",
      "28/28 [==============================] - 0s 1ms/step\n"
     ]
    },
    {
     "name": "stderr",
     "output_type": "stream",
     "text": [
      "\r",
      "Exact explainer:  95%|█████████████████████████████████████████████████████████████   | 147/154 [03:20<00:08,  1.21s/it]"
     ]
    },
    {
     "name": "stdout",
     "output_type": "stream",
     "text": [
      "761/761 [==============================] - 1s 1ms/step\n",
      "28/28 [==============================] - 0s 1ms/step\n"
     ]
    },
    {
     "name": "stderr",
     "output_type": "stream",
     "text": [
      "\r",
      "Exact explainer:  96%|█████████████████████████████████████████████████████████████▌  | 148/154 [03:21<00:07,  1.21s/it]"
     ]
    },
    {
     "name": "stdout",
     "output_type": "stream",
     "text": [
      "729/729 [==============================] - 1s 1ms/step\n",
      "28/28 [==============================] - 0s 1ms/step\n"
     ]
    },
    {
     "name": "stderr",
     "output_type": "stream",
     "text": [
      "\r",
      "Exact explainer:  97%|█████████████████████████████████████████████████████████████▉  | 149/154 [03:22<00:06,  1.21s/it]"
     ]
    },
    {
     "name": "stdout",
     "output_type": "stream",
     "text": [
      "734/734 [==============================] - 1s 1ms/step\n",
      "28/28 [==============================] - 0s 1ms/step\n"
     ]
    },
    {
     "name": "stderr",
     "output_type": "stream",
     "text": [
      "\r",
      "Exact explainer:  97%|██████████████████████████████████████████████████████████████▎ | 150/154 [03:23<00:04,  1.24s/it]"
     ]
    },
    {
     "name": "stdout",
     "output_type": "stream",
     "text": [
      "755/755 [==============================] - 1s 1ms/step\n",
      "27/27 [==============================] - 0s 1ms/step\n"
     ]
    },
    {
     "name": "stderr",
     "output_type": "stream",
     "text": [
      "\r",
      "Exact explainer:  98%|██████████████████████████████████████████████████████████████▊ | 151/154 [03:25<00:03,  1.23s/it]"
     ]
    },
    {
     "name": "stdout",
     "output_type": "stream",
     "text": [
      "775/775 [==============================] - 1s 1ms/step\n",
      "28/28 [==============================] - 0s 1ms/step\n"
     ]
    },
    {
     "name": "stderr",
     "output_type": "stream",
     "text": [
      "\r",
      "Exact explainer:  99%|███████████████████████████████████████████████████████████████▏| 152/154 [03:26<00:02,  1.24s/it]"
     ]
    },
    {
     "name": "stdout",
     "output_type": "stream",
     "text": [
      "755/755 [==============================] - 1s 1ms/step\n",
      "27/27 [==============================] - 0s 1ms/step\n"
     ]
    },
    {
     "name": "stderr",
     "output_type": "stream",
     "text": [
      "\r",
      "Exact explainer:  99%|███████████████████████████████████████████████████████████████▌| 153/154 [03:27<00:01,  1.23s/it]"
     ]
    },
    {
     "name": "stdout",
     "output_type": "stream",
     "text": [
      "767/767 [==============================] - 1s 1ms/step\n",
      "28/28 [==============================] - 0s 1ms/step\n"
     ]
    },
    {
     "name": "stderr",
     "output_type": "stream",
     "text": [
      "\r",
      "Exact explainer: 100%|████████████████████████████████████████████████████████████████| 154/154 [03:28<00:00,  1.24s/it]"
     ]
    },
    {
     "name": "stdout",
     "output_type": "stream",
     "text": [
      "793/793 [==============================] - 1s 1ms/step\n",
      "28/28 [==============================] - 0s 1ms/step\n"
     ]
    },
    {
     "name": "stderr",
     "output_type": "stream",
     "text": [
      "Exact explainer: 155it [03:30,  1.38s/it]                                                                               "
     ]
    },
    {
     "name": "stdout",
     "output_type": "stream",
     "text": [
      "-> m2\n",
      " 74/780 [=>............................] - ETA: 0s"
     ]
    },
    {
     "name": "stderr",
     "output_type": "stream",
     "text": [
      "\n"
     ]
    },
    {
     "name": "stdout",
     "output_type": "stream",
     "text": [
      "780/780 [==============================] - 1s 1ms/step\n",
      "730/730 [==============================] - 1s 1ms/step\n",
      "28/28 [==============================] - 0s 1ms/step\n",
      "725/725 [==============================] - 1s 1ms/step\n",
      "27/27 [==============================] - 0s 1ms/step\n",
      "763/763 [==============================] - 1s 1ms/step\n",
      "27/27 [==============================] - 0s 1ms/step\n",
      "759/759 [==============================] - 1s 1ms/step\n",
      "27/27 [==============================] - 0s 1ms/step\n",
      "795/795 [==============================] - 1s 1ms/step\n",
      "29/29 [==============================] - 0s 1ms/step\n",
      "779/779 [==============================] - 1s 1ms/step\n",
      "28/28 [==============================] - 0s 1ms/step\n",
      "762/762 [==============================] - 1s 1ms/step\n",
      "27/27 [==============================] - 0s 2ms/step\n"
     ]
    },
    {
     "name": "stderr",
     "output_type": "stream",
     "text": [
      "\r",
      "Exact explainer:   5%|███▊                                                                      | 8/154 [00:00<?, ?it/s]"
     ]
    },
    {
     "name": "stdout",
     "output_type": "stream",
     "text": [
      "794/794 [==============================] - 1s 1ms/step\n",
      "28/28 [==============================] - 0s 1ms/step\n"
     ]
    },
    {
     "name": "stderr",
     "output_type": "stream",
     "text": [
      "\r",
      "Exact explainer:   6%|████▏                                                            | 10/154 [00:11<01:31,  1.58it/s]"
     ]
    },
    {
     "name": "stdout",
     "output_type": "stream",
     "text": [
      "739/739 [==============================] - 1s 1ms/step\n",
      "26/26 [==============================] - 0s 1ms/step\n"
     ]
    },
    {
     "name": "stderr",
     "output_type": "stream",
     "text": [
      "\r",
      "Exact explainer:   7%|████▋                                                            | 11/154 [00:12<02:03,  1.16it/s]"
     ]
    },
    {
     "name": "stdout",
     "output_type": "stream",
     "text": [
      "758/758 [==============================] - 1s 1ms/step\n",
      "29/29 [==============================] - 0s 1ms/step\n"
     ]
    },
    {
     "name": "stderr",
     "output_type": "stream",
     "text": [
      "\r",
      "Exact explainer:   8%|█████                                                            | 12/154 [00:13<02:22,  1.01s/it]"
     ]
    },
    {
     "name": "stdout",
     "output_type": "stream",
     "text": [
      "755/755 [==============================] - 1s 1ms/step\n",
      "28/28 [==============================] - 0s 1ms/step\n"
     ]
    },
    {
     "name": "stderr",
     "output_type": "stream",
     "text": [
      "\r",
      "Exact explainer:   8%|█████▍                                                           | 13/154 [00:15<02:33,  1.09s/it]"
     ]
    },
    {
     "name": "stdout",
     "output_type": "stream",
     "text": [
      "767/767 [==============================] - 1s 1ms/step\n",
      "28/28 [==============================] - 0s 1ms/step\n"
     ]
    },
    {
     "name": "stderr",
     "output_type": "stream",
     "text": [
      "\r",
      "Exact explainer:   9%|█████▉                                                           | 14/154 [00:16<02:39,  1.14s/it]"
     ]
    },
    {
     "name": "stdout",
     "output_type": "stream",
     "text": [
      "786/786 [==============================] - 1s 1ms/step\n",
      "28/28 [==============================] - 0s 1ms/step\n"
     ]
    },
    {
     "name": "stderr",
     "output_type": "stream",
     "text": [
      "\r",
      "Exact explainer:  10%|██████▎                                                          | 15/154 [00:17<02:44,  1.19s/it]"
     ]
    },
    {
     "name": "stdout",
     "output_type": "stream",
     "text": [
      "783/783 [==============================] - 1s 1ms/step\n",
      "28/28 [==============================] - 0s 2ms/step\n"
     ]
    },
    {
     "name": "stderr",
     "output_type": "stream",
     "text": [
      "\r",
      "Exact explainer:  10%|██████▊                                                          | 16/154 [00:18<02:47,  1.21s/it]"
     ]
    },
    {
     "name": "stdout",
     "output_type": "stream",
     "text": [
      "783/783 [==============================] - 1s 1ms/step\n",
      "28/28 [==============================] - 0s 1ms/step\n"
     ]
    },
    {
     "name": "stderr",
     "output_type": "stream",
     "text": [
      "\r",
      "Exact explainer:  11%|███████▏                                                         | 17/154 [00:20<02:48,  1.23s/it]"
     ]
    },
    {
     "name": "stdout",
     "output_type": "stream",
     "text": [
      "758/758 [==============================] - 1s 1ms/step\n",
      "28/28 [==============================] - 0s 1ms/step\n"
     ]
    },
    {
     "name": "stderr",
     "output_type": "stream",
     "text": [
      "\r",
      "Exact explainer:  12%|███████▌                                                         | 18/154 [00:21<02:47,  1.23s/it]"
     ]
    },
    {
     "name": "stdout",
     "output_type": "stream",
     "text": [
      "774/774 [==============================] - 1s 1ms/step\n",
      "28/28 [==============================] - 0s 1ms/step\n"
     ]
    },
    {
     "name": "stderr",
     "output_type": "stream",
     "text": [
      "\r",
      "Exact explainer:  12%|████████                                                         | 19/154 [00:22<02:46,  1.23s/it]"
     ]
    },
    {
     "name": "stdout",
     "output_type": "stream",
     "text": [
      "758/758 [==============================] - 1s 1ms/step\n",
      "27/27 [==============================] - 0s 1ms/step\n"
     ]
    },
    {
     "name": "stderr",
     "output_type": "stream",
     "text": [
      "\r",
      "Exact explainer:  13%|████████▍                                                        | 20/154 [00:23<02:45,  1.23s/it]"
     ]
    },
    {
     "name": "stdout",
     "output_type": "stream",
     "text": [
      "779/779 [==============================] - 1s 1ms/step\n",
      "28/28 [==============================] - 0s 1ms/step\n"
     ]
    },
    {
     "name": "stderr",
     "output_type": "stream",
     "text": [
      "\r",
      "Exact explainer:  14%|████████▊                                                        | 21/154 [00:25<02:45,  1.25s/it]"
     ]
    },
    {
     "name": "stdout",
     "output_type": "stream",
     "text": [
      "762/762 [==============================] - 1s 1ms/step\n",
      "27/27 [==============================] - 0s 1ms/step\n"
     ]
    },
    {
     "name": "stderr",
     "output_type": "stream",
     "text": [
      "\r",
      "Exact explainer:  14%|█████████▎                                                       | 22/154 [00:26<02:45,  1.25s/it]"
     ]
    },
    {
     "name": "stdout",
     "output_type": "stream",
     "text": [
      "761/761 [==============================] - 1s 1ms/step\n",
      "28/28 [==============================] - 0s 2ms/step\n"
     ]
    },
    {
     "name": "stderr",
     "output_type": "stream",
     "text": [
      "\r",
      "Exact explainer:  15%|█████████▋                                                       | 23/154 [00:27<02:43,  1.25s/it]"
     ]
    },
    {
     "name": "stdout",
     "output_type": "stream",
     "text": [
      "771/771 [==============================] - 1s 1ms/step\n",
      "29/29 [==============================] - 0s 1ms/step\n"
     ]
    },
    {
     "name": "stderr",
     "output_type": "stream",
     "text": [
      "\r",
      "Exact explainer:  16%|██████████▏                                                      | 24/154 [00:28<02:42,  1.25s/it]"
     ]
    },
    {
     "name": "stdout",
     "output_type": "stream",
     "text": [
      "759/759 [==============================] - 1s 1ms/step\n",
      "28/28 [==============================] - 0s 1ms/step\n"
     ]
    },
    {
     "name": "stderr",
     "output_type": "stream",
     "text": [
      "\r",
      "Exact explainer:  16%|██████████▌                                                      | 25/154 [00:30<02:41,  1.25s/it]"
     ]
    },
    {
     "name": "stdout",
     "output_type": "stream",
     "text": [
      "794/794 [==============================] - 1s 1ms/step\n",
      "28/28 [==============================] - 0s 1ms/step\n"
     ]
    },
    {
     "name": "stderr",
     "output_type": "stream",
     "text": [
      "\r",
      "Exact explainer:  17%|██████████▉                                                      | 26/154 [00:31<02:40,  1.26s/it]"
     ]
    },
    {
     "name": "stdout",
     "output_type": "stream",
     "text": [
      "755/755 [==============================] - 1s 1ms/step\n",
      "28/28 [==============================] - 0s 1ms/step\n"
     ]
    },
    {
     "name": "stderr",
     "output_type": "stream",
     "text": [
      "\r",
      "Exact explainer:  18%|███████████▍                                                     | 27/154 [00:32<02:37,  1.24s/it]"
     ]
    },
    {
     "name": "stdout",
     "output_type": "stream",
     "text": [
      "756/756 [==============================] - 1s 1ms/step\n",
      "28/28 [==============================] - 0s 1ms/step\n"
     ]
    },
    {
     "name": "stderr",
     "output_type": "stream",
     "text": [
      "\r",
      "Exact explainer:  18%|███████████▊                                                     | 28/154 [00:33<02:37,  1.25s/it]"
     ]
    },
    {
     "name": "stdout",
     "output_type": "stream",
     "text": [
      "788/788 [==============================] - 1s 1ms/step\n",
      "28/28 [==============================] - 0s 1ms/step\n"
     ]
    },
    {
     "name": "stderr",
     "output_type": "stream",
     "text": [
      "\r",
      "Exact explainer:  19%|████████████▏                                                    | 29/154 [00:35<02:37,  1.26s/it]"
     ]
    },
    {
     "name": "stdout",
     "output_type": "stream",
     "text": [
      "776/776 [==============================] - 1s 1ms/step\n",
      "28/28 [==============================] - 0s 1ms/step\n"
     ]
    },
    {
     "name": "stderr",
     "output_type": "stream",
     "text": [
      "\r",
      "Exact explainer:  19%|████████████▋                                                    | 30/154 [00:36<02:37,  1.27s/it]"
     ]
    },
    {
     "name": "stdout",
     "output_type": "stream",
     "text": [
      "767/767 [==============================] - 1s 1ms/step\n",
      "28/28 [==============================] - 0s 1ms/step\n"
     ]
    },
    {
     "name": "stderr",
     "output_type": "stream",
     "text": [
      "\r",
      "Exact explainer:  20%|█████████████                                                    | 31/154 [00:37<02:36,  1.27s/it]"
     ]
    },
    {
     "name": "stdout",
     "output_type": "stream",
     "text": [
      "783/783 [==============================] - 1s 1ms/step\n",
      "28/28 [==============================] - 0s 1ms/step\n"
     ]
    },
    {
     "name": "stderr",
     "output_type": "stream",
     "text": [
      "\r",
      "Exact explainer:  21%|█████████████▌                                                   | 32/154 [00:39<02:37,  1.29s/it]"
     ]
    },
    {
     "name": "stdout",
     "output_type": "stream",
     "text": [
      "744/744 [==============================] - 1s 1ms/step\n",
      "27/27 [==============================] - 0s 1ms/step\n"
     ]
    },
    {
     "name": "stderr",
     "output_type": "stream",
     "text": [
      "\r",
      "Exact explainer:  21%|█████████████▉                                                   | 33/154 [00:40<02:33,  1.27s/it]"
     ]
    },
    {
     "name": "stdout",
     "output_type": "stream",
     "text": [
      "782/782 [==============================] - 1s 1ms/step\n",
      "28/28 [==============================] - 0s 2ms/step\n"
     ]
    },
    {
     "name": "stderr",
     "output_type": "stream",
     "text": [
      "\r",
      "Exact explainer:  22%|██████████████▎                                                  | 34/154 [00:41<02:32,  1.27s/it]"
     ]
    },
    {
     "name": "stdout",
     "output_type": "stream",
     "text": [
      "746/746 [==============================] - 1s 1ms/step\n",
      "27/27 [==============================] - 0s 1ms/step\n"
     ]
    },
    {
     "name": "stderr",
     "output_type": "stream",
     "text": [
      "\r",
      "Exact explainer:  23%|██████████████▊                                                  | 35/154 [00:42<02:29,  1.26s/it]"
     ]
    },
    {
     "name": "stdout",
     "output_type": "stream",
     "text": [
      "751/751 [==============================] - 1s 1ms/step\n",
      "27/27 [==============================] - 0s 1ms/step\n"
     ]
    },
    {
     "name": "stderr",
     "output_type": "stream",
     "text": [
      "\r",
      "Exact explainer:  23%|███████████████▏                                                 | 36/154 [00:44<02:27,  1.25s/it]"
     ]
    },
    {
     "name": "stdout",
     "output_type": "stream",
     "text": [
      "781/781 [==============================] - 1s 1ms/step\n",
      "28/28 [==============================] - 0s 1ms/step\n"
     ]
    },
    {
     "name": "stderr",
     "output_type": "stream",
     "text": [
      "\r",
      "Exact explainer:  24%|███████████████▌                                                 | 37/154 [00:45<02:28,  1.27s/it]"
     ]
    },
    {
     "name": "stdout",
     "output_type": "stream",
     "text": [
      "751/751 [==============================] - 1s 1ms/step\n",
      "28/28 [==============================] - 0s 1ms/step\n"
     ]
    },
    {
     "name": "stderr",
     "output_type": "stream",
     "text": [
      "\r",
      "Exact explainer:  25%|████████████████                                                 | 38/154 [00:46<02:26,  1.26s/it]"
     ]
    },
    {
     "name": "stdout",
     "output_type": "stream",
     "text": [
      "743/743 [==============================] - 1s 1ms/step\n",
      "28/28 [==============================] - 0s 1ms/step\n"
     ]
    },
    {
     "name": "stderr",
     "output_type": "stream",
     "text": [
      "\r",
      "Exact explainer:  25%|████████████████▍                                                | 39/154 [00:47<02:23,  1.25s/it]"
     ]
    },
    {
     "name": "stdout",
     "output_type": "stream",
     "text": [
      "755/755 [==============================] - 1s 1ms/step\n",
      "28/28 [==============================] - 0s 1ms/step\n"
     ]
    },
    {
     "name": "stderr",
     "output_type": "stream",
     "text": [
      "\r",
      "Exact explainer:  26%|████████████████▉                                                | 40/154 [00:49<02:21,  1.24s/it]"
     ]
    },
    {
     "name": "stdout",
     "output_type": "stream",
     "text": [
      "751/751 [==============================] - 1s 1ms/step\n",
      "27/27 [==============================] - 0s 1ms/step\n"
     ]
    },
    {
     "name": "stderr",
     "output_type": "stream",
     "text": [
      "\r",
      "Exact explainer:  27%|█████████████████▎                                               | 41/154 [00:50<02:20,  1.24s/it]"
     ]
    },
    {
     "name": "stdout",
     "output_type": "stream",
     "text": [
      "787/787 [==============================] - 1s 1ms/step\n",
      "28/28 [==============================] - 0s 1ms/step\n"
     ]
    },
    {
     "name": "stderr",
     "output_type": "stream",
     "text": [
      "\r",
      "Exact explainer:  27%|█████████████████▋                                               | 42/154 [00:51<02:19,  1.25s/it]"
     ]
    },
    {
     "name": "stdout",
     "output_type": "stream",
     "text": [
      "750/750 [==============================] - 1s 1ms/step\n",
      "27/27 [==============================] - 0s 1ms/step\n"
     ]
    },
    {
     "name": "stderr",
     "output_type": "stream",
     "text": [
      "\r",
      "Exact explainer:  28%|██████████████████▏                                              | 43/154 [00:53<02:26,  1.32s/it]"
     ]
    },
    {
     "name": "stdout",
     "output_type": "stream",
     "text": [
      "752/752 [==============================] - 1s 1ms/step\n",
      "28/28 [==============================] - 0s 1ms/step\n"
     ]
    },
    {
     "name": "stderr",
     "output_type": "stream",
     "text": [
      "\r",
      "Exact explainer:  29%|██████████████████▌                                              | 44/154 [00:54<02:21,  1.29s/it]"
     ]
    },
    {
     "name": "stdout",
     "output_type": "stream",
     "text": [
      "731/731 [==============================] - 1s 1ms/step\n",
      "27/27 [==============================] - 0s 1ms/step\n"
     ]
    },
    {
     "name": "stderr",
     "output_type": "stream",
     "text": [
      "\r",
      "Exact explainer:  29%|██████████████████▉                                              | 45/154 [00:55<02:17,  1.26s/it]"
     ]
    },
    {
     "name": "stdout",
     "output_type": "stream",
     "text": [
      "750/750 [==============================] - 1s 1ms/step\n",
      "27/27 [==============================] - 0s 1ms/step\n"
     ]
    },
    {
     "name": "stderr",
     "output_type": "stream",
     "text": [
      "\r",
      "Exact explainer:  30%|███████████████████▍                                             | 46/154 [00:56<02:15,  1.25s/it]"
     ]
    },
    {
     "name": "stdout",
     "output_type": "stream",
     "text": [
      "787/787 [==============================] - 1s 1ms/step\n",
      "28/28 [==============================] - 0s 1ms/step\n"
     ]
    },
    {
     "name": "stderr",
     "output_type": "stream",
     "text": [
      "\r",
      "Exact explainer:  31%|███████████████████▊                                             | 47/154 [00:58<02:14,  1.26s/it]"
     ]
    },
    {
     "name": "stdout",
     "output_type": "stream",
     "text": [
      "799/799 [==============================] - 1s 1ms/step\n",
      "28/28 [==============================] - 0s 1ms/step\n"
     ]
    },
    {
     "name": "stderr",
     "output_type": "stream",
     "text": [
      "\r",
      "Exact explainer:  31%|████████████████████▎                                            | 48/154 [00:59<02:14,  1.26s/it]"
     ]
    },
    {
     "name": "stdout",
     "output_type": "stream",
     "text": [
      "747/747 [==============================] - 1s 1ms/step\n",
      "28/28 [==============================] - 0s 1ms/step\n"
     ]
    },
    {
     "name": "stderr",
     "output_type": "stream",
     "text": [
      "\r",
      "Exact explainer:  32%|████████████████████▋                                            | 49/154 [01:00<02:11,  1.25s/it]"
     ]
    },
    {
     "name": "stdout",
     "output_type": "stream",
     "text": [
      "739/739 [==============================] - 1s 1ms/step\n",
      "27/27 [==============================] - 0s 1ms/step\n"
     ]
    },
    {
     "name": "stderr",
     "output_type": "stream",
     "text": [
      "\r",
      "Exact explainer:  32%|█████████████████████                                            | 50/154 [01:01<02:16,  1.31s/it]"
     ]
    },
    {
     "name": "stdout",
     "output_type": "stream",
     "text": [
      "777/777 [==============================] - 1s 1ms/step\n",
      "28/28 [==============================] - 0s 2ms/step\n"
     ]
    },
    {
     "name": "stderr",
     "output_type": "stream",
     "text": [
      "\r",
      "Exact explainer:  33%|█████████████████████▌                                           | 51/154 [01:03<02:13,  1.30s/it]"
     ]
    },
    {
     "name": "stdout",
     "output_type": "stream",
     "text": [
      "732/732 [==============================] - 1s 1ms/step\n",
      "28/28 [==============================] - 0s 1ms/step\n"
     ]
    },
    {
     "name": "stderr",
     "output_type": "stream",
     "text": [
      "\r",
      "Exact explainer:  34%|█████████████████████▉                                           | 52/154 [01:04<02:09,  1.27s/it]"
     ]
    },
    {
     "name": "stdout",
     "output_type": "stream",
     "text": [
      "799/799 [==============================] - 1s 1ms/step\n",
      "29/29 [==============================] - 0s 1ms/step\n"
     ]
    },
    {
     "name": "stderr",
     "output_type": "stream",
     "text": [
      "\r",
      "Exact explainer:  34%|██████████████████████▎                                          | 53/154 [01:05<02:08,  1.27s/it]"
     ]
    },
    {
     "name": "stdout",
     "output_type": "stream",
     "text": [
      "780/780 [==============================] - 1s 1ms/step\n",
      "28/28 [==============================] - 0s 2ms/step\n"
     ]
    },
    {
     "name": "stderr",
     "output_type": "stream",
     "text": [
      "\r",
      "Exact explainer:  35%|██████████████████████▊                                          | 54/154 [01:07<02:07,  1.28s/it]"
     ]
    },
    {
     "name": "stdout",
     "output_type": "stream",
     "text": [
      "735/735 [==============================] - 1s 1ms/step\n",
      "26/26 [==============================] - 0s 1ms/step\n"
     ]
    },
    {
     "name": "stderr",
     "output_type": "stream",
     "text": [
      "\r",
      "Exact explainer:  36%|███████████████████████▏                                         | 55/154 [01:08<02:03,  1.25s/it]"
     ]
    },
    {
     "name": "stdout",
     "output_type": "stream",
     "text": [
      "764/764 [==============================] - 1s 1ms/step\n",
      "28/28 [==============================] - 0s 2ms/step\n"
     ]
    },
    {
     "name": "stderr",
     "output_type": "stream",
     "text": [
      "\r",
      "Exact explainer:  36%|███████████████████████▋                                         | 56/154 [01:09<02:02,  1.25s/it]"
     ]
    },
    {
     "name": "stdout",
     "output_type": "stream",
     "text": [
      "776/776 [==============================] - 1s 1ms/step\n",
      "28/28 [==============================] - 0s 1ms/step\n"
     ]
    },
    {
     "name": "stderr",
     "output_type": "stream",
     "text": [
      "\r",
      "Exact explainer:  37%|████████████████████████                                         | 57/154 [01:10<02:01,  1.25s/it]"
     ]
    },
    {
     "name": "stdout",
     "output_type": "stream",
     "text": [
      "762/762 [==============================] - 1s 1ms/step\n",
      "27/27 [==============================] - 0s 1ms/step\n"
     ]
    },
    {
     "name": "stderr",
     "output_type": "stream",
     "text": [
      "\r",
      "Exact explainer:  38%|████████████████████████▍                                        | 58/154 [01:11<01:59,  1.25s/it]"
     ]
    },
    {
     "name": "stdout",
     "output_type": "stream",
     "text": [
      "742/742 [==============================] - 1s 1ms/step\n",
      "27/27 [==============================] - 0s 1ms/step\n"
     ]
    },
    {
     "name": "stderr",
     "output_type": "stream",
     "text": [
      "\r",
      "Exact explainer:  38%|████████████████████████▉                                        | 59/154 [01:13<01:57,  1.24s/it]"
     ]
    },
    {
     "name": "stdout",
     "output_type": "stream",
     "text": [
      "774/774 [==============================] - 1s 1ms/step\n",
      "28/28 [==============================] - 0s 1ms/step\n"
     ]
    },
    {
     "name": "stderr",
     "output_type": "stream",
     "text": [
      "\r",
      "Exact explainer:  39%|█████████████████████████▎                                       | 60/154 [01:14<01:57,  1.24s/it]"
     ]
    },
    {
     "name": "stdout",
     "output_type": "stream",
     "text": [
      "748/748 [==============================] - 1s 1ms/step\n",
      "27/27 [==============================] - 0s 1ms/step\n"
     ]
    },
    {
     "name": "stderr",
     "output_type": "stream",
     "text": [
      "\r",
      "Exact explainer:  40%|█████████████████████████▋                                       | 61/154 [01:15<01:55,  1.24s/it]"
     ]
    },
    {
     "name": "stdout",
     "output_type": "stream",
     "text": [
      "769/769 [==============================] - 1s 1ms/step\n",
      "28/28 [==============================] - 0s 1ms/step\n"
     ]
    },
    {
     "name": "stderr",
     "output_type": "stream",
     "text": [
      "\r",
      "Exact explainer:  40%|██████████████████████████▏                                      | 62/154 [01:16<01:54,  1.25s/it]"
     ]
    },
    {
     "name": "stdout",
     "output_type": "stream",
     "text": [
      "756/756 [==============================] - 1s 1ms/step\n",
      "28/28 [==============================] - 0s 1ms/step\n"
     ]
    },
    {
     "name": "stderr",
     "output_type": "stream",
     "text": [
      "\r",
      "Exact explainer:  41%|██████████████████████████▌                                      | 63/154 [01:18<01:58,  1.31s/it]"
     ]
    },
    {
     "name": "stdout",
     "output_type": "stream",
     "text": [
      "786/786 [==============================] - 1s 1ms/step\n",
      "29/29 [==============================] - 0s 1ms/step\n"
     ]
    },
    {
     "name": "stderr",
     "output_type": "stream",
     "text": [
      "\r",
      "Exact explainer:  42%|███████████████████████████                                      | 64/154 [01:19<01:57,  1.31s/it]"
     ]
    },
    {
     "name": "stdout",
     "output_type": "stream",
     "text": [
      "800/800 [==============================] - 1s 1ms/step\n",
      "29/29 [==============================] - 0s 1ms/step\n"
     ]
    },
    {
     "name": "stderr",
     "output_type": "stream",
     "text": [
      "\r",
      "Exact explainer:  42%|███████████████████████████▍                                     | 65/154 [01:21<02:07,  1.43s/it]"
     ]
    },
    {
     "name": "stdout",
     "output_type": "stream",
     "text": [
      "778/778 [==============================] - 1s 1ms/step\n",
      "28/28 [==============================] - 0s 1ms/step\n"
     ]
    },
    {
     "name": "stderr",
     "output_type": "stream",
     "text": [
      "\r",
      "Exact explainer:  43%|███████████████████████████▊                                     | 66/154 [01:22<02:08,  1.46s/it]"
     ]
    },
    {
     "name": "stdout",
     "output_type": "stream",
     "text": [
      "748/748 [==============================] - 1s 1ms/step\n",
      "28/28 [==============================] - 0s 1ms/step\n"
     ]
    },
    {
     "name": "stderr",
     "output_type": "stream",
     "text": [
      "\r",
      "Exact explainer:  44%|████████████████████████████▎                                    | 67/154 [01:24<02:04,  1.43s/it]"
     ]
    },
    {
     "name": "stdout",
     "output_type": "stream",
     "text": [
      "754/754 [==============================] - 1s 2ms/step\n",
      "28/28 [==============================] - 0s 2ms/step\n"
     ]
    },
    {
     "name": "stderr",
     "output_type": "stream",
     "text": [
      "\r",
      "Exact explainer:  44%|████████████████████████████▋                                    | 68/154 [01:25<02:07,  1.48s/it]"
     ]
    },
    {
     "name": "stdout",
     "output_type": "stream",
     "text": [
      "755/755 [==============================] - 1s 1ms/step\n",
      "27/27 [==============================] - 0s 1ms/step\n"
     ]
    },
    {
     "name": "stderr",
     "output_type": "stream",
     "text": [
      "\r",
      "Exact explainer:  45%|█████████████████████████████                                    | 69/154 [01:27<02:04,  1.46s/it]"
     ]
    },
    {
     "name": "stdout",
     "output_type": "stream",
     "text": [
      "747/747 [==============================] - 1s 1ms/step\n",
      "27/27 [==============================] - 0s 1ms/step\n"
     ]
    },
    {
     "name": "stderr",
     "output_type": "stream",
     "text": [
      "\r",
      "Exact explainer:  45%|█████████████████████████████▌                                   | 70/154 [01:28<01:57,  1.40s/it]"
     ]
    },
    {
     "name": "stdout",
     "output_type": "stream",
     "text": [
      "784/784 [==============================] - 1s 1ms/step\n",
      "28/28 [==============================] - 0s 1ms/step\n"
     ]
    },
    {
     "name": "stderr",
     "output_type": "stream",
     "text": [
      "\r",
      "Exact explainer:  46%|█████████████████████████████▉                                   | 71/154 [01:29<01:54,  1.38s/it]"
     ]
    },
    {
     "name": "stdout",
     "output_type": "stream",
     "text": [
      "781/781 [==============================] - 1s 1ms/step\n",
      "28/28 [==============================] - 0s 1ms/step\n"
     ]
    },
    {
     "name": "stderr",
     "output_type": "stream",
     "text": [
      "\r",
      "Exact explainer:  47%|██████████████████████████████▍                                  | 72/154 [01:31<01:51,  1.36s/it]"
     ]
    },
    {
     "name": "stdout",
     "output_type": "stream",
     "text": [
      "771/771 [==============================] - 1s 1ms/step\n",
      "28/28 [==============================] - 0s 1ms/step\n"
     ]
    },
    {
     "name": "stderr",
     "output_type": "stream",
     "text": [
      "\r",
      "Exact explainer:  47%|██████████████████████████████▊                                  | 73/154 [01:32<01:47,  1.33s/it]"
     ]
    },
    {
     "name": "stdout",
     "output_type": "stream",
     "text": [
      "743/743 [==============================] - 1s 1ms/step\n",
      "27/27 [==============================] - 0s 1ms/step\n"
     ]
    },
    {
     "name": "stderr",
     "output_type": "stream",
     "text": [
      "\r",
      "Exact explainer:  48%|███████████████████████████████▏                                 | 74/154 [01:33<01:44,  1.31s/it]"
     ]
    },
    {
     "name": "stdout",
     "output_type": "stream",
     "text": [
      "780/780 [==============================] - 1s 1ms/step\n",
      "28/28 [==============================] - 0s 1ms/step\n"
     ]
    },
    {
     "name": "stderr",
     "output_type": "stream",
     "text": [
      "\r",
      "Exact explainer:  49%|███████████████████████████████▋                                 | 75/154 [01:35<01:43,  1.31s/it]"
     ]
    },
    {
     "name": "stdout",
     "output_type": "stream",
     "text": [
      "729/729 [==============================] - 1s 1ms/step\n",
      "27/27 [==============================] - 0s 1ms/step\n"
     ]
    },
    {
     "name": "stderr",
     "output_type": "stream",
     "text": [
      "\r",
      "Exact explainer:  49%|████████████████████████████████                                 | 76/154 [01:36<01:41,  1.30s/it]"
     ]
    },
    {
     "name": "stdout",
     "output_type": "stream",
     "text": [
      "757/757 [==============================] - 1s 1ms/step\n",
      "28/28 [==============================] - 0s 1ms/step\n"
     ]
    },
    {
     "name": "stderr",
     "output_type": "stream",
     "text": [
      "\r",
      "Exact explainer:  50%|████████████████████████████████▌                                | 77/154 [01:37<01:39,  1.29s/it]"
     ]
    },
    {
     "name": "stdout",
     "output_type": "stream",
     "text": [
      "762/762 [==============================] - 1s 1ms/step\n",
      "27/27 [==============================] - 0s 1ms/step\n"
     ]
    },
    {
     "name": "stderr",
     "output_type": "stream",
     "text": [
      "\r",
      "Exact explainer:  51%|████████████████████████████████▉                                | 78/154 [01:38<01:38,  1.29s/it]"
     ]
    },
    {
     "name": "stdout",
     "output_type": "stream",
     "text": [
      "792/792 [==============================] - 1s 1ms/step\n",
      "28/28 [==============================] - 0s 1ms/step\n"
     ]
    },
    {
     "name": "stderr",
     "output_type": "stream",
     "text": [
      "\r",
      "Exact explainer:  51%|█████████████████████████████████▎                               | 79/154 [01:40<01:37,  1.30s/it]"
     ]
    },
    {
     "name": "stdout",
     "output_type": "stream",
     "text": [
      "779/779 [==============================] - 1s 1ms/step\n",
      "28/28 [==============================] - 0s 1ms/step\n"
     ]
    },
    {
     "name": "stderr",
     "output_type": "stream",
     "text": [
      "\r",
      "Exact explainer:  52%|█████████████████████████████████▊                               | 80/154 [01:41<01:36,  1.31s/it]"
     ]
    },
    {
     "name": "stdout",
     "output_type": "stream",
     "text": [
      "737/737 [==============================] - 1s 1ms/step\n",
      "27/27 [==============================] - 0s 1ms/step\n"
     ]
    },
    {
     "name": "stderr",
     "output_type": "stream",
     "text": [
      "\r",
      "Exact explainer:  53%|██████████████████████████████████▏                              | 81/154 [01:42<01:33,  1.28s/it]"
     ]
    },
    {
     "name": "stdout",
     "output_type": "stream",
     "text": [
      "756/756 [==============================] - 1s 1ms/step\n",
      "27/27 [==============================] - 0s 1ms/step\n"
     ]
    },
    {
     "name": "stderr",
     "output_type": "stream",
     "text": [
      "\r",
      "Exact explainer:  53%|██████████████████████████████████▌                              | 82/154 [01:44<01:31,  1.27s/it]"
     ]
    },
    {
     "name": "stdout",
     "output_type": "stream",
     "text": [
      "780/780 [==============================] - 1s 1ms/step\n",
      "28/28 [==============================] - 0s 1ms/step\n"
     ]
    },
    {
     "name": "stderr",
     "output_type": "stream",
     "text": [
      "\r",
      "Exact explainer:  54%|███████████████████████████████████                              | 83/154 [01:45<01:31,  1.28s/it]"
     ]
    },
    {
     "name": "stdout",
     "output_type": "stream",
     "text": [
      "776/776 [==============================] - 1s 1ms/step\n",
      "28/28 [==============================] - 0s 1ms/step\n"
     ]
    },
    {
     "name": "stderr",
     "output_type": "stream",
     "text": [
      "\r",
      "Exact explainer:  55%|███████████████████████████████████▍                             | 84/154 [01:46<01:30,  1.30s/it]"
     ]
    },
    {
     "name": "stdout",
     "output_type": "stream",
     "text": [
      "792/792 [==============================] - 1s 1ms/step\n",
      "28/28 [==============================] - 0s 1ms/step\n"
     ]
    },
    {
     "name": "stderr",
     "output_type": "stream",
     "text": [
      "\r",
      "Exact explainer:  55%|███████████████████████████████████▉                             | 85/154 [01:47<01:29,  1.30s/it]"
     ]
    },
    {
     "name": "stdout",
     "output_type": "stream",
     "text": [
      "776/776 [==============================] - 1s 1ms/step\n",
      "28/28 [==============================] - 0s 1ms/step\n"
     ]
    },
    {
     "name": "stderr",
     "output_type": "stream",
     "text": [
      "\r",
      "Exact explainer:  56%|████████████████████████████████████▎                            | 86/154 [01:49<01:28,  1.31s/it]"
     ]
    },
    {
     "name": "stdout",
     "output_type": "stream",
     "text": [
      "791/791 [==============================] - 1s 1ms/step\n",
      "28/28 [==============================] - 0s 1ms/step\n"
     ]
    },
    {
     "name": "stderr",
     "output_type": "stream",
     "text": [
      "\r",
      "Exact explainer:  56%|████████████████████████████████████▋                            | 87/154 [01:50<01:26,  1.30s/it]"
     ]
    },
    {
     "name": "stdout",
     "output_type": "stream",
     "text": [
      "768/768 [==============================] - 1s 1ms/step\n",
      "28/28 [==============================] - 0s 1ms/step\n"
     ]
    },
    {
     "name": "stderr",
     "output_type": "stream",
     "text": [
      "\r",
      "Exact explainer:  57%|█████████████████████████████████████▏                           | 88/154 [01:51<01:24,  1.28s/it]"
     ]
    },
    {
     "name": "stdout",
     "output_type": "stream",
     "text": [
      "774/774 [==============================] - 1s 1ms/step\n",
      "27/27 [==============================] - 0s 1ms/step\n"
     ]
    },
    {
     "name": "stderr",
     "output_type": "stream",
     "text": [
      "\r",
      "Exact explainer:  58%|█████████████████████████████████████▌                           | 89/154 [01:53<01:23,  1.28s/it]"
     ]
    },
    {
     "name": "stdout",
     "output_type": "stream",
     "text": [
      "756/756 [==============================] - 1s 1ms/step\n",
      "28/28 [==============================] - 0s 1ms/step\n"
     ]
    },
    {
     "name": "stderr",
     "output_type": "stream",
     "text": [
      "\r",
      "Exact explainer:  58%|█████████████████████████████████████▉                           | 90/154 [01:54<01:21,  1.27s/it]"
     ]
    },
    {
     "name": "stdout",
     "output_type": "stream",
     "text": [
      "783/783 [==============================] - 1s 1ms/step\n",
      "28/28 [==============================] - 0s 1ms/step\n"
     ]
    },
    {
     "name": "stderr",
     "output_type": "stream",
     "text": [
      "\r",
      "Exact explainer:  59%|██████████████████████████████████████▍                          | 91/154 [01:55<01:20,  1.28s/it]"
     ]
    },
    {
     "name": "stdout",
     "output_type": "stream",
     "text": [
      "783/783 [==============================] - 1s 1ms/step\n",
      "28/28 [==============================] - 0s 1ms/step\n"
     ]
    },
    {
     "name": "stderr",
     "output_type": "stream",
     "text": [
      "\r",
      "Exact explainer:  60%|██████████████████████████████████████▊                          | 92/154 [01:56<01:19,  1.28s/it]"
     ]
    },
    {
     "name": "stdout",
     "output_type": "stream",
     "text": [
      "727/727 [==============================] - 1s 1ms/step\n",
      "27/27 [==============================] - 0s 1ms/step\n"
     ]
    },
    {
     "name": "stderr",
     "output_type": "stream",
     "text": [
      "\r",
      "Exact explainer:  60%|███████████████████████████████████████▎                         | 93/154 [01:58<01:16,  1.26s/it]"
     ]
    },
    {
     "name": "stdout",
     "output_type": "stream",
     "text": [
      "743/743 [==============================] - 1s 1ms/step\n",
      "27/27 [==============================] - 0s 2ms/step\n"
     ]
    },
    {
     "name": "stderr",
     "output_type": "stream",
     "text": [
      "\r",
      "Exact explainer:  61%|███████████████████████████████████████▋                         | 94/154 [01:59<01:15,  1.25s/it]"
     ]
    },
    {
     "name": "stdout",
     "output_type": "stream",
     "text": [
      "731/731 [==============================] - 1s 1ms/step\n",
      "27/27 [==============================] - 0s 1ms/step\n"
     ]
    },
    {
     "name": "stderr",
     "output_type": "stream",
     "text": [
      "\r",
      "Exact explainer:  62%|████████████████████████████████████████                         | 95/154 [02:00<01:12,  1.24s/it]"
     ]
    },
    {
     "name": "stdout",
     "output_type": "stream",
     "text": [
      "783/783 [==============================] - 1s 1ms/step\n",
      "28/28 [==============================] - 0s 1ms/step\n"
     ]
    },
    {
     "name": "stderr",
     "output_type": "stream",
     "text": [
      "\r",
      "Exact explainer:  62%|████████████████████████████████████████▌                        | 96/154 [02:01<01:12,  1.24s/it]"
     ]
    },
    {
     "name": "stdout",
     "output_type": "stream",
     "text": [
      "755/755 [==============================] - 1s 1ms/step\n",
      "28/28 [==============================] - 0s 1ms/step\n"
     ]
    },
    {
     "name": "stderr",
     "output_type": "stream",
     "text": [
      "\r",
      "Exact explainer:  63%|████████████████████████████████████████▉                        | 97/154 [02:03<01:11,  1.25s/it]"
     ]
    },
    {
     "name": "stdout",
     "output_type": "stream",
     "text": [
      "750/750 [==============================] - 1s 1ms/step\n",
      "27/27 [==============================] - 0s 1ms/step\n"
     ]
    },
    {
     "name": "stderr",
     "output_type": "stream",
     "text": [
      "\r",
      "Exact explainer:  64%|█████████████████████████████████████████▎                       | 98/154 [02:04<01:09,  1.24s/it]"
     ]
    },
    {
     "name": "stdout",
     "output_type": "stream",
     "text": [
      "777/777 [==============================] - 1s 1ms/step\n",
      "28/28 [==============================] - 0s 1ms/step\n"
     ]
    },
    {
     "name": "stderr",
     "output_type": "stream",
     "text": [
      "\r",
      "Exact explainer:  64%|█████████████████████████████████████████▊                       | 99/154 [02:05<01:08,  1.25s/it]"
     ]
    },
    {
     "name": "stdout",
     "output_type": "stream",
     "text": [
      "759/759 [==============================] - 1s 1ms/step\n",
      "28/28 [==============================] - 0s 1ms/step\n"
     ]
    },
    {
     "name": "stderr",
     "output_type": "stream",
     "text": [
      "\r",
      "Exact explainer:  65%|█████████████████████████████████████████▌                      | 100/154 [02:06<01:08,  1.26s/it]"
     ]
    },
    {
     "name": "stdout",
     "output_type": "stream",
     "text": [
      "743/743 [==============================] - 1s 1ms/step\n",
      "27/27 [==============================] - 0s 2ms/step\n"
     ]
    },
    {
     "name": "stderr",
     "output_type": "stream",
     "text": [
      "\r",
      "Exact explainer:  66%|█████████████████████████████████████████▉                      | 101/154 [02:08<01:06,  1.26s/it]"
     ]
    },
    {
     "name": "stdout",
     "output_type": "stream",
     "text": [
      "792/792 [==============================] - 1s 1ms/step\n",
      "28/28 [==============================] - 0s 1ms/step\n"
     ]
    },
    {
     "name": "stderr",
     "output_type": "stream",
     "text": [
      "\r",
      "Exact explainer:  66%|██████████████████████████████████████████▍                     | 102/154 [02:09<01:05,  1.27s/it]"
     ]
    },
    {
     "name": "stdout",
     "output_type": "stream",
     "text": [
      "763/763 [==============================] - 1s 1ms/step\n",
      "28/28 [==============================] - 0s 2ms/step\n"
     ]
    },
    {
     "name": "stderr",
     "output_type": "stream",
     "text": [
      "\r",
      "Exact explainer:  67%|██████████████████████████████████████████▊                     | 103/154 [02:10<01:04,  1.27s/it]"
     ]
    },
    {
     "name": "stdout",
     "output_type": "stream",
     "text": [
      "748/748 [==============================] - 1s 1ms/step\n",
      "27/27 [==============================] - 0s 1ms/step\n"
     ]
    },
    {
     "name": "stderr",
     "output_type": "stream",
     "text": [
      "\r",
      "Exact explainer:  68%|███████████████████████████████████████████▏                    | 104/154 [02:11<01:02,  1.25s/it]"
     ]
    },
    {
     "name": "stdout",
     "output_type": "stream",
     "text": [
      "763/763 [==============================] - 1s 1ms/step\n",
      "28/28 [==============================] - 0s 1ms/step\n"
     ]
    },
    {
     "name": "stderr",
     "output_type": "stream",
     "text": [
      "\r",
      "Exact explainer:  68%|███████████████████████████████████████████▋                    | 105/154 [02:13<01:01,  1.25s/it]"
     ]
    },
    {
     "name": "stdout",
     "output_type": "stream",
     "text": [
      "751/751 [==============================] - 1s 1ms/step\n",
      "27/27 [==============================] - 0s 1ms/step\n"
     ]
    },
    {
     "name": "stderr",
     "output_type": "stream",
     "text": [
      "\r",
      "Exact explainer:  69%|████████████████████████████████████████████                    | 106/154 [02:14<00:59,  1.25s/it]"
     ]
    },
    {
     "name": "stdout",
     "output_type": "stream",
     "text": [
      "783/783 [==============================] - 1s 1ms/step\n",
      "28/28 [==============================] - 0s 1ms/step\n"
     ]
    },
    {
     "name": "stderr",
     "output_type": "stream",
     "text": [
      "\r",
      "Exact explainer:  69%|████████████████████████████████████████████▍                   | 107/154 [02:15<00:59,  1.26s/it]"
     ]
    },
    {
     "name": "stdout",
     "output_type": "stream",
     "text": [
      "778/778 [==============================] - 1s 1ms/step\n",
      "28/28 [==============================] - 0s 1ms/step\n"
     ]
    },
    {
     "name": "stderr",
     "output_type": "stream",
     "text": [
      "\r",
      "Exact explainer:  70%|████████████████████████████████████████████▉                   | 108/154 [02:16<00:57,  1.26s/it]"
     ]
    },
    {
     "name": "stdout",
     "output_type": "stream",
     "text": [
      "790/790 [==============================] - 1s 1ms/step\n",
      "28/28 [==============================] - 0s 1ms/step\n"
     ]
    },
    {
     "name": "stderr",
     "output_type": "stream",
     "text": [
      "\r",
      "Exact explainer:  71%|█████████████████████████████████████████████▎                  | 109/154 [02:18<00:56,  1.27s/it]"
     ]
    },
    {
     "name": "stdout",
     "output_type": "stream",
     "text": [
      "786/786 [==============================] - 1s 1ms/step\n",
      "28/28 [==============================] - 0s 1ms/step\n"
     ]
    },
    {
     "name": "stderr",
     "output_type": "stream",
     "text": [
      "\r",
      "Exact explainer:  71%|█████████████████████████████████████████████▋                  | 110/154 [02:19<00:55,  1.26s/it]"
     ]
    },
    {
     "name": "stdout",
     "output_type": "stream",
     "text": [
      "759/759 [==============================] - 1s 1ms/step\n",
      "28/28 [==============================] - 0s 1ms/step\n"
     ]
    },
    {
     "name": "stderr",
     "output_type": "stream",
     "text": [
      "\r",
      "Exact explainer:  72%|██████████████████████████████████████████████▏                 | 111/154 [02:20<00:54,  1.26s/it]"
     ]
    },
    {
     "name": "stdout",
     "output_type": "stream",
     "text": [
      "755/755 [==============================] - 1s 1ms/step\n",
      "28/28 [==============================] - 0s 1ms/step\n"
     ]
    },
    {
     "name": "stderr",
     "output_type": "stream",
     "text": [
      "\r",
      "Exact explainer:  73%|██████████████████████████████████████████████▌                 | 112/154 [02:21<00:52,  1.25s/it]"
     ]
    },
    {
     "name": "stdout",
     "output_type": "stream",
     "text": [
      "746/746 [==============================] - 1s 1ms/step\n",
      "27/27 [==============================] - 0s 1ms/step\n"
     ]
    },
    {
     "name": "stderr",
     "output_type": "stream",
     "text": [
      "\r",
      "Exact explainer:  73%|██████████████████████████████████████████████▉                 | 113/154 [02:23<00:52,  1.28s/it]"
     ]
    },
    {
     "name": "stdout",
     "output_type": "stream",
     "text": [
      "738/738 [==============================] - 1s 1ms/step\n",
      "27/27 [==============================] - 0s 1ms/step\n"
     ]
    },
    {
     "name": "stderr",
     "output_type": "stream",
     "text": [
      "\r",
      "Exact explainer:  74%|███████████████████████████████████████████████▍                | 114/154 [02:24<00:50,  1.27s/it]"
     ]
    },
    {
     "name": "stdout",
     "output_type": "stream",
     "text": [
      "782/782 [==============================] - 1s 1ms/step\n",
      "28/28 [==============================] - 0s 1ms/step\n"
     ]
    },
    {
     "name": "stderr",
     "output_type": "stream",
     "text": [
      "\r",
      "Exact explainer:  75%|███████████████████████████████████████████████▊                | 115/154 [02:25<00:49,  1.28s/it]"
     ]
    },
    {
     "name": "stdout",
     "output_type": "stream",
     "text": [
      "775/775 [==============================] - 1s 1ms/step\n",
      "28/28 [==============================] - 0s 1ms/step\n"
     ]
    },
    {
     "name": "stderr",
     "output_type": "stream",
     "text": [
      "\r",
      "Exact explainer:  75%|████████████████████████████████████████████████▏               | 116/154 [02:27<00:50,  1.32s/it]"
     ]
    },
    {
     "name": "stdout",
     "output_type": "stream",
     "text": [
      "731/731 [==============================] - 1s 1ms/step\n",
      "28/28 [==============================] - 0s 1ms/step\n"
     ]
    },
    {
     "name": "stderr",
     "output_type": "stream",
     "text": [
      "\r",
      "Exact explainer:  76%|████████████████████████████████████████████████▌               | 117/154 [02:28<00:48,  1.31s/it]"
     ]
    },
    {
     "name": "stdout",
     "output_type": "stream",
     "text": [
      "752/752 [==============================] - 1s 1ms/step\n",
      "28/28 [==============================] - 0s 1ms/step\n"
     ]
    },
    {
     "name": "stderr",
     "output_type": "stream",
     "text": [
      "\r",
      "Exact explainer:  77%|█████████████████████████████████████████████████               | 118/154 [02:29<00:47,  1.32s/it]"
     ]
    },
    {
     "name": "stdout",
     "output_type": "stream",
     "text": [
      "724/724 [==============================] - 1s 1ms/step\n",
      "27/27 [==============================] - 0s 1ms/step\n"
     ]
    },
    {
     "name": "stderr",
     "output_type": "stream",
     "text": [
      "\r",
      "Exact explainer:  77%|█████████████████████████████████████████████████▍              | 119/154 [02:31<00:45,  1.29s/it]"
     ]
    },
    {
     "name": "stdout",
     "output_type": "stream",
     "text": [
      "746/746 [==============================] - 1s 1ms/step\n",
      "27/27 [==============================] - 0s 1ms/step\n"
     ]
    },
    {
     "name": "stderr",
     "output_type": "stream",
     "text": [
      "\r",
      "Exact explainer:  78%|█████████████████████████████████████████████████▊              | 120/154 [02:32<00:44,  1.30s/it]"
     ]
    },
    {
     "name": "stdout",
     "output_type": "stream",
     "text": [
      "727/727 [==============================] - 1s 1ms/step\n",
      "27/27 [==============================] - 0s 1ms/step\n"
     ]
    },
    {
     "name": "stderr",
     "output_type": "stream",
     "text": [
      "\r",
      "Exact explainer:  79%|██████████████████████████████████████████████████▎             | 121/154 [02:33<00:41,  1.25s/it]"
     ]
    },
    {
     "name": "stdout",
     "output_type": "stream",
     "text": [
      "723/723 [==============================] - 1s 1ms/step\n",
      "27/27 [==============================] - 0s 1ms/step\n"
     ]
    },
    {
     "name": "stderr",
     "output_type": "stream",
     "text": [
      "\r",
      "Exact explainer:  79%|██████████████████████████████████████████████████▋             | 122/154 [02:34<00:38,  1.22s/it]"
     ]
    },
    {
     "name": "stdout",
     "output_type": "stream",
     "text": [
      "779/779 [==============================] - 1s 1ms/step\n",
      "28/28 [==============================] - 0s 1ms/step\n"
     ]
    },
    {
     "name": "stderr",
     "output_type": "stream",
     "text": [
      "\r",
      "Exact explainer:  80%|███████████████████████████████████████████████████             | 123/154 [02:36<00:38,  1.25s/it]"
     ]
    },
    {
     "name": "stdout",
     "output_type": "stream",
     "text": [
      "737/737 [==============================] - 1s 1ms/step\n",
      "28/28 [==============================] - 0s 1ms/step\n"
     ]
    },
    {
     "name": "stderr",
     "output_type": "stream",
     "text": [
      "\r",
      "Exact explainer:  81%|███████████████████████████████████████████████████▌            | 124/154 [02:37<00:38,  1.27s/it]"
     ]
    },
    {
     "name": "stdout",
     "output_type": "stream",
     "text": [
      "783/783 [==============================] - 1s 1ms/step\n",
      "28/28 [==============================] - 0s 1ms/step\n"
     ]
    },
    {
     "name": "stderr",
     "output_type": "stream",
     "text": [
      "\r",
      "Exact explainer:  81%|███████████████████████████████████████████████████▉            | 125/154 [02:38<00:36,  1.27s/it]"
     ]
    },
    {
     "name": "stdout",
     "output_type": "stream",
     "text": [
      "746/746 [==============================] - 1s 1ms/step\n",
      "27/27 [==============================] - 0s 2ms/step\n"
     ]
    },
    {
     "name": "stderr",
     "output_type": "stream",
     "text": [
      "\r",
      "Exact explainer:  82%|████████████████████████████████████████████████████▎           | 126/154 [02:39<00:36,  1.30s/it]"
     ]
    },
    {
     "name": "stdout",
     "output_type": "stream",
     "text": [
      "798/798 [==============================] - 1s 1ms/step\n",
      "29/29 [==============================] - 0s 1ms/step\n"
     ]
    },
    {
     "name": "stderr",
     "output_type": "stream",
     "text": [
      "\r",
      "Exact explainer:  82%|████████████████████████████████████████████████████▊           | 127/154 [02:41<00:35,  1.32s/it]"
     ]
    },
    {
     "name": "stdout",
     "output_type": "stream",
     "text": [
      "744/744 [==============================] - 1s 1ms/step\n",
      "27/27 [==============================] - 0s 1ms/step\n"
     ]
    },
    {
     "name": "stderr",
     "output_type": "stream",
     "text": [
      "\r",
      "Exact explainer:  83%|█████████████████████████████████████████████████████▏          | 128/154 [02:42<00:34,  1.33s/it]"
     ]
    },
    {
     "name": "stdout",
     "output_type": "stream",
     "text": [
      "767/767 [==============================] - 1s 1ms/step\n",
      "27/27 [==============================] - 0s 1ms/step\n"
     ]
    },
    {
     "name": "stderr",
     "output_type": "stream",
     "text": [
      "\r",
      "Exact explainer:  84%|█████████████████████████████████████████████████████▌          | 129/154 [02:44<00:33,  1.34s/it]"
     ]
    },
    {
     "name": "stdout",
     "output_type": "stream",
     "text": [
      "741/741 [==============================] - 1s 1ms/step\n",
      "27/27 [==============================] - 0s 1ms/step\n"
     ]
    },
    {
     "name": "stderr",
     "output_type": "stream",
     "text": [
      "\r",
      "Exact explainer:  84%|██████████████████████████████████████████████████████          | 130/154 [02:45<00:30,  1.27s/it]"
     ]
    },
    {
     "name": "stdout",
     "output_type": "stream",
     "text": [
      "767/767 [==============================] - 1s 1ms/step\n",
      "28/28 [==============================] - 0s 1ms/step\n"
     ]
    },
    {
     "name": "stderr",
     "output_type": "stream",
     "text": [
      "\r",
      "Exact explainer:  85%|██████████████████████████████████████████████████████▍         | 131/154 [02:46<00:28,  1.25s/it]"
     ]
    },
    {
     "name": "stdout",
     "output_type": "stream",
     "text": [
      "754/754 [==============================] - 1s 1ms/step\n",
      "27/27 [==============================] - 0s 2ms/step\n"
     ]
    },
    {
     "name": "stderr",
     "output_type": "stream",
     "text": [
      "\r",
      "Exact explainer:  86%|██████████████████████████████████████████████████████▊         | 132/154 [02:47<00:27,  1.26s/it]"
     ]
    },
    {
     "name": "stdout",
     "output_type": "stream",
     "text": [
      "763/763 [==============================] - 1s 1ms/step\n",
      "28/28 [==============================] - 0s 1ms/step\n"
     ]
    },
    {
     "name": "stderr",
     "output_type": "stream",
     "text": [
      "\r",
      "Exact explainer:  86%|███████████████████████████████████████████████████████▎        | 133/154 [02:48<00:26,  1.27s/it]"
     ]
    },
    {
     "name": "stdout",
     "output_type": "stream",
     "text": [
      "760/760 [==============================] - 1s 1ms/step\n",
      "28/28 [==============================] - 0s 967us/step\n"
     ]
    },
    {
     "name": "stderr",
     "output_type": "stream",
     "text": [
      "\r",
      "Exact explainer:  87%|███████████████████████████████████████████████████████▋        | 134/154 [02:50<00:24,  1.25s/it]"
     ]
    },
    {
     "name": "stdout",
     "output_type": "stream",
     "text": [
      "784/784 [==============================] - 1s 1ms/step\n",
      "28/28 [==============================] - 0s 1ms/step\n"
     ]
    },
    {
     "name": "stderr",
     "output_type": "stream",
     "text": [
      "\r",
      "Exact explainer:  88%|████████████████████████████████████████████████████████        | 135/154 [02:51<00:24,  1.27s/it]"
     ]
    },
    {
     "name": "stdout",
     "output_type": "stream",
     "text": [
      "782/782 [==============================] - 1s 1ms/step\n",
      "28/28 [==============================] - 0s 1ms/step\n"
     ]
    },
    {
     "name": "stderr",
     "output_type": "stream",
     "text": [
      "\r",
      "Exact explainer:  88%|████████████████████████████████████████████████████████▌       | 136/154 [02:52<00:22,  1.26s/it]"
     ]
    },
    {
     "name": "stdout",
     "output_type": "stream",
     "text": [
      "754/754 [==============================] - 1s 1ms/step\n",
      "27/27 [==============================] - 0s 1ms/step\n"
     ]
    },
    {
     "name": "stderr",
     "output_type": "stream",
     "text": [
      "\r",
      "Exact explainer:  89%|████████████████████████████████████████████████████████▉       | 137/154 [02:53<00:21,  1.26s/it]"
     ]
    },
    {
     "name": "stdout",
     "output_type": "stream",
     "text": [
      "745/745 [==============================] - 1s 1ms/step\n",
      "27/27 [==============================] - 0s 1ms/step\n"
     ]
    },
    {
     "name": "stderr",
     "output_type": "stream",
     "text": [
      "\r",
      "Exact explainer:  90%|█████████████████████████████████████████████████████████▎      | 138/154 [02:55<00:19,  1.23s/it]"
     ]
    },
    {
     "name": "stdout",
     "output_type": "stream",
     "text": [
      "763/763 [==============================] - 1s 1ms/step\n",
      "27/27 [==============================] - 0s 1ms/step\n"
     ]
    },
    {
     "name": "stderr",
     "output_type": "stream",
     "text": [
      "\r",
      "Exact explainer:  90%|█████████████████████████████████████████████████████████▊      | 139/154 [02:56<00:18,  1.25s/it]"
     ]
    },
    {
     "name": "stdout",
     "output_type": "stream",
     "text": [
      "786/786 [==============================] - 1s 1ms/step\n",
      "28/28 [==============================] - 0s 1ms/step\n"
     ]
    },
    {
     "name": "stderr",
     "output_type": "stream",
     "text": [
      "\r",
      "Exact explainer:  91%|██████████████████████████████████████████████████████████▏     | 140/154 [02:57<00:17,  1.28s/it]"
     ]
    },
    {
     "name": "stdout",
     "output_type": "stream",
     "text": [
      "780/780 [==============================] - 1s 1ms/step\n",
      "28/28 [==============================] - 0s 1ms/step\n"
     ]
    },
    {
     "name": "stderr",
     "output_type": "stream",
     "text": [
      "\r",
      "Exact explainer:  92%|██████████████████████████████████████████████████████████▌     | 141/154 [02:59<00:16,  1.28s/it]"
     ]
    },
    {
     "name": "stdout",
     "output_type": "stream",
     "text": [
      "743/743 [==============================] - 1s 1ms/step\n",
      "27/27 [==============================] - 0s 1ms/step\n"
     ]
    },
    {
     "name": "stderr",
     "output_type": "stream",
     "text": [
      "\r",
      "Exact explainer:  92%|███████████████████████████████████████████████████████████     | 142/154 [03:00<00:15,  1.27s/it]"
     ]
    },
    {
     "name": "stdout",
     "output_type": "stream",
     "text": [
      "739/739 [==============================] - 1s 1ms/step\n",
      "27/27 [==============================] - 0s 1ms/step\n"
     ]
    },
    {
     "name": "stderr",
     "output_type": "stream",
     "text": [
      "\r",
      "Exact explainer:  93%|███████████████████████████████████████████████████████████▍    | 143/154 [03:01<00:14,  1.28s/it]"
     ]
    },
    {
     "name": "stdout",
     "output_type": "stream",
     "text": [
      "724/724 [==============================] - 1s 1ms/step\n",
      "26/26 [==============================] - 0s 1ms/step\n"
     ]
    },
    {
     "name": "stderr",
     "output_type": "stream",
     "text": [
      "\r",
      "Exact explainer:  94%|███████████████████████████████████████████████████████████▊    | 144/154 [03:02<00:12,  1.28s/it]"
     ]
    },
    {
     "name": "stdout",
     "output_type": "stream",
     "text": [
      "760/760 [==============================] - 1s 1ms/step\n",
      "28/28 [==============================] - 0s 1ms/step\n"
     ]
    },
    {
     "name": "stderr",
     "output_type": "stream",
     "text": [
      "\r",
      "Exact explainer:  94%|████████████████████████████████████████████████████████████▎   | 145/154 [03:04<00:11,  1.28s/it]"
     ]
    },
    {
     "name": "stdout",
     "output_type": "stream",
     "text": [
      "745/745 [==============================] - 1s 1ms/step\n",
      "27/27 [==============================] - 0s 1ms/step\n"
     ]
    },
    {
     "name": "stderr",
     "output_type": "stream",
     "text": [
      "\r",
      "Exact explainer:  95%|████████████████████████████████████████████████████████████▋   | 146/154 [03:05<00:10,  1.26s/it]"
     ]
    },
    {
     "name": "stdout",
     "output_type": "stream",
     "text": [
      "767/767 [==============================] - 1s 1ms/step\n",
      "28/28 [==============================] - 0s 1ms/step\n"
     ]
    },
    {
     "name": "stderr",
     "output_type": "stream",
     "text": [
      "\r",
      "Exact explainer:  95%|█████████████████████████████████████████████████████████████   | 147/154 [03:06<00:08,  1.26s/it]"
     ]
    },
    {
     "name": "stdout",
     "output_type": "stream",
     "text": [
      "761/761 [==============================] - 1s 1ms/step\n",
      "28/28 [==============================] - 0s 1ms/step\n"
     ]
    },
    {
     "name": "stderr",
     "output_type": "stream",
     "text": [
      "\r",
      "Exact explainer:  96%|█████████████████████████████████████████████████████████████▌  | 148/154 [03:07<00:07,  1.26s/it]"
     ]
    },
    {
     "name": "stdout",
     "output_type": "stream",
     "text": [
      "729/729 [==============================] - 1s 1ms/step\n",
      "28/28 [==============================] - 0s 1ms/step\n"
     ]
    },
    {
     "name": "stderr",
     "output_type": "stream",
     "text": [
      "\r",
      "Exact explainer:  97%|█████████████████████████████████████████████████████████████▉  | 149/154 [03:09<00:06,  1.24s/it]"
     ]
    },
    {
     "name": "stdout",
     "output_type": "stream",
     "text": [
      "734/734 [==============================] - 1s 1ms/step\n",
      "28/28 [==============================] - 0s 1ms/step\n"
     ]
    },
    {
     "name": "stderr",
     "output_type": "stream",
     "text": [
      "\r",
      "Exact explainer:  97%|██████████████████████████████████████████████████████████████▎ | 150/154 [03:10<00:04,  1.23s/it]"
     ]
    },
    {
     "name": "stdout",
     "output_type": "stream",
     "text": [
      "755/755 [==============================] - 1s 1ms/step\n",
      "27/27 [==============================] - 0s 1ms/step\n"
     ]
    },
    {
     "name": "stderr",
     "output_type": "stream",
     "text": [
      "\r",
      "Exact explainer:  98%|██████████████████████████████████████████████████████████████▊ | 151/154 [03:11<00:03,  1.24s/it]"
     ]
    },
    {
     "name": "stdout",
     "output_type": "stream",
     "text": [
      "775/775 [==============================] - 1s 1ms/step\n",
      "28/28 [==============================] - 0s 1ms/step\n"
     ]
    },
    {
     "name": "stderr",
     "output_type": "stream",
     "text": [
      "\r",
      "Exact explainer:  99%|███████████████████████████████████████████████████████████████▏| 152/154 [03:12<00:02,  1.25s/it]"
     ]
    },
    {
     "name": "stdout",
     "output_type": "stream",
     "text": [
      "755/755 [==============================] - 1s 1ms/step\n",
      "27/27 [==============================] - 0s 1ms/step\n"
     ]
    },
    {
     "name": "stderr",
     "output_type": "stream",
     "text": [
      "\r",
      "Exact explainer:  99%|███████████████████████████████████████████████████████████████▌| 153/154 [03:14<00:01,  1.25s/it]"
     ]
    },
    {
     "name": "stdout",
     "output_type": "stream",
     "text": [
      "767/767 [==============================] - 1s 1ms/step\n",
      "28/28 [==============================] - 0s 1ms/step\n"
     ]
    },
    {
     "name": "stderr",
     "output_type": "stream",
     "text": [
      "\r",
      "Exact explainer: 100%|████████████████████████████████████████████████████████████████| 154/154 [03:15<00:00,  1.26s/it]"
     ]
    },
    {
     "name": "stdout",
     "output_type": "stream",
     "text": [
      "793/793 [==============================] - 1s 1ms/step\n",
      "28/28 [==============================] - 0s 1ms/step\n"
     ]
    },
    {
     "name": "stderr",
     "output_type": "stream",
     "text": [
      "Exact explainer: 155it [03:16,  1.34s/it]                                                                               "
     ]
    },
    {
     "name": "stdout",
     "output_type": "stream",
     "text": [
      "Difference...\n",
      "Done\n"
     ]
    },
    {
     "name": "stderr",
     "output_type": "stream",
     "text": [
      "\n"
     ]
    },
    {
     "data": {
      "application/vnd.jupyter.widget-view+json": {
       "model_id": "fae3d86f086a4abe84a6a7969aa5ed91",
       "version_major": 2,
       "version_minor": 0
      },
      "text/plain": [
       "ExampleWidget(dataset={'Pregnancies': [0.3529411764705882, 0.11764705882352941, 0.11764705882352941, 0.4705882…"
      ]
     },
     "execution_count": 6,
     "metadata": {},
     "output_type": "execute_result"
    }
   ],
   "source": [
    "z = svelte_widget.ExampleWidget(X_test, y_test, model_1.predict, model_2.predict)\n",
    "z"
   ]
  },
  {
   "cell_type": "code",
   "execution_count": 7,
   "metadata": {},
   "outputs": [
    {
     "name": "stdout",
     "output_type": "stream",
     "text": [
      "Epoch 1/10\n",
      "20/20 [==============================] - 1s 11ms/step - loss: 0.6742 - accuracy: 0.6564 - val_loss: 0.6672 - val_accuracy: 0.6429\n",
      "Epoch 2/10\n",
      "20/20 [==============================] - 0s 5ms/step - loss: 0.6549 - accuracy: 0.6531 - val_loss: 0.6576 - val_accuracy: 0.6429\n",
      "Epoch 3/10\n",
      "20/20 [==============================] - 0s 5ms/step - loss: 0.6379 - accuracy: 0.6531 - val_loss: 0.6394 - val_accuracy: 0.6429\n",
      "Epoch 4/10\n",
      "20/20 [==============================] - 0s 5ms/step - loss: 0.6131 - accuracy: 0.6531 - val_loss: 0.6170 - val_accuracy: 0.6429\n",
      "Epoch 5/10\n",
      "20/20 [==============================] - 0s 5ms/step - loss: 0.5834 - accuracy: 0.6547 - val_loss: 0.5908 - val_accuracy: 0.6623\n",
      "Epoch 6/10\n",
      "20/20 [==============================] - 0s 4ms/step - loss: 0.5612 - accuracy: 0.6840 - val_loss: 0.5679 - val_accuracy: 0.6688\n",
      "Epoch 7/10\n",
      "20/20 [==============================] - 0s 4ms/step - loss: 0.5407 - accuracy: 0.7296 - val_loss: 0.5639 - val_accuracy: 0.6429\n",
      "Epoch 8/10\n",
      "20/20 [==============================] - 0s 4ms/step - loss: 0.5151 - accuracy: 0.7329 - val_loss: 0.5491 - val_accuracy: 0.6883\n",
      "Epoch 9/10\n",
      "20/20 [==============================] - 0s 4ms/step - loss: 0.4949 - accuracy: 0.7443 - val_loss: 0.5738 - val_accuracy: 0.7208\n",
      "Epoch 10/10\n",
      "20/20 [==============================] - 0s 4ms/step - loss: 0.5044 - accuracy: 0.7264 - val_loss: 0.5697 - val_accuracy: 0.7013\n"
     ]
    },
    {
     "data": {
      "text/plain": [
       "<keras.callbacks.History at 0x7ff3ed762160>"
      ]
     },
     "execution_count": 7,
     "metadata": {},
     "output_type": "execute_result"
    }
   ],
   "source": [
    "# Let's add a layer to model_2\n",
    "\n",
    "model_3 = keras.Sequential([\n",
    "    keras.layers.Dense(128, activation='relu', input_shape=(X_train.shape[1],)),\n",
    "    keras.layers.Dense(64, activation='relu'),\n",
    "    keras.layers.Dense(32, activation='relu'),\n",
    "    keras.layers.Dense(16, activation='relu'),  # Added new layer\n",
    "    keras.layers.Dense(1, activation='sigmoid')\n",
    "])\n",
    "\n",
    "# Compile the model\n",
    "model_3.compile(optimizer='adam', loss='binary_crossentropy', metrics=['accuracy'])\n",
    "\n",
    "# Train the model\n",
    "model_3.fit(X_train, y_train, epochs=10, batch_size=32, validation_data=(X_test, y_test))"
   ]
  },
  {
   "cell_type": "code",
   "execution_count": 8,
   "metadata": {
    "scrolled": false
   },
   "outputs": [
    {
     "name": "stdout",
     "output_type": "stream",
     "text": [
      "Start...\n",
      "Predictions obtained\n",
      "5/5 [==============================] - 0s 2ms/step\n",
      "5/5 [==============================] - 0s 2ms/step\n",
      "Shaps now\n",
      "Shaps XGB\n",
      "Shaps NN\n",
      "Calculating...\n",
      "-> m1\n",
      "780/780 [==============================] - 1s 1ms/step\n",
      "730/730 [==============================] - 1s 1ms/step\n",
      "28/28 [==============================] - 0s 1ms/step\n",
      "725/725 [==============================] - 1s 1ms/step\n",
      "27/27 [==============================] - 0s 1ms/step\n",
      "763/763 [==============================] - 1s 1ms/step\n",
      "27/27 [==============================] - 0s 1ms/step\n",
      "759/759 [==============================] - 1s 1ms/step\n",
      "27/27 [==============================] - 0s 1ms/step\n",
      "795/795 [==============================] - 1s 1ms/step\n",
      "29/29 [==============================] - 0s 1ms/step\n",
      "779/779 [==============================] - 1s 1ms/step\n",
      "28/28 [==============================] - 0s 2ms/step\n",
      "762/762 [==============================] - 1s 1ms/step\n",
      "27/27 [==============================] - 0s 1ms/step\n",
      "794/794 [==============================] - 1s 1ms/step\n",
      "28/28 [==============================] - 0s 1ms/step\n"
     ]
    },
    {
     "name": "stderr",
     "output_type": "stream",
     "text": [
      "\r",
      "Exact explainer:   6%|████▎                                                                     | 9/154 [00:00<?, ?it/s]"
     ]
    },
    {
     "name": "stdout",
     "output_type": "stream",
     "text": [
      "739/739 [==============================] - 1s 1ms/step\n",
      "26/26 [==============================] - 0s 1ms/step\n"
     ]
    },
    {
     "name": "stderr",
     "output_type": "stream",
     "text": [
      "\r",
      "Exact explainer:   7%|████▋                                                            | 11/154 [00:12<01:24,  1.69it/s]"
     ]
    },
    {
     "name": "stdout",
     "output_type": "stream",
     "text": [
      "758/758 [==============================] - 1s 1ms/step\n",
      "29/29 [==============================] - 0s 1ms/step\n"
     ]
    },
    {
     "name": "stderr",
     "output_type": "stream",
     "text": [
      "\r",
      "Exact explainer:   8%|█████                                                            | 12/154 [00:13<02:01,  1.17it/s]"
     ]
    },
    {
     "name": "stdout",
     "output_type": "stream",
     "text": [
      "755/755 [==============================] - 1s 1ms/step\n",
      "28/28 [==============================] - 0s 1ms/step\n"
     ]
    },
    {
     "name": "stderr",
     "output_type": "stream",
     "text": [
      "\r",
      "Exact explainer:   8%|█████▍                                                           | 13/154 [00:14<02:20,  1.01it/s]"
     ]
    },
    {
     "name": "stdout",
     "output_type": "stream",
     "text": [
      "767/767 [==============================] - 1s 1ms/step\n",
      "28/28 [==============================] - 0s 2ms/step\n"
     ]
    },
    {
     "name": "stderr",
     "output_type": "stream",
     "text": [
      "\r",
      "Exact explainer:   9%|█████▉                                                           | 14/154 [00:15<02:30,  1.08s/it]"
     ]
    },
    {
     "name": "stdout",
     "output_type": "stream",
     "text": [
      "786/786 [==============================] - 1s 1ms/step\n",
      "28/28 [==============================] - 0s 1ms/step\n"
     ]
    },
    {
     "name": "stderr",
     "output_type": "stream",
     "text": [
      "\r",
      "Exact explainer:  10%|██████▎                                                          | 15/154 [00:16<02:36,  1.13s/it]"
     ]
    },
    {
     "name": "stdout",
     "output_type": "stream",
     "text": [
      "783/783 [==============================] - 1s 1ms/step\n",
      "28/28 [==============================] - 0s 1ms/step\n"
     ]
    },
    {
     "name": "stderr",
     "output_type": "stream",
     "text": [
      "\r",
      "Exact explainer:  10%|██████▊                                                          | 16/154 [00:18<02:41,  1.17s/it]"
     ]
    },
    {
     "name": "stdout",
     "output_type": "stream",
     "text": [
      "783/783 [==============================] - 1s 1ms/step\n",
      "28/28 [==============================] - 0s 1ms/step\n"
     ]
    },
    {
     "name": "stderr",
     "output_type": "stream",
     "text": [
      "\r",
      "Exact explainer:  11%|███████▏                                                         | 17/154 [00:19<02:45,  1.21s/it]"
     ]
    },
    {
     "name": "stdout",
     "output_type": "stream",
     "text": [
      "758/758 [==============================] - 1s 1ms/step\n",
      "28/28 [==============================] - 0s 1ms/step\n"
     ]
    },
    {
     "name": "stderr",
     "output_type": "stream",
     "text": [
      "\r",
      "Exact explainer:  12%|███████▌                                                         | 18/154 [00:20<02:44,  1.21s/it]"
     ]
    },
    {
     "name": "stdout",
     "output_type": "stream",
     "text": [
      "774/774 [==============================] - 1s 1ms/step\n",
      "28/28 [==============================] - 0s 1ms/step\n"
     ]
    },
    {
     "name": "stderr",
     "output_type": "stream",
     "text": [
      "\r",
      "Exact explainer:  12%|████████                                                         | 19/154 [00:22<02:46,  1.23s/it]"
     ]
    },
    {
     "name": "stdout",
     "output_type": "stream",
     "text": [
      "758/758 [==============================] - 1s 1ms/step\n",
      "27/27 [==============================] - 0s 1ms/step\n"
     ]
    },
    {
     "name": "stderr",
     "output_type": "stream",
     "text": [
      "\r",
      "Exact explainer:  13%|████████▍                                                        | 20/154 [00:23<02:44,  1.23s/it]"
     ]
    },
    {
     "name": "stdout",
     "output_type": "stream",
     "text": [
      "779/779 [==============================] - 1s 1ms/step\n",
      "28/28 [==============================] - 0s 1ms/step\n"
     ]
    },
    {
     "name": "stderr",
     "output_type": "stream",
     "text": [
      "\r",
      "Exact explainer:  14%|████████▊                                                        | 21/154 [00:24<02:43,  1.23s/it]"
     ]
    },
    {
     "name": "stdout",
     "output_type": "stream",
     "text": [
      "762/762 [==============================] - 1s 1ms/step\n",
      "27/27 [==============================] - 0s 1ms/step\n"
     ]
    },
    {
     "name": "stderr",
     "output_type": "stream",
     "text": [
      "\r",
      "Exact explainer:  14%|█████████▎                                                       | 22/154 [00:25<02:41,  1.23s/it]"
     ]
    },
    {
     "name": "stdout",
     "output_type": "stream",
     "text": [
      "761/761 [==============================] - 1s 1ms/step\n",
      "28/28 [==============================] - 0s 1ms/step\n"
     ]
    },
    {
     "name": "stderr",
     "output_type": "stream",
     "text": [
      "\r",
      "Exact explainer:  15%|█████████▋                                                       | 23/154 [00:26<02:39,  1.22s/it]"
     ]
    },
    {
     "name": "stdout",
     "output_type": "stream",
     "text": [
      "771/771 [==============================] - 1s 1ms/step\n",
      "29/29 [==============================] - 0s 2ms/step\n"
     ]
    },
    {
     "name": "stderr",
     "output_type": "stream",
     "text": [
      "\r",
      "Exact explainer:  16%|██████████▏                                                      | 24/154 [00:28<02:39,  1.23s/it]"
     ]
    },
    {
     "name": "stdout",
     "output_type": "stream",
     "text": [
      "759/759 [==============================] - 1s 1ms/step\n",
      "28/28 [==============================] - 0s 2ms/step\n"
     ]
    },
    {
     "name": "stderr",
     "output_type": "stream",
     "text": [
      "\r",
      "Exact explainer:  16%|██████████▌                                                      | 25/154 [00:29<02:41,  1.25s/it]"
     ]
    },
    {
     "name": "stdout",
     "output_type": "stream",
     "text": [
      "794/794 [==============================] - 1s 1ms/step\n",
      "28/28 [==============================] - 0s 1ms/step\n"
     ]
    },
    {
     "name": "stderr",
     "output_type": "stream",
     "text": [
      "\r",
      "Exact explainer:  17%|██████████▉                                                      | 26/154 [00:30<02:44,  1.29s/it]"
     ]
    },
    {
     "name": "stdout",
     "output_type": "stream",
     "text": [
      "755/755 [==============================] - 1s 1ms/step\n",
      "28/28 [==============================] - 0s 1ms/step\n"
     ]
    },
    {
     "name": "stderr",
     "output_type": "stream",
     "text": [
      "\r",
      "Exact explainer:  18%|███████████▍                                                     | 27/154 [00:32<02:41,  1.27s/it]"
     ]
    },
    {
     "name": "stdout",
     "output_type": "stream",
     "text": [
      "756/756 [==============================] - 1s 1ms/step\n",
      "28/28 [==============================] - 0s 1ms/step\n"
     ]
    },
    {
     "name": "stderr",
     "output_type": "stream",
     "text": [
      "\r",
      "Exact explainer:  18%|███████████▊                                                     | 28/154 [00:33<02:42,  1.29s/it]"
     ]
    },
    {
     "name": "stdout",
     "output_type": "stream",
     "text": [
      "788/788 [==============================] - 1s 1ms/step\n",
      "28/28 [==============================] - 0s 1ms/step\n"
     ]
    },
    {
     "name": "stderr",
     "output_type": "stream",
     "text": [
      "\r",
      "Exact explainer:  19%|████████████▏                                                    | 29/154 [00:34<02:41,  1.29s/it]"
     ]
    },
    {
     "name": "stdout",
     "output_type": "stream",
     "text": [
      "776/776 [==============================] - 1s 1ms/step\n",
      "28/28 [==============================] - 0s 1ms/step\n"
     ]
    },
    {
     "name": "stderr",
     "output_type": "stream",
     "text": [
      "\r",
      "Exact explainer:  19%|████████████▋                                                    | 30/154 [00:35<02:38,  1.28s/it]"
     ]
    },
    {
     "name": "stdout",
     "output_type": "stream",
     "text": [
      "767/767 [==============================] - 1s 1ms/step\n",
      "28/28 [==============================] - 0s 1ms/step\n"
     ]
    },
    {
     "name": "stderr",
     "output_type": "stream",
     "text": [
      "\r",
      "Exact explainer:  20%|█████████████                                                    | 31/154 [00:37<02:35,  1.27s/it]"
     ]
    },
    {
     "name": "stdout",
     "output_type": "stream",
     "text": [
      "783/783 [==============================] - 1s 1ms/step\n",
      "28/28 [==============================] - 0s 1ms/step\n"
     ]
    },
    {
     "name": "stderr",
     "output_type": "stream",
     "text": [
      "\r",
      "Exact explainer:  21%|█████████████▌                                                   | 32/154 [00:38<02:34,  1.27s/it]"
     ]
    },
    {
     "name": "stdout",
     "output_type": "stream",
     "text": [
      "744/744 [==============================] - 1s 1ms/step\n",
      "27/27 [==============================] - 0s 1ms/step\n"
     ]
    },
    {
     "name": "stderr",
     "output_type": "stream",
     "text": [
      "\r",
      "Exact explainer:  21%|█████████████▉                                                   | 33/154 [00:39<02:31,  1.25s/it]"
     ]
    },
    {
     "name": "stdout",
     "output_type": "stream",
     "text": [
      "782/782 [==============================] - 1s 1ms/step\n",
      "28/28 [==============================] - 0s 2ms/step\n"
     ]
    },
    {
     "name": "stderr",
     "output_type": "stream",
     "text": [
      "\r",
      "Exact explainer:  22%|██████████████▎                                                  | 34/154 [00:40<02:33,  1.28s/it]"
     ]
    },
    {
     "name": "stdout",
     "output_type": "stream",
     "text": [
      "746/746 [==============================] - 1s 1ms/step\n",
      "27/27 [==============================] - 0s 1ms/step\n"
     ]
    },
    {
     "name": "stderr",
     "output_type": "stream",
     "text": [
      "\r",
      "Exact explainer:  23%|██████████████▊                                                  | 35/154 [00:42<02:35,  1.31s/it]"
     ]
    },
    {
     "name": "stdout",
     "output_type": "stream",
     "text": [
      "751/751 [==============================] - 1s 1ms/step\n",
      "27/27 [==============================] - 0s 1ms/step\n"
     ]
    },
    {
     "name": "stderr",
     "output_type": "stream",
     "text": [
      "\r",
      "Exact explainer:  23%|███████████████▏                                                 | 36/154 [00:43<02:32,  1.29s/it]"
     ]
    },
    {
     "name": "stdout",
     "output_type": "stream",
     "text": [
      "781/781 [==============================] - 1s 1ms/step\n",
      "28/28 [==============================] - 0s 1ms/step\n"
     ]
    },
    {
     "name": "stderr",
     "output_type": "stream",
     "text": [
      "\r",
      "Exact explainer:  24%|███████████████▌                                                 | 37/154 [00:44<02:31,  1.29s/it]"
     ]
    },
    {
     "name": "stdout",
     "output_type": "stream",
     "text": [
      "751/751 [==============================] - 1s 1ms/step\n",
      "28/28 [==============================] - 0s 1ms/step\n"
     ]
    },
    {
     "name": "stderr",
     "output_type": "stream",
     "text": [
      "\r",
      "Exact explainer:  25%|████████████████                                                 | 38/154 [00:46<02:26,  1.27s/it]"
     ]
    },
    {
     "name": "stdout",
     "output_type": "stream",
     "text": [
      "743/743 [==============================] - 1s 1ms/step\n",
      "28/28 [==============================] - 0s 1ms/step\n"
     ]
    },
    {
     "name": "stderr",
     "output_type": "stream",
     "text": [
      "\r",
      "Exact explainer:  25%|████████████████▍                                                | 39/154 [00:47<02:22,  1.24s/it]"
     ]
    },
    {
     "name": "stdout",
     "output_type": "stream",
     "text": [
      "755/755 [==============================] - 1s 1ms/step\n",
      "28/28 [==============================] - 0s 1ms/step\n"
     ]
    },
    {
     "name": "stderr",
     "output_type": "stream",
     "text": [
      "\r",
      "Exact explainer:  26%|████████████████▉                                                | 40/154 [00:48<02:21,  1.24s/it]"
     ]
    },
    {
     "name": "stdout",
     "output_type": "stream",
     "text": [
      "751/751 [==============================] - 1s 1ms/step\n",
      "27/27 [==============================] - 0s 2ms/step\n"
     ]
    },
    {
     "name": "stderr",
     "output_type": "stream",
     "text": [
      "\r",
      "Exact explainer:  27%|█████████████████▎                                               | 41/154 [00:49<02:18,  1.23s/it]"
     ]
    },
    {
     "name": "stdout",
     "output_type": "stream",
     "text": [
      "787/787 [==============================] - 1s 1ms/step\n",
      "28/28 [==============================] - 0s 1ms/step\n"
     ]
    },
    {
     "name": "stderr",
     "output_type": "stream",
     "text": [
      "\r",
      "Exact explainer:  27%|█████████████████▋                                               | 42/154 [00:50<02:18,  1.24s/it]"
     ]
    },
    {
     "name": "stdout",
     "output_type": "stream",
     "text": [
      "750/750 [==============================] - 1s 1ms/step\n",
      "27/27 [==============================] - 0s 1ms/step\n"
     ]
    },
    {
     "name": "stderr",
     "output_type": "stream",
     "text": [
      "\r",
      "Exact explainer:  28%|██████████████████▏                                              | 43/154 [00:52<02:16,  1.23s/it]"
     ]
    },
    {
     "name": "stdout",
     "output_type": "stream",
     "text": [
      "752/752 [==============================] - 1s 1ms/step\n",
      "28/28 [==============================] - 0s 1ms/step\n"
     ]
    },
    {
     "name": "stderr",
     "output_type": "stream",
     "text": [
      "\r",
      "Exact explainer:  29%|██████████████████▌                                              | 44/154 [00:53<02:14,  1.22s/it]"
     ]
    },
    {
     "name": "stdout",
     "output_type": "stream",
     "text": [
      "731/731 [==============================] - 1s 1ms/step\n",
      "27/27 [==============================] - 0s 1ms/step\n"
     ]
    },
    {
     "name": "stderr",
     "output_type": "stream",
     "text": [
      "\r",
      "Exact explainer:  29%|██████████████████▉                                              | 45/154 [00:54<02:11,  1.21s/it]"
     ]
    },
    {
     "name": "stdout",
     "output_type": "stream",
     "text": [
      "750/750 [==============================] - 1s 1ms/step\n",
      "27/27 [==============================] - 0s 1ms/step\n"
     ]
    },
    {
     "name": "stderr",
     "output_type": "stream",
     "text": [
      "\r",
      "Exact explainer:  30%|███████████████████▍                                             | 46/154 [00:55<02:12,  1.22s/it]"
     ]
    },
    {
     "name": "stdout",
     "output_type": "stream",
     "text": [
      "787/787 [==============================] - 1s 1ms/step\n",
      "28/28 [==============================] - 0s 1ms/step\n"
     ]
    },
    {
     "name": "stderr",
     "output_type": "stream",
     "text": [
      "\r",
      "Exact explainer:  31%|███████████████████▊                                             | 47/154 [00:57<02:13,  1.25s/it]"
     ]
    },
    {
     "name": "stdout",
     "output_type": "stream",
     "text": [
      "799/799 [==============================] - 1s 1ms/step\n",
      "28/28 [==============================] - 0s 2ms/step\n"
     ]
    },
    {
     "name": "stderr",
     "output_type": "stream",
     "text": [
      "\r",
      "Exact explainer:  31%|████████████████████▎                                            | 48/154 [00:58<02:14,  1.27s/it]"
     ]
    },
    {
     "name": "stdout",
     "output_type": "stream",
     "text": [
      "747/747 [==============================] - 1s 1ms/step\n",
      "28/28 [==============================] - 0s 1ms/step\n"
     ]
    },
    {
     "name": "stderr",
     "output_type": "stream",
     "text": [
      "\r",
      "Exact explainer:  32%|████████████████████▋                                            | 49/154 [00:59<02:11,  1.25s/it]"
     ]
    },
    {
     "name": "stdout",
     "output_type": "stream",
     "text": [
      "739/739 [==============================] - 1s 1ms/step\n",
      "27/27 [==============================] - 0s 1ms/step\n"
     ]
    },
    {
     "name": "stderr",
     "output_type": "stream",
     "text": [
      "\r",
      "Exact explainer:  32%|█████████████████████                                            | 50/154 [01:00<02:08,  1.23s/it]"
     ]
    },
    {
     "name": "stdout",
     "output_type": "stream",
     "text": [
      "777/777 [==============================] - 1s 1ms/step\n",
      "28/28 [==============================] - 0s 1ms/step\n"
     ]
    },
    {
     "name": "stderr",
     "output_type": "stream",
     "text": [
      "\r",
      "Exact explainer:  33%|█████████████████████▌                                           | 51/154 [01:02<02:07,  1.24s/it]"
     ]
    },
    {
     "name": "stdout",
     "output_type": "stream",
     "text": [
      "732/732 [==============================] - 1s 1ms/step\n",
      "28/28 [==============================] - 0s 1ms/step\n"
     ]
    },
    {
     "name": "stderr",
     "output_type": "stream",
     "text": [
      "\r",
      "Exact explainer:  34%|█████████████████████▉                                           | 52/154 [01:03<02:04,  1.22s/it]"
     ]
    },
    {
     "name": "stdout",
     "output_type": "stream",
     "text": [
      "799/799 [==============================] - 1s 1ms/step\n",
      "29/29 [==============================] - 0s 1ms/step\n"
     ]
    },
    {
     "name": "stderr",
     "output_type": "stream",
     "text": [
      "\r",
      "Exact explainer:  34%|██████████████████████▎                                          | 53/154 [01:04<02:05,  1.24s/it]"
     ]
    },
    {
     "name": "stdout",
     "output_type": "stream",
     "text": [
      "780/780 [==============================] - 1s 1ms/step\n",
      "28/28 [==============================] - 0s 1ms/step\n"
     ]
    },
    {
     "name": "stderr",
     "output_type": "stream",
     "text": [
      "\r",
      "Exact explainer:  35%|██████████████████████▊                                          | 54/154 [01:05<02:04,  1.25s/it]"
     ]
    },
    {
     "name": "stdout",
     "output_type": "stream",
     "text": [
      "735/735 [==============================] - 1s 1ms/step\n",
      "26/26 [==============================] - 0s 1ms/step\n"
     ]
    },
    {
     "name": "stderr",
     "output_type": "stream",
     "text": [
      "\r",
      "Exact explainer:  36%|███████████████████████▏                                         | 55/154 [01:07<02:01,  1.23s/it]"
     ]
    },
    {
     "name": "stdout",
     "output_type": "stream",
     "text": [
      "764/764 [==============================] - 1s 1ms/step\n",
      "28/28 [==============================] - 0s 2ms/step\n"
     ]
    },
    {
     "name": "stderr",
     "output_type": "stream",
     "text": [
      "\r",
      "Exact explainer:  36%|███████████████████████▋                                         | 56/154 [01:08<02:00,  1.23s/it]"
     ]
    },
    {
     "name": "stdout",
     "output_type": "stream",
     "text": [
      "776/776 [==============================] - 1s 1ms/step\n",
      "28/28 [==============================] - 0s 1ms/step\n"
     ]
    },
    {
     "name": "stderr",
     "output_type": "stream",
     "text": [
      "\r",
      "Exact explainer:  37%|████████████████████████                                         | 57/154 [01:09<02:00,  1.24s/it]"
     ]
    },
    {
     "name": "stdout",
     "output_type": "stream",
     "text": [
      "762/762 [==============================] - 1s 1ms/step\n",
      "27/27 [==============================] - 0s 1ms/step\n"
     ]
    },
    {
     "name": "stderr",
     "output_type": "stream",
     "text": [
      "\r",
      "Exact explainer:  38%|████████████████████████▍                                        | 58/154 [01:10<01:58,  1.23s/it]"
     ]
    },
    {
     "name": "stdout",
     "output_type": "stream",
     "text": [
      "742/742 [==============================] - 1s 1ms/step\n",
      "27/27 [==============================] - 0s 1ms/step\n"
     ]
    },
    {
     "name": "stderr",
     "output_type": "stream",
     "text": [
      "\r",
      "Exact explainer:  38%|████████████████████████▉                                        | 59/154 [01:11<01:56,  1.23s/it]"
     ]
    },
    {
     "name": "stdout",
     "output_type": "stream",
     "text": [
      "774/774 [==============================] - 1s 1ms/step\n",
      "28/28 [==============================] - 0s 1ms/step\n"
     ]
    },
    {
     "name": "stderr",
     "output_type": "stream",
     "text": [
      "\r",
      "Exact explainer:  39%|█████████████████████████▎                                       | 60/154 [01:13<01:55,  1.23s/it]"
     ]
    },
    {
     "name": "stdout",
     "output_type": "stream",
     "text": [
      "748/748 [==============================] - 1s 1ms/step\n",
      "27/27 [==============================] - 0s 2ms/step\n"
     ]
    },
    {
     "name": "stderr",
     "output_type": "stream",
     "text": [
      "\r",
      "Exact explainer:  40%|█████████████████████████▋                                       | 61/154 [01:14<01:54,  1.23s/it]"
     ]
    },
    {
     "name": "stdout",
     "output_type": "stream",
     "text": [
      "769/769 [==============================] - 1s 1ms/step\n",
      "28/28 [==============================] - 0s 1ms/step\n"
     ]
    },
    {
     "name": "stderr",
     "output_type": "stream",
     "text": [
      "\r",
      "Exact explainer:  40%|██████████████████████████▏                                      | 62/154 [01:15<01:52,  1.22s/it]"
     ]
    },
    {
     "name": "stdout",
     "output_type": "stream",
     "text": [
      "756/756 [==============================] - 1s 1ms/step\n",
      "28/28 [==============================] - 0s 1ms/step\n"
     ]
    },
    {
     "name": "stderr",
     "output_type": "stream",
     "text": [
      "\r",
      "Exact explainer:  41%|██████████████████████████▌                                      | 63/154 [01:16<01:52,  1.23s/it]"
     ]
    },
    {
     "name": "stdout",
     "output_type": "stream",
     "text": [
      "786/786 [==============================] - 1s 1ms/step\n",
      "29/29 [==============================] - 0s 1ms/step\n"
     ]
    },
    {
     "name": "stderr",
     "output_type": "stream",
     "text": [
      "\r",
      "Exact explainer:  42%|███████████████████████████                                      | 64/154 [01:18<01:52,  1.25s/it]"
     ]
    },
    {
     "name": "stdout",
     "output_type": "stream",
     "text": [
      "800/800 [==============================] - 1s 1ms/step\n",
      "29/29 [==============================] - 0s 1ms/step\n"
     ]
    },
    {
     "name": "stderr",
     "output_type": "stream",
     "text": [
      "\r",
      "Exact explainer:  42%|███████████████████████████▍                                     | 65/154 [01:19<01:51,  1.26s/it]"
     ]
    },
    {
     "name": "stdout",
     "output_type": "stream",
     "text": [
      "778/778 [==============================] - 1s 1ms/step\n",
      "28/28 [==============================] - 0s 1ms/step\n"
     ]
    },
    {
     "name": "stderr",
     "output_type": "stream",
     "text": [
      "\r",
      "Exact explainer:  43%|███████████████████████████▊                                     | 66/154 [01:20<01:51,  1.27s/it]"
     ]
    },
    {
     "name": "stdout",
     "output_type": "stream",
     "text": [
      "748/748 [==============================] - 1s 1ms/step\n",
      "28/28 [==============================] - 0s 1ms/step\n"
     ]
    },
    {
     "name": "stderr",
     "output_type": "stream",
     "text": [
      "\r",
      "Exact explainer:  44%|████████████████████████████▎                                    | 67/154 [01:21<01:48,  1.25s/it]"
     ]
    },
    {
     "name": "stdout",
     "output_type": "stream",
     "text": [
      "754/754 [==============================] - 1s 1ms/step\n",
      "28/28 [==============================] - 0s 1ms/step\n"
     ]
    },
    {
     "name": "stderr",
     "output_type": "stream",
     "text": [
      "\r",
      "Exact explainer:  44%|████████████████████████████▋                                    | 68/154 [01:23<01:45,  1.23s/it]"
     ]
    },
    {
     "name": "stdout",
     "output_type": "stream",
     "text": [
      "755/755 [==============================] - 1s 1ms/step\n",
      "27/27 [==============================] - 0s 1ms/step\n"
     ]
    },
    {
     "name": "stderr",
     "output_type": "stream",
     "text": [
      "\r",
      "Exact explainer:  45%|█████████████████████████████                                    | 69/154 [01:24<01:44,  1.23s/it]"
     ]
    },
    {
     "name": "stdout",
     "output_type": "stream",
     "text": [
      "747/747 [==============================] - 1s 1ms/step\n",
      "27/27 [==============================] - 0s 1ms/step\n"
     ]
    },
    {
     "name": "stderr",
     "output_type": "stream",
     "text": [
      "\r",
      "Exact explainer:  45%|█████████████████████████████▌                                   | 70/154 [01:25<01:42,  1.22s/it]"
     ]
    },
    {
     "name": "stdout",
     "output_type": "stream",
     "text": [
      "784/784 [==============================] - 1s 1ms/step\n",
      "28/28 [==============================] - 0s 1ms/step\n"
     ]
    },
    {
     "name": "stderr",
     "output_type": "stream",
     "text": [
      "\r",
      "Exact explainer:  46%|█████████████████████████████▉                                   | 71/154 [01:26<01:43,  1.25s/it]"
     ]
    },
    {
     "name": "stdout",
     "output_type": "stream",
     "text": [
      "781/781 [==============================] - 1s 1ms/step\n",
      "28/28 [==============================] - 0s 1ms/step\n"
     ]
    },
    {
     "name": "stderr",
     "output_type": "stream",
     "text": [
      "\r",
      "Exact explainer:  47%|██████████████████████████████▍                                  | 72/154 [01:28<01:41,  1.24s/it]"
     ]
    },
    {
     "name": "stdout",
     "output_type": "stream",
     "text": [
      "771/771 [==============================] - 1s 1ms/step\n",
      "28/28 [==============================] - 0s 1ms/step\n"
     ]
    },
    {
     "name": "stderr",
     "output_type": "stream",
     "text": [
      "\r",
      "Exact explainer:  47%|██████████████████████████████▊                                  | 73/154 [01:29<01:40,  1.24s/it]"
     ]
    },
    {
     "name": "stdout",
     "output_type": "stream",
     "text": [
      "743/743 [==============================] - 1s 1ms/step\n",
      "27/27 [==============================] - 0s 1ms/step\n"
     ]
    },
    {
     "name": "stderr",
     "output_type": "stream",
     "text": [
      "\r",
      "Exact explainer:  48%|███████████████████████████████▏                                 | 74/154 [01:30<01:38,  1.23s/it]"
     ]
    },
    {
     "name": "stdout",
     "output_type": "stream",
     "text": [
      "780/780 [==============================] - 1s 1ms/step\n",
      "28/28 [==============================] - 0s 1ms/step\n"
     ]
    },
    {
     "name": "stderr",
     "output_type": "stream",
     "text": [
      "\r",
      "Exact explainer:  49%|███████████████████████████████▋                                 | 75/154 [01:31<01:37,  1.23s/it]"
     ]
    },
    {
     "name": "stdout",
     "output_type": "stream",
     "text": [
      "729/729 [==============================] - 1s 1ms/step\n",
      "27/27 [==============================] - 0s 2ms/step\n"
     ]
    },
    {
     "name": "stderr",
     "output_type": "stream",
     "text": [
      "\r",
      "Exact explainer:  49%|████████████████████████████████                                 | 76/154 [01:32<01:34,  1.21s/it]"
     ]
    },
    {
     "name": "stdout",
     "output_type": "stream",
     "text": [
      "757/757 [==============================] - 1s 1ms/step\n",
      "28/28 [==============================] - 0s 1ms/step\n"
     ]
    },
    {
     "name": "stderr",
     "output_type": "stream",
     "text": [
      "\r",
      "Exact explainer:  50%|████████████████████████████████▌                                | 77/154 [01:34<01:34,  1.22s/it]"
     ]
    },
    {
     "name": "stdout",
     "output_type": "stream",
     "text": [
      "762/762 [==============================] - 1s 1ms/step\n",
      "27/27 [==============================] - 0s 1ms/step\n"
     ]
    },
    {
     "name": "stderr",
     "output_type": "stream",
     "text": [
      "\r",
      "Exact explainer:  51%|████████████████████████████████▉                                | 78/154 [01:35<01:33,  1.23s/it]"
     ]
    },
    {
     "name": "stdout",
     "output_type": "stream",
     "text": [
      "792/792 [==============================] - 1s 1ms/step\n",
      "28/28 [==============================] - 0s 1ms/step\n"
     ]
    },
    {
     "name": "stderr",
     "output_type": "stream",
     "text": [
      "\r",
      "Exact explainer:  51%|█████████████████████████████████▎                               | 79/154 [01:36<01:32,  1.24s/it]"
     ]
    },
    {
     "name": "stdout",
     "output_type": "stream",
     "text": [
      "779/779 [==============================] - 1s 1ms/step\n",
      "28/28 [==============================] - 0s 1ms/step\n"
     ]
    },
    {
     "name": "stderr",
     "output_type": "stream",
     "text": [
      "\r",
      "Exact explainer:  52%|█████████████████████████████████▊                               | 80/154 [01:37<01:31,  1.24s/it]"
     ]
    },
    {
     "name": "stdout",
     "output_type": "stream",
     "text": [
      "737/737 [==============================] - 1s 1ms/step\n",
      "27/27 [==============================] - 0s 2ms/step\n"
     ]
    },
    {
     "name": "stderr",
     "output_type": "stream",
     "text": [
      "\r",
      "Exact explainer:  53%|██████████████████████████████████▏                              | 81/154 [01:39<01:29,  1.23s/it]"
     ]
    },
    {
     "name": "stdout",
     "output_type": "stream",
     "text": [
      "756/756 [==============================] - 1s 1ms/step\n",
      "27/27 [==============================] - 0s 1ms/step\n"
     ]
    },
    {
     "name": "stderr",
     "output_type": "stream",
     "text": [
      "\r",
      "Exact explainer:  53%|██████████████████████████████████▌                              | 82/154 [01:40<01:28,  1.23s/it]"
     ]
    },
    {
     "name": "stdout",
     "output_type": "stream",
     "text": [
      "780/780 [==============================] - 1s 1ms/step\n",
      "28/28 [==============================] - 0s 1ms/step\n"
     ]
    },
    {
     "name": "stderr",
     "output_type": "stream",
     "text": [
      "\r",
      "Exact explainer:  54%|███████████████████████████████████                              | 83/154 [01:41<01:27,  1.23s/it]"
     ]
    },
    {
     "name": "stdout",
     "output_type": "stream",
     "text": [
      "776/776 [==============================] - 1s 1ms/step\n",
      "28/28 [==============================] - 0s 1ms/step\n"
     ]
    },
    {
     "name": "stderr",
     "output_type": "stream",
     "text": [
      "\r",
      "Exact explainer:  55%|███████████████████████████████████▍                             | 84/154 [01:42<01:26,  1.24s/it]"
     ]
    },
    {
     "name": "stdout",
     "output_type": "stream",
     "text": [
      "792/792 [==============================] - 1s 1ms/step\n",
      "28/28 [==============================] - 0s 1ms/step\n"
     ]
    },
    {
     "name": "stderr",
     "output_type": "stream",
     "text": [
      "\r",
      "Exact explainer:  55%|███████████████████████████████████▉                             | 85/154 [01:44<01:25,  1.24s/it]"
     ]
    },
    {
     "name": "stdout",
     "output_type": "stream",
     "text": [
      "776/776 [==============================] - 1s 1ms/step\n",
      "28/28 [==============================] - 0s 1ms/step\n"
     ]
    },
    {
     "name": "stderr",
     "output_type": "stream",
     "text": [
      "\r",
      "Exact explainer:  56%|████████████████████████████████████▎                            | 86/154 [01:45<01:24,  1.24s/it]"
     ]
    },
    {
     "name": "stdout",
     "output_type": "stream",
     "text": [
      "791/791 [==============================] - 1s 1ms/step\n",
      "28/28 [==============================] - 0s 1ms/step\n"
     ]
    },
    {
     "name": "stderr",
     "output_type": "stream",
     "text": [
      "\r",
      "Exact explainer:  56%|████████████████████████████████████▋                            | 87/154 [01:46<01:23,  1.24s/it]"
     ]
    },
    {
     "name": "stdout",
     "output_type": "stream",
     "text": [
      "768/768 [==============================] - 1s 1ms/step\n",
      "28/28 [==============================] - 0s 1ms/step\n"
     ]
    },
    {
     "name": "stderr",
     "output_type": "stream",
     "text": [
      "\r",
      "Exact explainer:  57%|█████████████████████████████████████▏                           | 88/154 [01:47<01:21,  1.23s/it]"
     ]
    },
    {
     "name": "stdout",
     "output_type": "stream",
     "text": [
      "774/774 [==============================] - 1s 1ms/step\n",
      "27/27 [==============================] - 0s 1ms/step\n"
     ]
    },
    {
     "name": "stderr",
     "output_type": "stream",
     "text": [
      "\r",
      "Exact explainer:  58%|█████████████████████████████████████▌                           | 89/154 [01:49<01:23,  1.28s/it]"
     ]
    },
    {
     "name": "stdout",
     "output_type": "stream",
     "text": [
      "756/756 [==============================] - 1s 1ms/step\n",
      "28/28 [==============================] - 0s 2ms/step\n"
     ]
    },
    {
     "name": "stderr",
     "output_type": "stream",
     "text": [
      "\r",
      "Exact explainer:  58%|█████████████████████████████████████▉                           | 90/154 [01:50<01:21,  1.28s/it]"
     ]
    },
    {
     "name": "stdout",
     "output_type": "stream",
     "text": [
      "783/783 [==============================] - 1s 1ms/step\n",
      "28/28 [==============================] - 0s 1ms/step\n"
     ]
    },
    {
     "name": "stderr",
     "output_type": "stream",
     "text": [
      "\r",
      "Exact explainer:  59%|██████████████████████████████████████▍                          | 91/154 [01:51<01:21,  1.29s/it]"
     ]
    },
    {
     "name": "stdout",
     "output_type": "stream",
     "text": [
      "783/783 [==============================] - 1s 1ms/step\n",
      "28/28 [==============================] - 0s 1ms/step\n"
     ]
    },
    {
     "name": "stderr",
     "output_type": "stream",
     "text": [
      "\r",
      "Exact explainer:  60%|██████████████████████████████████████▊                          | 92/154 [01:53<01:20,  1.30s/it]"
     ]
    },
    {
     "name": "stdout",
     "output_type": "stream",
     "text": [
      "727/727 [==============================] - 1s 1ms/step\n",
      "27/27 [==============================] - 0s 1ms/step\n"
     ]
    },
    {
     "name": "stderr",
     "output_type": "stream",
     "text": [
      "\r",
      "Exact explainer:  60%|███████████████████████████████████████▎                         | 93/154 [01:54<01:17,  1.27s/it]"
     ]
    },
    {
     "name": "stdout",
     "output_type": "stream",
     "text": [
      "743/743 [==============================] - 1s 1ms/step\n",
      "27/27 [==============================] - 0s 1ms/step\n"
     ]
    },
    {
     "name": "stderr",
     "output_type": "stream",
     "text": [
      "\r",
      "Exact explainer:  61%|███████████████████████████████████████▋                         | 94/154 [01:55<01:15,  1.26s/it]"
     ]
    },
    {
     "name": "stdout",
     "output_type": "stream",
     "text": [
      "731/731 [==============================] - 1s 1ms/step\n",
      "27/27 [==============================] - 0s 1ms/step\n"
     ]
    },
    {
     "name": "stderr",
     "output_type": "stream",
     "text": [
      "\r",
      "Exact explainer:  62%|████████████████████████████████████████                         | 95/154 [01:56<01:13,  1.24s/it]"
     ]
    },
    {
     "name": "stdout",
     "output_type": "stream",
     "text": [
      "783/783 [==============================] - 1s 1ms/step\n",
      "28/28 [==============================] - 0s 1ms/step\n"
     ]
    },
    {
     "name": "stderr",
     "output_type": "stream",
     "text": [
      "\r",
      "Exact explainer:  62%|████████████████████████████████████████▌                        | 96/154 [01:58<01:12,  1.26s/it]"
     ]
    },
    {
     "name": "stdout",
     "output_type": "stream",
     "text": [
      "755/755 [==============================] - 1s 1ms/step\n",
      "28/28 [==============================] - 0s 2ms/step\n"
     ]
    },
    {
     "name": "stderr",
     "output_type": "stream",
     "text": [
      "\r",
      "Exact explainer:  63%|████████████████████████████████████████▉                        | 97/154 [01:59<01:11,  1.25s/it]"
     ]
    },
    {
     "name": "stdout",
     "output_type": "stream",
     "text": [
      "750/750 [==============================] - 1s 1ms/step\n",
      "27/27 [==============================] - 0s 1ms/step\n"
     ]
    },
    {
     "name": "stderr",
     "output_type": "stream",
     "text": [
      "\r",
      "Exact explainer:  64%|█████████████████████████████████████████▎                       | 98/154 [02:00<01:09,  1.25s/it]"
     ]
    },
    {
     "name": "stdout",
     "output_type": "stream",
     "text": [
      "777/777 [==============================] - 1s 1ms/step\n",
      "28/28 [==============================] - 0s 2ms/step\n"
     ]
    },
    {
     "name": "stderr",
     "output_type": "stream",
     "text": [
      "\r",
      "Exact explainer:  64%|█████████████████████████████████████████▊                       | 99/154 [02:01<01:09,  1.26s/it]"
     ]
    },
    {
     "name": "stdout",
     "output_type": "stream",
     "text": [
      "759/759 [==============================] - 1s 1ms/step\n",
      "28/28 [==============================] - 0s 1ms/step\n"
     ]
    },
    {
     "name": "stderr",
     "output_type": "stream",
     "text": [
      "\r",
      "Exact explainer:  65%|█████████████████████████████████████████▌                      | 100/154 [02:03<01:08,  1.26s/it]"
     ]
    },
    {
     "name": "stdout",
     "output_type": "stream",
     "text": [
      "743/743 [==============================] - 1s 1ms/step\n",
      "27/27 [==============================] - 0s 1ms/step\n"
     ]
    },
    {
     "name": "stderr",
     "output_type": "stream",
     "text": [
      "\r",
      "Exact explainer:  66%|█████████████████████████████████████████▉                      | 101/154 [02:04<01:06,  1.26s/it]"
     ]
    },
    {
     "name": "stdout",
     "output_type": "stream",
     "text": [
      "792/792 [==============================] - 1s 1ms/step\n",
      "28/28 [==============================] - 0s 1ms/step\n"
     ]
    },
    {
     "name": "stderr",
     "output_type": "stream",
     "text": [
      "\r",
      "Exact explainer:  66%|██████████████████████████████████████████▍                     | 102/154 [02:05<01:06,  1.27s/it]"
     ]
    },
    {
     "name": "stdout",
     "output_type": "stream",
     "text": [
      "763/763 [==============================] - 1s 1ms/step\n",
      "28/28 [==============================] - 0s 1ms/step\n"
     ]
    },
    {
     "name": "stderr",
     "output_type": "stream",
     "text": [
      "\r",
      "Exact explainer:  67%|██████████████████████████████████████████▊                     | 103/154 [02:06<01:04,  1.27s/it]"
     ]
    },
    {
     "name": "stdout",
     "output_type": "stream",
     "text": [
      "748/748 [==============================] - 1s 1ms/step\n",
      "27/27 [==============================] - 0s 1ms/step\n"
     ]
    },
    {
     "name": "stderr",
     "output_type": "stream",
     "text": [
      "\r",
      "Exact explainer:  68%|███████████████████████████████████████████▏                    | 104/154 [02:08<01:03,  1.27s/it]"
     ]
    },
    {
     "name": "stdout",
     "output_type": "stream",
     "text": [
      "763/763 [==============================] - 1s 1ms/step\n",
      "28/28 [==============================] - 0s 1ms/step\n"
     ]
    },
    {
     "name": "stderr",
     "output_type": "stream",
     "text": [
      "\r",
      "Exact explainer:  68%|███████████████████████████████████████████▋                    | 105/154 [02:09<01:01,  1.26s/it]"
     ]
    },
    {
     "name": "stdout",
     "output_type": "stream",
     "text": [
      "751/751 [==============================] - 1s 1ms/step\n",
      "27/27 [==============================] - 0s 1ms/step\n"
     ]
    },
    {
     "name": "stderr",
     "output_type": "stream",
     "text": [
      "\r",
      "Exact explainer:  69%|████████████████████████████████████████████                    | 106/154 [02:10<01:00,  1.26s/it]"
     ]
    },
    {
     "name": "stdout",
     "output_type": "stream",
     "text": [
      "783/783 [==============================] - 1s 1ms/step\n",
      "28/28 [==============================] - 0s 1ms/step\n"
     ]
    },
    {
     "name": "stderr",
     "output_type": "stream",
     "text": [
      "\r",
      "Exact explainer:  69%|████████████████████████████████████████████▍                   | 107/154 [02:11<00:59,  1.26s/it]"
     ]
    },
    {
     "name": "stdout",
     "output_type": "stream",
     "text": [
      "778/778 [==============================] - 1s 1ms/step\n",
      "28/28 [==============================] - 0s 1ms/step\n"
     ]
    },
    {
     "name": "stderr",
     "output_type": "stream",
     "text": [
      "\r",
      "Exact explainer:  70%|████████████████████████████████████████████▉                   | 108/154 [02:13<00:58,  1.27s/it]"
     ]
    },
    {
     "name": "stdout",
     "output_type": "stream",
     "text": [
      "790/790 [==============================] - 1s 1ms/step\n",
      "28/28 [==============================] - 0s 1ms/step\n"
     ]
    },
    {
     "name": "stderr",
     "output_type": "stream",
     "text": [
      "\r",
      "Exact explainer:  71%|█████████████████████████████████████████████▎                  | 109/154 [02:14<00:57,  1.28s/it]"
     ]
    },
    {
     "name": "stdout",
     "output_type": "stream",
     "text": [
      "786/786 [==============================] - 1s 1ms/step\n",
      "28/28 [==============================] - 0s 1ms/step\n"
     ]
    },
    {
     "name": "stderr",
     "output_type": "stream",
     "text": [
      "\r",
      "Exact explainer:  71%|█████████████████████████████████████████████▋                  | 110/154 [02:15<00:56,  1.28s/it]"
     ]
    },
    {
     "name": "stdout",
     "output_type": "stream",
     "text": [
      "759/759 [==============================] - 1s 1ms/step\n",
      "28/28 [==============================] - 0s 1ms/step\n"
     ]
    },
    {
     "name": "stderr",
     "output_type": "stream",
     "text": [
      "\r",
      "Exact explainer:  72%|██████████████████████████████████████████████▏                 | 111/154 [02:17<00:54,  1.27s/it]"
     ]
    },
    {
     "name": "stdout",
     "output_type": "stream",
     "text": [
      "755/755 [==============================] - 1s 1ms/step\n",
      "28/28 [==============================] - 0s 1ms/step\n"
     ]
    },
    {
     "name": "stderr",
     "output_type": "stream",
     "text": [
      "\r",
      "Exact explainer:  73%|██████████████████████████████████████████████▌                 | 112/154 [02:18<00:53,  1.27s/it]"
     ]
    },
    {
     "name": "stdout",
     "output_type": "stream",
     "text": [
      "746/746 [==============================] - 1s 1ms/step\n",
      "27/27 [==============================] - 0s 1ms/step\n"
     ]
    },
    {
     "name": "stderr",
     "output_type": "stream",
     "text": [
      "\r",
      "Exact explainer:  73%|██████████████████████████████████████████████▉                 | 113/154 [02:19<00:51,  1.26s/it]"
     ]
    },
    {
     "name": "stdout",
     "output_type": "stream",
     "text": [
      "738/738 [==============================] - 1s 1ms/step\n",
      "27/27 [==============================] - 0s 1ms/step\n"
     ]
    },
    {
     "name": "stderr",
     "output_type": "stream",
     "text": [
      "\r",
      "Exact explainer:  74%|███████████████████████████████████████████████▍                | 114/154 [02:20<00:50,  1.25s/it]"
     ]
    },
    {
     "name": "stdout",
     "output_type": "stream",
     "text": [
      "782/782 [==============================] - 1s 1ms/step\n",
      "28/28 [==============================] - 0s 1ms/step\n"
     ]
    },
    {
     "name": "stderr",
     "output_type": "stream",
     "text": [
      "\r",
      "Exact explainer:  75%|███████████████████████████████████████████████▊                | 115/154 [02:22<00:49,  1.26s/it]"
     ]
    },
    {
     "name": "stdout",
     "output_type": "stream",
     "text": [
      "775/775 [==============================] - 1s 1ms/step\n",
      "28/28 [==============================] - 0s 1ms/step\n"
     ]
    },
    {
     "name": "stderr",
     "output_type": "stream",
     "text": [
      "\r",
      "Exact explainer:  75%|████████████████████████████████████████████████▏               | 116/154 [02:23<00:50,  1.32s/it]"
     ]
    },
    {
     "name": "stdout",
     "output_type": "stream",
     "text": [
      "731/731 [==============================] - 1s 1ms/step\n",
      "28/28 [==============================] - 0s 2ms/step\n"
     ]
    },
    {
     "name": "stderr",
     "output_type": "stream",
     "text": [
      "\r",
      "Exact explainer:  76%|████████████████████████████████████████████████▌               | 117/154 [02:24<00:48,  1.31s/it]"
     ]
    },
    {
     "name": "stdout",
     "output_type": "stream",
     "text": [
      "752/752 [==============================] - 1s 1ms/step\n",
      "28/28 [==============================] - 0s 1ms/step\n"
     ]
    },
    {
     "name": "stderr",
     "output_type": "stream",
     "text": [
      "\r",
      "Exact explainer:  77%|█████████████████████████████████████████████████               | 118/154 [02:26<00:48,  1.35s/it]"
     ]
    },
    {
     "name": "stdout",
     "output_type": "stream",
     "text": [
      "724/724 [==============================] - 1s 1ms/step\n",
      "27/27 [==============================] - 0s 1ms/step\n"
     ]
    },
    {
     "name": "stderr",
     "output_type": "stream",
     "text": [
      "\r",
      "Exact explainer:  77%|█████████████████████████████████████████████████▍              | 119/154 [02:27<00:45,  1.31s/it]"
     ]
    },
    {
     "name": "stdout",
     "output_type": "stream",
     "text": [
      "746/746 [==============================] - 1s 1ms/step\n",
      "27/27 [==============================] - 0s 1ms/step\n"
     ]
    },
    {
     "name": "stderr",
     "output_type": "stream",
     "text": [
      "\r",
      "Exact explainer:  78%|█████████████████████████████████████████████████▊              | 120/154 [02:28<00:43,  1.28s/it]"
     ]
    },
    {
     "name": "stdout",
     "output_type": "stream",
     "text": [
      "727/727 [==============================] - 1s 1ms/step\n",
      "27/27 [==============================] - 0s 1ms/step\n"
     ]
    },
    {
     "name": "stderr",
     "output_type": "stream",
     "text": [
      "\r",
      "Exact explainer:  79%|██████████████████████████████████████████████████▎             | 121/154 [02:29<00:41,  1.25s/it]"
     ]
    },
    {
     "name": "stdout",
     "output_type": "stream",
     "text": [
      "723/723 [==============================] - 1s 1ms/step\n",
      "27/27 [==============================] - 0s 1ms/step\n"
     ]
    },
    {
     "name": "stderr",
     "output_type": "stream",
     "text": [
      "\r",
      "Exact explainer:  79%|██████████████████████████████████████████████████▋             | 122/154 [02:31<00:39,  1.24s/it]"
     ]
    },
    {
     "name": "stdout",
     "output_type": "stream",
     "text": [
      "779/779 [==============================] - 1s 1ms/step\n",
      "28/28 [==============================] - 0s 1ms/step\n"
     ]
    },
    {
     "name": "stderr",
     "output_type": "stream",
     "text": [
      "\r",
      "Exact explainer:  80%|███████████████████████████████████████████████████             | 123/154 [02:32<00:38,  1.26s/it]"
     ]
    },
    {
     "name": "stdout",
     "output_type": "stream",
     "text": [
      "737/737 [==============================] - 1s 1ms/step\n",
      "28/28 [==============================] - 0s 1ms/step\n"
     ]
    },
    {
     "name": "stderr",
     "output_type": "stream",
     "text": [
      "\r",
      "Exact explainer:  81%|███████████████████████████████████████████████████▌            | 124/154 [02:33<00:36,  1.23s/it]"
     ]
    },
    {
     "name": "stdout",
     "output_type": "stream",
     "text": [
      "783/783 [==============================] - 1s 1ms/step\n",
      "28/28 [==============================] - 0s 1ms/step\n"
     ]
    },
    {
     "name": "stderr",
     "output_type": "stream",
     "text": [
      "\r",
      "Exact explainer:  81%|███████████████████████████████████████████████████▉            | 125/154 [02:34<00:36,  1.25s/it]"
     ]
    },
    {
     "name": "stdout",
     "output_type": "stream",
     "text": [
      "746/746 [==============================] - 1s 1ms/step\n",
      "27/27 [==============================] - 0s 1ms/step\n"
     ]
    },
    {
     "name": "stderr",
     "output_type": "stream",
     "text": [
      "\r",
      "Exact explainer:  82%|████████████████████████████████████████████████████▎           | 126/154 [02:36<00:34,  1.23s/it]"
     ]
    },
    {
     "name": "stdout",
     "output_type": "stream",
     "text": [
      "798/798 [==============================] - 1s 1ms/step\n",
      "29/29 [==============================] - 0s 1ms/step\n"
     ]
    },
    {
     "name": "stderr",
     "output_type": "stream",
     "text": [
      "\r",
      "Exact explainer:  82%|████████████████████████████████████████████████████▊           | 127/154 [02:37<00:33,  1.26s/it]"
     ]
    },
    {
     "name": "stdout",
     "output_type": "stream",
     "text": [
      "744/744 [==============================] - 1s 1ms/step\n",
      "27/27 [==============================] - 0s 1ms/step\n"
     ]
    },
    {
     "name": "stderr",
     "output_type": "stream",
     "text": [
      "\r",
      "Exact explainer:  83%|█████████████████████████████████████████████████████▏          | 128/154 [02:38<00:32,  1.24s/it]"
     ]
    },
    {
     "name": "stdout",
     "output_type": "stream",
     "text": [
      "767/767 [==============================] - 1s 1ms/step\n",
      "27/27 [==============================] - 0s 1ms/step\n"
     ]
    },
    {
     "name": "stderr",
     "output_type": "stream",
     "text": [
      "\r",
      "Exact explainer:  84%|█████████████████████████████████████████████████████▌          | 129/154 [02:39<00:31,  1.25s/it]"
     ]
    },
    {
     "name": "stdout",
     "output_type": "stream",
     "text": [
      "741/741 [==============================] - 1s 1ms/step\n",
      "27/27 [==============================] - 0s 1ms/step\n"
     ]
    },
    {
     "name": "stderr",
     "output_type": "stream",
     "text": [
      "\r",
      "Exact explainer:  84%|██████████████████████████████████████████████████████          | 130/154 [02:40<00:29,  1.23s/it]"
     ]
    },
    {
     "name": "stdout",
     "output_type": "stream",
     "text": [
      "767/767 [==============================] - 1s 1ms/step\n",
      "28/28 [==============================] - 0s 1ms/step\n"
     ]
    },
    {
     "name": "stderr",
     "output_type": "stream",
     "text": [
      "\r",
      "Exact explainer:  85%|██████████████████████████████████████████████████████▍         | 131/154 [02:42<00:28,  1.23s/it]"
     ]
    },
    {
     "name": "stdout",
     "output_type": "stream",
     "text": [
      "754/754 [==============================] - 1s 1ms/step\n",
      "27/27 [==============================] - 0s 1ms/step\n"
     ]
    },
    {
     "name": "stderr",
     "output_type": "stream",
     "text": [
      "\r",
      "Exact explainer:  86%|██████████████████████████████████████████████████████▊         | 132/154 [02:43<00:26,  1.22s/it]"
     ]
    },
    {
     "name": "stdout",
     "output_type": "stream",
     "text": [
      "763/763 [==============================] - 1s 1ms/step\n",
      "28/28 [==============================] - 0s 1ms/step\n"
     ]
    },
    {
     "name": "stderr",
     "output_type": "stream",
     "text": [
      "\r",
      "Exact explainer:  86%|███████████████████████████████████████████████████████▎        | 133/154 [02:44<00:25,  1.22s/it]"
     ]
    },
    {
     "name": "stdout",
     "output_type": "stream",
     "text": [
      "760/760 [==============================] - 1s 1ms/step\n",
      "28/28 [==============================] - 0s 1ms/step\n"
     ]
    },
    {
     "name": "stderr",
     "output_type": "stream",
     "text": [
      "\r",
      "Exact explainer:  87%|███████████████████████████████████████████████████████▋        | 134/154 [02:45<00:24,  1.23s/it]"
     ]
    },
    {
     "name": "stdout",
     "output_type": "stream",
     "text": [
      "784/784 [==============================] - 1s 1ms/step\n",
      "28/28 [==============================] - 0s 1ms/step\n"
     ]
    },
    {
     "name": "stderr",
     "output_type": "stream",
     "text": [
      "\r",
      "Exact explainer:  88%|████████████████████████████████████████████████████████        | 135/154 [02:47<00:23,  1.25s/it]"
     ]
    },
    {
     "name": "stdout",
     "output_type": "stream",
     "text": [
      "782/782 [==============================] - 1s 1ms/step\n",
      "28/28 [==============================] - 0s 1ms/step\n"
     ]
    },
    {
     "name": "stderr",
     "output_type": "stream",
     "text": [
      "\r",
      "Exact explainer:  88%|████████████████████████████████████████████████████████▌       | 136/154 [02:48<00:22,  1.27s/it]"
     ]
    },
    {
     "name": "stdout",
     "output_type": "stream",
     "text": [
      "754/754 [==============================] - 1s 1ms/step\n",
      "27/27 [==============================] - 0s 1ms/step\n"
     ]
    },
    {
     "name": "stderr",
     "output_type": "stream",
     "text": [
      "\r",
      "Exact explainer:  89%|████████████████████████████████████████████████████████▉       | 137/154 [02:49<00:21,  1.27s/it]"
     ]
    },
    {
     "name": "stdout",
     "output_type": "stream",
     "text": [
      "745/745 [==============================] - 1s 1ms/step\n",
      "27/27 [==============================] - 0s 1ms/step\n"
     ]
    },
    {
     "name": "stderr",
     "output_type": "stream",
     "text": [
      "\r",
      "Exact explainer:  90%|█████████████████████████████████████████████████████████▎      | 138/154 [02:50<00:19,  1.24s/it]"
     ]
    },
    {
     "name": "stdout",
     "output_type": "stream",
     "text": [
      "763/763 [==============================] - 1s 1ms/step\n",
      "27/27 [==============================] - 0s 1ms/step\n"
     ]
    },
    {
     "name": "stderr",
     "output_type": "stream",
     "text": [
      "\r",
      "Exact explainer:  90%|█████████████████████████████████████████████████████████▊      | 139/154 [02:52<00:18,  1.24s/it]"
     ]
    },
    {
     "name": "stdout",
     "output_type": "stream",
     "text": [
      "786/786 [==============================] - 1s 1ms/step\n",
      "28/28 [==============================] - 0s 1ms/step\n"
     ]
    },
    {
     "name": "stderr",
     "output_type": "stream",
     "text": [
      "\r",
      "Exact explainer:  91%|██████████████████████████████████████████████████████████▏     | 140/154 [02:53<00:17,  1.26s/it]"
     ]
    },
    {
     "name": "stdout",
     "output_type": "stream",
     "text": [
      "780/780 [==============================] - 1s 1ms/step\n",
      "28/28 [==============================] - 0s 1ms/step\n"
     ]
    },
    {
     "name": "stderr",
     "output_type": "stream",
     "text": [
      "\r",
      "Exact explainer:  92%|██████████████████████████████████████████████████████████▌     | 141/154 [02:54<00:16,  1.26s/it]"
     ]
    },
    {
     "name": "stdout",
     "output_type": "stream",
     "text": [
      "743/743 [==============================] - 1s 1ms/step\n",
      "27/27 [==============================] - 0s 1ms/step\n"
     ]
    },
    {
     "name": "stderr",
     "output_type": "stream",
     "text": [
      "\r",
      "Exact explainer:  92%|███████████████████████████████████████████████████████████     | 142/154 [02:55<00:14,  1.25s/it]"
     ]
    },
    {
     "name": "stdout",
     "output_type": "stream",
     "text": [
      "739/739 [==============================] - 1s 1ms/step\n",
      "27/27 [==============================] - 0s 1ms/step\n"
     ]
    },
    {
     "name": "stderr",
     "output_type": "stream",
     "text": [
      "\r",
      "Exact explainer:  93%|███████████████████████████████████████████████████████████▍    | 143/154 [02:57<00:13,  1.26s/it]"
     ]
    },
    {
     "name": "stdout",
     "output_type": "stream",
     "text": [
      "724/724 [==============================] - 1s 1ms/step\n",
      "26/26 [==============================] - 0s 1ms/step\n"
     ]
    },
    {
     "name": "stderr",
     "output_type": "stream",
     "text": [
      "\r",
      "Exact explainer:  94%|███████████████████████████████████████████████████████████▊    | 144/154 [02:58<00:12,  1.26s/it]"
     ]
    },
    {
     "name": "stdout",
     "output_type": "stream",
     "text": [
      "760/760 [==============================] - 1s 1ms/step\n",
      "28/28 [==============================] - 0s 1ms/step\n"
     ]
    },
    {
     "name": "stderr",
     "output_type": "stream",
     "text": [
      "\r",
      "Exact explainer:  94%|████████████████████████████████████████████████████████████▎   | 145/154 [02:59<00:11,  1.25s/it]"
     ]
    },
    {
     "name": "stdout",
     "output_type": "stream",
     "text": [
      "745/745 [==============================] - 1s 1ms/step\n",
      "27/27 [==============================] - 0s 2ms/step\n"
     ]
    },
    {
     "name": "stderr",
     "output_type": "stream",
     "text": [
      "\r",
      "Exact explainer:  95%|████████████████████████████████████████████████████████████▋   | 146/154 [03:00<00:09,  1.24s/it]"
     ]
    },
    {
     "name": "stdout",
     "output_type": "stream",
     "text": [
      "767/767 [==============================] - 1s 1ms/step\n",
      "28/28 [==============================] - 0s 1ms/step\n"
     ]
    },
    {
     "name": "stderr",
     "output_type": "stream",
     "text": [
      "\r",
      "Exact explainer:  95%|█████████████████████████████████████████████████████████████   | 147/154 [03:02<00:08,  1.25s/it]"
     ]
    },
    {
     "name": "stdout",
     "output_type": "stream",
     "text": [
      "761/761 [==============================] - 1s 1ms/step\n",
      "28/28 [==============================] - 0s 1ms/step\n"
     ]
    },
    {
     "name": "stderr",
     "output_type": "stream",
     "text": [
      "\r",
      "Exact explainer:  96%|█████████████████████████████████████████████████████████████▌  | 148/154 [03:03<00:07,  1.24s/it]"
     ]
    },
    {
     "name": "stdout",
     "output_type": "stream",
     "text": [
      "729/729 [==============================] - 1s 1ms/step\n",
      "28/28 [==============================] - 0s 1ms/step\n"
     ]
    },
    {
     "name": "stderr",
     "output_type": "stream",
     "text": [
      "\r",
      "Exact explainer:  97%|█████████████████████████████████████████████████████████████▉  | 149/154 [03:04<00:06,  1.23s/it]"
     ]
    },
    {
     "name": "stdout",
     "output_type": "stream",
     "text": [
      "734/734 [==============================] - 1s 1ms/step\n",
      "28/28 [==============================] - 0s 1ms/step\n"
     ]
    },
    {
     "name": "stderr",
     "output_type": "stream",
     "text": [
      "\r",
      "Exact explainer:  97%|██████████████████████████████████████████████████████████████▎ | 150/154 [03:05<00:04,  1.23s/it]"
     ]
    },
    {
     "name": "stdout",
     "output_type": "stream",
     "text": [
      "755/755 [==============================] - 1s 1ms/step\n",
      "27/27 [==============================] - 0s 1ms/step\n"
     ]
    },
    {
     "name": "stderr",
     "output_type": "stream",
     "text": [
      "\r",
      "Exact explainer:  98%|██████████████████████████████████████████████████████████████▊ | 151/154 [03:07<00:03,  1.25s/it]"
     ]
    },
    {
     "name": "stdout",
     "output_type": "stream",
     "text": [
      "775/775 [==============================] - 1s 1ms/step\n",
      "28/28 [==============================] - 0s 1ms/step\n"
     ]
    },
    {
     "name": "stderr",
     "output_type": "stream",
     "text": [
      "\r",
      "Exact explainer:  99%|███████████████████████████████████████████████████████████████▏| 152/154 [03:08<00:02,  1.28s/it]"
     ]
    },
    {
     "name": "stdout",
     "output_type": "stream",
     "text": [
      "755/755 [==============================] - 1s 1ms/step\n",
      "27/27 [==============================] - 0s 1ms/step\n"
     ]
    },
    {
     "name": "stderr",
     "output_type": "stream",
     "text": [
      "\r",
      "Exact explainer:  99%|███████████████████████████████████████████████████████████████▌| 153/154 [03:09<00:01,  1.27s/it]"
     ]
    },
    {
     "name": "stdout",
     "output_type": "stream",
     "text": [
      "767/767 [==============================] - 1s 1ms/step\n",
      "28/28 [==============================] - 0s 1ms/step\n"
     ]
    },
    {
     "name": "stderr",
     "output_type": "stream",
     "text": [
      "\r",
      "Exact explainer: 100%|████████████████████████████████████████████████████████████████| 154/154 [03:11<00:00,  1.27s/it]"
     ]
    },
    {
     "name": "stdout",
     "output_type": "stream",
     "text": [
      "793/793 [==============================] - 1s 1ms/step\n",
      "28/28 [==============================] - 0s 1ms/step\n"
     ]
    },
    {
     "name": "stderr",
     "output_type": "stream",
     "text": [
      "Exact explainer: 155it [03:12,  1.32s/it]                                                                               "
     ]
    },
    {
     "name": "stdout",
     "output_type": "stream",
     "text": [
      "-> m2\n",
      " 76/780 [=>............................] - ETA: 0s"
     ]
    },
    {
     "name": "stderr",
     "output_type": "stream",
     "text": [
      "\n"
     ]
    },
    {
     "name": "stdout",
     "output_type": "stream",
     "text": [
      "780/780 [==============================] - 1s 1ms/step\n",
      "730/730 [==============================] - 1s 1ms/step\n",
      "28/28 [==============================] - 0s 1ms/step\n",
      "725/725 [==============================] - 1s 1ms/step\n",
      "27/27 [==============================] - 0s 1ms/step\n",
      "763/763 [==============================] - 1s 1ms/step\n",
      "27/27 [==============================] - 0s 2ms/step\n",
      "759/759 [==============================] - 1s 1ms/step\n",
      "27/27 [==============================] - 0s 1ms/step\n",
      "795/795 [==============================] - 1s 1ms/step\n",
      "29/29 [==============================] - 0s 1ms/step\n",
      "779/779 [==============================] - 1s 1ms/step\n",
      "28/28 [==============================] - 0s 1ms/step\n",
      "762/762 [==============================] - 1s 1ms/step\n",
      "27/27 [==============================] - 0s 2ms/step\n"
     ]
    },
    {
     "name": "stderr",
     "output_type": "stream",
     "text": [
      "\r",
      "Exact explainer:   5%|███▊                                                                      | 8/154 [00:00<?, ?it/s]"
     ]
    },
    {
     "name": "stdout",
     "output_type": "stream",
     "text": [
      "794/794 [==============================] - 1s 1ms/step\n",
      "28/28 [==============================] - 0s 1ms/step\n"
     ]
    },
    {
     "name": "stderr",
     "output_type": "stream",
     "text": [
      "\r",
      "Exact explainer:   6%|████▏                                                            | 10/154 [00:11<01:33,  1.53it/s]"
     ]
    },
    {
     "name": "stdout",
     "output_type": "stream",
     "text": [
      "739/739 [==============================] - 1s 1ms/step\n",
      "26/26 [==============================] - 0s 2ms/step\n"
     ]
    },
    {
     "name": "stderr",
     "output_type": "stream",
     "text": [
      "\r",
      "Exact explainer:   7%|████▋                                                            | 11/154 [00:12<02:09,  1.11it/s]"
     ]
    },
    {
     "name": "stdout",
     "output_type": "stream",
     "text": [
      "758/758 [==============================] - 1s 1ms/step\n",
      "29/29 [==============================] - 0s 1ms/step\n"
     ]
    },
    {
     "name": "stderr",
     "output_type": "stream",
     "text": [
      "\r",
      "Exact explainer:   8%|█████                                                            | 12/154 [00:14<02:28,  1.04s/it]"
     ]
    },
    {
     "name": "stdout",
     "output_type": "stream",
     "text": [
      "755/755 [==============================] - 1s 1ms/step\n",
      "28/28 [==============================] - 0s 1ms/step\n"
     ]
    },
    {
     "name": "stderr",
     "output_type": "stream",
     "text": [
      "\r",
      "Exact explainer:   8%|█████▍                                                           | 13/154 [00:15<02:37,  1.12s/it]"
     ]
    },
    {
     "name": "stdout",
     "output_type": "stream",
     "text": [
      "767/767 [==============================] - 1s 1ms/step\n",
      "28/28 [==============================] - 0s 1ms/step\n"
     ]
    },
    {
     "name": "stderr",
     "output_type": "stream",
     "text": [
      "\r",
      "Exact explainer:   9%|█████▉                                                           | 14/154 [00:16<02:42,  1.16s/it]"
     ]
    },
    {
     "name": "stdout",
     "output_type": "stream",
     "text": [
      "786/786 [==============================] - 1s 1ms/step\n",
      "28/28 [==============================] - 0s 1ms/step\n"
     ]
    },
    {
     "name": "stderr",
     "output_type": "stream",
     "text": [
      "\r",
      "Exact explainer:  10%|██████▎                                                          | 15/154 [00:17<02:47,  1.20s/it]"
     ]
    },
    {
     "name": "stdout",
     "output_type": "stream",
     "text": [
      "783/783 [==============================] - 1s 1ms/step\n",
      "28/28 [==============================] - 0s 1ms/step\n"
     ]
    },
    {
     "name": "stderr",
     "output_type": "stream",
     "text": [
      "\r",
      "Exact explainer:  10%|██████▊                                                          | 16/154 [00:19<02:49,  1.23s/it]"
     ]
    },
    {
     "name": "stdout",
     "output_type": "stream",
     "text": [
      "783/783 [==============================] - 1s 1ms/step\n",
      "28/28 [==============================] - 0s 1ms/step\n"
     ]
    },
    {
     "name": "stderr",
     "output_type": "stream",
     "text": [
      "\r",
      "Exact explainer:  11%|███████▏                                                         | 17/154 [00:20<02:51,  1.25s/it]"
     ]
    },
    {
     "name": "stdout",
     "output_type": "stream",
     "text": [
      "758/758 [==============================] - 1s 1ms/step\n",
      "28/28 [==============================] - 0s 1ms/step\n"
     ]
    },
    {
     "name": "stderr",
     "output_type": "stream",
     "text": [
      "\r",
      "Exact explainer:  12%|███████▌                                                         | 18/154 [00:21<02:50,  1.25s/it]"
     ]
    },
    {
     "name": "stdout",
     "output_type": "stream",
     "text": [
      "774/774 [==============================] - 1s 1ms/step\n",
      "28/28 [==============================] - 0s 1ms/step\n"
     ]
    },
    {
     "name": "stderr",
     "output_type": "stream",
     "text": [
      "\r",
      "Exact explainer:  12%|████████                                                         | 19/154 [00:23<02:50,  1.26s/it]"
     ]
    },
    {
     "name": "stdout",
     "output_type": "stream",
     "text": [
      "758/758 [==============================] - 1s 1ms/step\n",
      "27/27 [==============================] - 0s 1ms/step\n"
     ]
    },
    {
     "name": "stderr",
     "output_type": "stream",
     "text": [
      "\r",
      "Exact explainer:  13%|████████▍                                                        | 20/154 [00:24<02:51,  1.28s/it]"
     ]
    },
    {
     "name": "stdout",
     "output_type": "stream",
     "text": [
      "779/779 [==============================] - 1s 1ms/step\n",
      "28/28 [==============================] - 0s 1ms/step\n"
     ]
    },
    {
     "name": "stderr",
     "output_type": "stream",
     "text": [
      "\r",
      "Exact explainer:  14%|████████▊                                                        | 21/154 [00:25<02:55,  1.32s/it]"
     ]
    },
    {
     "name": "stdout",
     "output_type": "stream",
     "text": [
      "762/762 [==============================] - 1s 1ms/step\n",
      "27/27 [==============================] - 0s 2ms/step\n"
     ]
    },
    {
     "name": "stderr",
     "output_type": "stream",
     "text": [
      "\r",
      "Exact explainer:  14%|█████████▎                                                       | 22/154 [00:27<02:55,  1.33s/it]"
     ]
    },
    {
     "name": "stdout",
     "output_type": "stream",
     "text": [
      "761/761 [==============================] - 1s 2ms/step\n",
      "28/28 [==============================] - 0s 2ms/step\n"
     ]
    },
    {
     "name": "stderr",
     "output_type": "stream",
     "text": [
      "\r",
      "Exact explainer:  15%|█████████▋                                                       | 23/154 [00:28<03:09,  1.45s/it]"
     ]
    },
    {
     "name": "stdout",
     "output_type": "stream",
     "text": [
      "771/771 [==============================] - 2s 3ms/step\n",
      "29/29 [==============================] - 0s 2ms/step\n"
     ]
    },
    {
     "name": "stderr",
     "output_type": "stream",
     "text": [
      "\r",
      "Exact explainer:  16%|██████████▏                                                      | 24/154 [00:31<03:54,  1.81s/it]"
     ]
    },
    {
     "name": "stdout",
     "output_type": "stream",
     "text": [
      "759/759 [==============================] - 1s 2ms/step\n",
      "28/28 [==============================] - 0s 1ms/step\n"
     ]
    },
    {
     "name": "stderr",
     "output_type": "stream",
     "text": [
      "\r",
      "Exact explainer:  16%|██████████▌                                                      | 25/154 [00:33<03:45,  1.75s/it]"
     ]
    },
    {
     "name": "stdout",
     "output_type": "stream",
     "text": [
      "794/794 [==============================] - 1s 1ms/step\n",
      "28/28 [==============================] - 0s 1ms/step\n"
     ]
    },
    {
     "name": "stderr",
     "output_type": "stream",
     "text": [
      "\r",
      "Exact explainer:  17%|██████████▉                                                      | 26/154 [00:34<03:32,  1.66s/it]"
     ]
    },
    {
     "name": "stdout",
     "output_type": "stream",
     "text": [
      "755/755 [==============================] - 1s 1ms/step\n",
      "28/28 [==============================] - 0s 1ms/step\n"
     ]
    },
    {
     "name": "stderr",
     "output_type": "stream",
     "text": [
      "\r",
      "Exact explainer:  18%|███████████▍                                                     | 27/154 [00:35<03:19,  1.57s/it]"
     ]
    },
    {
     "name": "stdout",
     "output_type": "stream",
     "text": [
      "756/756 [==============================] - 1s 1ms/step\n",
      "28/28 [==============================] - 0s 2ms/step\n"
     ]
    },
    {
     "name": "stderr",
     "output_type": "stream",
     "text": [
      "\r",
      "Exact explainer:  18%|███████████▊                                                     | 28/154 [00:37<03:15,  1.55s/it]"
     ]
    },
    {
     "name": "stdout",
     "output_type": "stream",
     "text": [
      "788/788 [==============================] - 1s 2ms/step\n",
      "28/28 [==============================] - 0s 1ms/step\n"
     ]
    },
    {
     "name": "stderr",
     "output_type": "stream",
     "text": [
      "\r",
      "Exact explainer:  19%|████████████▏                                                    | 29/154 [00:39<03:20,  1.60s/it]"
     ]
    },
    {
     "name": "stdout",
     "output_type": "stream",
     "text": [
      "776/776 [==============================] - 1s 1ms/step\n",
      "28/28 [==============================] - 0s 2ms/step\n"
     ]
    },
    {
     "name": "stderr",
     "output_type": "stream",
     "text": [
      "\r",
      "Exact explainer:  19%|████████████▋                                                    | 30/154 [00:40<03:21,  1.62s/it]"
     ]
    },
    {
     "name": "stdout",
     "output_type": "stream",
     "text": [
      "767/767 [==============================] - 1s 2ms/step\n",
      "28/28 [==============================] - 0s 4ms/step\n"
     ]
    },
    {
     "name": "stderr",
     "output_type": "stream",
     "text": [
      "\r",
      "Exact explainer:  20%|█████████████                                                    | 31/154 [00:42<03:32,  1.73s/it]"
     ]
    },
    {
     "name": "stdout",
     "output_type": "stream",
     "text": [
      "783/783 [==============================] - 2s 2ms/step\n",
      "28/28 [==============================] - 0s 2ms/step\n"
     ]
    },
    {
     "name": "stderr",
     "output_type": "stream",
     "text": [
      "\r",
      "Exact explainer:  21%|█████████████▌                                                   | 32/154 [00:45<03:58,  1.96s/it]"
     ]
    },
    {
     "name": "stdout",
     "output_type": "stream",
     "text": [
      "744/744 [==============================] - 2s 3ms/step\n",
      "27/27 [==============================] - 0s 2ms/step\n"
     ]
    },
    {
     "name": "stderr",
     "output_type": "stream",
     "text": [
      "\r",
      "Exact explainer:  21%|█████████████▉                                                   | 33/154 [00:47<04:14,  2.10s/it]"
     ]
    },
    {
     "name": "stdout",
     "output_type": "stream",
     "text": [
      "782/782 [==============================] - 1s 2ms/step\n",
      "28/28 [==============================] - 0s 1ms/step\n"
     ]
    },
    {
     "name": "stderr",
     "output_type": "stream",
     "text": [
      "\r",
      "Exact explainer:  22%|██████████████▎                                                  | 34/154 [00:49<03:57,  1.98s/it]"
     ]
    },
    {
     "name": "stdout",
     "output_type": "stream",
     "text": [
      "746/746 [==============================] - 1s 2ms/step\n",
      "27/27 [==============================] - 0s 1ms/step\n"
     ]
    },
    {
     "name": "stderr",
     "output_type": "stream",
     "text": [
      "\r",
      "Exact explainer:  23%|██████████████▊                                                  | 35/154 [00:51<03:52,  1.95s/it]"
     ]
    },
    {
     "name": "stdout",
     "output_type": "stream",
     "text": [
      "751/751 [==============================] - 1s 2ms/step\n",
      "27/27 [==============================] - 0s 1ms/step\n"
     ]
    },
    {
     "name": "stderr",
     "output_type": "stream",
     "text": [
      "\r",
      "Exact explainer:  23%|███████████████▏                                                 | 36/154 [00:52<03:39,  1.86s/it]"
     ]
    },
    {
     "name": "stdout",
     "output_type": "stream",
     "text": [
      "781/781 [==============================] - 1s 2ms/step\n",
      "28/28 [==============================] - 0s 1ms/step\n"
     ]
    },
    {
     "name": "stderr",
     "output_type": "stream",
     "text": [
      "\r",
      "Exact explainer:  24%|███████████████▌                                                 | 37/154 [00:54<03:33,  1.82s/it]"
     ]
    },
    {
     "name": "stdout",
     "output_type": "stream",
     "text": [
      "751/751 [==============================] - 1s 2ms/step\n",
      "28/28 [==============================] - 0s 1ms/step\n"
     ]
    },
    {
     "name": "stderr",
     "output_type": "stream",
     "text": [
      "\r",
      "Exact explainer:  25%|████████████████                                                 | 38/154 [00:56<03:26,  1.78s/it]"
     ]
    },
    {
     "name": "stdout",
     "output_type": "stream",
     "text": [
      "743/743 [==============================] - 1s 1ms/step\n",
      "28/28 [==============================] - 0s 1ms/step\n"
     ]
    },
    {
     "name": "stderr",
     "output_type": "stream",
     "text": [
      "\r",
      "Exact explainer:  25%|████████████████▍                                                | 39/154 [00:57<03:15,  1.70s/it]"
     ]
    },
    {
     "name": "stdout",
     "output_type": "stream",
     "text": [
      "755/755 [==============================] - 1s 2ms/step\n",
      "28/28 [==============================] - 0s 3ms/step\n"
     ]
    },
    {
     "name": "stderr",
     "output_type": "stream",
     "text": [
      "\r",
      "Exact explainer:  26%|████████████████▉                                                | 40/154 [00:59<03:18,  1.74s/it]"
     ]
    },
    {
     "name": "stdout",
     "output_type": "stream",
     "text": [
      "751/751 [==============================] - 1s 2ms/step\n",
      "27/27 [==============================] - 0s 2ms/step\n"
     ]
    },
    {
     "name": "stderr",
     "output_type": "stream",
     "text": [
      "\r",
      "Exact explainer:  27%|█████████████████▎                                               | 41/154 [01:01<03:18,  1.75s/it]"
     ]
    },
    {
     "name": "stdout",
     "output_type": "stream",
     "text": [
      "787/787 [==============================] - 1s 1ms/step\n",
      "28/28 [==============================] - 0s 1ms/step\n"
     ]
    },
    {
     "name": "stderr",
     "output_type": "stream",
     "text": [
      "\r",
      "Exact explainer:  27%|█████████████████▋                                               | 42/154 [01:02<03:04,  1.64s/it]"
     ]
    },
    {
     "name": "stdout",
     "output_type": "stream",
     "text": [
      "750/750 [==============================] - 1s 1ms/step\n",
      "27/27 [==============================] - 0s 2ms/step\n"
     ]
    },
    {
     "name": "stderr",
     "output_type": "stream",
     "text": [
      "\r",
      "Exact explainer:  28%|██████████████████▏                                              | 43/154 [01:04<02:53,  1.57s/it]"
     ]
    },
    {
     "name": "stdout",
     "output_type": "stream",
     "text": [
      "752/752 [==============================] - 1s 1ms/step\n",
      "28/28 [==============================] - 0s 1ms/step\n"
     ]
    },
    {
     "name": "stderr",
     "output_type": "stream",
     "text": [
      "\r",
      "Exact explainer:  29%|██████████████████▌                                              | 44/154 [01:05<02:44,  1.50s/it]"
     ]
    },
    {
     "name": "stdout",
     "output_type": "stream",
     "text": [
      "731/731 [==============================] - 1s 1ms/step\n",
      "27/27 [==============================] - 0s 1ms/step\n"
     ]
    },
    {
     "name": "stderr",
     "output_type": "stream",
     "text": [
      "\r",
      "Exact explainer:  29%|██████████████████▉                                              | 45/154 [01:06<02:40,  1.47s/it]"
     ]
    },
    {
     "name": "stdout",
     "output_type": "stream",
     "text": [
      "750/750 [==============================] - 1s 1ms/step\n",
      "27/27 [==============================] - 0s 1ms/step\n"
     ]
    },
    {
     "name": "stderr",
     "output_type": "stream",
     "text": [
      "\r",
      "Exact explainer:  30%|███████████████████▍                                             | 46/154 [01:08<02:32,  1.41s/it]"
     ]
    },
    {
     "name": "stdout",
     "output_type": "stream",
     "text": [
      "787/787 [==============================] - 1s 1ms/step\n",
      "28/28 [==============================] - 0s 1ms/step\n"
     ]
    },
    {
     "name": "stderr",
     "output_type": "stream",
     "text": [
      "\r",
      "Exact explainer:  31%|███████████████████▊                                             | 47/154 [01:09<02:23,  1.34s/it]"
     ]
    },
    {
     "name": "stdout",
     "output_type": "stream",
     "text": [
      "799/799 [==============================] - 1s 1ms/step\n",
      "28/28 [==============================] - 0s 1ms/step\n"
     ]
    },
    {
     "name": "stderr",
     "output_type": "stream",
     "text": [
      "\r",
      "Exact explainer:  31%|████████████████████▎                                            | 48/154 [01:10<02:16,  1.29s/it]"
     ]
    },
    {
     "name": "stdout",
     "output_type": "stream",
     "text": [
      "747/747 [==============================] - 1s 1ms/step\n",
      "28/28 [==============================] - 0s 1ms/step\n"
     ]
    },
    {
     "name": "stderr",
     "output_type": "stream",
     "text": [
      "\r",
      "Exact explainer:  32%|████████████████████▋                                            | 49/154 [01:11<02:11,  1.25s/it]"
     ]
    },
    {
     "name": "stdout",
     "output_type": "stream",
     "text": [
      "739/739 [==============================] - 1s 1ms/step\n",
      "27/27 [==============================] - 0s 1ms/step\n"
     ]
    },
    {
     "name": "stderr",
     "output_type": "stream",
     "text": [
      "\r",
      "Exact explainer:  32%|█████████████████████                                            | 50/154 [01:12<02:08,  1.24s/it]"
     ]
    },
    {
     "name": "stdout",
     "output_type": "stream",
     "text": [
      "777/777 [==============================] - 1s 1ms/step\n",
      "28/28 [==============================] - 0s 1ms/step\n"
     ]
    },
    {
     "name": "stderr",
     "output_type": "stream",
     "text": [
      "\r",
      "Exact explainer:  33%|█████████████████████▌                                           | 51/154 [01:14<02:08,  1.24s/it]"
     ]
    },
    {
     "name": "stdout",
     "output_type": "stream",
     "text": [
      "732/732 [==============================] - 1s 1ms/step\n",
      "28/28 [==============================] - 0s 1ms/step\n"
     ]
    },
    {
     "name": "stderr",
     "output_type": "stream",
     "text": [
      "\r",
      "Exact explainer:  34%|█████████████████████▉                                           | 52/154 [01:15<02:03,  1.21s/it]"
     ]
    },
    {
     "name": "stdout",
     "output_type": "stream",
     "text": [
      "799/799 [==============================] - 1s 1ms/step\n",
      "29/29 [==============================] - 0s 1ms/step\n"
     ]
    },
    {
     "name": "stderr",
     "output_type": "stream",
     "text": [
      "\r",
      "Exact explainer:  34%|██████████████████████▎                                          | 53/154 [01:16<02:06,  1.25s/it]"
     ]
    },
    {
     "name": "stdout",
     "output_type": "stream",
     "text": [
      "780/780 [==============================] - 1s 1ms/step\n",
      "28/28 [==============================] - 0s 1ms/step\n"
     ]
    },
    {
     "name": "stderr",
     "output_type": "stream",
     "text": [
      "\r",
      "Exact explainer:  35%|██████████████████████▊                                          | 54/154 [01:17<02:05,  1.25s/it]"
     ]
    },
    {
     "name": "stdout",
     "output_type": "stream",
     "text": [
      "735/735 [==============================] - 1s 1ms/step\n",
      "26/26 [==============================] - 0s 1ms/step\n"
     ]
    },
    {
     "name": "stderr",
     "output_type": "stream",
     "text": [
      "\r",
      "Exact explainer:  36%|███████████████████████▏                                         | 55/154 [01:19<02:02,  1.23s/it]"
     ]
    },
    {
     "name": "stdout",
     "output_type": "stream",
     "text": [
      "764/764 [==============================] - 1s 1ms/step\n",
      "28/28 [==============================] - 0s 1ms/step\n"
     ]
    },
    {
     "name": "stderr",
     "output_type": "stream",
     "text": [
      "\r",
      "Exact explainer:  36%|███████████████████████▋                                         | 56/154 [01:20<02:00,  1.23s/it]"
     ]
    },
    {
     "name": "stdout",
     "output_type": "stream",
     "text": [
      "776/776 [==============================] - 1s 1ms/step\n",
      "28/28 [==============================] - 0s 1ms/step\n"
     ]
    },
    {
     "name": "stderr",
     "output_type": "stream",
     "text": [
      "\r",
      "Exact explainer:  37%|████████████████████████                                         | 57/154 [01:21<01:58,  1.22s/it]"
     ]
    },
    {
     "name": "stdout",
     "output_type": "stream",
     "text": [
      "762/762 [==============================] - 1s 1ms/step\n",
      "27/27 [==============================] - 0s 1ms/step\n"
     ]
    },
    {
     "name": "stderr",
     "output_type": "stream",
     "text": [
      "\r",
      "Exact explainer:  38%|████████████████████████▍                                        | 58/154 [01:22<01:56,  1.22s/it]"
     ]
    },
    {
     "name": "stdout",
     "output_type": "stream",
     "text": [
      "742/742 [==============================] - 1s 1ms/step\n",
      "27/27 [==============================] - 0s 1ms/step\n"
     ]
    },
    {
     "name": "stderr",
     "output_type": "stream",
     "text": [
      "\r",
      "Exact explainer:  38%|████████████████████████▉                                        | 59/154 [01:23<01:54,  1.21s/it]"
     ]
    },
    {
     "name": "stdout",
     "output_type": "stream",
     "text": [
      "774/774 [==============================] - 1s 1ms/step\n",
      "28/28 [==============================] - 0s 1ms/step\n"
     ]
    },
    {
     "name": "stderr",
     "output_type": "stream",
     "text": [
      "\r",
      "Exact explainer:  39%|█████████████████████████▎                                       | 60/154 [01:25<01:54,  1.22s/it]"
     ]
    },
    {
     "name": "stdout",
     "output_type": "stream",
     "text": [
      "748/748 [==============================] - 1s 1ms/step\n",
      "27/27 [==============================] - 0s 1ms/step\n"
     ]
    },
    {
     "name": "stderr",
     "output_type": "stream",
     "text": [
      "\r",
      "Exact explainer:  40%|█████████████████████████▋                                       | 61/154 [01:26<01:53,  1.22s/it]"
     ]
    },
    {
     "name": "stdout",
     "output_type": "stream",
     "text": [
      "769/769 [==============================] - 1s 1ms/step\n",
      "28/28 [==============================] - 0s 1ms/step\n"
     ]
    },
    {
     "name": "stderr",
     "output_type": "stream",
     "text": [
      "\r",
      "Exact explainer:  40%|██████████████████████████▏                                      | 62/154 [01:27<01:51,  1.22s/it]"
     ]
    },
    {
     "name": "stdout",
     "output_type": "stream",
     "text": [
      "756/756 [==============================] - 1s 1ms/step\n",
      "28/28 [==============================] - 0s 1ms/step\n"
     ]
    },
    {
     "name": "stderr",
     "output_type": "stream",
     "text": [
      "\r",
      "Exact explainer:  41%|██████████████████████████▌                                      | 63/154 [01:28<01:49,  1.20s/it]"
     ]
    },
    {
     "name": "stdout",
     "output_type": "stream",
     "text": [
      "786/786 [==============================] - 1s 1ms/step\n",
      "29/29 [==============================] - 0s 978us/step\n"
     ]
    },
    {
     "name": "stderr",
     "output_type": "stream",
     "text": [
      "\r",
      "Exact explainer:  42%|███████████████████████████                                      | 64/154 [01:30<01:51,  1.24s/it]"
     ]
    },
    {
     "name": "stdout",
     "output_type": "stream",
     "text": [
      "800/800 [==============================] - 1s 1ms/step\n",
      "29/29 [==============================] - 0s 1ms/step\n"
     ]
    },
    {
     "name": "stderr",
     "output_type": "stream",
     "text": [
      "\r",
      "Exact explainer:  42%|███████████████████████████▍                                     | 65/154 [01:31<01:52,  1.26s/it]"
     ]
    },
    {
     "name": "stdout",
     "output_type": "stream",
     "text": [
      "778/778 [==============================] - 1s 1ms/step\n",
      "28/28 [==============================] - 0s 1ms/step\n"
     ]
    },
    {
     "name": "stderr",
     "output_type": "stream",
     "text": [
      "\r",
      "Exact explainer:  43%|███████████████████████████▊                                     | 66/154 [01:32<01:57,  1.33s/it]"
     ]
    },
    {
     "name": "stdout",
     "output_type": "stream",
     "text": [
      "748/748 [==============================] - 1s 1ms/step\n",
      "28/28 [==============================] - 0s 1ms/step\n"
     ]
    },
    {
     "name": "stderr",
     "output_type": "stream",
     "text": [
      "\r",
      "Exact explainer:  44%|████████████████████████████▎                                    | 67/154 [01:34<02:01,  1.39s/it]"
     ]
    },
    {
     "name": "stdout",
     "output_type": "stream",
     "text": [
      "754/754 [==============================] - 1s 1ms/step\n",
      "28/28 [==============================] - 0s 1ms/step\n"
     ]
    },
    {
     "name": "stderr",
     "output_type": "stream",
     "text": [
      "\r",
      "Exact explainer:  44%|████████████████████████████▋                                    | 68/154 [01:35<01:57,  1.37s/it]"
     ]
    },
    {
     "name": "stdout",
     "output_type": "stream",
     "text": [
      "755/755 [==============================] - 1s 1ms/step\n",
      "27/27 [==============================] - 0s 1ms/step\n"
     ]
    },
    {
     "name": "stderr",
     "output_type": "stream",
     "text": [
      "\r",
      "Exact explainer:  45%|█████████████████████████████                                    | 69/154 [01:37<01:56,  1.37s/it]"
     ]
    },
    {
     "name": "stdout",
     "output_type": "stream",
     "text": [
      "747/747 [==============================] - 1s 1ms/step\n",
      "27/27 [==============================] - 0s 1ms/step\n"
     ]
    },
    {
     "name": "stderr",
     "output_type": "stream",
     "text": [
      "\r",
      "Exact explainer:  45%|█████████████████████████████▌                                   | 70/154 [01:38<01:53,  1.36s/it]"
     ]
    },
    {
     "name": "stdout",
     "output_type": "stream",
     "text": [
      "784/784 [==============================] - 1s 1ms/step\n",
      "28/28 [==============================] - 0s 1ms/step\n"
     ]
    },
    {
     "name": "stderr",
     "output_type": "stream",
     "text": [
      "\r",
      "Exact explainer:  46%|█████████████████████████████▉                                   | 71/154 [01:39<01:51,  1.34s/it]"
     ]
    },
    {
     "name": "stdout",
     "output_type": "stream",
     "text": [
      "781/781 [==============================] - 1s 1ms/step\n",
      "28/28 [==============================] - 0s 1ms/step\n"
     ]
    },
    {
     "name": "stderr",
     "output_type": "stream",
     "text": [
      "\r",
      "Exact explainer:  47%|██████████████████████████████▍                                  | 72/154 [01:41<01:49,  1.34s/it]"
     ]
    },
    {
     "name": "stdout",
     "output_type": "stream",
     "text": [
      "771/771 [==============================] - 1s 1ms/step\n",
      "28/28 [==============================] - 0s 1ms/step\n"
     ]
    },
    {
     "name": "stderr",
     "output_type": "stream",
     "text": [
      "\r",
      "Exact explainer:  47%|██████████████████████████████▊                                  | 73/154 [01:42<01:48,  1.35s/it]"
     ]
    },
    {
     "name": "stdout",
     "output_type": "stream",
     "text": [
      "743/743 [==============================] - 1s 1ms/step\n",
      "27/27 [==============================] - 0s 1ms/step\n"
     ]
    },
    {
     "name": "stderr",
     "output_type": "stream",
     "text": [
      "\r",
      "Exact explainer:  48%|███████████████████████████████▏                                 | 74/154 [01:43<01:44,  1.31s/it]"
     ]
    },
    {
     "name": "stdout",
     "output_type": "stream",
     "text": [
      "780/780 [==============================] - 1s 1ms/step\n",
      "28/28 [==============================] - 0s 1ms/step\n"
     ]
    },
    {
     "name": "stderr",
     "output_type": "stream",
     "text": [
      "\r",
      "Exact explainer:  49%|███████████████████████████████▋                                 | 75/154 [01:45<01:42,  1.30s/it]"
     ]
    },
    {
     "name": "stdout",
     "output_type": "stream",
     "text": [
      "729/729 [==============================] - 1s 1ms/step\n",
      "27/27 [==============================] - 0s 1ms/step\n"
     ]
    },
    {
     "name": "stderr",
     "output_type": "stream",
     "text": [
      "\r",
      "Exact explainer:  49%|████████████████████████████████                                 | 76/154 [01:46<01:39,  1.28s/it]"
     ]
    },
    {
     "name": "stdout",
     "output_type": "stream",
     "text": [
      "757/757 [==============================] - 1s 1ms/step\n",
      "28/28 [==============================] - 0s 1ms/step\n"
     ]
    },
    {
     "name": "stderr",
     "output_type": "stream",
     "text": [
      "\r",
      "Exact explainer:  50%|████████████████████████████████▌                                | 77/154 [01:47<01:39,  1.29s/it]"
     ]
    },
    {
     "name": "stdout",
     "output_type": "stream",
     "text": [
      "762/762 [==============================] - 1s 1ms/step\n",
      "27/27 [==============================] - 0s 1ms/step\n"
     ]
    },
    {
     "name": "stderr",
     "output_type": "stream",
     "text": [
      "\r",
      "Exact explainer:  51%|████████████████████████████████▉                                | 78/154 [01:48<01:37,  1.28s/it]"
     ]
    },
    {
     "name": "stdout",
     "output_type": "stream",
     "text": [
      "792/792 [==============================] - 1s 1ms/step\n",
      "28/28 [==============================] - 0s 1ms/step\n"
     ]
    },
    {
     "name": "stderr",
     "output_type": "stream",
     "text": [
      "\r",
      "Exact explainer:  51%|█████████████████████████████████▎                               | 79/154 [01:50<01:36,  1.29s/it]"
     ]
    },
    {
     "name": "stdout",
     "output_type": "stream",
     "text": [
      "779/779 [==============================] - 1s 1ms/step\n",
      "28/28 [==============================] - 0s 1ms/step\n"
     ]
    },
    {
     "name": "stderr",
     "output_type": "stream",
     "text": [
      "\r",
      "Exact explainer:  52%|█████████████████████████████████▊                               | 80/154 [01:51<01:35,  1.29s/it]"
     ]
    },
    {
     "name": "stdout",
     "output_type": "stream",
     "text": [
      "737/737 [==============================] - 1s 1ms/step\n",
      "27/27 [==============================] - 0s 1ms/step\n"
     ]
    },
    {
     "name": "stderr",
     "output_type": "stream",
     "text": [
      "\r",
      "Exact explainer:  53%|██████████████████████████████████▏                              | 81/154 [01:52<01:33,  1.28s/it]"
     ]
    },
    {
     "name": "stdout",
     "output_type": "stream",
     "text": [
      "756/756 [==============================] - 1s 1ms/step\n",
      "27/27 [==============================] - 0s 1ms/step\n"
     ]
    },
    {
     "name": "stderr",
     "output_type": "stream",
     "text": [
      "\r",
      "Exact explainer:  53%|██████████████████████████████████▌                              | 82/154 [01:53<01:32,  1.28s/it]"
     ]
    },
    {
     "name": "stdout",
     "output_type": "stream",
     "text": [
      "780/780 [==============================] - 1s 1ms/step\n",
      "28/28 [==============================] - 0s 1ms/step\n"
     ]
    },
    {
     "name": "stderr",
     "output_type": "stream",
     "text": [
      "\r",
      "Exact explainer:  54%|███████████████████████████████████                              | 83/154 [01:55<01:31,  1.29s/it]"
     ]
    },
    {
     "name": "stdout",
     "output_type": "stream",
     "text": [
      "776/776 [==============================] - 1s 1ms/step\n",
      "28/28 [==============================] - 0s 1ms/step\n"
     ]
    },
    {
     "name": "stderr",
     "output_type": "stream",
     "text": [
      "\r",
      "Exact explainer:  55%|███████████████████████████████████▍                             | 84/154 [01:56<01:30,  1.29s/it]"
     ]
    },
    {
     "name": "stdout",
     "output_type": "stream",
     "text": [
      "792/792 [==============================] - 1s 1ms/step\n",
      "28/28 [==============================] - 0s 1ms/step\n"
     ]
    },
    {
     "name": "stderr",
     "output_type": "stream",
     "text": [
      "\r",
      "Exact explainer:  55%|███████████████████████████████████▉                             | 85/154 [01:57<01:31,  1.32s/it]"
     ]
    },
    {
     "name": "stdout",
     "output_type": "stream",
     "text": [
      "776/776 [==============================] - 1s 1ms/step\n",
      "28/28 [==============================] - 0s 1ms/step\n"
     ]
    },
    {
     "name": "stderr",
     "output_type": "stream",
     "text": [
      "\r",
      "Exact explainer:  56%|████████████████████████████████████▎                            | 86/154 [01:59<01:29,  1.31s/it]"
     ]
    },
    {
     "name": "stdout",
     "output_type": "stream",
     "text": [
      "791/791 [==============================] - 1s 1ms/step\n",
      "28/28 [==============================] - 0s 1ms/step\n"
     ]
    },
    {
     "name": "stderr",
     "output_type": "stream",
     "text": [
      "\r",
      "Exact explainer:  56%|████████████████████████████████████▋                            | 87/154 [02:00<01:28,  1.31s/it]"
     ]
    },
    {
     "name": "stdout",
     "output_type": "stream",
     "text": [
      "768/768 [==============================] - 1s 1ms/step\n",
      "28/28 [==============================] - 0s 2ms/step\n"
     ]
    },
    {
     "name": "stderr",
     "output_type": "stream",
     "text": [
      "\r",
      "Exact explainer:  57%|█████████████████████████████████████▏                           | 88/154 [02:01<01:26,  1.31s/it]"
     ]
    },
    {
     "name": "stdout",
     "output_type": "stream",
     "text": [
      "774/774 [==============================] - 1s 1ms/step\n",
      "27/27 [==============================] - 0s 1ms/step\n"
     ]
    },
    {
     "name": "stderr",
     "output_type": "stream",
     "text": [
      "\r",
      "Exact explainer:  58%|█████████████████████████████████████▌                           | 89/154 [02:03<01:24,  1.30s/it]"
     ]
    },
    {
     "name": "stdout",
     "output_type": "stream",
     "text": [
      "756/756 [==============================] - 1s 1ms/step\n",
      "28/28 [==============================] - 0s 1ms/step\n"
     ]
    },
    {
     "name": "stderr",
     "output_type": "stream",
     "text": [
      "\r",
      "Exact explainer:  58%|█████████████████████████████████████▉                           | 90/154 [02:04<01:22,  1.29s/it]"
     ]
    },
    {
     "name": "stdout",
     "output_type": "stream",
     "text": [
      "783/783 [==============================] - 1s 1ms/step\n",
      "28/28 [==============================] - 0s 1ms/step\n"
     ]
    },
    {
     "name": "stderr",
     "output_type": "stream",
     "text": [
      "\r",
      "Exact explainer:  59%|██████████████████████████████████████▍                          | 91/154 [02:05<01:22,  1.31s/it]"
     ]
    },
    {
     "name": "stdout",
     "output_type": "stream",
     "text": [
      "783/783 [==============================] - 1s 1ms/step\n",
      "28/28 [==============================] - 0s 1ms/step\n"
     ]
    },
    {
     "name": "stderr",
     "output_type": "stream",
     "text": [
      "\r",
      "Exact explainer:  60%|██████████████████████████████████████▊                          | 92/154 [02:07<01:21,  1.32s/it]"
     ]
    },
    {
     "name": "stdout",
     "output_type": "stream",
     "text": [
      "727/727 [==============================] - 1s 1ms/step\n",
      "27/27 [==============================] - 0s 1ms/step\n"
     ]
    },
    {
     "name": "stderr",
     "output_type": "stream",
     "text": [
      "\r",
      "Exact explainer:  60%|███████████████████████████████████████▎                         | 93/154 [02:08<01:19,  1.30s/it]"
     ]
    },
    {
     "name": "stdout",
     "output_type": "stream",
     "text": [
      "743/743 [==============================] - 1s 1ms/step\n",
      "27/27 [==============================] - 0s 1ms/step\n"
     ]
    },
    {
     "name": "stderr",
     "output_type": "stream",
     "text": [
      "\r",
      "Exact explainer:  61%|███████████████████████████████████████▋                         | 94/154 [02:09<01:17,  1.29s/it]"
     ]
    },
    {
     "name": "stdout",
     "output_type": "stream",
     "text": [
      "731/731 [==============================] - 1s 1ms/step\n",
      "27/27 [==============================] - 0s 1ms/step\n"
     ]
    },
    {
     "name": "stderr",
     "output_type": "stream",
     "text": [
      "\r",
      "Exact explainer:  62%|████████████████████████████████████████                         | 95/154 [02:10<01:16,  1.30s/it]"
     ]
    },
    {
     "name": "stdout",
     "output_type": "stream",
     "text": [
      "783/783 [==============================] - 1s 1ms/step\n",
      "28/28 [==============================] - 0s 1ms/step\n"
     ]
    },
    {
     "name": "stderr",
     "output_type": "stream",
     "text": [
      "\r",
      "Exact explainer:  62%|████████████████████████████████████████▌                        | 96/154 [02:12<01:15,  1.30s/it]"
     ]
    },
    {
     "name": "stdout",
     "output_type": "stream",
     "text": [
      "755/755 [==============================] - 1s 1ms/step\n",
      "28/28 [==============================] - 0s 1ms/step\n"
     ]
    },
    {
     "name": "stderr",
     "output_type": "stream",
     "text": [
      "\r",
      "Exact explainer:  63%|████████████████████████████████████████▉                        | 97/154 [02:13<01:13,  1.29s/it]"
     ]
    },
    {
     "name": "stdout",
     "output_type": "stream",
     "text": [
      "750/750 [==============================] - 1s 1ms/step\n",
      "27/27 [==============================] - 0s 1ms/step\n"
     ]
    },
    {
     "name": "stderr",
     "output_type": "stream",
     "text": [
      "\r",
      "Exact explainer:  64%|█████████████████████████████████████████▎                       | 98/154 [02:14<01:11,  1.28s/it]"
     ]
    },
    {
     "name": "stdout",
     "output_type": "stream",
     "text": [
      "777/777 [==============================] - 1s 1ms/step\n",
      "28/28 [==============================] - 0s 1ms/step\n"
     ]
    },
    {
     "name": "stderr",
     "output_type": "stream",
     "text": [
      "\r",
      "Exact explainer:  64%|█████████████████████████████████████████▊                       | 99/154 [02:16<01:11,  1.31s/it]"
     ]
    },
    {
     "name": "stdout",
     "output_type": "stream",
     "text": [
      "759/759 [==============================] - 1s 1ms/step\n",
      "28/28 [==============================] - 0s 1ms/step\n"
     ]
    },
    {
     "name": "stderr",
     "output_type": "stream",
     "text": [
      "\r",
      "Exact explainer:  65%|█████████████████████████████████████████▌                      | 100/154 [02:17<01:09,  1.29s/it]"
     ]
    },
    {
     "name": "stdout",
     "output_type": "stream",
     "text": [
      "743/743 [==============================] - 1s 1ms/step\n",
      "27/27 [==============================] - 0s 1ms/step\n"
     ]
    },
    {
     "name": "stderr",
     "output_type": "stream",
     "text": [
      "\r",
      "Exact explainer:  66%|█████████████████████████████████████████▉                      | 101/154 [02:18<01:07,  1.27s/it]"
     ]
    },
    {
     "name": "stdout",
     "output_type": "stream",
     "text": [
      "792/792 [==============================] - 1s 1ms/step\n",
      "28/28 [==============================] - 0s 1ms/step\n"
     ]
    },
    {
     "name": "stderr",
     "output_type": "stream",
     "text": [
      "\r",
      "Exact explainer:  66%|██████████████████████████████████████████▍                     | 102/154 [02:19<01:06,  1.28s/it]"
     ]
    },
    {
     "name": "stdout",
     "output_type": "stream",
     "text": [
      "763/763 [==============================] - 1s 1ms/step\n",
      "28/28 [==============================] - 0s 1ms/step\n"
     ]
    },
    {
     "name": "stderr",
     "output_type": "stream",
     "text": [
      "\r",
      "Exact explainer:  67%|██████████████████████████████████████████▊                     | 103/154 [02:21<01:04,  1.27s/it]"
     ]
    },
    {
     "name": "stdout",
     "output_type": "stream",
     "text": [
      "748/748 [==============================] - 1s 1ms/step\n",
      "27/27 [==============================] - 0s 1ms/step\n"
     ]
    },
    {
     "name": "stderr",
     "output_type": "stream",
     "text": [
      "\r",
      "Exact explainer:  68%|███████████████████████████████████████████▏                    | 104/154 [02:22<01:02,  1.26s/it]"
     ]
    },
    {
     "name": "stdout",
     "output_type": "stream",
     "text": [
      "763/763 [==============================] - 1s 1ms/step\n",
      "28/28 [==============================] - 0s 1ms/step\n"
     ]
    },
    {
     "name": "stderr",
     "output_type": "stream",
     "text": [
      "\r",
      "Exact explainer:  68%|███████████████████████████████████████████▋                    | 105/154 [02:23<01:01,  1.26s/it]"
     ]
    },
    {
     "name": "stdout",
     "output_type": "stream",
     "text": [
      "751/751 [==============================] - 1s 1ms/step\n",
      "27/27 [==============================] - 0s 1ms/step\n"
     ]
    },
    {
     "name": "stderr",
     "output_type": "stream",
     "text": [
      "\r",
      "Exact explainer:  69%|████████████████████████████████████████████                    | 106/154 [02:24<01:00,  1.25s/it]"
     ]
    },
    {
     "name": "stdout",
     "output_type": "stream",
     "text": [
      "783/783 [==============================] - 1s 1ms/step\n",
      "28/28 [==============================] - 0s 1ms/step\n"
     ]
    },
    {
     "name": "stderr",
     "output_type": "stream",
     "text": [
      "\r",
      "Exact explainer:  69%|████████████████████████████████████████████▍                   | 107/154 [02:26<00:59,  1.26s/it]"
     ]
    },
    {
     "name": "stdout",
     "output_type": "stream",
     "text": [
      "778/778 [==============================] - 1s 1ms/step\n",
      "28/28 [==============================] - 0s 1ms/step\n"
     ]
    },
    {
     "name": "stderr",
     "output_type": "stream",
     "text": [
      "\r",
      "Exact explainer:  70%|████████████████████████████████████████████▉                   | 108/154 [02:27<00:58,  1.26s/it]"
     ]
    },
    {
     "name": "stdout",
     "output_type": "stream",
     "text": [
      "790/790 [==============================] - 1s 1ms/step\n",
      "28/28 [==============================] - 0s 1ms/step\n"
     ]
    },
    {
     "name": "stderr",
     "output_type": "stream",
     "text": [
      "\r",
      "Exact explainer:  71%|█████████████████████████████████████████████▎                  | 109/154 [02:28<00:59,  1.32s/it]"
     ]
    },
    {
     "name": "stdout",
     "output_type": "stream",
     "text": [
      "786/786 [==============================] - 1s 1ms/step\n",
      "28/28 [==============================] - 0s 1ms/step\n"
     ]
    },
    {
     "name": "stderr",
     "output_type": "stream",
     "text": [
      "\r",
      "Exact explainer:  71%|█████████████████████████████████████████████▋                  | 110/154 [02:30<00:58,  1.33s/it]"
     ]
    },
    {
     "name": "stdout",
     "output_type": "stream",
     "text": [
      "759/759 [==============================] - 1s 1ms/step\n",
      "28/28 [==============================] - 0s 1ms/step\n"
     ]
    },
    {
     "name": "stderr",
     "output_type": "stream",
     "text": [
      "\r",
      "Exact explainer:  72%|██████████████████████████████████████████████▏                 | 111/154 [02:31<00:56,  1.32s/it]"
     ]
    },
    {
     "name": "stdout",
     "output_type": "stream",
     "text": [
      "755/755 [==============================] - 1s 1ms/step\n",
      "28/28 [==============================] - 0s 1ms/step\n"
     ]
    },
    {
     "name": "stderr",
     "output_type": "stream",
     "text": [
      "\r",
      "Exact explainer:  73%|██████████████████████████████████████████████▌                 | 112/154 [02:32<00:54,  1.30s/it]"
     ]
    },
    {
     "name": "stdout",
     "output_type": "stream",
     "text": [
      "746/746 [==============================] - 1s 1ms/step\n",
      "27/27 [==============================] - 0s 1ms/step\n"
     ]
    },
    {
     "name": "stderr",
     "output_type": "stream",
     "text": [
      "\r",
      "Exact explainer:  73%|██████████████████████████████████████████████▉                 | 113/154 [02:34<00:52,  1.28s/it]"
     ]
    },
    {
     "name": "stdout",
     "output_type": "stream",
     "text": [
      "738/738 [==============================] - 1s 1ms/step\n",
      "27/27 [==============================] - 0s 1ms/step\n"
     ]
    },
    {
     "name": "stderr",
     "output_type": "stream",
     "text": [
      "\r",
      "Exact explainer:  74%|███████████████████████████████████████████████▍                | 114/154 [02:35<00:50,  1.27s/it]"
     ]
    },
    {
     "name": "stdout",
     "output_type": "stream",
     "text": [
      "782/782 [==============================] - 1s 1ms/step\n",
      "28/28 [==============================] - 0s 1ms/step\n"
     ]
    },
    {
     "name": "stderr",
     "output_type": "stream",
     "text": [
      "\r",
      "Exact explainer:  75%|███████████████████████████████████████████████▊                | 115/154 [02:36<00:50,  1.28s/it]"
     ]
    },
    {
     "name": "stdout",
     "output_type": "stream",
     "text": [
      "775/775 [==============================] - 1s 1ms/step\n",
      "28/28 [==============================] - 0s 1ms/step\n"
     ]
    },
    {
     "name": "stderr",
     "output_type": "stream",
     "text": [
      "\r",
      "Exact explainer:  75%|████████████████████████████████████████████████▏               | 116/154 [02:38<00:50,  1.32s/it]"
     ]
    },
    {
     "name": "stdout",
     "output_type": "stream",
     "text": [
      "731/731 [==============================] - 1s 1ms/step\n",
      "28/28 [==============================] - 0s 1ms/step\n"
     ]
    },
    {
     "name": "stderr",
     "output_type": "stream",
     "text": [
      "\r",
      "Exact explainer:  76%|████████████████████████████████████████████████▌               | 117/154 [02:39<00:47,  1.30s/it]"
     ]
    },
    {
     "name": "stdout",
     "output_type": "stream",
     "text": [
      "752/752 [==============================] - 1s 1ms/step\n",
      "28/28 [==============================] - 0s 1ms/step\n"
     ]
    },
    {
     "name": "stderr",
     "output_type": "stream",
     "text": [
      "\r",
      "Exact explainer:  77%|█████████████████████████████████████████████████               | 118/154 [02:40<00:46,  1.28s/it]"
     ]
    },
    {
     "name": "stdout",
     "output_type": "stream",
     "text": [
      "724/724 [==============================] - 1s 1ms/step\n",
      "27/27 [==============================] - 0s 1ms/step\n"
     ]
    },
    {
     "name": "stderr",
     "output_type": "stream",
     "text": [
      "\r",
      "Exact explainer:  77%|█████████████████████████████████████████████████▍              | 119/154 [02:41<00:43,  1.25s/it]"
     ]
    },
    {
     "name": "stdout",
     "output_type": "stream",
     "text": [
      "746/746 [==============================] - 1s 1ms/step\n",
      "27/27 [==============================] - 0s 1ms/step\n"
     ]
    },
    {
     "name": "stderr",
     "output_type": "stream",
     "text": [
      "\r",
      "Exact explainer:  78%|█████████████████████████████████████████████████▊              | 120/154 [02:42<00:42,  1.24s/it]"
     ]
    },
    {
     "name": "stdout",
     "output_type": "stream",
     "text": [
      "727/727 [==============================] - 1s 1ms/step\n",
      "27/27 [==============================] - 0s 1ms/step\n"
     ]
    },
    {
     "name": "stderr",
     "output_type": "stream",
     "text": [
      "\r",
      "Exact explainer:  79%|██████████████████████████████████████████████████▎             | 121/154 [02:44<00:40,  1.24s/it]"
     ]
    },
    {
     "name": "stdout",
     "output_type": "stream",
     "text": [
      "723/723 [==============================] - 1s 1ms/step\n",
      "27/27 [==============================] - 0s 2ms/step\n"
     ]
    },
    {
     "name": "stderr",
     "output_type": "stream",
     "text": [
      "\r",
      "Exact explainer:  79%|██████████████████████████████████████████████████▋             | 122/154 [02:45<00:41,  1.28s/it]"
     ]
    },
    {
     "name": "stdout",
     "output_type": "stream",
     "text": [
      "779/779 [==============================] - 1s 1ms/step\n",
      "28/28 [==============================] - 0s 1ms/step\n"
     ]
    },
    {
     "name": "stderr",
     "output_type": "stream",
     "text": [
      "\r",
      "Exact explainer:  80%|███████████████████████████████████████████████████             | 123/154 [02:46<00:39,  1.28s/it]"
     ]
    },
    {
     "name": "stdout",
     "output_type": "stream",
     "text": [
      "737/737 [==============================] - 1s 1ms/step\n",
      "28/28 [==============================] - 0s 1ms/step\n"
     ]
    },
    {
     "name": "stderr",
     "output_type": "stream",
     "text": [
      "\r",
      "Exact explainer:  81%|███████████████████████████████████████████████████▌            | 124/154 [02:47<00:37,  1.25s/it]"
     ]
    },
    {
     "name": "stdout",
     "output_type": "stream",
     "text": [
      "783/783 [==============================] - 1s 1ms/step\n",
      "28/28 [==============================] - 0s 1ms/step\n"
     ]
    },
    {
     "name": "stderr",
     "output_type": "stream",
     "text": [
      "\r",
      "Exact explainer:  81%|███████████████████████████████████████████████████▉            | 125/154 [02:49<00:37,  1.31s/it]"
     ]
    },
    {
     "name": "stdout",
     "output_type": "stream",
     "text": [
      "746/746 [==============================] - 1s 1ms/step\n",
      "27/27 [==============================] - 0s 1ms/step\n"
     ]
    },
    {
     "name": "stderr",
     "output_type": "stream",
     "text": [
      "\r",
      "Exact explainer:  82%|████████████████████████████████████████████████████▎           | 126/154 [02:50<00:37,  1.35s/it]"
     ]
    },
    {
     "name": "stdout",
     "output_type": "stream",
     "text": [
      "798/798 [==============================] - 1s 1ms/step\n",
      "29/29 [==============================] - 0s 1ms/step\n"
     ]
    },
    {
     "name": "stderr",
     "output_type": "stream",
     "text": [
      "\r",
      "Exact explainer:  82%|████████████████████████████████████████████████████▊           | 127/154 [02:52<00:37,  1.39s/it]"
     ]
    },
    {
     "name": "stdout",
     "output_type": "stream",
     "text": [
      "744/744 [==============================] - 1s 2ms/step\n",
      "27/27 [==============================] - 0s 2ms/step\n"
     ]
    },
    {
     "name": "stderr",
     "output_type": "stream",
     "text": [
      "\r",
      "Exact explainer:  83%|█████████████████████████████████████████████████████▏          | 128/154 [02:53<00:38,  1.47s/it]"
     ]
    },
    {
     "name": "stdout",
     "output_type": "stream",
     "text": [
      "767/767 [==============================] - 1s 2ms/step\n",
      "27/27 [==============================] - 0s 2ms/step\n"
     ]
    },
    {
     "name": "stderr",
     "output_type": "stream",
     "text": [
      "\r",
      "Exact explainer:  84%|█████████████████████████████████████████████████████▌          | 129/154 [02:55<00:40,  1.61s/it]"
     ]
    },
    {
     "name": "stdout",
     "output_type": "stream",
     "text": [
      "741/741 [==============================] - 1s 2ms/step\n",
      "27/27 [==============================] - 0s 2ms/step\n"
     ]
    },
    {
     "name": "stderr",
     "output_type": "stream",
     "text": [
      "\r",
      "Exact explainer:  84%|██████████████████████████████████████████████████████          | 130/154 [02:57<00:39,  1.64s/it]"
     ]
    },
    {
     "name": "stdout",
     "output_type": "stream",
     "text": [
      "767/767 [==============================] - 1s 2ms/step\n",
      "28/28 [==============================] - 0s 1ms/step\n"
     ]
    },
    {
     "name": "stderr",
     "output_type": "stream",
     "text": [
      "\r",
      "Exact explainer:  85%|██████████████████████████████████████████████████████▍         | 131/154 [02:59<00:37,  1.65s/it]"
     ]
    },
    {
     "name": "stdout",
     "output_type": "stream",
     "text": [
      "754/754 [==============================] - 1s 2ms/step\n",
      "27/27 [==============================] - 0s 2ms/step\n"
     ]
    },
    {
     "name": "stderr",
     "output_type": "stream",
     "text": [
      "\r",
      "Exact explainer:  86%|██████████████████████████████████████████████████████▊         | 132/154 [03:00<00:36,  1.66s/it]"
     ]
    },
    {
     "name": "stdout",
     "output_type": "stream",
     "text": [
      "763/763 [==============================] - 1s 2ms/step\n",
      "28/28 [==============================] - 0s 2ms/step\n"
     ]
    },
    {
     "name": "stderr",
     "output_type": "stream",
     "text": [
      "\r",
      "Exact explainer:  86%|███████████████████████████████████████████████████████▎        | 133/154 [03:02<00:35,  1.68s/it]"
     ]
    },
    {
     "name": "stdout",
     "output_type": "stream",
     "text": [
      "760/760 [==============================] - 1s 1ms/step\n",
      "28/28 [==============================] - 0s 2ms/step\n"
     ]
    },
    {
     "name": "stderr",
     "output_type": "stream",
     "text": [
      "\r",
      "Exact explainer:  87%|███████████████████████████████████████████████████████▋        | 134/154 [03:04<00:32,  1.65s/it]"
     ]
    },
    {
     "name": "stdout",
     "output_type": "stream",
     "text": [
      "784/784 [==============================] - 1s 2ms/step\n",
      "28/28 [==============================] - 0s 2ms/step\n"
     ]
    },
    {
     "name": "stderr",
     "output_type": "stream",
     "text": [
      "\r",
      "Exact explainer:  88%|████████████████████████████████████████████████████████        | 135/154 [03:06<00:32,  1.71s/it]"
     ]
    },
    {
     "name": "stdout",
     "output_type": "stream",
     "text": [
      "782/782 [==============================] - 1s 2ms/step\n",
      "28/28 [==============================] - 0s 1ms/step\n"
     ]
    },
    {
     "name": "stderr",
     "output_type": "stream",
     "text": [
      "\r",
      "Exact explainer:  88%|████████████████████████████████████████████████████████▌       | 136/154 [03:07<00:30,  1.72s/it]"
     ]
    },
    {
     "name": "stdout",
     "output_type": "stream",
     "text": [
      "754/754 [==============================] - 1s 1ms/step\n",
      "27/27 [==============================] - 0s 1ms/step\n"
     ]
    },
    {
     "name": "stderr",
     "output_type": "stream",
     "text": [
      "\r",
      "Exact explainer:  89%|████████████████████████████████████████████████████████▉       | 137/154 [03:09<00:28,  1.67s/it]"
     ]
    },
    {
     "name": "stdout",
     "output_type": "stream",
     "text": [
      "745/745 [==============================] - 1s 1ms/step\n",
      "27/27 [==============================] - 0s 2ms/step\n"
     ]
    },
    {
     "name": "stderr",
     "output_type": "stream",
     "text": [
      "\r",
      "Exact explainer:  90%|█████████████████████████████████████████████████████████▎      | 138/154 [03:10<00:26,  1.63s/it]"
     ]
    },
    {
     "name": "stdout",
     "output_type": "stream",
     "text": [
      "763/763 [==============================] - 1s 1ms/step\n",
      "27/27 [==============================] - 0s 1ms/step\n"
     ]
    },
    {
     "name": "stderr",
     "output_type": "stream",
     "text": [
      "\r",
      "Exact explainer:  90%|█████████████████████████████████████████████████████████▊      | 139/154 [03:12<00:24,  1.61s/it]"
     ]
    },
    {
     "name": "stdout",
     "output_type": "stream",
     "text": [
      "786/786 [==============================] - 1s 1ms/step\n",
      "28/28 [==============================] - 0s 2ms/step\n"
     ]
    },
    {
     "name": "stderr",
     "output_type": "stream",
     "text": [
      "\r",
      "Exact explainer:  91%|██████████████████████████████████████████████████████████▏     | 140/154 [03:14<00:22,  1.61s/it]"
     ]
    },
    {
     "name": "stdout",
     "output_type": "stream",
     "text": [
      "780/780 [==============================] - 1s 1ms/step\n",
      "28/28 [==============================] - 0s 1ms/step\n"
     ]
    },
    {
     "name": "stderr",
     "output_type": "stream",
     "text": [
      "\r",
      "Exact explainer:  92%|██████████████████████████████████████████████████████████▌     | 141/154 [03:15<00:20,  1.61s/it]"
     ]
    },
    {
     "name": "stdout",
     "output_type": "stream",
     "text": [
      "743/743 [==============================] - 1s 1ms/step\n",
      "27/27 [==============================] - 0s 1ms/step\n"
     ]
    },
    {
     "name": "stderr",
     "output_type": "stream",
     "text": [
      "\r",
      "Exact explainer:  92%|███████████████████████████████████████████████████████████     | 142/154 [03:17<00:19,  1.59s/it]"
     ]
    },
    {
     "name": "stdout",
     "output_type": "stream",
     "text": [
      "739/739 [==============================] - 1s 1ms/step\n",
      "27/27 [==============================] - 0s 1ms/step\n"
     ]
    },
    {
     "name": "stderr",
     "output_type": "stream",
     "text": [
      "\r",
      "Exact explainer:  93%|███████████████████████████████████████████████████████████▍    | 143/154 [03:18<00:17,  1.57s/it]"
     ]
    },
    {
     "name": "stdout",
     "output_type": "stream",
     "text": [
      "724/724 [==============================] - 1s 1ms/step\n",
      "26/26 [==============================] - 0s 1ms/step\n"
     ]
    },
    {
     "name": "stderr",
     "output_type": "stream",
     "text": [
      "\r",
      "Exact explainer:  94%|███████████████████████████████████████████████████████████▊    | 144/154 [03:20<00:15,  1.54s/it]"
     ]
    },
    {
     "name": "stdout",
     "output_type": "stream",
     "text": [
      "760/760 [==============================] - 1s 1ms/step\n",
      "28/28 [==============================] - 0s 2ms/step\n"
     ]
    },
    {
     "name": "stderr",
     "output_type": "stream",
     "text": [
      "\r",
      "Exact explainer:  94%|████████████████████████████████████████████████████████████▎   | 145/154 [03:21<00:13,  1.55s/it]"
     ]
    },
    {
     "name": "stdout",
     "output_type": "stream",
     "text": [
      "745/745 [==============================] - 1s 1ms/step\n",
      "27/27 [==============================] - 0s 2ms/step\n"
     ]
    },
    {
     "name": "stderr",
     "output_type": "stream",
     "text": [
      "\r",
      "Exact explainer:  95%|████████████████████████████████████████████████████████████▋   | 146/154 [03:23<00:12,  1.54s/it]"
     ]
    },
    {
     "name": "stdout",
     "output_type": "stream",
     "text": [
      "767/767 [==============================] - 1s 1ms/step\n",
      "28/28 [==============================] - 0s 2ms/step\n"
     ]
    },
    {
     "name": "stderr",
     "output_type": "stream",
     "text": [
      "\r",
      "Exact explainer:  95%|█████████████████████████████████████████████████████████████   | 147/154 [03:24<00:10,  1.55s/it]"
     ]
    },
    {
     "name": "stdout",
     "output_type": "stream",
     "text": [
      "761/761 [==============================] - 1s 1ms/step\n",
      "28/28 [==============================] - 0s 2ms/step\n"
     ]
    },
    {
     "name": "stderr",
     "output_type": "stream",
     "text": [
      "\r",
      "Exact explainer:  96%|█████████████████████████████████████████████████████████████▌  | 148/154 [03:26<00:09,  1.55s/it]"
     ]
    },
    {
     "name": "stdout",
     "output_type": "stream",
     "text": [
      "729/729 [==============================] - 1s 1ms/step\n",
      "28/28 [==============================] - 0s 1ms/step\n"
     ]
    },
    {
     "name": "stderr",
     "output_type": "stream",
     "text": [
      "\r",
      "Exact explainer:  97%|█████████████████████████████████████████████████████████████▉  | 149/154 [03:27<00:07,  1.53s/it]"
     ]
    },
    {
     "name": "stdout",
     "output_type": "stream",
     "text": [
      "734/734 [==============================] - 1s 1ms/step\n",
      "28/28 [==============================] - 0s 2ms/step\n"
     ]
    },
    {
     "name": "stderr",
     "output_type": "stream",
     "text": [
      "\r",
      "Exact explainer:  97%|██████████████████████████████████████████████████████████████▎ | 150/154 [03:29<00:06,  1.52s/it]"
     ]
    },
    {
     "name": "stdout",
     "output_type": "stream",
     "text": [
      "755/755 [==============================] - 1s 1ms/step\n",
      "27/27 [==============================] - 0s 2ms/step\n"
     ]
    },
    {
     "name": "stderr",
     "output_type": "stream",
     "text": [
      "\r",
      "Exact explainer:  98%|██████████████████████████████████████████████████████████████▊ | 151/154 [03:31<00:04,  1.53s/it]"
     ]
    },
    {
     "name": "stdout",
     "output_type": "stream",
     "text": [
      "775/775 [==============================] - 1s 1ms/step\n",
      "28/28 [==============================] - 0s 2ms/step\n"
     ]
    },
    {
     "name": "stderr",
     "output_type": "stream",
     "text": [
      "\r",
      "Exact explainer:  99%|███████████████████████████████████████████████████████████████▏| 152/154 [03:32<00:03,  1.54s/it]"
     ]
    },
    {
     "name": "stdout",
     "output_type": "stream",
     "text": [
      "755/755 [==============================] - 1s 1ms/step\n",
      "27/27 [==============================] - 0s 1ms/step\n"
     ]
    },
    {
     "name": "stderr",
     "output_type": "stream",
     "text": [
      "\r",
      "Exact explainer:  99%|███████████████████████████████████████████████████████████████▌| 153/154 [03:34<00:01,  1.61s/it]"
     ]
    },
    {
     "name": "stdout",
     "output_type": "stream",
     "text": [
      "767/767 [==============================] - 1s 1ms/step\n",
      "28/28 [==============================] - 0s 2ms/step\n"
     ]
    },
    {
     "name": "stderr",
     "output_type": "stream",
     "text": [
      "\r",
      "Exact explainer: 100%|████████████████████████████████████████████████████████████████| 154/154 [03:35<00:00,  1.61s/it]"
     ]
    },
    {
     "name": "stdout",
     "output_type": "stream",
     "text": [
      "793/793 [==============================] - 1s 1ms/step\n",
      "28/28 [==============================] - 0s 1ms/step\n"
     ]
    },
    {
     "name": "stderr",
     "output_type": "stream",
     "text": [
      "Exact explainer: 155it [03:37,  1.48s/it]                                                                               "
     ]
    },
    {
     "name": "stdout",
     "output_type": "stream",
     "text": [
      "Difference...\n",
      "Done\n"
     ]
    },
    {
     "name": "stderr",
     "output_type": "stream",
     "text": [
      "\n"
     ]
    },
    {
     "data": {
      "application/vnd.jupyter.widget-view+json": {
       "model_id": "a9f0a613c5bc4a239288a797d8393c28",
       "version_major": 2,
       "version_minor": 0
      },
      "text/plain": [
       "ExampleWidget(dataset={'Pregnancies': [0.3529411764705882, 0.11764705882352941, 0.11764705882352941, 0.4705882…"
      ]
     },
     "execution_count": 8,
     "metadata": {},
     "output_type": "execute_result"
    }
   ],
   "source": [
    "w = svelte_widget.ExampleWidget(X_test, y_test, model_1.predict, model_3.predict)\n",
    "w"
   ]
  },
  {
   "cell_type": "code",
   "execution_count": 9,
   "metadata": {},
   "outputs": [
    {
     "name": "stdout",
     "output_type": "stream",
     "text": [
      "5/5 [==============================] - 0s 3ms/step - loss: 0.5527 - accuracy: 0.7143\n",
      "Loss1: 0.5527482628822327\n",
      "5/5 [==============================] - 0s 3ms/step - loss: 0.5697 - accuracy: 0.7013\n",
      "Loss2: 0.5696609020233154\n",
      "5/5 [==============================] - 0s 3ms/step - loss: 0.5697 - accuracy: 0.7013\n",
      "Loss3: 0.5696609020233154\n"
     ]
    }
   ],
   "source": [
    "def calculate_loss(model, X, y):\n",
    "    loss, _ = model.evaluate(X, y)\n",
    "    return loss\n",
    "\n",
    "loss1 = calculate_loss(model_1, X_test, y_test)\n",
    "print(\"Loss1:\", loss1)\n",
    "loss2 = calculate_loss(model_3, X_test, y_test)\n",
    "print(\"Loss2:\", loss2)\n",
    "loss3 = calculate_loss(model_3, X_test, y_test)\n",
    "print(\"Loss3:\", loss3)"
   ]
  },
  {
   "cell_type": "code",
   "execution_count": 10,
   "metadata": {
    "scrolled": false
   },
   "outputs": [
    {
     "name": "stdout",
     "output_type": "stream",
     "text": [
      "Start...\n",
      "Predictions obtained\n",
      "5/5 [==============================] - 0s 2ms/step\n",
      "5/5 [==============================] - 0s 2ms/step\n",
      "Shaps now\n",
      "Shaps XGB\n",
      "Shaps NN\n",
      "Calculating...\n",
      "-> m1\n",
      "780/780 [==============================] - 1s 2ms/step\n",
      "730/730 [==============================] - 1s 1ms/step\n",
      "28/28 [==============================] - 0s 1ms/step\n",
      "725/725 [==============================] - 1s 1ms/step\n",
      "27/27 [==============================] - 0s 2ms/step\n",
      "763/763 [==============================] - 1s 2ms/step\n",
      "27/27 [==============================] - 0s 2ms/step\n",
      "759/759 [==============================] - 1s 1ms/step\n",
      "27/27 [==============================] - 0s 1ms/step\n",
      "795/795 [==============================] - 1s 2ms/step\n",
      "29/29 [==============================] - 0s 1ms/step\n",
      "779/779 [==============================] - 1s 2ms/step\n",
      "28/28 [==============================] - 0s 2ms/step\n"
     ]
    },
    {
     "name": "stderr",
     "output_type": "stream",
     "text": [
      "\r",
      "Exact explainer:   5%|███▎                                                                      | 7/154 [00:00<?, ?it/s]"
     ]
    },
    {
     "name": "stdout",
     "output_type": "stream",
     "text": [
      "762/762 [==============================] - 1s 2ms/step\n",
      "27/27 [==============================] - 0s 1ms/step\n"
     ]
    },
    {
     "name": "stderr",
     "output_type": "stream",
     "text": [
      "\r",
      "Exact explainer:   6%|███▊                                                              | 9/154 [00:13<02:09,  1.12it/s]"
     ]
    },
    {
     "name": "stdout",
     "output_type": "stream",
     "text": [
      "794/794 [==============================] - 1s 1ms/step\n",
      "28/28 [==============================] - 0s 2ms/step\n"
     ]
    },
    {
     "name": "stderr",
     "output_type": "stream",
     "text": [
      "\r",
      "Exact explainer:   6%|████▏                                                            | 10/154 [00:15<02:56,  1.23s/it]"
     ]
    },
    {
     "name": "stdout",
     "output_type": "stream",
     "text": [
      "739/739 [==============================] - 1s 2ms/step\n",
      "26/26 [==============================] - 0s 2ms/step\n"
     ]
    },
    {
     "name": "stderr",
     "output_type": "stream",
     "text": [
      "\r",
      "Exact explainer:   7%|████▋                                                            | 11/154 [00:16<03:15,  1.37s/it]"
     ]
    },
    {
     "name": "stdout",
     "output_type": "stream",
     "text": [
      "758/758 [==============================] - 1s 1ms/step\n",
      "29/29 [==============================] - 0s 1ms/step\n"
     ]
    },
    {
     "name": "stderr",
     "output_type": "stream",
     "text": [
      "\r",
      "Exact explainer:   8%|█████                                                            | 12/154 [00:18<03:26,  1.46s/it]"
     ]
    },
    {
     "name": "stdout",
     "output_type": "stream",
     "text": [
      "755/755 [==============================] - 1s 2ms/step\n",
      "28/28 [==============================] - 0s 2ms/step\n"
     ]
    },
    {
     "name": "stderr",
     "output_type": "stream",
     "text": [
      "\r",
      "Exact explainer:   8%|█████▍                                                           | 13/154 [00:20<03:34,  1.52s/it]"
     ]
    },
    {
     "name": "stdout",
     "output_type": "stream",
     "text": [
      "767/767 [==============================] - 1s 1ms/step\n",
      "28/28 [==============================] - 0s 2ms/step\n"
     ]
    },
    {
     "name": "stderr",
     "output_type": "stream",
     "text": [
      "\r",
      "Exact explainer:   9%|█████▉                                                           | 14/154 [00:21<03:38,  1.56s/it]"
     ]
    },
    {
     "name": "stdout",
     "output_type": "stream",
     "text": [
      "786/786 [==============================] - 1s 2ms/step\n",
      "28/28 [==============================] - 0s 2ms/step\n"
     ]
    },
    {
     "name": "stderr",
     "output_type": "stream",
     "text": [
      "\r",
      "Exact explainer:  10%|██████▎                                                          | 15/154 [00:23<03:44,  1.61s/it]"
     ]
    },
    {
     "name": "stdout",
     "output_type": "stream",
     "text": [
      "783/783 [==============================] - 1s 1ms/step\n",
      "28/28 [==============================] - 0s 2ms/step\n"
     ]
    },
    {
     "name": "stderr",
     "output_type": "stream",
     "text": [
      "\r",
      "Exact explainer:  10%|██████▊                                                          | 16/154 [00:25<03:44,  1.62s/it]"
     ]
    },
    {
     "name": "stdout",
     "output_type": "stream",
     "text": [
      "783/783 [==============================] - 1s 2ms/step\n",
      "28/28 [==============================] - 0s 2ms/step\n"
     ]
    },
    {
     "name": "stderr",
     "output_type": "stream",
     "text": [
      "\r",
      "Exact explainer:  11%|███████▏                                                         | 17/154 [00:26<03:46,  1.65s/it]"
     ]
    },
    {
     "name": "stdout",
     "output_type": "stream",
     "text": [
      "758/758 [==============================] - 1s 1ms/step\n",
      "28/28 [==============================] - 0s 2ms/step\n"
     ]
    },
    {
     "name": "stderr",
     "output_type": "stream",
     "text": [
      "\r",
      "Exact explainer:  12%|███████▌                                                         | 18/154 [00:28<03:42,  1.64s/it]"
     ]
    },
    {
     "name": "stdout",
     "output_type": "stream",
     "text": [
      "774/774 [==============================] - 1s 2ms/step\n",
      "28/28 [==============================] - 0s 2ms/step\n"
     ]
    },
    {
     "name": "stderr",
     "output_type": "stream",
     "text": [
      "\r",
      "Exact explainer:  12%|████████                                                         | 19/154 [00:29<03:41,  1.64s/it]"
     ]
    },
    {
     "name": "stdout",
     "output_type": "stream",
     "text": [
      "758/758 [==============================] - 1s 2ms/step\n",
      "27/27 [==============================] - 0s 2ms/step\n"
     ]
    },
    {
     "name": "stderr",
     "output_type": "stream",
     "text": [
      "\r",
      "Exact explainer:  13%|████████▍                                                        | 20/154 [00:31<03:39,  1.64s/it]"
     ]
    },
    {
     "name": "stdout",
     "output_type": "stream",
     "text": [
      "779/779 [==============================] - 1s 1ms/step\n",
      "28/28 [==============================] - 0s 1ms/step\n"
     ]
    },
    {
     "name": "stderr",
     "output_type": "stream",
     "text": [
      "\r",
      "Exact explainer:  14%|████████▊                                                        | 21/154 [00:33<03:37,  1.64s/it]"
     ]
    },
    {
     "name": "stdout",
     "output_type": "stream",
     "text": [
      "762/762 [==============================] - 1s 1ms/step\n",
      "27/27 [==============================] - 0s 3ms/step\n"
     ]
    },
    {
     "name": "stderr",
     "output_type": "stream",
     "text": [
      "\r",
      "Exact explainer:  14%|█████████▎                                                       | 22/154 [00:34<03:35,  1.64s/it]"
     ]
    },
    {
     "name": "stdout",
     "output_type": "stream",
     "text": [
      "761/761 [==============================] - 1s 1ms/step\n",
      "28/28 [==============================] - 0s 1ms/step\n"
     ]
    },
    {
     "name": "stderr",
     "output_type": "stream",
     "text": [
      "\r",
      "Exact explainer:  15%|█████████▋                                                       | 23/154 [00:36<03:33,  1.63s/it]"
     ]
    },
    {
     "name": "stdout",
     "output_type": "stream",
     "text": [
      "771/771 [==============================] - 1s 1ms/step\n",
      "29/29 [==============================] - 0s 2ms/step\n"
     ]
    },
    {
     "name": "stderr",
     "output_type": "stream",
     "text": [
      "\r",
      "Exact explainer:  16%|██████████▏                                                      | 24/154 [00:38<03:29,  1.61s/it]"
     ]
    },
    {
     "name": "stdout",
     "output_type": "stream",
     "text": [
      "759/759 [==============================] - 1s 2ms/step\n",
      "28/28 [==============================] - 0s 2ms/step\n"
     ]
    },
    {
     "name": "stderr",
     "output_type": "stream",
     "text": [
      "\r",
      "Exact explainer:  16%|██████████▌                                                      | 25/154 [00:39<03:31,  1.64s/it]"
     ]
    },
    {
     "name": "stdout",
     "output_type": "stream",
     "text": [
      "794/794 [==============================] - 1s 2ms/step\n",
      "28/28 [==============================] - 0s 2ms/step\n"
     ]
    },
    {
     "name": "stderr",
     "output_type": "stream",
     "text": [
      "\r",
      "Exact explainer:  17%|██████████▉                                                      | 26/154 [00:41<03:33,  1.66s/it]"
     ]
    },
    {
     "name": "stdout",
     "output_type": "stream",
     "text": [
      "755/755 [==============================] - 1s 1ms/step\n",
      "28/28 [==============================] - 0s 2ms/step\n"
     ]
    },
    {
     "name": "stderr",
     "output_type": "stream",
     "text": [
      "\r",
      "Exact explainer:  18%|███████████▍                                                     | 27/154 [00:43<03:30,  1.66s/it]"
     ]
    },
    {
     "name": "stdout",
     "output_type": "stream",
     "text": [
      "756/756 [==============================] - 1s 2ms/step\n",
      "28/28 [==============================] - 0s 1ms/step\n"
     ]
    },
    {
     "name": "stderr",
     "output_type": "stream",
     "text": [
      "\r",
      "Exact explainer:  18%|███████████▊                                                     | 28/154 [00:44<03:26,  1.64s/it]"
     ]
    },
    {
     "name": "stdout",
     "output_type": "stream",
     "text": [
      "788/788 [==============================] - 1s 1ms/step\n",
      "28/28 [==============================] - 0s 1ms/step\n"
     ]
    },
    {
     "name": "stderr",
     "output_type": "stream",
     "text": [
      "\r",
      "Exact explainer:  19%|████████████▏                                                    | 29/154 [00:46<03:22,  1.62s/it]"
     ]
    },
    {
     "name": "stdout",
     "output_type": "stream",
     "text": [
      "776/776 [==============================] - 1s 2ms/step\n",
      "28/28 [==============================] - 0s 2ms/step\n"
     ]
    },
    {
     "name": "stderr",
     "output_type": "stream",
     "text": [
      "\r",
      "Exact explainer:  19%|████████████▋                                                    | 30/154 [00:48<03:27,  1.67s/it]"
     ]
    },
    {
     "name": "stdout",
     "output_type": "stream",
     "text": [
      "767/767 [==============================] - 1s 2ms/step\n",
      "28/28 [==============================] - 0s 2ms/step\n"
     ]
    },
    {
     "name": "stderr",
     "output_type": "stream",
     "text": [
      "\r",
      "Exact explainer:  20%|█████████████                                                    | 31/154 [00:49<03:29,  1.70s/it]"
     ]
    },
    {
     "name": "stdout",
     "output_type": "stream",
     "text": [
      "783/783 [==============================] - 1s 2ms/step\n",
      "28/28 [==============================] - 0s 1ms/step\n"
     ]
    },
    {
     "name": "stderr",
     "output_type": "stream",
     "text": [
      "\r",
      "Exact explainer:  21%|█████████████▌                                                   | 32/154 [00:51<03:27,  1.70s/it]"
     ]
    },
    {
     "name": "stdout",
     "output_type": "stream",
     "text": [
      "744/744 [==============================] - 1s 1ms/step\n",
      "27/27 [==============================] - 0s 1ms/step\n"
     ]
    },
    {
     "name": "stderr",
     "output_type": "stream",
     "text": [
      "\r",
      "Exact explainer:  21%|█████████████▉                                                   | 33/154 [00:53<03:19,  1.65s/it]"
     ]
    },
    {
     "name": "stdout",
     "output_type": "stream",
     "text": [
      "782/782 [==============================] - 1s 1ms/step\n",
      "28/28 [==============================] - 0s 2ms/step\n"
     ]
    },
    {
     "name": "stderr",
     "output_type": "stream",
     "text": [
      "\r",
      "Exact explainer:  22%|██████████████▎                                                  | 34/154 [00:54<03:18,  1.65s/it]"
     ]
    },
    {
     "name": "stdout",
     "output_type": "stream",
     "text": [
      "746/746 [==============================] - 1s 2ms/step\n",
      "27/27 [==============================] - 0s 1ms/step\n"
     ]
    },
    {
     "name": "stderr",
     "output_type": "stream",
     "text": [
      "\r",
      "Exact explainer:  23%|██████████████▊                                                  | 35/154 [00:56<03:14,  1.64s/it]"
     ]
    },
    {
     "name": "stdout",
     "output_type": "stream",
     "text": [
      "751/751 [==============================] - 1s 2ms/step\n",
      "27/27 [==============================] - 0s 2ms/step\n"
     ]
    },
    {
     "name": "stderr",
     "output_type": "stream",
     "text": [
      "\r",
      "Exact explainer:  23%|███████████████▏                                                 | 36/154 [00:58<03:12,  1.63s/it]"
     ]
    },
    {
     "name": "stdout",
     "output_type": "stream",
     "text": [
      "781/781 [==============================] - 1s 2ms/step\n",
      "28/28 [==============================] - 0s 2ms/step\n"
     ]
    },
    {
     "name": "stderr",
     "output_type": "stream",
     "text": [
      "\r",
      "Exact explainer:  24%|███████████████▌                                                 | 37/154 [00:59<03:11,  1.64s/it]"
     ]
    },
    {
     "name": "stdout",
     "output_type": "stream",
     "text": [
      "751/751 [==============================] - 1s 2ms/step\n",
      "28/28 [==============================] - 0s 2ms/step\n"
     ]
    },
    {
     "name": "stderr",
     "output_type": "stream",
     "text": [
      "\r",
      "Exact explainer:  25%|████████████████                                                 | 38/154 [01:01<03:08,  1.62s/it]"
     ]
    },
    {
     "name": "stdout",
     "output_type": "stream",
     "text": [
      "743/743 [==============================] - 1s 2ms/step\n",
      "28/28 [==============================] - 0s 2ms/step\n"
     ]
    },
    {
     "name": "stderr",
     "output_type": "stream",
     "text": [
      "\r",
      "Exact explainer:  25%|████████████████▍                                                | 39/154 [01:02<03:05,  1.61s/it]"
     ]
    },
    {
     "name": "stdout",
     "output_type": "stream",
     "text": [
      "755/755 [==============================] - 1s 2ms/step\n",
      "28/28 [==============================] - 0s 2ms/step\n"
     ]
    },
    {
     "name": "stderr",
     "output_type": "stream",
     "text": [
      "\r",
      "Exact explainer:  26%|████████████████▉                                                | 40/154 [01:04<03:07,  1.65s/it]"
     ]
    },
    {
     "name": "stdout",
     "output_type": "stream",
     "text": [
      "751/751 [==============================] - 1s 2ms/step\n",
      "27/27 [==============================] - 0s 1ms/step\n"
     ]
    },
    {
     "name": "stderr",
     "output_type": "stream",
     "text": [
      "\r",
      "Exact explainer:  27%|█████████████████▎                                               | 41/154 [01:06<03:06,  1.65s/it]"
     ]
    },
    {
     "name": "stdout",
     "output_type": "stream",
     "text": [
      "787/787 [==============================] - 1s 1ms/step\n",
      "28/28 [==============================] - 0s 2ms/step\n"
     ]
    },
    {
     "name": "stderr",
     "output_type": "stream",
     "text": [
      "\r",
      "Exact explainer:  27%|█████████████████▋                                               | 42/154 [01:07<03:05,  1.65s/it]"
     ]
    },
    {
     "name": "stdout",
     "output_type": "stream",
     "text": [
      "750/750 [==============================] - 1s 1ms/step\n",
      "27/27 [==============================] - 0s 2ms/step\n"
     ]
    },
    {
     "name": "stderr",
     "output_type": "stream",
     "text": [
      "\r",
      "Exact explainer:  28%|██████████████████▏                                              | 43/154 [01:09<03:00,  1.62s/it]"
     ]
    },
    {
     "name": "stdout",
     "output_type": "stream",
     "text": [
      "752/752 [==============================] - 1s 2ms/step\n",
      "28/28 [==============================] - 0s 1ms/step\n"
     ]
    },
    {
     "name": "stderr",
     "output_type": "stream",
     "text": [
      "\r",
      "Exact explainer:  29%|██████████████████▌                                              | 44/154 [01:11<03:00,  1.64s/it]"
     ]
    },
    {
     "name": "stdout",
     "output_type": "stream",
     "text": [
      "731/731 [==============================] - 1s 1ms/step\n",
      "27/27 [==============================] - 0s 2ms/step\n"
     ]
    },
    {
     "name": "stderr",
     "output_type": "stream",
     "text": [
      "\r",
      "Exact explainer:  29%|██████████████████▉                                              | 45/154 [01:12<02:57,  1.62s/it]"
     ]
    },
    {
     "name": "stdout",
     "output_type": "stream",
     "text": [
      "750/750 [==============================] - 1s 2ms/step\n",
      "27/27 [==============================] - 0s 1ms/step\n"
     ]
    },
    {
     "name": "stderr",
     "output_type": "stream",
     "text": [
      "\r",
      "Exact explainer:  30%|███████████████████▍                                             | 46/154 [01:14<02:56,  1.64s/it]"
     ]
    },
    {
     "name": "stdout",
     "output_type": "stream",
     "text": [
      "787/787 [==============================] - 1s 1ms/step\n",
      "28/28 [==============================] - 0s 2ms/step\n"
     ]
    },
    {
     "name": "stderr",
     "output_type": "stream",
     "text": [
      "\r",
      "Exact explainer:  31%|███████████████████▊                                             | 47/154 [01:15<02:52,  1.61s/it]"
     ]
    },
    {
     "name": "stdout",
     "output_type": "stream",
     "text": [
      "799/799 [==============================] - 1s 1ms/step\n",
      "28/28 [==============================] - 0s 1ms/step\n"
     ]
    },
    {
     "name": "stderr",
     "output_type": "stream",
     "text": [
      "\r",
      "Exact explainer:  31%|████████████████████▎                                            | 48/154 [01:17<02:52,  1.63s/it]"
     ]
    },
    {
     "name": "stdout",
     "output_type": "stream",
     "text": [
      "747/747 [==============================] - 1s 2ms/step\n",
      "28/28 [==============================] - 0s 1ms/step\n"
     ]
    },
    {
     "name": "stderr",
     "output_type": "stream",
     "text": [
      "\r",
      "Exact explainer:  32%|████████████████████▋                                            | 49/154 [01:19<02:49,  1.62s/it]"
     ]
    },
    {
     "name": "stdout",
     "output_type": "stream",
     "text": [
      "739/739 [==============================] - 2s 2ms/step\n",
      "27/27 [==============================] - 0s 2ms/step\n"
     ]
    },
    {
     "name": "stderr",
     "output_type": "stream",
     "text": [
      "\r",
      "Exact explainer:  32%|█████████████████████                                            | 50/154 [01:21<03:03,  1.76s/it]"
     ]
    },
    {
     "name": "stdout",
     "output_type": "stream",
     "text": [
      "777/777 [==============================] - 2s 2ms/step\n",
      "28/28 [==============================] - 0s 2ms/step\n"
     ]
    },
    {
     "name": "stderr",
     "output_type": "stream",
     "text": [
      "\r",
      "Exact explainer:  33%|█████████████████████▌                                           | 51/154 [01:23<03:11,  1.86s/it]"
     ]
    },
    {
     "name": "stdout",
     "output_type": "stream",
     "text": [
      "732/732 [==============================] - 1s 2ms/step\n",
      "28/28 [==============================] - 0s 2ms/step\n"
     ]
    },
    {
     "name": "stderr",
     "output_type": "stream",
     "text": [
      "\r",
      "Exact explainer:  34%|█████████████████████▉                                           | 52/154 [01:25<03:15,  1.92s/it]"
     ]
    },
    {
     "name": "stdout",
     "output_type": "stream",
     "text": [
      "799/799 [==============================] - 1s 2ms/step\n",
      "29/29 [==============================] - 0s 2ms/step\n"
     ]
    },
    {
     "name": "stderr",
     "output_type": "stream",
     "text": [
      "\r",
      "Exact explainer:  34%|██████████████████████▎                                          | 53/154 [01:27<03:09,  1.87s/it]"
     ]
    },
    {
     "name": "stdout",
     "output_type": "stream",
     "text": [
      "780/780 [==============================] - 2s 2ms/step\n",
      "28/28 [==============================] - 0s 2ms/step\n"
     ]
    },
    {
     "name": "stderr",
     "output_type": "stream",
     "text": [
      "\r",
      "Exact explainer:  35%|██████████████████████▊                                          | 54/154 [01:29<03:13,  1.94s/it]"
     ]
    },
    {
     "name": "stdout",
     "output_type": "stream",
     "text": [
      "735/735 [==============================] - 1s 1ms/step\n",
      "26/26 [==============================] - 0s 2ms/step\n"
     ]
    },
    {
     "name": "stderr",
     "output_type": "stream",
     "text": [
      "\r",
      "Exact explainer:  36%|███████████████████████▏                                         | 55/154 [01:30<03:04,  1.86s/it]"
     ]
    },
    {
     "name": "stdout",
     "output_type": "stream",
     "text": [
      "764/764 [==============================] - 1s 1ms/step\n",
      "28/28 [==============================] - 0s 3ms/step\n"
     ]
    },
    {
     "name": "stderr",
     "output_type": "stream",
     "text": [
      "\r",
      "Exact explainer:  36%|███████████████████████▋                                         | 56/154 [01:32<03:02,  1.87s/it]"
     ]
    },
    {
     "name": "stdout",
     "output_type": "stream",
     "text": [
      "776/776 [==============================] - 1s 2ms/step\n",
      "28/28 [==============================] - 0s 2ms/step\n"
     ]
    },
    {
     "name": "stderr",
     "output_type": "stream",
     "text": [
      "\r",
      "Exact explainer:  37%|████████████████████████                                         | 57/154 [01:34<03:01,  1.87s/it]"
     ]
    },
    {
     "name": "stdout",
     "output_type": "stream",
     "text": [
      "762/762 [==============================] - 1s 2ms/step\n",
      "27/27 [==============================] - 0s 1ms/step\n"
     ]
    },
    {
     "name": "stderr",
     "output_type": "stream",
     "text": [
      "\r",
      "Exact explainer:  38%|████████████████████████▍                                        | 58/154 [01:36<02:57,  1.85s/it]"
     ]
    },
    {
     "name": "stdout",
     "output_type": "stream",
     "text": [
      "742/742 [==============================] - 1s 2ms/step\n",
      "27/27 [==============================] - 0s 1ms/step\n"
     ]
    },
    {
     "name": "stderr",
     "output_type": "stream",
     "text": [
      "\r",
      "Exact explainer:  38%|████████████████████████▉                                        | 59/154 [01:38<02:48,  1.77s/it]"
     ]
    },
    {
     "name": "stdout",
     "output_type": "stream",
     "text": [
      "774/774 [==============================] - 1s 2ms/step\n",
      "28/28 [==============================] - 0s 2ms/step\n"
     ]
    },
    {
     "name": "stderr",
     "output_type": "stream",
     "text": [
      "\r",
      "Exact explainer:  39%|█████████████████████████▎                                       | 60/154 [01:39<02:44,  1.75s/it]"
     ]
    },
    {
     "name": "stdout",
     "output_type": "stream",
     "text": [
      "748/748 [==============================] - 1s 1ms/step\n",
      "27/27 [==============================] - 0s 1ms/step\n"
     ]
    },
    {
     "name": "stderr",
     "output_type": "stream",
     "text": [
      "\r",
      "Exact explainer:  40%|█████████████████████████▋                                       | 61/154 [01:41<02:36,  1.68s/it]"
     ]
    },
    {
     "name": "stdout",
     "output_type": "stream",
     "text": [
      "769/769 [==============================] - 1s 1ms/step\n",
      "28/28 [==============================] - 0s 2ms/step\n"
     ]
    },
    {
     "name": "stderr",
     "output_type": "stream",
     "text": [
      "\r",
      "Exact explainer:  40%|██████████████████████████▏                                      | 62/154 [01:42<02:32,  1.66s/it]"
     ]
    },
    {
     "name": "stdout",
     "output_type": "stream",
     "text": [
      "756/756 [==============================] - 1s 1ms/step\n",
      "28/28 [==============================] - 0s 2ms/step\n"
     ]
    },
    {
     "name": "stderr",
     "output_type": "stream",
     "text": [
      "\r",
      "Exact explainer:  41%|██████████████████████████▌                                      | 63/154 [01:44<02:29,  1.64s/it]"
     ]
    },
    {
     "name": "stdout",
     "output_type": "stream",
     "text": [
      "786/786 [==============================] - 1s 1ms/step\n",
      "29/29 [==============================] - 0s 1ms/step\n"
     ]
    },
    {
     "name": "stderr",
     "output_type": "stream",
     "text": [
      "\r",
      "Exact explainer:  42%|███████████████████████████                                      | 64/154 [01:46<02:27,  1.64s/it]"
     ]
    },
    {
     "name": "stdout",
     "output_type": "stream",
     "text": [
      "800/800 [==============================] - 2s 2ms/step\n",
      "29/29 [==============================] - 0s 2ms/step\n"
     ]
    },
    {
     "name": "stderr",
     "output_type": "stream",
     "text": [
      "\r",
      "Exact explainer:  42%|███████████████████████████▍                                     | 65/154 [01:48<02:44,  1.85s/it]"
     ]
    },
    {
     "name": "stdout",
     "output_type": "stream",
     "text": [
      "778/778 [==============================] - 2s 2ms/step\n",
      "28/28 [==============================] - 0s 2ms/step\n"
     ]
    },
    {
     "name": "stderr",
     "output_type": "stream",
     "text": [
      "\r",
      "Exact explainer:  43%|███████████████████████████▊                                     | 66/154 [01:50<02:49,  1.92s/it]"
     ]
    },
    {
     "name": "stdout",
     "output_type": "stream",
     "text": [
      "748/748 [==============================] - 1s 2ms/step\n",
      "28/28 [==============================] - 0s 2ms/step\n"
     ]
    },
    {
     "name": "stderr",
     "output_type": "stream",
     "text": [
      "\r",
      "Exact explainer:  44%|████████████████████████████▎                                    | 67/154 [01:52<02:49,  1.95s/it]"
     ]
    },
    {
     "name": "stdout",
     "output_type": "stream",
     "text": [
      "754/754 [==============================] - 1s 2ms/step\n",
      "28/28 [==============================] - 0s 4ms/step\n"
     ]
    },
    {
     "name": "stderr",
     "output_type": "stream",
     "text": [
      "\r",
      "Exact explainer:  44%|████████████████████████████▋                                    | 68/154 [01:54<02:46,  1.94s/it]"
     ]
    },
    {
     "name": "stdout",
     "output_type": "stream",
     "text": [
      "755/755 [==============================] - 1s 2ms/step\n",
      "27/27 [==============================] - 0s 2ms/step\n"
     ]
    },
    {
     "name": "stderr",
     "output_type": "stream",
     "text": [
      "\r",
      "Exact explainer:  45%|█████████████████████████████                                    | 69/154 [01:56<02:38,  1.86s/it]"
     ]
    },
    {
     "name": "stdout",
     "output_type": "stream",
     "text": [
      "747/747 [==============================] - 1s 1ms/step\n",
      "27/27 [==============================] - 0s 1ms/step\n"
     ]
    },
    {
     "name": "stderr",
     "output_type": "stream",
     "text": [
      "\r",
      "Exact explainer:  45%|█████████████████████████████▌                                   | 70/154 [01:57<02:28,  1.76s/it]"
     ]
    },
    {
     "name": "stdout",
     "output_type": "stream",
     "text": [
      "784/784 [==============================] - 1s 2ms/step\n",
      "28/28 [==============================] - 0s 2ms/step\n"
     ]
    },
    {
     "name": "stderr",
     "output_type": "stream",
     "text": [
      "\r",
      "Exact explainer:  46%|█████████████████████████████▉                                   | 71/154 [01:59<02:29,  1.81s/it]"
     ]
    },
    {
     "name": "stdout",
     "output_type": "stream",
     "text": [
      "781/781 [==============================] - 1s 2ms/step\n",
      "28/28 [==============================] - 0s 2ms/step\n"
     ]
    },
    {
     "name": "stderr",
     "output_type": "stream",
     "text": [
      "\r",
      "Exact explainer:  47%|██████████████████████████████▍                                  | 72/154 [02:01<02:26,  1.79s/it]"
     ]
    },
    {
     "name": "stdout",
     "output_type": "stream",
     "text": [
      "771/771 [==============================] - 1s 2ms/step\n",
      "28/28 [==============================] - 0s 2ms/step\n"
     ]
    },
    {
     "name": "stderr",
     "output_type": "stream",
     "text": [
      "\r",
      "Exact explainer:  47%|██████████████████████████████▊                                  | 73/154 [02:03<02:26,  1.81s/it]"
     ]
    },
    {
     "name": "stdout",
     "output_type": "stream",
     "text": [
      "743/743 [==============================] - 1s 1ms/step\n",
      "27/27 [==============================] - 0s 2ms/step\n"
     ]
    },
    {
     "name": "stderr",
     "output_type": "stream",
     "text": [
      "\r",
      "Exact explainer:  48%|███████████████████████████████▏                                 | 74/154 [02:04<02:18,  1.73s/it]"
     ]
    },
    {
     "name": "stdout",
     "output_type": "stream",
     "text": [
      "780/780 [==============================] - 1s 2ms/step\n",
      "28/28 [==============================] - 0s 3ms/step\n"
     ]
    },
    {
     "name": "stderr",
     "output_type": "stream",
     "text": [
      "\r",
      "Exact explainer:  49%|███████████████████████████████▋                                 | 75/154 [02:06<02:22,  1.81s/it]"
     ]
    },
    {
     "name": "stdout",
     "output_type": "stream",
     "text": [
      "729/729 [==============================] - 1s 2ms/step\n",
      "27/27 [==============================] - 0s 1ms/step\n"
     ]
    },
    {
     "name": "stderr",
     "output_type": "stream",
     "text": [
      "\r",
      "Exact explainer:  49%|████████████████████████████████                                 | 76/154 [02:08<02:14,  1.73s/it]"
     ]
    },
    {
     "name": "stdout",
     "output_type": "stream",
     "text": [
      "757/757 [==============================] - 1s 1ms/step\n",
      "28/28 [==============================] - 0s 2ms/step\n"
     ]
    },
    {
     "name": "stderr",
     "output_type": "stream",
     "text": [
      "\r",
      "Exact explainer:  50%|████████████████████████████████▌                                | 77/154 [02:09<02:09,  1.68s/it]"
     ]
    },
    {
     "name": "stdout",
     "output_type": "stream",
     "text": [
      "762/762 [==============================] - 1s 2ms/step\n",
      "27/27 [==============================] - 0s 2ms/step\n"
     ]
    },
    {
     "name": "stderr",
     "output_type": "stream",
     "text": [
      "\r",
      "Exact explainer:  51%|████████████████████████████████▉                                | 78/154 [02:11<02:14,  1.77s/it]"
     ]
    },
    {
     "name": "stdout",
     "output_type": "stream",
     "text": [
      "792/792 [==============================] - 1s 2ms/step\n",
      "28/28 [==============================] - 0s 2ms/step\n"
     ]
    },
    {
     "name": "stderr",
     "output_type": "stream",
     "text": [
      "\r",
      "Exact explainer:  51%|█████████████████████████████████▎                               | 79/154 [02:13<02:17,  1.83s/it]"
     ]
    },
    {
     "name": "stdout",
     "output_type": "stream",
     "text": [
      "779/779 [==============================] - 1s 2ms/step\n",
      "28/28 [==============================] - 0s 2ms/step\n"
     ]
    },
    {
     "name": "stderr",
     "output_type": "stream",
     "text": [
      "\r",
      "Exact explainer:  52%|█████████████████████████████████▊                               | 80/154 [02:15<02:17,  1.86s/it]"
     ]
    },
    {
     "name": "stdout",
     "output_type": "stream",
     "text": [
      "737/737 [==============================] - 1s 1ms/step\n",
      "27/27 [==============================] - 0s 2ms/step\n"
     ]
    },
    {
     "name": "stderr",
     "output_type": "stream",
     "text": [
      "\r",
      "Exact explainer:  53%|██████████████████████████████████▏                              | 81/154 [02:17<02:09,  1.77s/it]"
     ]
    },
    {
     "name": "stdout",
     "output_type": "stream",
     "text": [
      "756/756 [==============================] - 1s 2ms/step\n",
      "27/27 [==============================] - 0s 2ms/step\n"
     ]
    },
    {
     "name": "stderr",
     "output_type": "stream",
     "text": [
      "\r",
      "Exact explainer:  53%|██████████████████████████████████▌                              | 82/154 [02:19<02:09,  1.80s/it]"
     ]
    },
    {
     "name": "stdout",
     "output_type": "stream",
     "text": [
      "780/780 [==============================] - 1s 2ms/step\n",
      "28/28 [==============================] - 0s 2ms/step\n"
     ]
    },
    {
     "name": "stderr",
     "output_type": "stream",
     "text": [
      "\r",
      "Exact explainer:  54%|███████████████████████████████████                              | 83/154 [02:20<02:06,  1.79s/it]"
     ]
    },
    {
     "name": "stdout",
     "output_type": "stream",
     "text": [
      "776/776 [==============================] - 1s 2ms/step\n",
      "28/28 [==============================] - 0s 2ms/step\n"
     ]
    },
    {
     "name": "stderr",
     "output_type": "stream",
     "text": [
      "\r",
      "Exact explainer:  55%|███████████████████████████████████▍                             | 84/154 [02:22<02:02,  1.76s/it]"
     ]
    },
    {
     "name": "stdout",
     "output_type": "stream",
     "text": [
      "792/792 [==============================] - 1s 1ms/step\n",
      "28/28 [==============================] - 0s 2ms/step\n"
     ]
    },
    {
     "name": "stderr",
     "output_type": "stream",
     "text": [
      "\r",
      "Exact explainer:  55%|███████████████████████████████████▉                             | 85/154 [02:24<01:59,  1.74s/it]"
     ]
    },
    {
     "name": "stdout",
     "output_type": "stream",
     "text": [
      "776/776 [==============================] - 1s 2ms/step\n",
      "28/28 [==============================] - 0s 2ms/step\n"
     ]
    },
    {
     "name": "stderr",
     "output_type": "stream",
     "text": [
      "\r",
      "Exact explainer:  56%|████████████████████████████████████▎                            | 86/154 [02:26<01:58,  1.74s/it]"
     ]
    },
    {
     "name": "stdout",
     "output_type": "stream",
     "text": [
      "791/791 [==============================] - 1s 1ms/step\n",
      "28/28 [==============================] - 0s 2ms/step\n"
     ]
    },
    {
     "name": "stderr",
     "output_type": "stream",
     "text": [
      "\r",
      "Exact explainer:  56%|████████████████████████████████████▋                            | 87/154 [02:27<01:55,  1.72s/it]"
     ]
    },
    {
     "name": "stdout",
     "output_type": "stream",
     "text": [
      "768/768 [==============================] - 1s 2ms/step\n",
      "28/28 [==============================] - 0s 2ms/step\n"
     ]
    },
    {
     "name": "stderr",
     "output_type": "stream",
     "text": [
      "\r",
      "Exact explainer:  57%|█████████████████████████████████████▏                           | 88/154 [02:29<01:54,  1.74s/it]"
     ]
    },
    {
     "name": "stdout",
     "output_type": "stream",
     "text": [
      "774/774 [==============================] - 1s 2ms/step\n",
      "27/27 [==============================] - 0s 2ms/step\n"
     ]
    },
    {
     "name": "stderr",
     "output_type": "stream",
     "text": [
      "\r",
      "Exact explainer:  58%|█████████████████████████████████████▌                           | 89/154 [02:31<01:52,  1.74s/it]"
     ]
    },
    {
     "name": "stdout",
     "output_type": "stream",
     "text": [
      "756/756 [==============================] - 1s 1ms/step\n",
      "28/28 [==============================] - 0s 1ms/step\n"
     ]
    },
    {
     "name": "stderr",
     "output_type": "stream",
     "text": [
      "\r",
      "Exact explainer:  58%|█████████████████████████████████████▉                           | 90/154 [02:32<01:44,  1.63s/it]"
     ]
    },
    {
     "name": "stdout",
     "output_type": "stream",
     "text": [
      "783/783 [==============================] - 1s 1ms/step\n",
      "28/28 [==============================] - 0s 2ms/step\n"
     ]
    },
    {
     "name": "stderr",
     "output_type": "stream",
     "text": [
      "\r",
      "Exact explainer:  59%|██████████████████████████████████████▍                          | 91/154 [02:33<01:36,  1.53s/it]"
     ]
    },
    {
     "name": "stdout",
     "output_type": "stream",
     "text": [
      "783/783 [==============================] - 1s 1ms/step\n",
      "28/28 [==============================] - 0s 1ms/step\n"
     ]
    },
    {
     "name": "stderr",
     "output_type": "stream",
     "text": [
      "\r",
      "Exact explainer:  60%|██████████████████████████████████████▊                          | 92/154 [02:35<01:30,  1.46s/it]"
     ]
    },
    {
     "name": "stdout",
     "output_type": "stream",
     "text": [
      "727/727 [==============================] - 1s 1ms/step\n",
      "27/27 [==============================] - 0s 1ms/step\n"
     ]
    },
    {
     "name": "stderr",
     "output_type": "stream",
     "text": [
      "\r",
      "Exact explainer:  60%|███████████████████████████████████████▎                         | 93/154 [02:36<01:26,  1.42s/it]"
     ]
    },
    {
     "name": "stdout",
     "output_type": "stream",
     "text": [
      "743/743 [==============================] - 1s 1ms/step\n",
      "27/27 [==============================] - 0s 2ms/step\n"
     ]
    },
    {
     "name": "stderr",
     "output_type": "stream",
     "text": [
      "\r",
      "Exact explainer:  61%|███████████████████████████████████████▋                         | 94/154 [02:37<01:23,  1.40s/it]"
     ]
    },
    {
     "name": "stdout",
     "output_type": "stream",
     "text": [
      "731/731 [==============================] - 1s 1ms/step\n",
      "27/27 [==============================] - 0s 2ms/step\n"
     ]
    },
    {
     "name": "stderr",
     "output_type": "stream",
     "text": [
      "\r",
      "Exact explainer:  62%|████████████████████████████████████████                         | 95/154 [02:39<01:20,  1.36s/it]"
     ]
    },
    {
     "name": "stdout",
     "output_type": "stream",
     "text": [
      "783/783 [==============================] - 1s 1ms/step\n",
      "28/28 [==============================] - 0s 1ms/step\n"
     ]
    },
    {
     "name": "stderr",
     "output_type": "stream",
     "text": [
      "\r",
      "Exact explainer:  62%|████████████████████████████████████████▌                        | 96/154 [02:40<01:18,  1.35s/it]"
     ]
    },
    {
     "name": "stdout",
     "output_type": "stream",
     "text": [
      "755/755 [==============================] - 1s 1ms/step\n",
      "28/28 [==============================] - 0s 1ms/step\n"
     ]
    },
    {
     "name": "stderr",
     "output_type": "stream",
     "text": [
      "\r",
      "Exact explainer:  63%|████████████████████████████████████████▉                        | 97/154 [02:41<01:16,  1.34s/it]"
     ]
    },
    {
     "name": "stdout",
     "output_type": "stream",
     "text": [
      "750/750 [==============================] - 1s 1ms/step\n",
      "27/27 [==============================] - 0s 1ms/step\n"
     ]
    },
    {
     "name": "stderr",
     "output_type": "stream",
     "text": [
      "\r",
      "Exact explainer:  64%|█████████████████████████████████████████▎                       | 98/154 [02:43<01:13,  1.32s/it]"
     ]
    },
    {
     "name": "stdout",
     "output_type": "stream",
     "text": [
      "777/777 [==============================] - 1s 1ms/step\n",
      "28/28 [==============================] - 0s 1ms/step\n"
     ]
    },
    {
     "name": "stderr",
     "output_type": "stream",
     "text": [
      "\r",
      "Exact explainer:  64%|█████████████████████████████████████████▊                       | 99/154 [02:44<01:12,  1.33s/it]"
     ]
    },
    {
     "name": "stdout",
     "output_type": "stream",
     "text": [
      "759/759 [==============================] - 1s 1ms/step\n",
      "28/28 [==============================] - 0s 1ms/step\n"
     ]
    },
    {
     "name": "stderr",
     "output_type": "stream",
     "text": [
      "\r",
      "Exact explainer:  65%|█████████████████████████████████████████▌                      | 100/154 [02:45<01:10,  1.31s/it]"
     ]
    },
    {
     "name": "stdout",
     "output_type": "stream",
     "text": [
      "743/743 [==============================] - 1s 1ms/step\n",
      "27/27 [==============================] - 0s 1ms/step\n"
     ]
    },
    {
     "name": "stderr",
     "output_type": "stream",
     "text": [
      "\r",
      "Exact explainer:  66%|█████████████████████████████████████████▉                      | 101/154 [02:47<01:09,  1.31s/it]"
     ]
    },
    {
     "name": "stdout",
     "output_type": "stream",
     "text": [
      "792/792 [==============================] - 1s 1ms/step\n",
      "28/28 [==============================] - 0s 2ms/step\n"
     ]
    },
    {
     "name": "stderr",
     "output_type": "stream",
     "text": [
      "\r",
      "Exact explainer:  66%|██████████████████████████████████████████▍                     | 102/154 [02:48<01:08,  1.32s/it]"
     ]
    },
    {
     "name": "stdout",
     "output_type": "stream",
     "text": [
      "763/763 [==============================] - 1s 1ms/step\n",
      "28/28 [==============================] - 0s 1ms/step\n"
     ]
    },
    {
     "name": "stderr",
     "output_type": "stream",
     "text": [
      "\r",
      "Exact explainer:  67%|██████████████████████████████████████████▊                     | 103/154 [02:49<01:07,  1.32s/it]"
     ]
    },
    {
     "name": "stdout",
     "output_type": "stream",
     "text": [
      "748/748 [==============================] - 1s 1ms/step\n",
      "27/27 [==============================] - 0s 1ms/step\n"
     ]
    },
    {
     "name": "stderr",
     "output_type": "stream",
     "text": [
      "\r",
      "Exact explainer:  68%|███████████████████████████████████████████▏                    | 104/154 [02:51<01:05,  1.31s/it]"
     ]
    },
    {
     "name": "stdout",
     "output_type": "stream",
     "text": [
      "763/763 [==============================] - 1s 1ms/step\n",
      "28/28 [==============================] - 0s 1ms/step\n"
     ]
    },
    {
     "name": "stderr",
     "output_type": "stream",
     "text": [
      "\r",
      "Exact explainer:  68%|███████████████████████████████████████████▋                    | 105/154 [02:52<01:03,  1.30s/it]"
     ]
    },
    {
     "name": "stdout",
     "output_type": "stream",
     "text": [
      "751/751 [==============================] - 1s 1ms/step\n",
      "27/27 [==============================] - 0s 1ms/step\n"
     ]
    },
    {
     "name": "stderr",
     "output_type": "stream",
     "text": [
      "\r",
      "Exact explainer:  69%|████████████████████████████████████████████                    | 106/154 [02:53<01:02,  1.30s/it]"
     ]
    },
    {
     "name": "stdout",
     "output_type": "stream",
     "text": [
      "783/783 [==============================] - 1s 1ms/step\n",
      "28/28 [==============================] - 0s 1ms/step\n"
     ]
    },
    {
     "name": "stderr",
     "output_type": "stream",
     "text": [
      "\r",
      "Exact explainer:  69%|████████████████████████████████████████████▍                   | 107/154 [02:54<01:01,  1.32s/it]"
     ]
    },
    {
     "name": "stdout",
     "output_type": "stream",
     "text": [
      "778/778 [==============================] - 1s 1ms/step\n",
      "28/28 [==============================] - 0s 1ms/step\n"
     ]
    },
    {
     "name": "stderr",
     "output_type": "stream",
     "text": [
      "\r",
      "Exact explainer:  70%|████████████████████████████████████████████▉                   | 108/154 [02:56<01:00,  1.32s/it]"
     ]
    },
    {
     "name": "stdout",
     "output_type": "stream",
     "text": [
      "790/790 [==============================] - 1s 1ms/step\n",
      "28/28 [==============================] - 0s 2ms/step\n"
     ]
    },
    {
     "name": "stderr",
     "output_type": "stream",
     "text": [
      "\r",
      "Exact explainer:  71%|█████████████████████████████████████████████▎                  | 109/154 [02:57<00:59,  1.33s/it]"
     ]
    },
    {
     "name": "stdout",
     "output_type": "stream",
     "text": [
      "786/786 [==============================] - 1s 1ms/step\n",
      "28/28 [==============================] - 0s 1ms/step\n"
     ]
    },
    {
     "name": "stderr",
     "output_type": "stream",
     "text": [
      "\r",
      "Exact explainer:  71%|█████████████████████████████████████████████▋                  | 110/154 [02:58<00:58,  1.33s/it]"
     ]
    },
    {
     "name": "stdout",
     "output_type": "stream",
     "text": [
      "759/759 [==============================] - 1s 1ms/step\n",
      "28/28 [==============================] - 0s 1ms/step\n"
     ]
    },
    {
     "name": "stderr",
     "output_type": "stream",
     "text": [
      "\r",
      "Exact explainer:  72%|██████████████████████████████████████████████▏                 | 111/154 [03:00<00:56,  1.31s/it]"
     ]
    },
    {
     "name": "stdout",
     "output_type": "stream",
     "text": [
      "755/755 [==============================] - 1s 1ms/step\n",
      "28/28 [==============================] - 0s 2ms/step\n"
     ]
    },
    {
     "name": "stderr",
     "output_type": "stream",
     "text": [
      "\r",
      "Exact explainer:  73%|██████████████████████████████████████████████▌                 | 112/154 [03:01<00:54,  1.30s/it]"
     ]
    },
    {
     "name": "stdout",
     "output_type": "stream",
     "text": [
      "746/746 [==============================] - 1s 1ms/step\n",
      "27/27 [==============================] - 0s 1ms/step\n"
     ]
    },
    {
     "name": "stderr",
     "output_type": "stream",
     "text": [
      "\r",
      "Exact explainer:  73%|██████████████████████████████████████████████▉                 | 113/154 [03:02<00:53,  1.30s/it]"
     ]
    },
    {
     "name": "stdout",
     "output_type": "stream",
     "text": [
      "738/738 [==============================] - 1s 1ms/step\n",
      "27/27 [==============================] - 0s 1ms/step\n"
     ]
    },
    {
     "name": "stderr",
     "output_type": "stream",
     "text": [
      "\r",
      "Exact explainer:  74%|███████████████████████████████████████████████▍                | 114/154 [03:04<00:52,  1.31s/it]"
     ]
    },
    {
     "name": "stdout",
     "output_type": "stream",
     "text": [
      "782/782 [==============================] - 1s 1ms/step\n",
      "28/28 [==============================] - 0s 1ms/step\n"
     ]
    },
    {
     "name": "stderr",
     "output_type": "stream",
     "text": [
      "\r",
      "Exact explainer:  75%|███████████████████████████████████████████████▊                | 115/154 [03:05<00:51,  1.31s/it]"
     ]
    },
    {
     "name": "stdout",
     "output_type": "stream",
     "text": [
      "775/775 [==============================] - 1s 1ms/step\n",
      "28/28 [==============================] - 0s 1ms/step\n"
     ]
    },
    {
     "name": "stderr",
     "output_type": "stream",
     "text": [
      "\r",
      "Exact explainer:  75%|████████████████████████████████████████████████▏               | 116/154 [03:06<00:49,  1.30s/it]"
     ]
    },
    {
     "name": "stdout",
     "output_type": "stream",
     "text": [
      "731/731 [==============================] - 1s 1ms/step\n",
      "28/28 [==============================] - 0s 2ms/step\n"
     ]
    },
    {
     "name": "stderr",
     "output_type": "stream",
     "text": [
      "\r",
      "Exact explainer:  76%|████████████████████████████████████████████████▌               | 117/154 [03:07<00:46,  1.27s/it]"
     ]
    },
    {
     "name": "stdout",
     "output_type": "stream",
     "text": [
      "752/752 [==============================] - 1s 1ms/step\n",
      "28/28 [==============================] - 0s 1ms/step\n"
     ]
    },
    {
     "name": "stderr",
     "output_type": "stream",
     "text": [
      "\r",
      "Exact explainer:  77%|█████████████████████████████████████████████████               | 118/154 [03:09<00:45,  1.26s/it]"
     ]
    },
    {
     "name": "stdout",
     "output_type": "stream",
     "text": [
      "724/724 [==============================] - 1s 1ms/step\n",
      "27/27 [==============================] - 0s 1ms/step\n"
     ]
    },
    {
     "name": "stderr",
     "output_type": "stream",
     "text": [
      "\r",
      "Exact explainer:  77%|█████████████████████████████████████████████████▍              | 119/154 [03:10<00:43,  1.24s/it]"
     ]
    },
    {
     "name": "stdout",
     "output_type": "stream",
     "text": [
      "746/746 [==============================] - 1s 1ms/step\n",
      "27/27 [==============================] - 0s 1ms/step\n"
     ]
    },
    {
     "name": "stderr",
     "output_type": "stream",
     "text": [
      "\r",
      "Exact explainer:  78%|█████████████████████████████████████████████████▊              | 120/154 [03:11<00:42,  1.25s/it]"
     ]
    },
    {
     "name": "stdout",
     "output_type": "stream",
     "text": [
      "727/727 [==============================] - 1s 1ms/step\n",
      "27/27 [==============================] - 0s 1ms/step\n"
     ]
    },
    {
     "name": "stderr",
     "output_type": "stream",
     "text": [
      "\r",
      "Exact explainer:  79%|██████████████████████████████████████████████████▎             | 121/154 [03:12<00:41,  1.26s/it]"
     ]
    },
    {
     "name": "stdout",
     "output_type": "stream",
     "text": [
      "723/723 [==============================] - 1s 2ms/step\n",
      "27/27 [==============================] - 0s 2ms/step\n"
     ]
    },
    {
     "name": "stderr",
     "output_type": "stream",
     "text": [
      "\r",
      "Exact explainer:  79%|██████████████████████████████████████████████████▋             | 122/154 [03:14<00:44,  1.38s/it]"
     ]
    },
    {
     "name": "stdout",
     "output_type": "stream",
     "text": [
      "779/779 [==============================] - 1s 1ms/step\n",
      "28/28 [==============================] - 0s 1ms/step\n"
     ]
    },
    {
     "name": "stderr",
     "output_type": "stream",
     "text": [
      "\r",
      "Exact explainer:  80%|███████████████████████████████████████████████████             | 123/154 [03:15<00:42,  1.38s/it]"
     ]
    },
    {
     "name": "stdout",
     "output_type": "stream",
     "text": [
      "737/737 [==============================] - 1s 1ms/step\n",
      "28/28 [==============================] - 0s 1ms/step\n"
     ]
    },
    {
     "name": "stderr",
     "output_type": "stream",
     "text": [
      "\r",
      "Exact explainer:  81%|███████████████████████████████████████████████████▌            | 124/154 [03:17<00:40,  1.36s/it]"
     ]
    },
    {
     "name": "stdout",
     "output_type": "stream",
     "text": [
      "783/783 [==============================] - 1s 1ms/step\n",
      "28/28 [==============================] - 0s 1ms/step\n"
     ]
    },
    {
     "name": "stderr",
     "output_type": "stream",
     "text": [
      "\r",
      "Exact explainer:  81%|███████████████████████████████████████████████████▉            | 125/154 [03:18<00:39,  1.35s/it]"
     ]
    },
    {
     "name": "stdout",
     "output_type": "stream",
     "text": [
      "746/746 [==============================] - 1s 1ms/step\n",
      "27/27 [==============================] - 0s 1ms/step\n"
     ]
    },
    {
     "name": "stderr",
     "output_type": "stream",
     "text": [
      "\r",
      "Exact explainer:  82%|████████████████████████████████████████████████████▎           | 126/154 [03:19<00:37,  1.35s/it]"
     ]
    },
    {
     "name": "stdout",
     "output_type": "stream",
     "text": [
      "798/798 [==============================] - 1s 1ms/step\n",
      "29/29 [==============================] - 0s 1ms/step\n"
     ]
    },
    {
     "name": "stderr",
     "output_type": "stream",
     "text": [
      "\r",
      "Exact explainer:  82%|████████████████████████████████████████████████████▊           | 127/154 [03:21<00:36,  1.34s/it]"
     ]
    },
    {
     "name": "stdout",
     "output_type": "stream",
     "text": [
      "744/744 [==============================] - 1s 1ms/step\n",
      "27/27 [==============================] - 0s 1ms/step\n"
     ]
    },
    {
     "name": "stderr",
     "output_type": "stream",
     "text": [
      "\r",
      "Exact explainer:  83%|█████████████████████████████████████████████████████▏          | 128/154 [03:22<00:34,  1.31s/it]"
     ]
    },
    {
     "name": "stdout",
     "output_type": "stream",
     "text": [
      "767/767 [==============================] - 1s 1ms/step\n",
      "27/27 [==============================] - 0s 2ms/step\n"
     ]
    },
    {
     "name": "stderr",
     "output_type": "stream",
     "text": [
      "\r",
      "Exact explainer:  84%|█████████████████████████████████████████████████████▌          | 129/154 [03:23<00:33,  1.35s/it]"
     ]
    },
    {
     "name": "stdout",
     "output_type": "stream",
     "text": [
      "741/741 [==============================] - 1s 1ms/step\n",
      "27/27 [==============================] - 0s 1ms/step\n"
     ]
    },
    {
     "name": "stderr",
     "output_type": "stream",
     "text": [
      "\r",
      "Exact explainer:  84%|██████████████████████████████████████████████████████          | 130/154 [03:25<00:33,  1.38s/it]"
     ]
    },
    {
     "name": "stdout",
     "output_type": "stream",
     "text": [
      "767/767 [==============================] - 1s 1ms/step\n",
      "28/28 [==============================] - 0s 1ms/step\n"
     ]
    },
    {
     "name": "stderr",
     "output_type": "stream",
     "text": [
      "\r",
      "Exact explainer:  85%|██████████████████████████████████████████████████████▍         | 131/154 [03:26<00:31,  1.35s/it]"
     ]
    },
    {
     "name": "stdout",
     "output_type": "stream",
     "text": [
      "754/754 [==============================] - 1s 1ms/step\n",
      "27/27 [==============================] - 0s 1ms/step\n"
     ]
    },
    {
     "name": "stderr",
     "output_type": "stream",
     "text": [
      "\r",
      "Exact explainer:  86%|██████████████████████████████████████████████████████▊         | 132/154 [03:27<00:29,  1.34s/it]"
     ]
    },
    {
     "name": "stdout",
     "output_type": "stream",
     "text": [
      "763/763 [==============================] - 1s 1ms/step\n",
      "28/28 [==============================] - 0s 2ms/step\n"
     ]
    },
    {
     "name": "stderr",
     "output_type": "stream",
     "text": [
      "\r",
      "Exact explainer:  86%|███████████████████████████████████████████████████████▎        | 133/154 [03:29<00:27,  1.31s/it]"
     ]
    },
    {
     "name": "stdout",
     "output_type": "stream",
     "text": [
      "760/760 [==============================] - 1s 1ms/step\n",
      "28/28 [==============================] - 0s 1ms/step\n"
     ]
    },
    {
     "name": "stderr",
     "output_type": "stream",
     "text": [
      "\r",
      "Exact explainer:  87%|███████████████████████████████████████████████████████▋        | 134/154 [03:30<00:25,  1.30s/it]"
     ]
    },
    {
     "name": "stdout",
     "output_type": "stream",
     "text": [
      "784/784 [==============================] - 1s 1ms/step\n",
      "28/28 [==============================] - 0s 1ms/step\n"
     ]
    },
    {
     "name": "stderr",
     "output_type": "stream",
     "text": [
      "\r",
      "Exact explainer:  88%|████████████████████████████████████████████████████████        | 135/154 [03:31<00:24,  1.31s/it]"
     ]
    },
    {
     "name": "stdout",
     "output_type": "stream",
     "text": [
      "782/782 [==============================] - 1s 1ms/step\n",
      "28/28 [==============================] - 0s 1ms/step\n"
     ]
    },
    {
     "name": "stderr",
     "output_type": "stream",
     "text": [
      "\r",
      "Exact explainer:  88%|████████████████████████████████████████████████████████▌       | 136/154 [03:33<00:24,  1.34s/it]"
     ]
    },
    {
     "name": "stdout",
     "output_type": "stream",
     "text": [
      "754/754 [==============================] - 1s 1ms/step\n",
      "27/27 [==============================] - 0s 1ms/step\n"
     ]
    },
    {
     "name": "stderr",
     "output_type": "stream",
     "text": [
      "\r",
      "Exact explainer:  89%|████████████████████████████████████████████████████████▉       | 137/154 [03:34<00:22,  1.32s/it]"
     ]
    },
    {
     "name": "stdout",
     "output_type": "stream",
     "text": [
      "745/745 [==============================] - 1s 1ms/step\n",
      "27/27 [==============================] - 0s 1ms/step\n"
     ]
    },
    {
     "name": "stderr",
     "output_type": "stream",
     "text": [
      "\r",
      "Exact explainer:  90%|█████████████████████████████████████████████████████████▎      | 138/154 [03:35<00:21,  1.32s/it]"
     ]
    },
    {
     "name": "stdout",
     "output_type": "stream",
     "text": [
      "763/763 [==============================] - 1s 1ms/step\n",
      "27/27 [==============================] - 0s 1ms/step\n"
     ]
    },
    {
     "name": "stderr",
     "output_type": "stream",
     "text": [
      "\r",
      "Exact explainer:  90%|█████████████████████████████████████████████████████████▊      | 139/154 [03:37<00:19,  1.32s/it]"
     ]
    },
    {
     "name": "stdout",
     "output_type": "stream",
     "text": [
      "786/786 [==============================] - 1s 1ms/step\n",
      "28/28 [==============================] - 0s 1ms/step\n"
     ]
    },
    {
     "name": "stderr",
     "output_type": "stream",
     "text": [
      "\r",
      "Exact explainer:  91%|██████████████████████████████████████████████████████████▏     | 140/154 [03:38<00:18,  1.31s/it]"
     ]
    },
    {
     "name": "stdout",
     "output_type": "stream",
     "text": [
      "780/780 [==============================] - 1s 1ms/step\n",
      "28/28 [==============================] - 0s 2ms/step\n"
     ]
    },
    {
     "name": "stderr",
     "output_type": "stream",
     "text": [
      "\r",
      "Exact explainer:  92%|██████████████████████████████████████████████████████████▌     | 141/154 [03:39<00:17,  1.32s/it]"
     ]
    },
    {
     "name": "stdout",
     "output_type": "stream",
     "text": [
      "743/743 [==============================] - 1s 1ms/step\n",
      "27/27 [==============================] - 0s 1ms/step\n"
     ]
    },
    {
     "name": "stderr",
     "output_type": "stream",
     "text": [
      "\r",
      "Exact explainer:  92%|███████████████████████████████████████████████████████████     | 142/154 [03:41<00:15,  1.31s/it]"
     ]
    },
    {
     "name": "stdout",
     "output_type": "stream",
     "text": [
      "739/739 [==============================] - 1s 1ms/step\n",
      "27/27 [==============================] - 0s 1ms/step\n"
     ]
    },
    {
     "name": "stderr",
     "output_type": "stream",
     "text": [
      "\r",
      "Exact explainer:  93%|███████████████████████████████████████████████████████████▍    | 143/154 [03:42<00:14,  1.31s/it]"
     ]
    },
    {
     "name": "stdout",
     "output_type": "stream",
     "text": [
      "724/724 [==============================] - 1s 1ms/step\n",
      "26/26 [==============================] - 0s 1ms/step\n"
     ]
    },
    {
     "name": "stderr",
     "output_type": "stream",
     "text": [
      "\r",
      "Exact explainer:  94%|███████████████████████████████████████████████████████████▊    | 144/154 [03:43<00:12,  1.29s/it]"
     ]
    },
    {
     "name": "stdout",
     "output_type": "stream",
     "text": [
      "760/760 [==============================] - 1s 1ms/step\n",
      "28/28 [==============================] - 0s 2ms/step\n"
     ]
    },
    {
     "name": "stderr",
     "output_type": "stream",
     "text": [
      "\r",
      "Exact explainer:  94%|████████████████████████████████████████████████████████████▎   | 145/154 [03:44<00:11,  1.28s/it]"
     ]
    },
    {
     "name": "stdout",
     "output_type": "stream",
     "text": [
      "745/745 [==============================] - 1s 1ms/step\n",
      "27/27 [==============================] - 0s 1ms/step\n"
     ]
    },
    {
     "name": "stderr",
     "output_type": "stream",
     "text": [
      "\r",
      "Exact explainer:  95%|████████████████████████████████████████████████████████████▋   | 146/154 [03:46<00:10,  1.26s/it]"
     ]
    },
    {
     "name": "stdout",
     "output_type": "stream",
     "text": [
      "767/767 [==============================] - 1s 1ms/step\n",
      "28/28 [==============================] - 0s 1ms/step\n"
     ]
    },
    {
     "name": "stderr",
     "output_type": "stream",
     "text": [
      "\r",
      "Exact explainer:  95%|█████████████████████████████████████████████████████████████   | 147/154 [03:47<00:08,  1.28s/it]"
     ]
    },
    {
     "name": "stdout",
     "output_type": "stream",
     "text": [
      "761/761 [==============================] - 1s 1ms/step\n",
      "28/28 [==============================] - 0s 1ms/step\n"
     ]
    },
    {
     "name": "stderr",
     "output_type": "stream",
     "text": [
      "\r",
      "Exact explainer:  96%|█████████████████████████████████████████████████████████████▌  | 148/154 [03:48<00:07,  1.28s/it]"
     ]
    },
    {
     "name": "stdout",
     "output_type": "stream",
     "text": [
      "729/729 [==============================] - 1s 1ms/step\n",
      "28/28 [==============================] - 0s 1ms/step\n"
     ]
    },
    {
     "name": "stderr",
     "output_type": "stream",
     "text": [
      "\r",
      "Exact explainer:  97%|█████████████████████████████████████████████████████████████▉  | 149/154 [03:49<00:06,  1.27s/it]"
     ]
    },
    {
     "name": "stdout",
     "output_type": "stream",
     "text": [
      "734/734 [==============================] - 1s 1ms/step\n",
      "28/28 [==============================] - 0s 1ms/step\n"
     ]
    },
    {
     "name": "stderr",
     "output_type": "stream",
     "text": [
      "\r",
      "Exact explainer:  97%|██████████████████████████████████████████████████████████████▎ | 150/154 [03:51<00:05,  1.28s/it]"
     ]
    },
    {
     "name": "stdout",
     "output_type": "stream",
     "text": [
      "755/755 [==============================] - 1s 1ms/step\n",
      "27/27 [==============================] - 0s 1ms/step\n"
     ]
    },
    {
     "name": "stderr",
     "output_type": "stream",
     "text": [
      "\r",
      "Exact explainer:  98%|██████████████████████████████████████████████████████████████▊ | 151/154 [03:52<00:03,  1.28s/it]"
     ]
    },
    {
     "name": "stdout",
     "output_type": "stream",
     "text": [
      "775/775 [==============================] - 1s 1ms/step\n",
      "28/28 [==============================] - 0s 1ms/step\n"
     ]
    },
    {
     "name": "stderr",
     "output_type": "stream",
     "text": [
      "\r",
      "Exact explainer:  99%|███████████████████████████████████████████████████████████████▏| 152/154 [03:53<00:02,  1.29s/it]"
     ]
    },
    {
     "name": "stdout",
     "output_type": "stream",
     "text": [
      "755/755 [==============================] - 1s 1ms/step\n",
      "27/27 [==============================] - 0s 1ms/step\n"
     ]
    },
    {
     "name": "stderr",
     "output_type": "stream",
     "text": [
      "\r",
      "Exact explainer:  99%|███████████████████████████████████████████████████████████████▌| 153/154 [03:55<00:01,  1.28s/it]"
     ]
    },
    {
     "name": "stdout",
     "output_type": "stream",
     "text": [
      "767/767 [==============================] - 1s 1ms/step\n",
      "28/28 [==============================] - 0s 1ms/step\n"
     ]
    },
    {
     "name": "stderr",
     "output_type": "stream",
     "text": [
      "\r",
      "Exact explainer: 100%|████████████████████████████████████████████████████████████████| 154/154 [03:56<00:00,  1.27s/it]"
     ]
    },
    {
     "name": "stdout",
     "output_type": "stream",
     "text": [
      "793/793 [==============================] - 1s 1ms/step\n",
      "28/28 [==============================] - 0s 2ms/step\n"
     ]
    },
    {
     "name": "stderr",
     "output_type": "stream",
     "text": [
      "Exact explainer: 155it [03:57,  1.61s/it]                                                                               "
     ]
    },
    {
     "name": "stdout",
     "output_type": "stream",
     "text": [
      "-> m2\n",
      " 76/780 [=>............................] - ETA: 0s"
     ]
    },
    {
     "name": "stderr",
     "output_type": "stream",
     "text": [
      "\n"
     ]
    },
    {
     "name": "stdout",
     "output_type": "stream",
     "text": [
      "780/780 [==============================] - 1s 1ms/step\n",
      "730/730 [==============================] - 1s 1ms/step\n",
      "28/28 [==============================] - 0s 1ms/step\n",
      "725/725 [==============================] - 1s 1ms/step\n",
      "27/27 [==============================] - 0s 1ms/step\n",
      "763/763 [==============================] - 1s 1ms/step\n",
      "27/27 [==============================] - 0s 1ms/step\n",
      "759/759 [==============================] - 1s 1ms/step\n",
      "27/27 [==============================] - 0s 1ms/step\n",
      "795/795 [==============================] - 1s 1ms/step\n",
      "29/29 [==============================] - 0s 2ms/step\n",
      "779/779 [==============================] - 1s 1ms/step\n",
      "28/28 [==============================] - 0s 1ms/step\n",
      "762/762 [==============================] - 1s 1ms/step\n",
      "27/27 [==============================] - 0s 1ms/step\n"
     ]
    },
    {
     "name": "stderr",
     "output_type": "stream",
     "text": [
      "\r",
      "Exact explainer:   5%|███▊                                                                      | 8/154 [00:00<?, ?it/s]"
     ]
    },
    {
     "name": "stdout",
     "output_type": "stream",
     "text": [
      "794/794 [==============================] - 1s 1ms/step\n",
      "28/28 [==============================] - 0s 1ms/step\n"
     ]
    },
    {
     "name": "stderr",
     "output_type": "stream",
     "text": [
      "\r",
      "Exact explainer:   6%|████▏                                                            | 10/154 [00:11<01:36,  1.49it/s]"
     ]
    },
    {
     "name": "stdout",
     "output_type": "stream",
     "text": [
      "739/739 [==============================] - 1s 1ms/step\n",
      "26/26 [==============================] - 0s 1ms/step\n"
     ]
    },
    {
     "name": "stderr",
     "output_type": "stream",
     "text": [
      "\r",
      "Exact explainer:   7%|████▋                                                            | 11/154 [00:13<02:10,  1.09it/s]"
     ]
    },
    {
     "name": "stdout",
     "output_type": "stream",
     "text": [
      "758/758 [==============================] - 1s 1ms/step\n",
      "29/29 [==============================] - 0s 1ms/step\n"
     ]
    },
    {
     "name": "stderr",
     "output_type": "stream",
     "text": [
      "\r",
      "Exact explainer:   8%|█████                                                            | 12/154 [00:14<02:32,  1.07s/it]"
     ]
    },
    {
     "name": "stdout",
     "output_type": "stream",
     "text": [
      "755/755 [==============================] - 1s 1ms/step\n",
      "28/28 [==============================] - 0s 2ms/step\n"
     ]
    },
    {
     "name": "stderr",
     "output_type": "stream",
     "text": [
      "\r",
      "Exact explainer:   8%|█████▍                                                           | 13/154 [00:15<02:44,  1.16s/it]"
     ]
    },
    {
     "name": "stdout",
     "output_type": "stream",
     "text": [
      "767/767 [==============================] - 1s 1ms/step\n",
      "28/28 [==============================] - 0s 1ms/step\n"
     ]
    },
    {
     "name": "stderr",
     "output_type": "stream",
     "text": [
      "\r",
      "Exact explainer:   9%|█████▉                                                           | 14/154 [00:17<02:49,  1.21s/it]"
     ]
    },
    {
     "name": "stdout",
     "output_type": "stream",
     "text": [
      "786/786 [==============================] - 1s 1ms/step\n",
      "28/28 [==============================] - 0s 1ms/step\n"
     ]
    },
    {
     "name": "stderr",
     "output_type": "stream",
     "text": [
      "\r",
      "Exact explainer:  10%|██████▎                                                          | 15/154 [00:18<02:55,  1.26s/it]"
     ]
    },
    {
     "name": "stdout",
     "output_type": "stream",
     "text": [
      "783/783 [==============================] - 1s 1ms/step\n",
      "28/28 [==============================] - 0s 2ms/step\n"
     ]
    },
    {
     "name": "stderr",
     "output_type": "stream",
     "text": [
      "\r",
      "Exact explainer:  10%|██████▊                                                          | 16/154 [00:20<03:02,  1.32s/it]"
     ]
    },
    {
     "name": "stdout",
     "output_type": "stream",
     "text": [
      "783/783 [==============================] - 1s 1ms/step\n",
      "28/28 [==============================] - 0s 1ms/step\n"
     ]
    },
    {
     "name": "stderr",
     "output_type": "stream",
     "text": [
      "\r",
      "Exact explainer:  11%|███████▏                                                         | 17/154 [00:21<03:02,  1.33s/it]"
     ]
    },
    {
     "name": "stdout",
     "output_type": "stream",
     "text": [
      "758/758 [==============================] - 1s 1ms/step\n",
      "28/28 [==============================] - 0s 1ms/step\n"
     ]
    },
    {
     "name": "stderr",
     "output_type": "stream",
     "text": [
      "\r",
      "Exact explainer:  12%|███████▌                                                         | 18/154 [00:22<03:00,  1.32s/it]"
     ]
    },
    {
     "name": "stdout",
     "output_type": "stream",
     "text": [
      "774/774 [==============================] - 1s 1ms/step\n",
      "28/28 [==============================] - 0s 1ms/step\n"
     ]
    },
    {
     "name": "stderr",
     "output_type": "stream",
     "text": [
      "\r",
      "Exact explainer:  12%|████████                                                         | 19/154 [00:24<02:58,  1.32s/it]"
     ]
    },
    {
     "name": "stdout",
     "output_type": "stream",
     "text": [
      "758/758 [==============================] - 1s 1ms/step\n",
      "27/27 [==============================] - 0s 2ms/step\n"
     ]
    },
    {
     "name": "stderr",
     "output_type": "stream",
     "text": [
      "\r",
      "Exact explainer:  13%|████████▍                                                        | 20/154 [00:25<02:56,  1.32s/it]"
     ]
    },
    {
     "name": "stdout",
     "output_type": "stream",
     "text": [
      "779/779 [==============================] - 1s 1ms/step\n",
      "28/28 [==============================] - 0s 2ms/step\n"
     ]
    },
    {
     "name": "stderr",
     "output_type": "stream",
     "text": [
      "\r",
      "Exact explainer:  14%|████████▊                                                        | 21/154 [00:26<02:57,  1.33s/it]"
     ]
    },
    {
     "name": "stdout",
     "output_type": "stream",
     "text": [
      "762/762 [==============================] - 1s 1ms/step\n",
      "27/27 [==============================] - 0s 2ms/step\n"
     ]
    },
    {
     "name": "stderr",
     "output_type": "stream",
     "text": [
      "\r",
      "Exact explainer:  14%|█████████▎                                                       | 22/154 [00:28<02:56,  1.34s/it]"
     ]
    },
    {
     "name": "stdout",
     "output_type": "stream",
     "text": [
      "761/761 [==============================] - 1s 1ms/step\n",
      "28/28 [==============================] - 0s 1ms/step\n"
     ]
    },
    {
     "name": "stderr",
     "output_type": "stream",
     "text": [
      "\r",
      "Exact explainer:  15%|█████████▋                                                       | 23/154 [00:29<02:59,  1.37s/it]"
     ]
    },
    {
     "name": "stdout",
     "output_type": "stream",
     "text": [
      "771/771 [==============================] - 1s 1ms/step\n",
      "29/29 [==============================] - 0s 2ms/step\n"
     ]
    },
    {
     "name": "stderr",
     "output_type": "stream",
     "text": [
      "\r",
      "Exact explainer:  16%|██████████▏                                                      | 24/154 [00:30<02:56,  1.36s/it]"
     ]
    },
    {
     "name": "stdout",
     "output_type": "stream",
     "text": [
      "759/759 [==============================] - 1s 1ms/step\n",
      "28/28 [==============================] - 0s 1ms/step\n"
     ]
    },
    {
     "name": "stderr",
     "output_type": "stream",
     "text": [
      "\r",
      "Exact explainer:  16%|██████████▌                                                      | 25/154 [00:32<02:56,  1.37s/it]"
     ]
    },
    {
     "name": "stdout",
     "output_type": "stream",
     "text": [
      "794/794 [==============================] - 1s 1ms/step\n",
      "28/28 [==============================] - 0s 1ms/step\n"
     ]
    },
    {
     "name": "stderr",
     "output_type": "stream",
     "text": [
      "\r",
      "Exact explainer:  17%|██████████▉                                                      | 26/154 [00:33<02:55,  1.37s/it]"
     ]
    },
    {
     "name": "stdout",
     "output_type": "stream",
     "text": [
      "755/755 [==============================] - 1s 1ms/step\n",
      "28/28 [==============================] - 0s 1ms/step\n"
     ]
    },
    {
     "name": "stderr",
     "output_type": "stream",
     "text": [
      "\r",
      "Exact explainer:  18%|███████████▍                                                     | 27/154 [00:34<02:51,  1.35s/it]"
     ]
    },
    {
     "name": "stdout",
     "output_type": "stream",
     "text": [
      "756/756 [==============================] - 1s 1ms/step\n",
      "28/28 [==============================] - 0s 1ms/step\n"
     ]
    },
    {
     "name": "stderr",
     "output_type": "stream",
     "text": [
      "\r",
      "Exact explainer:  18%|███████████▊                                                     | 28/154 [00:36<02:47,  1.33s/it]"
     ]
    },
    {
     "name": "stdout",
     "output_type": "stream",
     "text": [
      "788/788 [==============================] - 1s 1ms/step\n",
      "28/28 [==============================] - 0s 1ms/step\n"
     ]
    },
    {
     "name": "stderr",
     "output_type": "stream",
     "text": [
      "\r",
      "Exact explainer:  19%|████████████▏                                                    | 29/154 [00:37<02:48,  1.35s/it]"
     ]
    },
    {
     "name": "stdout",
     "output_type": "stream",
     "text": [
      "776/776 [==============================] - 1s 1ms/step\n",
      "28/28 [==============================] - 0s 1ms/step\n"
     ]
    },
    {
     "name": "stderr",
     "output_type": "stream",
     "text": [
      "\r",
      "Exact explainer:  19%|████████████▋                                                    | 30/154 [00:38<02:48,  1.36s/it]"
     ]
    },
    {
     "name": "stdout",
     "output_type": "stream",
     "text": [
      "767/767 [==============================] - 1s 1ms/step\n",
      "28/28 [==============================] - 0s 1ms/step\n"
     ]
    },
    {
     "name": "stderr",
     "output_type": "stream",
     "text": [
      "\r",
      "Exact explainer:  20%|█████████████                                                    | 31/154 [00:40<02:45,  1.35s/it]"
     ]
    },
    {
     "name": "stdout",
     "output_type": "stream",
     "text": [
      "783/783 [==============================] - 1s 1ms/step\n",
      "28/28 [==============================] - 0s 1ms/step\n"
     ]
    },
    {
     "name": "stderr",
     "output_type": "stream",
     "text": [
      "\r",
      "Exact explainer:  21%|█████████████▌                                                   | 32/154 [00:41<02:45,  1.36s/it]"
     ]
    },
    {
     "name": "stdout",
     "output_type": "stream",
     "text": [
      "744/744 [==============================] - 1s 1ms/step\n",
      "27/27 [==============================] - 0s 1ms/step\n"
     ]
    },
    {
     "name": "stderr",
     "output_type": "stream",
     "text": [
      "\r",
      "Exact explainer:  21%|█████████████▉                                                   | 33/154 [00:42<02:42,  1.34s/it]"
     ]
    },
    {
     "name": "stdout",
     "output_type": "stream",
     "text": [
      "782/782 [==============================] - 1s 1ms/step\n",
      "28/28 [==============================] - 0s 1ms/step\n"
     ]
    },
    {
     "name": "stderr",
     "output_type": "stream",
     "text": [
      "\r",
      "Exact explainer:  22%|██████████████▎                                                  | 34/154 [00:44<02:40,  1.33s/it]"
     ]
    },
    {
     "name": "stdout",
     "output_type": "stream",
     "text": [
      "746/746 [==============================] - 1s 1ms/step\n",
      "27/27 [==============================] - 0s 1ms/step\n"
     ]
    },
    {
     "name": "stderr",
     "output_type": "stream",
     "text": [
      "\r",
      "Exact explainer:  23%|██████████████▊                                                  | 35/154 [00:45<02:37,  1.33s/it]"
     ]
    },
    {
     "name": "stdout",
     "output_type": "stream",
     "text": [
      "751/751 [==============================] - 1s 1ms/step\n",
      "27/27 [==============================] - 0s 1ms/step\n"
     ]
    },
    {
     "name": "stderr",
     "output_type": "stream",
     "text": [
      "\r",
      "Exact explainer:  23%|███████████████▏                                                 | 36/154 [00:46<02:35,  1.32s/it]"
     ]
    },
    {
     "name": "stdout",
     "output_type": "stream",
     "text": [
      "781/781 [==============================] - 1s 1ms/step\n",
      "28/28 [==============================] - 0s 1ms/step\n"
     ]
    },
    {
     "name": "stderr",
     "output_type": "stream",
     "text": [
      "\r",
      "Exact explainer:  24%|███████████████▌                                                 | 37/154 [00:48<02:36,  1.33s/it]"
     ]
    },
    {
     "name": "stdout",
     "output_type": "stream",
     "text": [
      "751/751 [==============================] - 1s 1ms/step\n",
      "28/28 [==============================] - 0s 1ms/step\n"
     ]
    },
    {
     "name": "stderr",
     "output_type": "stream",
     "text": [
      "\r",
      "Exact explainer:  25%|████████████████                                                 | 38/154 [00:49<02:33,  1.33s/it]"
     ]
    },
    {
     "name": "stdout",
     "output_type": "stream",
     "text": [
      "743/743 [==============================] - 1s 1ms/step\n",
      "28/28 [==============================] - 0s 1ms/step\n"
     ]
    },
    {
     "name": "stderr",
     "output_type": "stream",
     "text": [
      "\r",
      "Exact explainer:  25%|████████████████▍                                                | 39/154 [00:50<02:32,  1.32s/it]"
     ]
    },
    {
     "name": "stdout",
     "output_type": "stream",
     "text": [
      "755/755 [==============================] - 1s 1ms/step\n",
      "28/28 [==============================] - 0s 1ms/step\n"
     ]
    },
    {
     "name": "stderr",
     "output_type": "stream",
     "text": [
      "\r",
      "Exact explainer:  26%|████████████████▉                                                | 40/154 [00:52<02:29,  1.31s/it]"
     ]
    },
    {
     "name": "stdout",
     "output_type": "stream",
     "text": [
      "751/751 [==============================] - 1s 1ms/step\n",
      "27/27 [==============================] - 0s 1ms/step\n"
     ]
    },
    {
     "name": "stderr",
     "output_type": "stream",
     "text": [
      "\r",
      "Exact explainer:  27%|█████████████████▎                                               | 41/154 [00:53<02:27,  1.30s/it]"
     ]
    },
    {
     "name": "stdout",
     "output_type": "stream",
     "text": [
      "787/787 [==============================] - 1s 1ms/step\n",
      "28/28 [==============================] - 0s 1ms/step\n"
     ]
    },
    {
     "name": "stderr",
     "output_type": "stream",
     "text": [
      "\r",
      "Exact explainer:  27%|█████████████████▋                                               | 42/154 [00:54<02:26,  1.31s/it]"
     ]
    },
    {
     "name": "stdout",
     "output_type": "stream",
     "text": [
      "750/750 [==============================] - 1s 1ms/step\n",
      "27/27 [==============================] - 0s 1ms/step\n"
     ]
    },
    {
     "name": "stderr",
     "output_type": "stream",
     "text": [
      "\r",
      "Exact explainer:  28%|██████████████████▏                                              | 43/154 [00:56<02:24,  1.30s/it]"
     ]
    },
    {
     "name": "stdout",
     "output_type": "stream",
     "text": [
      "752/752 [==============================] - 1s 1ms/step\n",
      "28/28 [==============================] - 0s 1ms/step\n"
     ]
    },
    {
     "name": "stderr",
     "output_type": "stream",
     "text": [
      "\r",
      "Exact explainer:  29%|██████████████████▌                                              | 44/154 [00:57<02:22,  1.30s/it]"
     ]
    },
    {
     "name": "stdout",
     "output_type": "stream",
     "text": [
      "731/731 [==============================] - 1s 1ms/step\n",
      "27/27 [==============================] - 0s 1ms/step\n"
     ]
    },
    {
     "name": "stderr",
     "output_type": "stream",
     "text": [
      "\r",
      "Exact explainer:  29%|██████████████████▉                                              | 45/154 [00:58<02:21,  1.30s/it]"
     ]
    },
    {
     "name": "stdout",
     "output_type": "stream",
     "text": [
      "750/750 [==============================] - 1s 1ms/step\n",
      "27/27 [==============================] - 0s 1ms/step\n"
     ]
    },
    {
     "name": "stderr",
     "output_type": "stream",
     "text": [
      "\r",
      "Exact explainer:  30%|███████████████████▍                                             | 46/154 [00:59<02:21,  1.31s/it]"
     ]
    },
    {
     "name": "stdout",
     "output_type": "stream",
     "text": [
      "787/787 [==============================] - 1s 1ms/step\n",
      "28/28 [==============================] - 0s 1ms/step\n"
     ]
    },
    {
     "name": "stderr",
     "output_type": "stream",
     "text": [
      "\r",
      "Exact explainer:  31%|███████████████████▊                                             | 47/154 [01:01<02:20,  1.31s/it]"
     ]
    },
    {
     "name": "stdout",
     "output_type": "stream",
     "text": [
      "799/799 [==============================] - 1s 1ms/step\n",
      "28/28 [==============================] - 0s 1ms/step\n"
     ]
    },
    {
     "name": "stderr",
     "output_type": "stream",
     "text": [
      "\r",
      "Exact explainer:  31%|████████████████████▎                                            | 48/154 [01:02<02:20,  1.33s/it]"
     ]
    },
    {
     "name": "stdout",
     "output_type": "stream",
     "text": [
      "747/747 [==============================] - 1s 1ms/step\n",
      "28/28 [==============================] - 0s 1ms/step\n"
     ]
    },
    {
     "name": "stderr",
     "output_type": "stream",
     "text": [
      "\r",
      "Exact explainer:  32%|████████████████████▋                                            | 49/154 [01:03<02:17,  1.31s/it]"
     ]
    },
    {
     "name": "stdout",
     "output_type": "stream",
     "text": [
      "739/739 [==============================] - 1s 1ms/step\n",
      "27/27 [==============================] - 0s 1ms/step\n"
     ]
    },
    {
     "name": "stderr",
     "output_type": "stream",
     "text": [
      "\r",
      "Exact explainer:  32%|█████████████████████                                            | 50/154 [01:05<02:21,  1.36s/it]"
     ]
    },
    {
     "name": "stdout",
     "output_type": "stream",
     "text": [
      "777/777 [==============================] - 1s 1ms/step\n",
      "28/28 [==============================] - 0s 1ms/step\n"
     ]
    },
    {
     "name": "stderr",
     "output_type": "stream",
     "text": [
      "\r",
      "Exact explainer:  33%|█████████████████████▌                                           | 51/154 [01:06<02:19,  1.36s/it]"
     ]
    },
    {
     "name": "stdout",
     "output_type": "stream",
     "text": [
      "732/732 [==============================] - 1s 1ms/step\n",
      "28/28 [==============================] - 0s 1ms/step\n"
     ]
    },
    {
     "name": "stderr",
     "output_type": "stream",
     "text": [
      "\r",
      "Exact explainer:  34%|█████████████████████▉                                           | 52/154 [01:07<02:15,  1.33s/it]"
     ]
    },
    {
     "name": "stdout",
     "output_type": "stream",
     "text": [
      "799/799 [==============================] - 1s 1ms/step\n",
      "29/29 [==============================] - 0s 2ms/step\n"
     ]
    },
    {
     "name": "stderr",
     "output_type": "stream",
     "text": [
      "\r",
      "Exact explainer:  34%|██████████████████████▎                                          | 53/154 [01:09<02:15,  1.34s/it]"
     ]
    },
    {
     "name": "stdout",
     "output_type": "stream",
     "text": [
      "780/780 [==============================] - 1s 1ms/step\n",
      "28/28 [==============================] - 0s 1ms/step\n"
     ]
    },
    {
     "name": "stderr",
     "output_type": "stream",
     "text": [
      "\r",
      "Exact explainer:  35%|██████████████████████▊                                          | 54/154 [01:10<02:15,  1.35s/it]"
     ]
    },
    {
     "name": "stdout",
     "output_type": "stream",
     "text": [
      "735/735 [==============================] - 1s 1ms/step\n",
      "26/26 [==============================] - 0s 1ms/step\n"
     ]
    },
    {
     "name": "stderr",
     "output_type": "stream",
     "text": [
      "\r",
      "Exact explainer:  36%|███████████████████████▏                                         | 55/154 [01:12<02:10,  1.32s/it]"
     ]
    },
    {
     "name": "stdout",
     "output_type": "stream",
     "text": [
      "764/764 [==============================] - 1s 1ms/step\n",
      "28/28 [==============================] - 0s 1ms/step\n"
     ]
    },
    {
     "name": "stderr",
     "output_type": "stream",
     "text": [
      "\r",
      "Exact explainer:  36%|███████████████████████▋                                         | 56/154 [01:13<02:08,  1.31s/it]"
     ]
    },
    {
     "name": "stdout",
     "output_type": "stream",
     "text": [
      "776/776 [==============================] - 1s 1ms/step\n",
      "28/28 [==============================] - 0s 1ms/step\n"
     ]
    },
    {
     "name": "stderr",
     "output_type": "stream",
     "text": [
      "\r",
      "Exact explainer:  37%|████████████████████████                                         | 57/154 [01:14<02:06,  1.30s/it]"
     ]
    },
    {
     "name": "stdout",
     "output_type": "stream",
     "text": [
      "762/762 [==============================] - 1s 1ms/step\n",
      "27/27 [==============================] - 0s 1ms/step\n"
     ]
    },
    {
     "name": "stderr",
     "output_type": "stream",
     "text": [
      "\r",
      "Exact explainer:  38%|████████████████████████▍                                        | 58/154 [01:15<02:04,  1.30s/it]"
     ]
    },
    {
     "name": "stdout",
     "output_type": "stream",
     "text": [
      "742/742 [==============================] - 1s 1ms/step\n",
      "27/27 [==============================] - 0s 1ms/step\n"
     ]
    },
    {
     "name": "stderr",
     "output_type": "stream",
     "text": [
      "\r",
      "Exact explainer:  38%|████████████████████████▉                                        | 59/154 [01:17<02:02,  1.29s/it]"
     ]
    },
    {
     "name": "stdout",
     "output_type": "stream",
     "text": [
      "774/774 [==============================] - 1s 1ms/step\n",
      "28/28 [==============================] - 0s 1ms/step\n"
     ]
    },
    {
     "name": "stderr",
     "output_type": "stream",
     "text": [
      "\r",
      "Exact explainer:  39%|█████████████████████████▎                                       | 60/154 [01:18<02:02,  1.30s/it]"
     ]
    },
    {
     "name": "stdout",
     "output_type": "stream",
     "text": [
      "748/748 [==============================] - 1s 1ms/step\n",
      "27/27 [==============================] - 0s 1ms/step\n"
     ]
    },
    {
     "name": "stderr",
     "output_type": "stream",
     "text": [
      "\r",
      "Exact explainer:  40%|█████████████████████████▋                                       | 61/154 [01:19<02:00,  1.29s/it]"
     ]
    },
    {
     "name": "stdout",
     "output_type": "stream",
     "text": [
      "769/769 [==============================] - 1s 1ms/step\n",
      "28/28 [==============================] - 0s 1ms/step\n"
     ]
    },
    {
     "name": "stderr",
     "output_type": "stream",
     "text": [
      "\r",
      "Exact explainer:  40%|██████████████████████████▏                                      | 62/154 [01:21<01:58,  1.29s/it]"
     ]
    },
    {
     "name": "stdout",
     "output_type": "stream",
     "text": [
      "756/756 [==============================] - 1s 1ms/step\n",
      "28/28 [==============================] - 0s 2ms/step\n"
     ]
    },
    {
     "name": "stderr",
     "output_type": "stream",
     "text": [
      "\r",
      "Exact explainer:  41%|██████████████████████████▌                                      | 63/154 [01:22<01:56,  1.28s/it]"
     ]
    },
    {
     "name": "stdout",
     "output_type": "stream",
     "text": [
      "786/786 [==============================] - 1s 1ms/step\n",
      "29/29 [==============================] - 0s 1ms/step\n"
     ]
    },
    {
     "name": "stderr",
     "output_type": "stream",
     "text": [
      "\r",
      "Exact explainer:  42%|███████████████████████████                                      | 64/154 [01:23<01:56,  1.29s/it]"
     ]
    },
    {
     "name": "stdout",
     "output_type": "stream",
     "text": [
      "800/800 [==============================] - 1s 1ms/step\n",
      "29/29 [==============================] - 0s 1ms/step\n"
     ]
    },
    {
     "name": "stderr",
     "output_type": "stream",
     "text": [
      "\r",
      "Exact explainer:  42%|███████████████████████████▍                                     | 65/154 [01:24<01:56,  1.31s/it]"
     ]
    },
    {
     "name": "stdout",
     "output_type": "stream",
     "text": [
      "778/778 [==============================] - 1s 1ms/step\n",
      "28/28 [==============================] - 0s 1ms/step\n"
     ]
    },
    {
     "name": "stderr",
     "output_type": "stream",
     "text": [
      "\r",
      "Exact explainer:  43%|███████████████████████████▊                                     | 66/154 [01:26<01:56,  1.32s/it]"
     ]
    },
    {
     "name": "stdout",
     "output_type": "stream",
     "text": [
      "748/748 [==============================] - 1s 1ms/step\n",
      "28/28 [==============================] - 0s 2ms/step\n"
     ]
    },
    {
     "name": "stderr",
     "output_type": "stream",
     "text": [
      "\r",
      "Exact explainer:  44%|████████████████████████████▎                                    | 67/154 [01:27<01:53,  1.31s/it]"
     ]
    },
    {
     "name": "stdout",
     "output_type": "stream",
     "text": [
      "754/754 [==============================] - 1s 1ms/step\n",
      "28/28 [==============================] - 0s 1ms/step\n"
     ]
    },
    {
     "name": "stderr",
     "output_type": "stream",
     "text": [
      "\r",
      "Exact explainer:  44%|████████████████████████████▋                                    | 68/154 [01:28<01:52,  1.30s/it]"
     ]
    },
    {
     "name": "stdout",
     "output_type": "stream",
     "text": [
      "755/755 [==============================] - 1s 1ms/step\n",
      "27/27 [==============================] - 0s 1ms/step\n"
     ]
    },
    {
     "name": "stderr",
     "output_type": "stream",
     "text": [
      "\r",
      "Exact explainer:  45%|█████████████████████████████                                    | 69/154 [01:30<01:50,  1.30s/it]"
     ]
    },
    {
     "name": "stdout",
     "output_type": "stream",
     "text": [
      "747/747 [==============================] - 1s 1ms/step\n",
      "27/27 [==============================] - 0s 1ms/step\n"
     ]
    },
    {
     "name": "stderr",
     "output_type": "stream",
     "text": [
      "\r",
      "Exact explainer:  45%|█████████████████████████████▌                                   | 70/154 [01:31<01:48,  1.29s/it]"
     ]
    },
    {
     "name": "stdout",
     "output_type": "stream",
     "text": [
      "784/784 [==============================] - 1s 1ms/step\n",
      "28/28 [==============================] - 0s 1ms/step\n"
     ]
    },
    {
     "name": "stderr",
     "output_type": "stream",
     "text": [
      "\r",
      "Exact explainer:  46%|█████████████████████████████▉                                   | 71/154 [01:32<01:47,  1.30s/it]"
     ]
    },
    {
     "name": "stdout",
     "output_type": "stream",
     "text": [
      "781/781 [==============================] - 1s 1ms/step\n",
      "28/28 [==============================] - 0s 1ms/step\n"
     ]
    },
    {
     "name": "stderr",
     "output_type": "stream",
     "text": [
      "\r",
      "Exact explainer:  47%|██████████████████████████████▍                                  | 72/154 [01:34<01:46,  1.30s/it]"
     ]
    },
    {
     "name": "stdout",
     "output_type": "stream",
     "text": [
      "771/771 [==============================] - 1s 1ms/step\n",
      "28/28 [==============================] - 0s 1ms/step\n"
     ]
    },
    {
     "name": "stderr",
     "output_type": "stream",
     "text": [
      "\r",
      "Exact explainer:  47%|██████████████████████████████▊                                  | 73/154 [01:35<01:45,  1.30s/it]"
     ]
    },
    {
     "name": "stdout",
     "output_type": "stream",
     "text": [
      "743/743 [==============================] - 3s 4ms/step\n",
      "27/27 [==============================] - 0s 1ms/step\n"
     ]
    },
    {
     "name": "stderr",
     "output_type": "stream",
     "text": [
      "\r",
      "Exact explainer:  48%|███████████████████████████████▏                                 | 74/154 [01:38<02:35,  1.94s/it]"
     ]
    },
    {
     "name": "stdout",
     "output_type": "stream",
     "text": [
      "780/780 [==============================] - 1s 1ms/step\n",
      "28/28 [==============================] - 0s 1ms/step\n"
     ]
    },
    {
     "name": "stderr",
     "output_type": "stream",
     "text": [
      "\r",
      "Exact explainer:  49%|███████████████████████████████▋                                 | 75/154 [01:40<02:19,  1.77s/it]"
     ]
    },
    {
     "name": "stdout",
     "output_type": "stream",
     "text": [
      "729/729 [==============================] - 1s 1ms/step\n",
      "27/27 [==============================] - 0s 2ms/step\n"
     ]
    },
    {
     "name": "stderr",
     "output_type": "stream",
     "text": [
      "\r",
      "Exact explainer:  49%|████████████████████████████████                                 | 76/154 [01:46<03:57,  3.04s/it]"
     ]
    },
    {
     "name": "stdout",
     "output_type": "stream",
     "text": [
      "757/757 [==============================] - 3s 3ms/step\n",
      "28/28 [==============================] - 0s 2ms/step\n"
     ]
    },
    {
     "name": "stderr",
     "output_type": "stream",
     "text": [
      "\r",
      "Exact explainer:  50%|████████████████████████████████▌                                | 77/154 [01:49<03:53,  3.03s/it]"
     ]
    },
    {
     "name": "stdout",
     "output_type": "stream",
     "text": [
      "762/762 [==============================] - 2s 3ms/step\n",
      "27/27 [==============================] - 0s 3ms/step\n"
     ]
    },
    {
     "name": "stderr",
     "output_type": "stream",
     "text": [
      "\r",
      "Exact explainer:  51%|████████████████████████████████▉                                | 78/154 [01:51<03:40,  2.90s/it]"
     ]
    },
    {
     "name": "stdout",
     "output_type": "stream",
     "text": [
      "792/792 [==============================] - 2s 3ms/step\n",
      "28/28 [==============================] - 0s 3ms/step\n"
     ]
    },
    {
     "name": "stderr",
     "output_type": "stream",
     "text": [
      "\r",
      "Exact explainer:  51%|█████████████████████████████████▎                               | 79/154 [01:54<03:36,  2.89s/it]"
     ]
    },
    {
     "name": "stdout",
     "output_type": "stream",
     "text": [
      "779/779 [==============================] - 2s 3ms/step\n",
      "28/28 [==============================] - 0s 2ms/step\n"
     ]
    },
    {
     "name": "stderr",
     "output_type": "stream",
     "text": [
      "\r",
      "Exact explainer:  52%|█████████████████████████████████▊                               | 80/154 [01:57<03:30,  2.85s/it]"
     ]
    },
    {
     "name": "stdout",
     "output_type": "stream",
     "text": [
      "737/737 [==============================] - 2s 3ms/step\n",
      "27/27 [==============================] - 0s 3ms/step\n"
     ]
    },
    {
     "name": "stderr",
     "output_type": "stream",
     "text": [
      "\r",
      "Exact explainer:  53%|██████████████████████████████████▏                              | 81/154 [02:00<03:28,  2.85s/it]"
     ]
    },
    {
     "name": "stdout",
     "output_type": "stream",
     "text": [
      "756/756 [==============================] - 2s 3ms/step\n",
      "27/27 [==============================] - 0s 2ms/step\n"
     ]
    },
    {
     "name": "stderr",
     "output_type": "stream",
     "text": [
      "\r",
      "Exact explainer:  53%|██████████████████████████████████▌                              | 82/154 [02:02<03:22,  2.81s/it]"
     ]
    },
    {
     "name": "stdout",
     "output_type": "stream",
     "text": [
      "780/780 [==============================] - 2s 3ms/step\n",
      "28/28 [==============================] - 0s 3ms/step\n"
     ]
    },
    {
     "name": "stderr",
     "output_type": "stream",
     "text": [
      "\r",
      "Exact explainer:  54%|███████████████████████████████████                              | 83/154 [02:05<03:20,  2.82s/it]"
     ]
    },
    {
     "name": "stdout",
     "output_type": "stream",
     "text": [
      "776/776 [==============================] - 2s 3ms/step\n",
      "28/28 [==============================] - 0s 3ms/step\n"
     ]
    },
    {
     "name": "stderr",
     "output_type": "stream",
     "text": [
      "\r",
      "Exact explainer:  55%|███████████████████████████████████▍                             | 84/154 [02:08<03:16,  2.81s/it]"
     ]
    },
    {
     "name": "stdout",
     "output_type": "stream",
     "text": [
      "792/792 [==============================] - 2s 3ms/step\n",
      "28/28 [==============================] - 0s 2ms/step\n"
     ]
    },
    {
     "name": "stderr",
     "output_type": "stream",
     "text": [
      "\r",
      "Exact explainer:  55%|███████████████████████████████████▉                             | 85/154 [02:11<03:14,  2.82s/it]"
     ]
    },
    {
     "name": "stdout",
     "output_type": "stream",
     "text": [
      "776/776 [==============================] - 2s 3ms/step\n",
      "28/28 [==============================] - 0s 3ms/step\n"
     ]
    },
    {
     "name": "stderr",
     "output_type": "stream",
     "text": [
      "\r",
      "Exact explainer:  56%|████████████████████████████████████▎                            | 86/154 [02:14<03:14,  2.86s/it]"
     ]
    },
    {
     "name": "stdout",
     "output_type": "stream",
     "text": [
      "791/791 [==============================] - 2s 3ms/step\n",
      "28/28 [==============================] - 0s 2ms/step\n"
     ]
    },
    {
     "name": "stderr",
     "output_type": "stream",
     "text": [
      "\r",
      "Exact explainer:  56%|████████████████████████████████████▋                            | 87/154 [02:17<03:13,  2.89s/it]"
     ]
    },
    {
     "name": "stdout",
     "output_type": "stream",
     "text": [
      "768/768 [==============================] - 2s 3ms/step\n",
      "28/28 [==============================] - 0s 3ms/step\n"
     ]
    },
    {
     "name": "stderr",
     "output_type": "stream",
     "text": [
      "\r",
      "Exact explainer:  57%|█████████████████████████████████████▏                           | 88/154 [02:20<03:12,  2.91s/it]"
     ]
    },
    {
     "name": "stdout",
     "output_type": "stream",
     "text": [
      "774/774 [==============================] - 2s 3ms/step\n",
      "27/27 [==============================] - 0s 2ms/step\n"
     ]
    },
    {
     "name": "stderr",
     "output_type": "stream",
     "text": [
      "\r",
      "Exact explainer:  58%|█████████████████████████████████████▌                           | 89/154 [02:23<03:05,  2.85s/it]"
     ]
    },
    {
     "name": "stdout",
     "output_type": "stream",
     "text": [
      "756/756 [==============================] - 2s 3ms/step\n",
      "28/28 [==============================] - 0s 3ms/step\n"
     ]
    },
    {
     "name": "stderr",
     "output_type": "stream",
     "text": [
      "\r",
      "Exact explainer:  58%|█████████████████████████████████████▉                           | 90/154 [02:25<02:58,  2.78s/it]"
     ]
    },
    {
     "name": "stdout",
     "output_type": "stream",
     "text": [
      "783/783 [==============================] - 2s 3ms/step\n",
      "28/28 [==============================] - 0s 2ms/step\n"
     ]
    },
    {
     "name": "stderr",
     "output_type": "stream",
     "text": [
      "\r",
      "Exact explainer:  59%|██████████████████████████████████████▍                          | 91/154 [02:28<02:56,  2.81s/it]"
     ]
    },
    {
     "name": "stdout",
     "output_type": "stream",
     "text": [
      "783/783 [==============================] - 3s 3ms/step\n",
      "28/28 [==============================] - 0s 2ms/step\n"
     ]
    },
    {
     "name": "stderr",
     "output_type": "stream",
     "text": [
      "\r",
      "Exact explainer:  60%|██████████████████████████████████████▊                          | 92/154 [02:31<03:00,  2.91s/it]"
     ]
    },
    {
     "name": "stdout",
     "output_type": "stream",
     "text": [
      "727/727 [==============================] - 2s 3ms/step\n",
      "27/27 [==============================] - 0s 2ms/step\n"
     ]
    },
    {
     "name": "stderr",
     "output_type": "stream",
     "text": [
      "\r",
      "Exact explainer:  60%|███████████████████████████████████████▎                         | 93/154 [02:34<02:48,  2.76s/it]"
     ]
    },
    {
     "name": "stdout",
     "output_type": "stream",
     "text": [
      "743/743 [==============================] - 2s 3ms/step\n",
      "27/27 [==============================] - 0s 2ms/step\n"
     ]
    },
    {
     "name": "stderr",
     "output_type": "stream",
     "text": [
      "\r",
      "Exact explainer:  61%|███████████████████████████████████████▋                         | 94/154 [02:36<02:40,  2.67s/it]"
     ]
    },
    {
     "name": "stdout",
     "output_type": "stream",
     "text": [
      "731/731 [==============================] - 2s 2ms/step\n",
      "27/27 [==============================] - 0s 1ms/step\n"
     ]
    },
    {
     "name": "stderr",
     "output_type": "stream",
     "text": [
      "\r",
      "Exact explainer:  62%|████████████████████████████████████████                         | 95/154 [02:38<02:22,  2.42s/it]"
     ]
    },
    {
     "name": "stdout",
     "output_type": "stream",
     "text": [
      "783/783 [==============================] - 1s 1ms/step\n",
      "28/28 [==============================] - 0s 1ms/step\n"
     ]
    },
    {
     "name": "stderr",
     "output_type": "stream",
     "text": [
      "\r",
      "Exact explainer:  62%|████████████████████████████████████████▌                        | 96/154 [02:39<02:01,  2.10s/it]"
     ]
    },
    {
     "name": "stdout",
     "output_type": "stream",
     "text": [
      "755/755 [==============================] - 1s 1ms/step\n",
      "28/28 [==============================] - 0s 1ms/step\n"
     ]
    },
    {
     "name": "stderr",
     "output_type": "stream",
     "text": [
      "\r",
      "Exact explainer:  63%|████████████████████████████████████████▉                        | 97/154 [02:41<01:46,  1.86s/it]"
     ]
    },
    {
     "name": "stdout",
     "output_type": "stream",
     "text": [
      "750/750 [==============================] - 1s 1ms/step\n",
      "27/27 [==============================] - 0s 1ms/step\n"
     ]
    },
    {
     "name": "stderr",
     "output_type": "stream",
     "text": [
      "\r",
      "Exact explainer:  64%|█████████████████████████████████████████▎                       | 98/154 [02:42<01:34,  1.69s/it]"
     ]
    },
    {
     "name": "stdout",
     "output_type": "stream",
     "text": [
      "777/777 [==============================] - 1s 1ms/step\n",
      "28/28 [==============================] - 0s 2ms/step\n"
     ]
    },
    {
     "name": "stderr",
     "output_type": "stream",
     "text": [
      "\r",
      "Exact explainer:  64%|█████████████████████████████████████████▊                       | 99/154 [02:43<01:27,  1.59s/it]"
     ]
    },
    {
     "name": "stdout",
     "output_type": "stream",
     "text": [
      "759/759 [==============================] - 1s 1ms/step\n",
      "28/28 [==============================] - 0s 1ms/step\n"
     ]
    },
    {
     "name": "stderr",
     "output_type": "stream",
     "text": [
      "\r",
      "Exact explainer:  65%|█████████████████████████████████████████▌                      | 100/154 [02:45<01:22,  1.52s/it]"
     ]
    },
    {
     "name": "stdout",
     "output_type": "stream",
     "text": [
      "743/743 [==============================] - 1s 1ms/step\n",
      "27/27 [==============================] - 0s 1ms/step\n"
     ]
    },
    {
     "name": "stderr",
     "output_type": "stream",
     "text": [
      "\r",
      "Exact explainer:  66%|█████████████████████████████████████████▉                      | 101/154 [02:46<01:18,  1.49s/it]"
     ]
    },
    {
     "name": "stdout",
     "output_type": "stream",
     "text": [
      "792/792 [==============================] - 1s 1ms/step\n",
      "28/28 [==============================] - 0s 1ms/step\n"
     ]
    },
    {
     "name": "stderr",
     "output_type": "stream",
     "text": [
      "\r",
      "Exact explainer:  66%|██████████████████████████████████████████▍                     | 102/154 [02:47<01:17,  1.49s/it]"
     ]
    },
    {
     "name": "stdout",
     "output_type": "stream",
     "text": [
      "763/763 [==============================] - 1s 1ms/step\n",
      "28/28 [==============================] - 0s 2ms/step\n"
     ]
    },
    {
     "name": "stderr",
     "output_type": "stream",
     "text": [
      "\r",
      "Exact explainer:  67%|██████████████████████████████████████████▊                     | 103/154 [02:49<01:15,  1.47s/it]"
     ]
    },
    {
     "name": "stdout",
     "output_type": "stream",
     "text": [
      "748/748 [==============================] - 1s 1ms/step\n",
      "27/27 [==============================] - 0s 1ms/step\n"
     ]
    },
    {
     "name": "stderr",
     "output_type": "stream",
     "text": [
      "\r",
      "Exact explainer:  68%|███████████████████████████████████████████▏                    | 104/154 [02:50<01:12,  1.45s/it]"
     ]
    },
    {
     "name": "stdout",
     "output_type": "stream",
     "text": [
      "763/763 [==============================] - 1s 2ms/step\n",
      "28/28 [==============================] - 0s 1ms/step\n"
     ]
    },
    {
     "name": "stderr",
     "output_type": "stream",
     "text": [
      "\r",
      "Exact explainer:  68%|███████████████████████████████████████████▋                    | 105/154 [02:52<01:11,  1.45s/it]"
     ]
    },
    {
     "name": "stdout",
     "output_type": "stream",
     "text": [
      "751/751 [==============================] - 1s 1ms/step\n",
      "27/27 [==============================] - 0s 2ms/step\n"
     ]
    },
    {
     "name": "stderr",
     "output_type": "stream",
     "text": [
      "\r",
      "Exact explainer:  69%|████████████████████████████████████████████                    | 106/154 [02:53<01:08,  1.43s/it]"
     ]
    },
    {
     "name": "stdout",
     "output_type": "stream",
     "text": [
      "783/783 [==============================] - 1s 1ms/step\n",
      "28/28 [==============================] - 0s 2ms/step\n"
     ]
    },
    {
     "name": "stderr",
     "output_type": "stream",
     "text": [
      "\r",
      "Exact explainer:  69%|████████████████████████████████████████████▍                   | 107/154 [02:55<01:07,  1.43s/it]"
     ]
    },
    {
     "name": "stdout",
     "output_type": "stream",
     "text": [
      "778/778 [==============================] - 1s 1ms/step\n",
      "28/28 [==============================] - 0s 1ms/step\n"
     ]
    },
    {
     "name": "stderr",
     "output_type": "stream",
     "text": [
      "\r",
      "Exact explainer:  70%|████████████████████████████████████████████▉                   | 108/154 [02:56<01:05,  1.43s/it]"
     ]
    },
    {
     "name": "stdout",
     "output_type": "stream",
     "text": [
      "790/790 [==============================] - 1s 1ms/step\n",
      "28/28 [==============================] - 0s 2ms/step\n"
     ]
    },
    {
     "name": "stderr",
     "output_type": "stream",
     "text": [
      "\r",
      "Exact explainer:  71%|█████████████████████████████████████████████▎                  | 109/154 [02:57<01:04,  1.43s/it]"
     ]
    },
    {
     "name": "stdout",
     "output_type": "stream",
     "text": [
      "786/786 [==============================] - 1s 2ms/step\n",
      "28/28 [==============================] - 0s 1ms/step\n"
     ]
    },
    {
     "name": "stderr",
     "output_type": "stream",
     "text": [
      "\r",
      "Exact explainer:  71%|█████████████████████████████████████████████▋                  | 110/154 [02:59<01:05,  1.49s/it]"
     ]
    },
    {
     "name": "stdout",
     "output_type": "stream",
     "text": [
      "759/759 [==============================] - 1s 1ms/step\n",
      "28/28 [==============================] - 0s 1ms/step\n"
     ]
    },
    {
     "name": "stderr",
     "output_type": "stream",
     "text": [
      "\r",
      "Exact explainer:  72%|██████████████████████████████████████████████▏                 | 111/154 [03:00<01:02,  1.46s/it]"
     ]
    },
    {
     "name": "stdout",
     "output_type": "stream",
     "text": [
      "755/755 [==============================] - 1s 2ms/step\n",
      "28/28 [==============================] - 0s 1ms/step\n"
     ]
    },
    {
     "name": "stderr",
     "output_type": "stream",
     "text": [
      "\r",
      "Exact explainer:  73%|██████████████████████████████████████████████▌                 | 112/154 [03:02<01:02,  1.49s/it]"
     ]
    },
    {
     "name": "stdout",
     "output_type": "stream",
     "text": [
      "746/746 [==============================] - 1s 1ms/step\n",
      "27/27 [==============================] - 0s 1ms/step\n"
     ]
    },
    {
     "name": "stderr",
     "output_type": "stream",
     "text": [
      "\r",
      "Exact explainer:  73%|██████████████████████████████████████████████▉                 | 113/154 [03:03<01:00,  1.47s/it]"
     ]
    },
    {
     "name": "stdout",
     "output_type": "stream",
     "text": [
      "738/738 [==============================] - 1s 1ms/step\n",
      "27/27 [==============================] - 0s 1ms/step\n"
     ]
    },
    {
     "name": "stderr",
     "output_type": "stream",
     "text": [
      "\r",
      "Exact explainer:  74%|███████████████████████████████████████████████▍                | 114/154 [03:05<00:56,  1.41s/it]"
     ]
    },
    {
     "name": "stdout",
     "output_type": "stream",
     "text": [
      "782/782 [==============================] - 1s 1ms/step\n",
      "28/28 [==============================] - 0s 1ms/step\n"
     ]
    },
    {
     "name": "stderr",
     "output_type": "stream",
     "text": [
      "\r",
      "Exact explainer:  75%|███████████████████████████████████████████████▊                | 115/154 [03:06<00:54,  1.40s/it]"
     ]
    },
    {
     "name": "stdout",
     "output_type": "stream",
     "text": [
      "775/775 [==============================] - 1s 1ms/step\n",
      "28/28 [==============================] - 0s 1ms/step\n"
     ]
    },
    {
     "name": "stderr",
     "output_type": "stream",
     "text": [
      "\r",
      "Exact explainer:  75%|████████████████████████████████████████████████▏               | 116/154 [03:07<00:52,  1.38s/it]"
     ]
    },
    {
     "name": "stdout",
     "output_type": "stream",
     "text": [
      "731/731 [==============================] - 1s 1ms/step\n",
      "28/28 [==============================] - 0s 1ms/step\n"
     ]
    },
    {
     "name": "stderr",
     "output_type": "stream",
     "text": [
      "\r",
      "Exact explainer:  76%|████████████████████████████████████████████████▌               | 117/154 [03:09<00:50,  1.37s/it]"
     ]
    },
    {
     "name": "stdout",
     "output_type": "stream",
     "text": [
      "752/752 [==============================] - 1s 1ms/step\n",
      "28/28 [==============================] - 0s 2ms/step\n"
     ]
    },
    {
     "name": "stderr",
     "output_type": "stream",
     "text": [
      "\r",
      "Exact explainer:  77%|█████████████████████████████████████████████████               | 118/154 [03:10<00:49,  1.37s/it]"
     ]
    },
    {
     "name": "stdout",
     "output_type": "stream",
     "text": [
      "724/724 [==============================] - 1s 1ms/step\n",
      "27/27 [==============================] - 0s 1ms/step\n"
     ]
    },
    {
     "name": "stderr",
     "output_type": "stream",
     "text": [
      "\r",
      "Exact explainer:  77%|█████████████████████████████████████████████████▍              | 119/154 [03:11<00:46,  1.33s/it]"
     ]
    },
    {
     "name": "stdout",
     "output_type": "stream",
     "text": [
      "746/746 [==============================] - 1s 1ms/step\n",
      "27/27 [==============================] - 0s 1ms/step\n"
     ]
    },
    {
     "name": "stderr",
     "output_type": "stream",
     "text": [
      "\r",
      "Exact explainer:  78%|█████████████████████████████████████████████████▊              | 120/154 [03:13<00:44,  1.30s/it]"
     ]
    },
    {
     "name": "stdout",
     "output_type": "stream",
     "text": [
      "727/727 [==============================] - 1s 1ms/step\n",
      "27/27 [==============================] - 0s 1ms/step\n"
     ]
    },
    {
     "name": "stderr",
     "output_type": "stream",
     "text": [
      "\r",
      "Exact explainer:  79%|██████████████████████████████████████████████████▎             | 121/154 [03:14<00:41,  1.27s/it]"
     ]
    },
    {
     "name": "stdout",
     "output_type": "stream",
     "text": [
      "723/723 [==============================] - 1s 1ms/step\n",
      "27/27 [==============================] - 0s 2ms/step\n"
     ]
    },
    {
     "name": "stderr",
     "output_type": "stream",
     "text": [
      "\r",
      "Exact explainer:  79%|██████████████████████████████████████████████████▋             | 122/154 [03:15<00:40,  1.25s/it]"
     ]
    },
    {
     "name": "stdout",
     "output_type": "stream",
     "text": [
      "779/779 [==============================] - 1s 1ms/step\n",
      "28/28 [==============================] - 0s 1ms/step\n"
     ]
    },
    {
     "name": "stderr",
     "output_type": "stream",
     "text": [
      "\r",
      "Exact explainer:  80%|███████████████████████████████████████████████████             | 123/154 [03:16<00:39,  1.28s/it]"
     ]
    },
    {
     "name": "stdout",
     "output_type": "stream",
     "text": [
      "737/737 [==============================] - 1s 1ms/step\n",
      "28/28 [==============================] - 0s 2ms/step\n"
     ]
    },
    {
     "name": "stderr",
     "output_type": "stream",
     "text": [
      "\r",
      "Exact explainer:  81%|███████████████████████████████████████████████████▌            | 124/154 [03:18<00:39,  1.33s/it]"
     ]
    },
    {
     "name": "stdout",
     "output_type": "stream",
     "text": [
      "783/783 [==============================] - 1s 1ms/step\n",
      "28/28 [==============================] - 0s 2ms/step\n"
     ]
    },
    {
     "name": "stderr",
     "output_type": "stream",
     "text": [
      "\r",
      "Exact explainer:  81%|███████████████████████████████████████████████████▉            | 125/154 [03:19<00:38,  1.34s/it]"
     ]
    },
    {
     "name": "stdout",
     "output_type": "stream",
     "text": [
      "746/746 [==============================] - 1s 2ms/step\n",
      "27/27 [==============================] - 0s 1ms/step\n"
     ]
    },
    {
     "name": "stderr",
     "output_type": "stream",
     "text": [
      "\r",
      "Exact explainer:  82%|████████████████████████████████████████████████████▎           | 126/154 [03:21<00:39,  1.42s/it]"
     ]
    },
    {
     "name": "stdout",
     "output_type": "stream",
     "text": [
      "798/798 [==============================] - 1s 1ms/step\n",
      "29/29 [==============================] - 0s 1ms/step\n"
     ]
    },
    {
     "name": "stderr",
     "output_type": "stream",
     "text": [
      "\r",
      "Exact explainer:  82%|████████████████████████████████████████████████████▊           | 127/154 [03:22<00:39,  1.47s/it]"
     ]
    },
    {
     "name": "stdout",
     "output_type": "stream",
     "text": [
      "744/744 [==============================] - 1s 1ms/step\n",
      "27/27 [==============================] - 0s 1ms/step\n"
     ]
    },
    {
     "name": "stderr",
     "output_type": "stream",
     "text": [
      "\r",
      "Exact explainer:  83%|█████████████████████████████████████████████████████▏          | 128/154 [03:24<00:38,  1.47s/it]"
     ]
    },
    {
     "name": "stdout",
     "output_type": "stream",
     "text": [
      "767/767 [==============================] - 1s 1ms/step\n",
      "27/27 [==============================] - 0s 1ms/step\n"
     ]
    },
    {
     "name": "stderr",
     "output_type": "stream",
     "text": [
      "\r",
      "Exact explainer:  84%|█████████████████████████████████████████████████████▌          | 129/154 [03:25<00:36,  1.46s/it]"
     ]
    },
    {
     "name": "stdout",
     "output_type": "stream",
     "text": [
      "741/741 [==============================] - 1s 1ms/step\n",
      "27/27 [==============================] - 0s 1ms/step\n"
     ]
    },
    {
     "name": "stderr",
     "output_type": "stream",
     "text": [
      "\r",
      "Exact explainer:  84%|██████████████████████████████████████████████████████          | 130/154 [03:27<00:34,  1.43s/it]"
     ]
    },
    {
     "name": "stdout",
     "output_type": "stream",
     "text": [
      "767/767 [==============================] - 1s 1ms/step\n",
      "28/28 [==============================] - 0s 1ms/step\n"
     ]
    },
    {
     "name": "stderr",
     "output_type": "stream",
     "text": [
      "\r",
      "Exact explainer:  85%|██████████████████████████████████████████████████████▍         | 131/154 [03:28<00:33,  1.44s/it]"
     ]
    },
    {
     "name": "stdout",
     "output_type": "stream",
     "text": [
      "754/754 [==============================] - 1s 1ms/step\n",
      "27/27 [==============================] - 0s 2ms/step\n"
     ]
    },
    {
     "name": "stderr",
     "output_type": "stream",
     "text": [
      "\r",
      "Exact explainer:  86%|██████████████████████████████████████████████████████▊         | 132/154 [03:30<00:32,  1.48s/it]"
     ]
    },
    {
     "name": "stdout",
     "output_type": "stream",
     "text": [
      "763/763 [==============================] - 1s 2ms/step\n",
      "28/28 [==============================] - 0s 2ms/step\n"
     ]
    },
    {
     "name": "stderr",
     "output_type": "stream",
     "text": [
      "\r",
      "Exact explainer:  86%|███████████████████████████████████████████████████████▎        | 133/154 [03:32<00:35,  1.69s/it]"
     ]
    },
    {
     "name": "stdout",
     "output_type": "stream",
     "text": [
      "760/760 [==============================] - 2s 2ms/step\n",
      "28/28 [==============================] - 0s 3ms/step\n"
     ]
    },
    {
     "name": "stderr",
     "output_type": "stream",
     "text": [
      "\r",
      "Exact explainer:  87%|███████████████████████████████████████████████████████▋        | 134/154 [03:34<00:37,  1.87s/it]"
     ]
    },
    {
     "name": "stdout",
     "output_type": "stream",
     "text": [
      "784/784 [==============================] - 3s 4ms/step\n",
      "28/28 [==============================] - 0s 5ms/step\n"
     ]
    },
    {
     "name": "stderr",
     "output_type": "stream",
     "text": [
      "\r",
      "Exact explainer:  88%|████████████████████████████████████████████████████████        | 135/154 [03:39<00:53,  2.80s/it]"
     ]
    },
    {
     "name": "stdout",
     "output_type": "stream",
     "text": [
      "782/782 [==============================] - 2s 3ms/step\n",
      "28/28 [==============================] - 0s 2ms/step\n"
     ]
    },
    {
     "name": "stderr",
     "output_type": "stream",
     "text": [
      "\r",
      "Exact explainer:  88%|████████████████████████████████████████████████████████▌       | 136/154 [03:42<00:51,  2.85s/it]"
     ]
    },
    {
     "name": "stdout",
     "output_type": "stream",
     "text": [
      "754/754 [==============================] - 1s 2ms/step\n",
      "27/27 [==============================] - 0s 1ms/step\n"
     ]
    },
    {
     "name": "stderr",
     "output_type": "stream",
     "text": [
      "\r",
      "Exact explainer:  89%|████████████████████████████████████████████████████████▉       | 137/154 [03:44<00:43,  2.55s/it]"
     ]
    },
    {
     "name": "stdout",
     "output_type": "stream",
     "text": [
      "745/745 [==============================] - 1s 1ms/step\n",
      "27/27 [==============================] - 0s 1ms/step\n"
     ]
    },
    {
     "name": "stderr",
     "output_type": "stream",
     "text": [
      "\r",
      "Exact explainer:  90%|█████████████████████████████████████████████████████████▎      | 138/154 [03:45<00:36,  2.25s/it]"
     ]
    },
    {
     "name": "stdout",
     "output_type": "stream",
     "text": [
      "763/763 [==============================] - 1s 2ms/step\n",
      "27/27 [==============================] - 0s 2ms/step\n"
     ]
    },
    {
     "name": "stderr",
     "output_type": "stream",
     "text": [
      "\r",
      "Exact explainer:  90%|█████████████████████████████████████████████████████████▊      | 139/154 [03:47<00:31,  2.10s/it]"
     ]
    },
    {
     "name": "stdout",
     "output_type": "stream",
     "text": [
      "786/786 [==============================] - 1s 1ms/step\n",
      "28/28 [==============================] - 0s 1ms/step\n"
     ]
    },
    {
     "name": "stderr",
     "output_type": "stream",
     "text": [
      "\r",
      "Exact explainer:  91%|██████████████████████████████████████████████████████████▏     | 140/154 [03:49<00:27,  1.96s/it]"
     ]
    },
    {
     "name": "stdout",
     "output_type": "stream",
     "text": [
      "780/780 [==============================] - 1s 1ms/step\n",
      "28/28 [==============================] - 0s 2ms/step\n"
     ]
    },
    {
     "name": "stderr",
     "output_type": "stream",
     "text": [
      "\r",
      "Exact explainer:  92%|██████████████████████████████████████████████████████████▌     | 141/154 [03:50<00:24,  1.86s/it]"
     ]
    },
    {
     "name": "stdout",
     "output_type": "stream",
     "text": [
      "743/743 [==============================] - 1s 1ms/step\n",
      "27/27 [==============================] - 0s 1ms/step\n"
     ]
    },
    {
     "name": "stderr",
     "output_type": "stream",
     "text": [
      "\r",
      "Exact explainer:  92%|███████████████████████████████████████████████████████████     | 142/154 [03:52<00:21,  1.76s/it]"
     ]
    },
    {
     "name": "stdout",
     "output_type": "stream",
     "text": [
      "739/739 [==============================] - 1s 1ms/step\n",
      "27/27 [==============================] - 0s 1ms/step\n"
     ]
    },
    {
     "name": "stderr",
     "output_type": "stream",
     "text": [
      "\r",
      "Exact explainer:  93%|███████████████████████████████████████████████████████████▍    | 143/154 [03:54<00:18,  1.70s/it]"
     ]
    },
    {
     "name": "stdout",
     "output_type": "stream",
     "text": [
      "724/724 [==============================] - 1s 1ms/step\n",
      "26/26 [==============================] - 0s 1ms/step\n"
     ]
    },
    {
     "name": "stderr",
     "output_type": "stream",
     "text": [
      "\r",
      "Exact explainer:  94%|███████████████████████████████████████████████████████████▊    | 144/154 [03:55<00:16,  1.64s/it]"
     ]
    },
    {
     "name": "stdout",
     "output_type": "stream",
     "text": [
      "760/760 [==============================] - 1s 1ms/step\n",
      "28/28 [==============================] - 0s 1ms/step\n"
     ]
    },
    {
     "name": "stderr",
     "output_type": "stream",
     "text": [
      "\r",
      "Exact explainer:  94%|████████████████████████████████████████████████████████████▎   | 145/154 [03:57<00:14,  1.62s/it]"
     ]
    },
    {
     "name": "stdout",
     "output_type": "stream",
     "text": [
      "745/745 [==============================] - 1s 1ms/step\n",
      "27/27 [==============================] - 0s 4ms/step\n"
     ]
    },
    {
     "name": "stderr",
     "output_type": "stream",
     "text": [
      "\r",
      "Exact explainer:  95%|████████████████████████████████████████████████████████████▋   | 146/154 [03:58<00:13,  1.64s/it]"
     ]
    },
    {
     "name": "stdout",
     "output_type": "stream",
     "text": [
      "767/767 [==============================] - 1s 2ms/step\n",
      "28/28 [==============================] - 0s 2ms/step\n"
     ]
    },
    {
     "name": "stderr",
     "output_type": "stream",
     "text": [
      "\r",
      "Exact explainer:  95%|█████████████████████████████████████████████████████████████   | 147/154 [04:00<00:11,  1.70s/it]"
     ]
    },
    {
     "name": "stdout",
     "output_type": "stream",
     "text": [
      "761/761 [==============================] - 1s 2ms/step\n",
      "28/28 [==============================] - 0s 2ms/step\n"
     ]
    },
    {
     "name": "stderr",
     "output_type": "stream",
     "text": [
      "\r",
      "Exact explainer:  96%|█████████████████████████████████████████████████████████████▌  | 148/154 [04:02<00:10,  1.73s/it]"
     ]
    },
    {
     "name": "stdout",
     "output_type": "stream",
     "text": [
      "729/729 [==============================] - 1s 2ms/step\n",
      "28/28 [==============================] - 0s 2ms/step\n"
     ]
    },
    {
     "name": "stderr",
     "output_type": "stream",
     "text": [
      "\r",
      "Exact explainer:  97%|█████████████████████████████████████████████████████████████▉  | 149/154 [04:04<00:08,  1.70s/it]"
     ]
    },
    {
     "name": "stdout",
     "output_type": "stream",
     "text": [
      "734/734 [==============================] - 1s 2ms/step\n",
      "28/28 [==============================] - 0s 1ms/step\n"
     ]
    },
    {
     "name": "stderr",
     "output_type": "stream",
     "text": [
      "\r",
      "Exact explainer:  97%|██████████████████████████████████████████████████████████████▎ | 150/154 [04:05<00:06,  1.70s/it]"
     ]
    },
    {
     "name": "stdout",
     "output_type": "stream",
     "text": [
      "755/755 [==============================] - 1s 1ms/step\n",
      "27/27 [==============================] - 0s 1ms/step\n"
     ]
    },
    {
     "name": "stderr",
     "output_type": "stream",
     "text": [
      "\r",
      "Exact explainer:  98%|██████████████████████████████████████████████████████████████▊ | 151/154 [04:07<00:04,  1.61s/it]"
     ]
    },
    {
     "name": "stdout",
     "output_type": "stream",
     "text": [
      "775/775 [==============================] - 1s 1ms/step\n",
      "28/28 [==============================] - 0s 1ms/step\n"
     ]
    },
    {
     "name": "stderr",
     "output_type": "stream",
     "text": [
      "\r",
      "Exact explainer:  99%|███████████████████████████████████████████████████████████████▏| 152/154 [04:08<00:03,  1.56s/it]"
     ]
    },
    {
     "name": "stdout",
     "output_type": "stream",
     "text": [
      "755/755 [==============================] - 1s 1ms/step\n",
      "27/27 [==============================] - 0s 2ms/step\n"
     ]
    },
    {
     "name": "stderr",
     "output_type": "stream",
     "text": [
      "\r",
      "Exact explainer:  99%|███████████████████████████████████████████████████████████████▌| 153/154 [04:09<00:01,  1.48s/it]"
     ]
    },
    {
     "name": "stdout",
     "output_type": "stream",
     "text": [
      "767/767 [==============================] - 1s 1ms/step\n",
      "28/28 [==============================] - 0s 1ms/step\n"
     ]
    },
    {
     "name": "stderr",
     "output_type": "stream",
     "text": [
      "\r",
      "Exact explainer: 100%|████████████████████████████████████████████████████████████████| 154/154 [04:11<00:00,  1.44s/it]"
     ]
    },
    {
     "name": "stdout",
     "output_type": "stream",
     "text": [
      "793/793 [==============================] - 1s 1ms/step\n",
      "28/28 [==============================] - 0s 1ms/step\n"
     ]
    },
    {
     "name": "stderr",
     "output_type": "stream",
     "text": [
      "Exact explainer: 155it [04:12,  1.72s/it]                                                                               "
     ]
    },
    {
     "name": "stdout",
     "output_type": "stream",
     "text": [
      "Difference...\n",
      "Done\n"
     ]
    },
    {
     "name": "stderr",
     "output_type": "stream",
     "text": [
      "\n"
     ]
    },
    {
     "data": {
      "application/vnd.jupyter.widget-view+json": {
       "model_id": "39e7900a88ab4d4fae2327846c3de21b",
       "version_major": 2,
       "version_minor": 0
      },
      "text/plain": [
       "ExampleWidget(dataset={'Pregnancies': [0.3529411764705882, 0.11764705882352941, 0.11764705882352941, 0.4705882…"
      ]
     },
     "execution_count": 10,
     "metadata": {},
     "output_type": "execute_result"
    }
   ],
   "source": [
    "q = svelte_widget.ExampleWidget(X_test, y_test, model_2.predict, model_3.predict)\n",
    "q"
   ]
  },
  {
   "cell_type": "code",
   "execution_count": null,
   "metadata": {},
   "outputs": [],
   "source": []
  }
 ],
 "metadata": {
  "kernelspec": {
   "display_name": "Python 3 (ipykernel)",
   "language": "python",
   "name": "python3"
  },
  "language_info": {
   "codemirror_mode": {
    "name": "ipython",
    "version": 3
   },
   "file_extension": ".py",
   "mimetype": "text/x-python",
   "name": "python",
   "nbconvert_exporter": "python",
   "pygments_lexer": "ipython3",
   "version": "3.8.16"
  }
 },
 "nbformat": 4,
 "nbformat_minor": 2
}
