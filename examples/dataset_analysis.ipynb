{
 "cells": [
  {
   "cell_type": "code",
   "execution_count": null,
   "metadata": {},
   "outputs": [],
   "source": [
    "import pandas as pd\n",
    "\n",
    "d1 = pd.read_csv(\"BRCA.csv\")\n",
    "d2 = pd.read_csv(\"diabetes_data.csv\")\n",
    "d3 = pd.read_csv(\"bike_rental.csv\")"
   ]
  },
  {
   "cell_type": "code",
   "execution_count": null,
   "metadata": {},
   "outputs": [],
   "source": [
    "import numpy as np\n",
    "\n",
    "def count_rows_with_missing_values(df):\n",
    "    # Create a boolean mask indicating the presence of missing values\n",
    "    mask = df.isnull().values.any(axis=1)\n",
    "    \n",
    "    # Count the number of rows with missing values\n",
    "    count = np.sum(mask)"
   ]
  },
  {
   "cell_type": "code",
   "execution_count": null,
   "metadata": {},
   "outputs": [],
   "source": [
    "row1 = count_rows_with_missing_values(d1)\n",
    "print(\"Number of rows with missing values:\", row1)\n",
    "row2 = count_rows_with_missing_values(d2)\n",
    "print(\"Number of rows with missing values:\", row2)\n",
    "row3 = count_rows_with_missing_values(d3)\n",
    "print(\"Number of rows with missing values:\", row3)"
   ]
  },
  {
   "cell_type": "code",
   "execution_count": null,
   "metadata": {},
   "outputs": [],
   "source": [
    "d1"
   ]
  },
  {
   "cell_type": "code",
   "execution_count": null,
   "metadata": {},
   "outputs": [],
   "source": [
    "d2"
   ]
  },
  {
   "cell_type": "code",
   "execution_count": null,
   "metadata": {},
   "outputs": [],
   "source": [
    "d3"
   ]
  },
  {
   "cell_type": "code",
   "execution_count": null,
   "metadata": {},
   "outputs": [],
   "source": [
    "missing_count = d1.isnull().sum()\n",
    "print(missing_count)\n",
    "missing_count = d2.isnull().sum()\n",
    "print(missing_count)\n",
    "missing_count = d3.isnull().sum()\n",
    "print(missing_count)\n"
   ]
  }
 ],
 "metadata": {
  "kernelspec": {
   "display_name": "Python 3 (ipykernel)",
   "language": "python",
   "name": "python3"
  },
  "language_info": {
   "codemirror_mode": {
    "name": "ipython",
    "version": 3
   },
   "file_extension": ".py",
   "mimetype": "text/x-python",
   "name": "python",
   "nbconvert_exporter": "python",
   "pygments_lexer": "ipython3",
   "version": "3.11.3"
  }
 },
 "nbformat": 4,
 "nbformat_minor": 2
}
