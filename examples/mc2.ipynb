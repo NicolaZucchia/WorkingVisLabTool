{
 "cells": [
  {
   "cell_type": "code",
   "execution_count": null,
   "metadata": {},
   "outputs": [],
   "source": [
    "# Setting up the environment\n",
    "\n",
    "import svelte_widget\n",
    "import xgboost\n",
    "import shap\n",
    "from tensorflow.keras.models import Sequential\n",
    "from tensorflow.keras.layers import Dense\n",
    "from sklearn.model_selection import train_test_split\n",
    "import pandas as pd\n",
    "import numpy as np\n",
    "import tensorflow as tf\n",
    "\n",
    "np.random.seed(42)\n",
    "tf.random.set_seed(42)"
   ]
  },
  {
   "cell_type": "code",
   "execution_count": null,
   "metadata": {},
   "outputs": [],
   "source": [
    "# Upload and set up data\n",
    "\n",
    "from sklearn.preprocessing import MinMaxScaler\n",
    "from datetime import datetime\n",
    "\n",
    "df = pd.read_csv(\"BRCA.csv\")\n",
    "\n",
    "# Deal with non-numerical variables\n",
    "\n",
    "df = df.drop(df.columns[0], axis=1)\n",
    "df['Gender'] = df['Gender'].map({\"FEMALE\": 0, \"MALE\": 1})\n",
    "df['Tumour_Stage'] = df['Tumour_Stage'].map({\"I\": 0, \"II\": 1, \"III\": 2})\n",
    "df['Histology'] = df['Histology'].map({\"Infiltrating Ductal Carcinoma\": 0, \"Mucinous Carcinoma\": 1})\n",
    "df['ER status'] = df['ER status'].map({\"Negative\": 0, \"Positive\": 1})\n",
    "df['PR status'] = df['PR status'].map({'Negative': 0, 'Positive': 1})\n",
    "df['HER2 status'] = df['HER2 status'].map({\"Negative\": 0, \"Positive\": 1})\n",
    "df['Surgery_type'] = df['Surgery_type'].map({\"Modified Radical Mastectomy\": 0, \"Lumpectomy\": 1, \"Simple Mastectomy\": 2})\n",
    "df['Patient_Status'] = df['Patient_Status'].map({\"Dead\": 0, \"Alive\": 1})\n",
    "# Temporal variables for now are not considered\n",
    "'''\n",
    "for i in range(0, df.shape[0]):\n",
    "    df.loc[i, 'Date_of_Surgery'] = datetime.strptime(df.loc[i, 'Date_of_Surgery'], '%d-%b-%y')\n",
    "    df.loc[i, 'Date_of_Last_Visit'] = datetime.strptime(df.loc[i, 'Date_of_Last_Visit'], '%d-%b-%y')\n",
    "'''\n",
    "df = df.drop(['Date_of_Surgery', 'Date_of_Last_Visit'], axis=1)\n",
    "\n",
    "df = df.dropna()\n",
    "\n",
    "# Initialize the scaler\n",
    "scaler = MinMaxScaler()\n",
    "\n",
    "# Apply the scaler to every column in the dataframe\n",
    "stdDf = pd.DataFrame(scaler.fit_transform(df), columns=df.columns)\n",
    "\n",
    "stdX = stdDf.drop(columns=['Patient_Status'])\n",
    "\n",
    "# We do not want to scale Y, so widget will display real values\n",
    "# for predictions and not scaled ones\n",
    "stdY = stdDf['Patient_Status']"
   ]
  },
  {
   "cell_type": "code",
   "execution_count": null,
   "metadata": {},
   "outputs": [],
   "source": [
    "df"
   ]
  },
  {
   "cell_type": "code",
   "execution_count": null,
   "metadata": {},
   "outputs": [],
   "source": [
    "# Defining and training the two models\n",
    "\n",
    "from sklearn.linear_model import LinearRegression\n",
    "\n",
    "stdX_train, stdX_test, stdy_train, stdy_test = train_test_split(stdX, stdY, test_size=0.2, random_state=42)\n",
    "\n",
    "# Model1\n",
    "stdmodel1 = xgboost.XGBRegressor(random_state=42).fit(stdX_train,stdy_train)\n",
    "\n",
    "# Model2\n",
    "stdmodel2 = LinearRegression().fit(stdX_train, stdy_train)"
   ]
  },
  {
   "cell_type": "code",
   "execution_count": null,
   "metadata": {},
   "outputs": [],
   "source": [
    "z = svelte_widget.ExampleWidget(stdX_test,stdy_test,stdmodel1.predict,stdmodel2.predict)\n",
    "z"
   ]
  },
  {
   "cell_type": "code",
   "execution_count": null,
   "metadata": {},
   "outputs": [],
   "source": [
    "# Let's try naive Bayes\n",
    "\n",
    "from sklearn.naive_bayes import GaussianNB\n",
    "from sklearn.model_selection import train_test_split\n",
    "from sklearn.metrics import accuracy_score\n",
    "\n",
    "# Define the Gaussian Naive Bayes model\n",
    "modelNB = GaussianNB()\n",
    "\n",
    "# Train the model\n",
    "modelNB.fit(stdX_train, stdy_train)\n",
    "\n",
    "# Predict on the test set\n",
    "stdy_pred = modelNB.predict(stdX_test)\n",
    "\n",
    "# Calculate accuracy\n",
    "accuracy = accuracy_score(stdy_test, stdy_pred)\n",
    "print(\"Accuracy:\", accuracy)"
   ]
  },
  {
   "cell_type": "code",
   "execution_count": null,
   "metadata": {},
   "outputs": [],
   "source": [
    "w = svelte_widget.ExampleWidget(stdX_test,stdy_test,stdmodel1.predict,modelNB.predict)\n",
    "w"
   ]
  },
  {
   "cell_type": "code",
   "execution_count": null,
   "metadata": {},
   "outputs": [],
   "source": []
  }
 ],
 "metadata": {
  "kernelspec": {
   "display_name": "Python 3 (ipykernel)",
   "language": "python",
   "name": "python3"
  },
  "language_info": {
   "codemirror_mode": {
    "name": "ipython",
    "version": 3
   },
   "file_extension": ".py",
   "mimetype": "text/x-python",
   "name": "python",
   "nbconvert_exporter": "python",
   "pygments_lexer": "ipython3",
   "version": "3.11.3"
  }
 },
 "nbformat": 4,
 "nbformat_minor": 2
}
